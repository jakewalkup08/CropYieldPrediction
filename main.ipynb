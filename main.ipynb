{
 "cells": [
  {
   "cell_type": "markdown",
   "id": "8bef52ea",
   "metadata": {},
   "source": [
    "# Crop Yield Prediction Using Environmental Data\n",
    "\n",
    "**Name(s):** Jake Walkup\n",
    "\n",
    "**Website Link:** _coming soon_"
   ]
  },
  {
   "cell_type": "markdown",
   "id": "d6cd39d0",
   "metadata": {},
   "source": [
    "## Introduction\n",
    "\n",
    "I got the dataset from Kaggle. It contains **3000 rows** of simulated data points representing different environmental and farming conditions that affect crop yield. I chose this topic because I care about sustainability and want to explore how data can help improve agricultural productivity in an eco-friendly way.\n",
    "\n",
    "The dataset includes the following **features**:\n",
    "\n",
    "- `rainfall_mm`: Average rainfall during the growing season (500–2000 mm)\n",
    "- `soil_quality_index`: A score from 1 to 10 measuring soil quality\n",
    "- `farm_size_hectares`: The size of the farm (10–1000 hectares)\n",
    "- `sunlight_hours`: Average sunlight per day during the season (4–12 hours)\n",
    "- `fertilizer_kg`: Amount of fertilizer used per hectare (100–3000 kg)\n",
    "\n",
    "The **target variable** is `crop_yield` (in tons per hectare).\n",
    "\n",
    "Some questions I brainstormed:\n",
    "\n",
    "- What are the most important factors that influence crop yield?\n",
    "- How much does fertilizer usage affect yield?\n",
    "- Can sunlight or rainfall predict crop success alone?\n",
    "\n",
    "I chose: **\"What are the most important factors that influence crop yield?\"**\n"
   ]
  },
  {
   "cell_type": "code",
   "execution_count": 1,
   "id": "8c2d8fdc",
   "metadata": {},
   "outputs": [
    {
     "name": "stdout",
     "output_type": "stream",
     "text": [
      "   rainfall_mm  soil_quality_index  farm_size_hectares  sunlight_hours  \\\n",
      "0         1626                   9                 636              11   \n",
      "1         1959                   9                  73              11   \n",
      "2         1360                   1                 352               5   \n",
      "3         1794                   2                 948               7   \n",
      "4         1630                   5                 884               5   \n",
      "5         1595                   4                 928               7   \n",
      "6         1544                  10                 361              10   \n",
      "7          621                   9                 167              12   \n",
      "8          966                   7                 598              11   \n",
      "9         1738                   6                 500              12   \n",
      "\n",
      "   fertilizer_kg  crop_yield  \n",
      "0           1006         404  \n",
      "1            112         115  \n",
      "2            702         231  \n",
      "3            299         537  \n",
      "4           2733         554  \n",
      "5           1891         556  \n",
      "6            547         257  \n",
      "7           1911         158  \n",
      "8            940         360  \n",
      "9            689         327  \n"
     ]
    }
   ],
   "source": [
    "import pandas as pd\n",
    "\n",
    "# Convert CSV file to Pandas data frame\n",
    "df = pd.read_csv('crop_yield_data.csv')\n",
    "\n",
    "# Head returns the first few rows from the data frame\n",
    "print(df.head(10))"
   ]
  },
  {
   "cell_type": "markdown",
   "id": "0ef083f4",
   "metadata": {},
   "source": [
    "## Data Cleaning and Exploratory Data Analysis"
   ]
  },
  {
   "cell_type": "markdown",
   "id": "e4ba832a",
   "metadata": {},
   "source": [
    "### Data Cleaning:"
   ]
  },
  {
   "cell_type": "markdown",
   "id": "00cf0a7a",
   "metadata": {},
   "source": [
    "In the introduction section, I listed the units for each variable. Below, I examined the dataset for missing values (NaN) and other inconsistencies. After a thorough review, I found no significant missing or invalid data, indicating that the dataset was already clean and ready for analysis. This ensures that subsequent analyses are not biased or impacted by incomplete information."
   ]
  },
  {
   "cell_type": "code",
   "execution_count": 2,
   "id": "9fc0472f",
   "metadata": {},
   "outputs": [
    {
     "name": "stdout",
     "output_type": "stream",
     "text": [
      "False\n",
      "rainfall_mm           0\n",
      "soil_quality_index    0\n",
      "farm_size_hectares    0\n",
      "sunlight_hours        0\n",
      "fertilizer_kg         0\n",
      "crop_yield            0\n",
      "dtype: int64\n"
     ]
    }
   ],
   "source": [
    "# It tells you if there are any missing values in the whole DataFrame\n",
    "print(df.isnull().values.any())\n",
    "\n",
    "# It tells you which columns have missing values in the DataFrame\n",
    "print(df.isnull().sum())"
   ]
  },
  {
   "cell_type": "markdown",
   "id": "f75ccf2e",
   "metadata": {},
   "source": [
    "As shown in the code above, there are no missing values in the DataFrame."
   ]
  },
  {
   "cell_type": "markdown",
   "id": "3bee65a4",
   "metadata": {},
   "source": [
    "### Univariate Analysis:"
   ]
  },
  {
   "cell_type": "code",
   "execution_count": 10,
   "id": "acb6b70d",
   "metadata": {},
   "outputs": [
    {
     "data": {
      "application/vnd.plotly.v1+json": {
       "config": {
        "plotlyServerURL": "https://plot.ly"
       },
       "data": [
        {
         "bingroup": "x",
         "hovertemplate": "Rainfall (mm)=%{x}<br>count=%{y}<extra></extra>",
         "legendgroup": "",
         "marker": {
          "color": "#636efa",
          "pattern": {
           "shape": ""
          }
         },
         "name": "",
         "nbinsx": 100,
         "orientation": "v",
         "showlegend": false,
         "type": "histogram",
         "x": {
          "bdata": "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",
          "dtype": "i2"
         },
         "xaxis": "x",
         "yaxis": "y"
        }
       ],
       "layout": {
        "barmode": "relative",
        "legend": {
         "tracegroupgap": 0
        },
        "template": {
         "data": {
          "bar": [
           {
            "error_x": {
             "color": "#2a3f5f"
            },
            "error_y": {
             "color": "#2a3f5f"
            },
            "marker": {
             "line": {
              "color": "#E5ECF6",
              "width": 0.5
             },
             "pattern": {
              "fillmode": "overlay",
              "size": 10,
              "solidity": 0.2
             }
            },
            "type": "bar"
           }
          ],
          "barpolar": [
           {
            "marker": {
             "line": {
              "color": "#E5ECF6",
              "width": 0.5
             },
             "pattern": {
              "fillmode": "overlay",
              "size": 10,
              "solidity": 0.2
             }
            },
            "type": "barpolar"
           }
          ],
          "carpet": [
           {
            "aaxis": {
             "endlinecolor": "#2a3f5f",
             "gridcolor": "white",
             "linecolor": "white",
             "minorgridcolor": "white",
             "startlinecolor": "#2a3f5f"
            },
            "baxis": {
             "endlinecolor": "#2a3f5f",
             "gridcolor": "white",
             "linecolor": "white",
             "minorgridcolor": "white",
             "startlinecolor": "#2a3f5f"
            },
            "type": "carpet"
           }
          ],
          "choropleth": [
           {
            "colorbar": {
             "outlinewidth": 0,
             "ticks": ""
            },
            "type": "choropleth"
           }
          ],
          "contour": [
           {
            "colorbar": {
             "outlinewidth": 0,
             "ticks": ""
            },
            "colorscale": [
             [
              0,
              "#0d0887"
             ],
             [
              0.1111111111111111,
              "#46039f"
             ],
             [
              0.2222222222222222,
              "#7201a8"
             ],
             [
              0.3333333333333333,
              "#9c179e"
             ],
             [
              0.4444444444444444,
              "#bd3786"
             ],
             [
              0.5555555555555556,
              "#d8576b"
             ],
             [
              0.6666666666666666,
              "#ed7953"
             ],
             [
              0.7777777777777778,
              "#fb9f3a"
             ],
             [
              0.8888888888888888,
              "#fdca26"
             ],
             [
              1,
              "#f0f921"
             ]
            ],
            "type": "contour"
           }
          ],
          "contourcarpet": [
           {
            "colorbar": {
             "outlinewidth": 0,
             "ticks": ""
            },
            "type": "contourcarpet"
           }
          ],
          "heatmap": [
           {
            "colorbar": {
             "outlinewidth": 0,
             "ticks": ""
            },
            "colorscale": [
             [
              0,
              "#0d0887"
             ],
             [
              0.1111111111111111,
              "#46039f"
             ],
             [
              0.2222222222222222,
              "#7201a8"
             ],
             [
              0.3333333333333333,
              "#9c179e"
             ],
             [
              0.4444444444444444,
              "#bd3786"
             ],
             [
              0.5555555555555556,
              "#d8576b"
             ],
             [
              0.6666666666666666,
              "#ed7953"
             ],
             [
              0.7777777777777778,
              "#fb9f3a"
             ],
             [
              0.8888888888888888,
              "#fdca26"
             ],
             [
              1,
              "#f0f921"
             ]
            ],
            "type": "heatmap"
           }
          ],
          "histogram": [
           {
            "marker": {
             "pattern": {
              "fillmode": "overlay",
              "size": 10,
              "solidity": 0.2
             }
            },
            "type": "histogram"
           }
          ],
          "histogram2d": [
           {
            "colorbar": {
             "outlinewidth": 0,
             "ticks": ""
            },
            "colorscale": [
             [
              0,
              "#0d0887"
             ],
             [
              0.1111111111111111,
              "#46039f"
             ],
             [
              0.2222222222222222,
              "#7201a8"
             ],
             [
              0.3333333333333333,
              "#9c179e"
             ],
             [
              0.4444444444444444,
              "#bd3786"
             ],
             [
              0.5555555555555556,
              "#d8576b"
             ],
             [
              0.6666666666666666,
              "#ed7953"
             ],
             [
              0.7777777777777778,
              "#fb9f3a"
             ],
             [
              0.8888888888888888,
              "#fdca26"
             ],
             [
              1,
              "#f0f921"
             ]
            ],
            "type": "histogram2d"
           }
          ],
          "histogram2dcontour": [
           {
            "colorbar": {
             "outlinewidth": 0,
             "ticks": ""
            },
            "colorscale": [
             [
              0,
              "#0d0887"
             ],
             [
              0.1111111111111111,
              "#46039f"
             ],
             [
              0.2222222222222222,
              "#7201a8"
             ],
             [
              0.3333333333333333,
              "#9c179e"
             ],
             [
              0.4444444444444444,
              "#bd3786"
             ],
             [
              0.5555555555555556,
              "#d8576b"
             ],
             [
              0.6666666666666666,
              "#ed7953"
             ],
             [
              0.7777777777777778,
              "#fb9f3a"
             ],
             [
              0.8888888888888888,
              "#fdca26"
             ],
             [
              1,
              "#f0f921"
             ]
            ],
            "type": "histogram2dcontour"
           }
          ],
          "mesh3d": [
           {
            "colorbar": {
             "outlinewidth": 0,
             "ticks": ""
            },
            "type": "mesh3d"
           }
          ],
          "parcoords": [
           {
            "line": {
             "colorbar": {
              "outlinewidth": 0,
              "ticks": ""
             }
            },
            "type": "parcoords"
           }
          ],
          "pie": [
           {
            "automargin": true,
            "type": "pie"
           }
          ],
          "scatter": [
           {
            "fillpattern": {
             "fillmode": "overlay",
             "size": 10,
             "solidity": 0.2
            },
            "type": "scatter"
           }
          ],
          "scatter3d": [
           {
            "line": {
             "colorbar": {
              "outlinewidth": 0,
              "ticks": ""
             }
            },
            "marker": {
             "colorbar": {
              "outlinewidth": 0,
              "ticks": ""
             }
            },
            "type": "scatter3d"
           }
          ],
          "scattercarpet": [
           {
            "marker": {
             "colorbar": {
              "outlinewidth": 0,
              "ticks": ""
             }
            },
            "type": "scattercarpet"
           }
          ],
          "scattergeo": [
           {
            "marker": {
             "colorbar": {
              "outlinewidth": 0,
              "ticks": ""
             }
            },
            "type": "scattergeo"
           }
          ],
          "scattergl": [
           {
            "marker": {
             "colorbar": {
              "outlinewidth": 0,
              "ticks": ""
             }
            },
            "type": "scattergl"
           }
          ],
          "scattermap": [
           {
            "marker": {
             "colorbar": {
              "outlinewidth": 0,
              "ticks": ""
             }
            },
            "type": "scattermap"
           }
          ],
          "scattermapbox": [
           {
            "marker": {
             "colorbar": {
              "outlinewidth": 0,
              "ticks": ""
             }
            },
            "type": "scattermapbox"
           }
          ],
          "scatterpolar": [
           {
            "marker": {
             "colorbar": {
              "outlinewidth": 0,
              "ticks": ""
             }
            },
            "type": "scatterpolar"
           }
          ],
          "scatterpolargl": [
           {
            "marker": {
             "colorbar": {
              "outlinewidth": 0,
              "ticks": ""
             }
            },
            "type": "scatterpolargl"
           }
          ],
          "scatterternary": [
           {
            "marker": {
             "colorbar": {
              "outlinewidth": 0,
              "ticks": ""
             }
            },
            "type": "scatterternary"
           }
          ],
          "surface": [
           {
            "colorbar": {
             "outlinewidth": 0,
             "ticks": ""
            },
            "colorscale": [
             [
              0,
              "#0d0887"
             ],
             [
              0.1111111111111111,
              "#46039f"
             ],
             [
              0.2222222222222222,
              "#7201a8"
             ],
             [
              0.3333333333333333,
              "#9c179e"
             ],
             [
              0.4444444444444444,
              "#bd3786"
             ],
             [
              0.5555555555555556,
              "#d8576b"
             ],
             [
              0.6666666666666666,
              "#ed7953"
             ],
             [
              0.7777777777777778,
              "#fb9f3a"
             ],
             [
              0.8888888888888888,
              "#fdca26"
             ],
             [
              1,
              "#f0f921"
             ]
            ],
            "type": "surface"
           }
          ],
          "table": [
           {
            "cells": {
             "fill": {
              "color": "#EBF0F8"
             },
             "line": {
              "color": "white"
             }
            },
            "header": {
             "fill": {
              "color": "#C8D4E3"
             },
             "line": {
              "color": "white"
             }
            },
            "type": "table"
           }
          ]
         },
         "layout": {
          "annotationdefaults": {
           "arrowcolor": "#2a3f5f",
           "arrowhead": 0,
           "arrowwidth": 1
          },
          "autotypenumbers": "strict",
          "coloraxis": {
           "colorbar": {
            "outlinewidth": 0,
            "ticks": ""
           }
          },
          "colorscale": {
           "diverging": [
            [
             0,
             "#8e0152"
            ],
            [
             0.1,
             "#c51b7d"
            ],
            [
             0.2,
             "#de77ae"
            ],
            [
             0.3,
             "#f1b6da"
            ],
            [
             0.4,
             "#fde0ef"
            ],
            [
             0.5,
             "#f7f7f7"
            ],
            [
             0.6,
             "#e6f5d0"
            ],
            [
             0.7,
             "#b8e186"
            ],
            [
             0.8,
             "#7fbc41"
            ],
            [
             0.9,
             "#4d9221"
            ],
            [
             1,
             "#276419"
            ]
           ],
           "sequential": [
            [
             0,
             "#0d0887"
            ],
            [
             0.1111111111111111,
             "#46039f"
            ],
            [
             0.2222222222222222,
             "#7201a8"
            ],
            [
             0.3333333333333333,
             "#9c179e"
            ],
            [
             0.4444444444444444,
             "#bd3786"
            ],
            [
             0.5555555555555556,
             "#d8576b"
            ],
            [
             0.6666666666666666,
             "#ed7953"
            ],
            [
             0.7777777777777778,
             "#fb9f3a"
            ],
            [
             0.8888888888888888,
             "#fdca26"
            ],
            [
             1,
             "#f0f921"
            ]
           ],
           "sequentialminus": [
            [
             0,
             "#0d0887"
            ],
            [
             0.1111111111111111,
             "#46039f"
            ],
            [
             0.2222222222222222,
             "#7201a8"
            ],
            [
             0.3333333333333333,
             "#9c179e"
            ],
            [
             0.4444444444444444,
             "#bd3786"
            ],
            [
             0.5555555555555556,
             "#d8576b"
            ],
            [
             0.6666666666666666,
             "#ed7953"
            ],
            [
             0.7777777777777778,
             "#fb9f3a"
            ],
            [
             0.8888888888888888,
             "#fdca26"
            ],
            [
             1,
             "#f0f921"
            ]
           ]
          },
          "colorway": [
           "#636efa",
           "#EF553B",
           "#00cc96",
           "#ab63fa",
           "#FFA15A",
           "#19d3f3",
           "#FF6692",
           "#B6E880",
           "#FF97FF",
           "#FECB52"
          ],
          "font": {
           "color": "#2a3f5f"
          },
          "geo": {
           "bgcolor": "white",
           "lakecolor": "white",
           "landcolor": "#E5ECF6",
           "showlakes": true,
           "showland": true,
           "subunitcolor": "white"
          },
          "hoverlabel": {
           "align": "left"
          },
          "hovermode": "closest",
          "mapbox": {
           "style": "light"
          },
          "paper_bgcolor": "white",
          "plot_bgcolor": "#E5ECF6",
          "polar": {
           "angularaxis": {
            "gridcolor": "white",
            "linecolor": "white",
            "ticks": ""
           },
           "bgcolor": "#E5ECF6",
           "radialaxis": {
            "gridcolor": "white",
            "linecolor": "white",
            "ticks": ""
           }
          },
          "scene": {
           "xaxis": {
            "backgroundcolor": "#E5ECF6",
            "gridcolor": "white",
            "gridwidth": 2,
            "linecolor": "white",
            "showbackground": true,
            "ticks": "",
            "zerolinecolor": "white"
           },
           "yaxis": {
            "backgroundcolor": "#E5ECF6",
            "gridcolor": "white",
            "gridwidth": 2,
            "linecolor": "white",
            "showbackground": true,
            "ticks": "",
            "zerolinecolor": "white"
           },
           "zaxis": {
            "backgroundcolor": "#E5ECF6",
            "gridcolor": "white",
            "gridwidth": 2,
            "linecolor": "white",
            "showbackground": true,
            "ticks": "",
            "zerolinecolor": "white"
           }
          },
          "shapedefaults": {
           "line": {
            "color": "#2a3f5f"
           }
          },
          "ternary": {
           "aaxis": {
            "gridcolor": "white",
            "linecolor": "white",
            "ticks": ""
           },
           "baxis": {
            "gridcolor": "white",
            "linecolor": "white",
            "ticks": ""
           },
           "bgcolor": "#E5ECF6",
           "caxis": {
            "gridcolor": "white",
            "linecolor": "white",
            "ticks": ""
           }
          },
          "title": {
           "x": 0.05
          },
          "xaxis": {
           "automargin": true,
           "gridcolor": "white",
           "linecolor": "white",
           "ticks": "",
           "title": {
            "standoff": 15
           },
           "zerolinecolor": "white",
           "zerolinewidth": 2
          },
          "yaxis": {
           "automargin": true,
           "gridcolor": "white",
           "linecolor": "white",
           "ticks": "",
           "title": {
            "standoff": 15
           },
           "zerolinecolor": "white",
           "zerolinewidth": 2
          }
         }
        },
        "title": {
         "text": "Distribution of Rainfall (mm)"
        },
        "xaxis": {
         "anchor": "y",
         "domain": [
          0,
          1
         ],
         "title": {
          "text": "Rainfall (mm)"
         }
        },
        "yaxis": {
         "anchor": "x",
         "domain": [
          0,
          1
         ],
         "title": {
          "text": "count"
         }
        }
       }
      }
     },
     "metadata": {},
     "output_type": "display_data"
    },
    {
     "data": {
      "application/vnd.plotly.v1+json": {
       "config": {
        "plotlyServerURL": "https://plot.ly"
       },
       "data": [
        {
         "bingroup": "x",
         "hovertemplate": "Soil Quality Index (1-10)=%{x}<br>count=%{y}<extra></extra>",
         "legendgroup": "",
         "marker": {
          "color": "#636efa",
          "pattern": {
           "shape": ""
          }
         },
         "name": "",
         "nbinsx": 100,
         "orientation": "v",
         "showlegend": false,
         "type": "histogram",
         "x": {
          "bdata": "CQkBAgUECgkHBgcBAQgCCgkHBgEBAgYGAgEKBQUCBgkCCgIDBwYICAYKAwMBBwUECgQEBggIBQYECQgKCgECCQgDCAEKBAMGBwQHCQIDBQMICggICQQFBQgHCQgCCgQGAgcDAwIIBgEBBwgFBQQGBgMJBwEHBQUCBAYKBwUJAwEECQQCCgUDCQQGAgYDCQIJBQgCBgMKBQgKAQUDBAIJAwIKCQcGAQUDAQQCAgMICAcGCQQBCAcHAwQKCQYFAwkFBQQEAQcJAwIDAQYHAggGBAUIAwMEAQkICAoGBwYJAwMDCgMJBAcJBwkDBAgGBQQIAQkBCAQJBQMJCQQECAIJBgkIBwEDAgUFBQQFAwEFCQkEAwECCAEIBwgGCQMKBAYIBQMGBAkDBAcHBAYDBgIIAgcJAQgHBgYGCQIBBgoIAwoBCQEDCAMECAEGAQEIBAEKBwUFAQoGCQkIBQEJAQgFAwcHCQcDAQgDCAgFAQoHCgUICQcHAQQCAgIEAQQCBQMIBAEBCgMJBwIJCgIDCgIDBgkJBwMEBgUCBgMIAgEJAwEHCgUFAQkHCAkGBQYCBAMHCQUGCgIDAwkHCAoJBgQBCAcCCAUHBAUIAQEEAwoCAwEBBgUIAgQIBgEEAQIFCAgDBAoGCgMCBgUKBQoFCgUDBwYEAgkBBAEGBAUFCQECBgUHAwMKAgMKAQUFBwQDAQgDAgQDAQMCCAYJCAoDBQcFCAUBBQQGAwUCBgYFBgcFAQgECQoGAQMDCgQGBwoEBgEIBwkDAgEDBQIDBAcDCQgEAQEBAQgDBgMFBwIGBgMGCgoFAgkIAwgJAwMCCAoBCAcHAwEECQUBBQgIBQkBBAMCCAcJAgQGAwgDAgMGAggBBwIKBgICCggCBwMIBwgHBgcFBwEBCQUFAwUDCQkGAQcHCgoECAYEBAICBAUIBgQHCAIHAgIIAgkBCQEKCgIGBgEHCAIICQYFCQkBAwkCBAQCAwMBBggDBQEKBwoBCQgHCgcFBQUBCAEECQkFBAMDBQoBBQYHCQMCAwkHCQIFBAIJCQYGCAYBBAcCCQgIBwQCAwYFCAYGAQQFAwkBBgYKBQUKBQYIAgYBBAoDCQMGAQYECAkECgoGAQQHAQgKBgUKCQIFBgcFCQEHCgcECQUEBwQDCQgBBwkICAYECAMJAgIHCgQKCAkHBQgEAgYJAQoHCgkKCQoDBQgIBAEBBAYIBgkJAgoBAgUEBAkIBgECBgIKBQUGBgYCCgMGCAEBAgYJBAMICgkFCQIDBwcGBgIKBgQDAgEFAgIHCAoIBAEHAQQIAgYGCQUKBAUKBQgKCAIHCAYFCQMKBAkGCAcCAwEJBwEDBAQFAwMBBwoBAgQEBQIEAQIBCgoEBAcKCQkFCgEBBgIICQQFCAMFAwoDAwcHBwoIBQUEBwoEAgQICQMHCQQKAwUBAwgIBAIICAoEAwIJAQcFCAQHBQUJCQkGBgUJCggHBwYFBAMDBgQGAwQJBQcKAgUJAwkGBAcIBgUGBQgBBwoKAgkBCgYJAQQECQUFBgEBCQMEAQkIAggHBgEHCgcJAQIJCQYGBAQFAwEBBwEBAwoEBAIBAwQDCAoBAgcECAMGCQEBCAMFAQUGCAMDCgkEBAcCCAYDCQUIBwgHAwIHAwMCBAgBAQUFAQYBBQkFBggBAgkDBgUCBwQBBAYHBwcDBggECAIKCQkICgoBAgYKBQkFAgoECQEBBwMKAgkDAggKBgYKBwcGBAkGBAMEAwIFAgYDBgoJAQYJBAIEAQMKCQoFBgMFCAYEAgkBAQQHAQkEAwEKBAkKBgYBCgIGAgMEBQkECQoDCAEJCQoCBAgHAQUHBAEJBQIIAgMKAQIHCgIGAwQIAwoGAQcICAMKAQkGCQcBAQYFCQIIBQIKBgoIBAIFAgIGCgkEBgcGCAQBBwMGAgkBBgYFBQEKBQIHAwQDAwQFAQQICgcJBQoECAkHBwUECgEKCgcBAQUJBgMDBwYJBgUKBwEHAwkGCQUHBAcBBwgFAgUGAgYGAQEKAwoKAwQCCQoHBwYDBggICQEBAwMKCAoBAgIDBgECAQUHCAoBBwUKAQMHCgEHBQEBAQkDBQoJBgkICAEJBgkDAwYJBwMDAgkDBQkIAgMCCAYGCQgEBAkBAgIGBAoDAwMGCAcEBAoCAQkCCAkECAkKCgUHCgQBAwUDBwkGCgEHAwUKBAoFBQYKCgYICAkIAgoBCgICAwoHAgEGCQMGAwEFCgQHBgoHBQQHBwYIBAoFBAEIAQUGBgUDBQgCBgkICAgHCAYCAggBBgYECgMDAQMEBQMGBQMGBggCAQQHCgMDBQUKAwkEAwIKCQQDBwgCBwUFAwUCBAYBCgQGCQIHBgIIBwUFBwkJCQYKBgMBBwQBCAYGAgECBAIBBwgGBAYDCAoCBQEGAgQGCggIBgQICAoBBAQHBwgFBwgJAwMEBQoBBwkIBQQHBQcBAQoDAgIHCgIEAgYICgQFBAMFCQgICAgHCAgICgcBBAQFCgYEAgYICAcGAgcFBgoICAMHAQEHCgkHCgUIAgkGCQIDCAEKBwcBCQgECgUCCQYDBwkDAgcHBAkIAQEFBgMJCgYEBwgJBgYIBQMDBgIGBggHCAkGAwoDAQUECQkFCgQHBgQKAgEEBAEGBAEBAQgKCAIHCAgKBwUBCQcCBgIBBwICBQUHAQgDBAkECgUHBAEJBAkGAQMCCQEJCQgIAQgKAwcBAQoFBQgHCAYGAgYFAwYICQEDAwgBBQMCCAMHAQYDCAYCBgcFAwQEBgoBBAoECgEJBAcDCgMICAEKAggBCAgCBAYJCAgHCQIDCggGCgkKBAgKAwMIBQMKAQMJBQoCBwIEBwQHBwEGCQIDCgUJBAEEBgUBBAYKCgQJBQgJCgUGAQcEAgUDBggHAwgCCgkEAQgHBQoFBwUIBgUJAgEIAwcKCAYKCQcKBQgCBwQJAQcGCAUBAQkKBgoFAQYGAwgBAQYKAQYBBgMIBgEFCAMGBQYKAQcJAgoFCgQGBgICBAEJBwcDAwEDAwQEAwoICAEHAgEDBAYKBQQIBAoCAwYICAkHAggHCAMHCgkDCgYCAgUFBwIHBQYICgQHBgoCCAoJBQoEBggDCgEEBAEJAwUGCAYDBgEEBgcKAwkHAQIBCQkHCgMFBAcJAggJCgoJCgcJCQMEAgoDBQUGBwcBAgkKAgYBAwIDBQoGCQoEBwYCCggHBwgBAQgEBQgFCgQGBQcKBwQFAwQEAwoFBQcEBAkGBAIGAgUGBAMHAgYEBgQEBAkHAwMGBgQJBAkEAgIFBAcFBgoEAgoJCgcEAwoDCQUDBQIECgICCAEHBQgBBwUEBwoCAQEBBQoHAgoIBAMKCAIDAwoBBgIBAgYEBgkKCggBCAkGCgUGBgkEAgkCCgkCCAkKCQoJAgQHAgEDBAgGAgkCBQQHCAUKBQIIAgoGCAYEBAYECAkBBAQCBgMHBQQFCAMHBgEHBwEJBgIFBAcIAQUDAQMGBwgEAwUJBgkGAgUJCAcBBAcHBggGCgMEAwEKBQEBAgQGCAMBAwMFBAQJBwQDBgMGCQYEBQYDCAQICgoDCgcJBAgDBwMHCgoGAgMGBAYBCgEDCAgEBggHBwQJCgYDBQUFCAkJBgYJBAYEAQcKBgkHBwIJCgkGAwEEAwEDBAgJAwYKBQYECgYHCQoHBgECAQkKCgkHAgYEAQEFAgQBBAYKBAEHAgkDCAgDBAIECQIDBAUBBwoHCQQGAgQCCgUHAQoKBwoGBggIBgMFAgUJCgEKBQYHCQYFBwEFAgQHBQYCAwcCBgUKAQoEAgQBAggGAgYKCQcJBQcHAwcBCQoGBQcFCgUKBwoHAwMKAwYGAwMICAcKBAQDBQMIBwMJBQkHBwYCCQYIAQUBCggIAQkCCQEKCQQJBwYFCQICCQMICQgEAQQJAgMKCAYIBwUJBAYCAgIKBwICCQcDAwcFCgYICQEDBwYHCAYDAgcBAwQBBQoDAgMIBgcGBgMIBwcGBQoIBQkJAQYH",
          "dtype": "i1"
         },
         "xaxis": "x",
         "yaxis": "y"
        }
       ],
       "layout": {
        "barmode": "relative",
        "legend": {
         "tracegroupgap": 0
        },
        "template": {
         "data": {
          "bar": [
           {
            "error_x": {
             "color": "#2a3f5f"
            },
            "error_y": {
             "color": "#2a3f5f"
            },
            "marker": {
             "line": {
              "color": "#E5ECF6",
              "width": 0.5
             },
             "pattern": {
              "fillmode": "overlay",
              "size": 10,
              "solidity": 0.2
             }
            },
            "type": "bar"
           }
          ],
          "barpolar": [
           {
            "marker": {
             "line": {
              "color": "#E5ECF6",
              "width": 0.5
             },
             "pattern": {
              "fillmode": "overlay",
              "size": 10,
              "solidity": 0.2
             }
            },
            "type": "barpolar"
           }
          ],
          "carpet": [
           {
            "aaxis": {
             "endlinecolor": "#2a3f5f",
             "gridcolor": "white",
             "linecolor": "white",
             "minorgridcolor": "white",
             "startlinecolor": "#2a3f5f"
            },
            "baxis": {
             "endlinecolor": "#2a3f5f",
             "gridcolor": "white",
             "linecolor": "white",
             "minorgridcolor": "white",
             "startlinecolor": "#2a3f5f"
            },
            "type": "carpet"
           }
          ],
          "choropleth": [
           {
            "colorbar": {
             "outlinewidth": 0,
             "ticks": ""
            },
            "type": "choropleth"
           }
          ],
          "contour": [
           {
            "colorbar": {
             "outlinewidth": 0,
             "ticks": ""
            },
            "colorscale": [
             [
              0,
              "#0d0887"
             ],
             [
              0.1111111111111111,
              "#46039f"
             ],
             [
              0.2222222222222222,
              "#7201a8"
             ],
             [
              0.3333333333333333,
              "#9c179e"
             ],
             [
              0.4444444444444444,
              "#bd3786"
             ],
             [
              0.5555555555555556,
              "#d8576b"
             ],
             [
              0.6666666666666666,
              "#ed7953"
             ],
             [
              0.7777777777777778,
              "#fb9f3a"
             ],
             [
              0.8888888888888888,
              "#fdca26"
             ],
             [
              1,
              "#f0f921"
             ]
            ],
            "type": "contour"
           }
          ],
          "contourcarpet": [
           {
            "colorbar": {
             "outlinewidth": 0,
             "ticks": ""
            },
            "type": "contourcarpet"
           }
          ],
          "heatmap": [
           {
            "colorbar": {
             "outlinewidth": 0,
             "ticks": ""
            },
            "colorscale": [
             [
              0,
              "#0d0887"
             ],
             [
              0.1111111111111111,
              "#46039f"
             ],
             [
              0.2222222222222222,
              "#7201a8"
             ],
             [
              0.3333333333333333,
              "#9c179e"
             ],
             [
              0.4444444444444444,
              "#bd3786"
             ],
             [
              0.5555555555555556,
              "#d8576b"
             ],
             [
              0.6666666666666666,
              "#ed7953"
             ],
             [
              0.7777777777777778,
              "#fb9f3a"
             ],
             [
              0.8888888888888888,
              "#fdca26"
             ],
             [
              1,
              "#f0f921"
             ]
            ],
            "type": "heatmap"
           }
          ],
          "histogram": [
           {
            "marker": {
             "pattern": {
              "fillmode": "overlay",
              "size": 10,
              "solidity": 0.2
             }
            },
            "type": "histogram"
           }
          ],
          "histogram2d": [
           {
            "colorbar": {
             "outlinewidth": 0,
             "ticks": ""
            },
            "colorscale": [
             [
              0,
              "#0d0887"
             ],
             [
              0.1111111111111111,
              "#46039f"
             ],
             [
              0.2222222222222222,
              "#7201a8"
             ],
             [
              0.3333333333333333,
              "#9c179e"
             ],
             [
              0.4444444444444444,
              "#bd3786"
             ],
             [
              0.5555555555555556,
              "#d8576b"
             ],
             [
              0.6666666666666666,
              "#ed7953"
             ],
             [
              0.7777777777777778,
              "#fb9f3a"
             ],
             [
              0.8888888888888888,
              "#fdca26"
             ],
             [
              1,
              "#f0f921"
             ]
            ],
            "type": "histogram2d"
           }
          ],
          "histogram2dcontour": [
           {
            "colorbar": {
             "outlinewidth": 0,
             "ticks": ""
            },
            "colorscale": [
             [
              0,
              "#0d0887"
             ],
             [
              0.1111111111111111,
              "#46039f"
             ],
             [
              0.2222222222222222,
              "#7201a8"
             ],
             [
              0.3333333333333333,
              "#9c179e"
             ],
             [
              0.4444444444444444,
              "#bd3786"
             ],
             [
              0.5555555555555556,
              "#d8576b"
             ],
             [
              0.6666666666666666,
              "#ed7953"
             ],
             [
              0.7777777777777778,
              "#fb9f3a"
             ],
             [
              0.8888888888888888,
              "#fdca26"
             ],
             [
              1,
              "#f0f921"
             ]
            ],
            "type": "histogram2dcontour"
           }
          ],
          "mesh3d": [
           {
            "colorbar": {
             "outlinewidth": 0,
             "ticks": ""
            },
            "type": "mesh3d"
           }
          ],
          "parcoords": [
           {
            "line": {
             "colorbar": {
              "outlinewidth": 0,
              "ticks": ""
             }
            },
            "type": "parcoords"
           }
          ],
          "pie": [
           {
            "automargin": true,
            "type": "pie"
           }
          ],
          "scatter": [
           {
            "fillpattern": {
             "fillmode": "overlay",
             "size": 10,
             "solidity": 0.2
            },
            "type": "scatter"
           }
          ],
          "scatter3d": [
           {
            "line": {
             "colorbar": {
              "outlinewidth": 0,
              "ticks": ""
             }
            },
            "marker": {
             "colorbar": {
              "outlinewidth": 0,
              "ticks": ""
             }
            },
            "type": "scatter3d"
           }
          ],
          "scattercarpet": [
           {
            "marker": {
             "colorbar": {
              "outlinewidth": 0,
              "ticks": ""
             }
            },
            "type": "scattercarpet"
           }
          ],
          "scattergeo": [
           {
            "marker": {
             "colorbar": {
              "outlinewidth": 0,
              "ticks": ""
             }
            },
            "type": "scattergeo"
           }
          ],
          "scattergl": [
           {
            "marker": {
             "colorbar": {
              "outlinewidth": 0,
              "ticks": ""
             }
            },
            "type": "scattergl"
           }
          ],
          "scattermap": [
           {
            "marker": {
             "colorbar": {
              "outlinewidth": 0,
              "ticks": ""
             }
            },
            "type": "scattermap"
           }
          ],
          "scattermapbox": [
           {
            "marker": {
             "colorbar": {
              "outlinewidth": 0,
              "ticks": ""
             }
            },
            "type": "scattermapbox"
           }
          ],
          "scatterpolar": [
           {
            "marker": {
             "colorbar": {
              "outlinewidth": 0,
              "ticks": ""
             }
            },
            "type": "scatterpolar"
           }
          ],
          "scatterpolargl": [
           {
            "marker": {
             "colorbar": {
              "outlinewidth": 0,
              "ticks": ""
             }
            },
            "type": "scatterpolargl"
           }
          ],
          "scatterternary": [
           {
            "marker": {
             "colorbar": {
              "outlinewidth": 0,
              "ticks": ""
             }
            },
            "type": "scatterternary"
           }
          ],
          "surface": [
           {
            "colorbar": {
             "outlinewidth": 0,
             "ticks": ""
            },
            "colorscale": [
             [
              0,
              "#0d0887"
             ],
             [
              0.1111111111111111,
              "#46039f"
             ],
             [
              0.2222222222222222,
              "#7201a8"
             ],
             [
              0.3333333333333333,
              "#9c179e"
             ],
             [
              0.4444444444444444,
              "#bd3786"
             ],
             [
              0.5555555555555556,
              "#d8576b"
             ],
             [
              0.6666666666666666,
              "#ed7953"
             ],
             [
              0.7777777777777778,
              "#fb9f3a"
             ],
             [
              0.8888888888888888,
              "#fdca26"
             ],
             [
              1,
              "#f0f921"
             ]
            ],
            "type": "surface"
           }
          ],
          "table": [
           {
            "cells": {
             "fill": {
              "color": "#EBF0F8"
             },
             "line": {
              "color": "white"
             }
            },
            "header": {
             "fill": {
              "color": "#C8D4E3"
             },
             "line": {
              "color": "white"
             }
            },
            "type": "table"
           }
          ]
         },
         "layout": {
          "annotationdefaults": {
           "arrowcolor": "#2a3f5f",
           "arrowhead": 0,
           "arrowwidth": 1
          },
          "autotypenumbers": "strict",
          "coloraxis": {
           "colorbar": {
            "outlinewidth": 0,
            "ticks": ""
           }
          },
          "colorscale": {
           "diverging": [
            [
             0,
             "#8e0152"
            ],
            [
             0.1,
             "#c51b7d"
            ],
            [
             0.2,
             "#de77ae"
            ],
            [
             0.3,
             "#f1b6da"
            ],
            [
             0.4,
             "#fde0ef"
            ],
            [
             0.5,
             "#f7f7f7"
            ],
            [
             0.6,
             "#e6f5d0"
            ],
            [
             0.7,
             "#b8e186"
            ],
            [
             0.8,
             "#7fbc41"
            ],
            [
             0.9,
             "#4d9221"
            ],
            [
             1,
             "#276419"
            ]
           ],
           "sequential": [
            [
             0,
             "#0d0887"
            ],
            [
             0.1111111111111111,
             "#46039f"
            ],
            [
             0.2222222222222222,
             "#7201a8"
            ],
            [
             0.3333333333333333,
             "#9c179e"
            ],
            [
             0.4444444444444444,
             "#bd3786"
            ],
            [
             0.5555555555555556,
             "#d8576b"
            ],
            [
             0.6666666666666666,
             "#ed7953"
            ],
            [
             0.7777777777777778,
             "#fb9f3a"
            ],
            [
             0.8888888888888888,
             "#fdca26"
            ],
            [
             1,
             "#f0f921"
            ]
           ],
           "sequentialminus": [
            [
             0,
             "#0d0887"
            ],
            [
             0.1111111111111111,
             "#46039f"
            ],
            [
             0.2222222222222222,
             "#7201a8"
            ],
            [
             0.3333333333333333,
             "#9c179e"
            ],
            [
             0.4444444444444444,
             "#bd3786"
            ],
            [
             0.5555555555555556,
             "#d8576b"
            ],
            [
             0.6666666666666666,
             "#ed7953"
            ],
            [
             0.7777777777777778,
             "#fb9f3a"
            ],
            [
             0.8888888888888888,
             "#fdca26"
            ],
            [
             1,
             "#f0f921"
            ]
           ]
          },
          "colorway": [
           "#636efa",
           "#EF553B",
           "#00cc96",
           "#ab63fa",
           "#FFA15A",
           "#19d3f3",
           "#FF6692",
           "#B6E880",
           "#FF97FF",
           "#FECB52"
          ],
          "font": {
           "color": "#2a3f5f"
          },
          "geo": {
           "bgcolor": "white",
           "lakecolor": "white",
           "landcolor": "#E5ECF6",
           "showlakes": true,
           "showland": true,
           "subunitcolor": "white"
          },
          "hoverlabel": {
           "align": "left"
          },
          "hovermode": "closest",
          "mapbox": {
           "style": "light"
          },
          "paper_bgcolor": "white",
          "plot_bgcolor": "#E5ECF6",
          "polar": {
           "angularaxis": {
            "gridcolor": "white",
            "linecolor": "white",
            "ticks": ""
           },
           "bgcolor": "#E5ECF6",
           "radialaxis": {
            "gridcolor": "white",
            "linecolor": "white",
            "ticks": ""
           }
          },
          "scene": {
           "xaxis": {
            "backgroundcolor": "#E5ECF6",
            "gridcolor": "white",
            "gridwidth": 2,
            "linecolor": "white",
            "showbackground": true,
            "ticks": "",
            "zerolinecolor": "white"
           },
           "yaxis": {
            "backgroundcolor": "#E5ECF6",
            "gridcolor": "white",
            "gridwidth": 2,
            "linecolor": "white",
            "showbackground": true,
            "ticks": "",
            "zerolinecolor": "white"
           },
           "zaxis": {
            "backgroundcolor": "#E5ECF6",
            "gridcolor": "white",
            "gridwidth": 2,
            "linecolor": "white",
            "showbackground": true,
            "ticks": "",
            "zerolinecolor": "white"
           }
          },
          "shapedefaults": {
           "line": {
            "color": "#2a3f5f"
           }
          },
          "ternary": {
           "aaxis": {
            "gridcolor": "white",
            "linecolor": "white",
            "ticks": ""
           },
           "baxis": {
            "gridcolor": "white",
            "linecolor": "white",
            "ticks": ""
           },
           "bgcolor": "#E5ECF6",
           "caxis": {
            "gridcolor": "white",
            "linecolor": "white",
            "ticks": ""
           }
          },
          "title": {
           "x": 0.05
          },
          "xaxis": {
           "automargin": true,
           "gridcolor": "white",
           "linecolor": "white",
           "ticks": "",
           "title": {
            "standoff": 15
           },
           "zerolinecolor": "white",
           "zerolinewidth": 2
          },
          "yaxis": {
           "automargin": true,
           "gridcolor": "white",
           "linecolor": "white",
           "ticks": "",
           "title": {
            "standoff": 15
           },
           "zerolinecolor": "white",
           "zerolinewidth": 2
          }
         }
        },
        "title": {
         "text": "Soil Quality Index (1-10)"
        },
        "xaxis": {
         "anchor": "y",
         "domain": [
          0,
          1
         ],
         "title": {
          "text": "Soil Quality Index (1-10)"
         }
        },
        "yaxis": {
         "anchor": "x",
         "domain": [
          0,
          1
         ],
         "title": {
          "text": "count"
         }
        }
       }
      }
     },
     "metadata": {},
     "output_type": "display_data"
    },
    {
     "data": {
      "application/vnd.plotly.v1+json": {
       "config": {
        "plotlyServerURL": "https://plot.ly"
       },
       "data": [
        {
         "bingroup": "x",
         "hovertemplate": "Farm size (hectares)=%{x}<br>count=%{y}<extra></extra>",
         "legendgroup": "",
         "marker": {
          "color": "#636efa",
          "pattern": {
           "shape": ""
          }
         },
         "name": "",
         "nbinsx": 100,
         "orientation": "v",
         "showlegend": false,
         "type": "histogram",
         "x": {
          "bdata": "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",
          "dtype": "i2"
         },
         "xaxis": "x",
         "yaxis": "y"
        }
       ],
       "layout": {
        "barmode": "relative",
        "legend": {
         "tracegroupgap": 0
        },
        "template": {
         "data": {
          "bar": [
           {
            "error_x": {
             "color": "#2a3f5f"
            },
            "error_y": {
             "color": "#2a3f5f"
            },
            "marker": {
             "line": {
              "color": "#E5ECF6",
              "width": 0.5
             },
             "pattern": {
              "fillmode": "overlay",
              "size": 10,
              "solidity": 0.2
             }
            },
            "type": "bar"
           }
          ],
          "barpolar": [
           {
            "marker": {
             "line": {
              "color": "#E5ECF6",
              "width": 0.5
             },
             "pattern": {
              "fillmode": "overlay",
              "size": 10,
              "solidity": 0.2
             }
            },
            "type": "barpolar"
           }
          ],
          "carpet": [
           {
            "aaxis": {
             "endlinecolor": "#2a3f5f",
             "gridcolor": "white",
             "linecolor": "white",
             "minorgridcolor": "white",
             "startlinecolor": "#2a3f5f"
            },
            "baxis": {
             "endlinecolor": "#2a3f5f",
             "gridcolor": "white",
             "linecolor": "white",
             "minorgridcolor": "white",
             "startlinecolor": "#2a3f5f"
            },
            "type": "carpet"
           }
          ],
          "choropleth": [
           {
            "colorbar": {
             "outlinewidth": 0,
             "ticks": ""
            },
            "type": "choropleth"
           }
          ],
          "contour": [
           {
            "colorbar": {
             "outlinewidth": 0,
             "ticks": ""
            },
            "colorscale": [
             [
              0,
              "#0d0887"
             ],
             [
              0.1111111111111111,
              "#46039f"
             ],
             [
              0.2222222222222222,
              "#7201a8"
             ],
             [
              0.3333333333333333,
              "#9c179e"
             ],
             [
              0.4444444444444444,
              "#bd3786"
             ],
             [
              0.5555555555555556,
              "#d8576b"
             ],
             [
              0.6666666666666666,
              "#ed7953"
             ],
             [
              0.7777777777777778,
              "#fb9f3a"
             ],
             [
              0.8888888888888888,
              "#fdca26"
             ],
             [
              1,
              "#f0f921"
             ]
            ],
            "type": "contour"
           }
          ],
          "contourcarpet": [
           {
            "colorbar": {
             "outlinewidth": 0,
             "ticks": ""
            },
            "type": "contourcarpet"
           }
          ],
          "heatmap": [
           {
            "colorbar": {
             "outlinewidth": 0,
             "ticks": ""
            },
            "colorscale": [
             [
              0,
              "#0d0887"
             ],
             [
              0.1111111111111111,
              "#46039f"
             ],
             [
              0.2222222222222222,
              "#7201a8"
             ],
             [
              0.3333333333333333,
              "#9c179e"
             ],
             [
              0.4444444444444444,
              "#bd3786"
             ],
             [
              0.5555555555555556,
              "#d8576b"
             ],
             [
              0.6666666666666666,
              "#ed7953"
             ],
             [
              0.7777777777777778,
              "#fb9f3a"
             ],
             [
              0.8888888888888888,
              "#fdca26"
             ],
             [
              1,
              "#f0f921"
             ]
            ],
            "type": "heatmap"
           }
          ],
          "histogram": [
           {
            "marker": {
             "pattern": {
              "fillmode": "overlay",
              "size": 10,
              "solidity": 0.2
             }
            },
            "type": "histogram"
           }
          ],
          "histogram2d": [
           {
            "colorbar": {
             "outlinewidth": 0,
             "ticks": ""
            },
            "colorscale": [
             [
              0,
              "#0d0887"
             ],
             [
              0.1111111111111111,
              "#46039f"
             ],
             [
              0.2222222222222222,
              "#7201a8"
             ],
             [
              0.3333333333333333,
              "#9c179e"
             ],
             [
              0.4444444444444444,
              "#bd3786"
             ],
             [
              0.5555555555555556,
              "#d8576b"
             ],
             [
              0.6666666666666666,
              "#ed7953"
             ],
             [
              0.7777777777777778,
              "#fb9f3a"
             ],
             [
              0.8888888888888888,
              "#fdca26"
             ],
             [
              1,
              "#f0f921"
             ]
            ],
            "type": "histogram2d"
           }
          ],
          "histogram2dcontour": [
           {
            "colorbar": {
             "outlinewidth": 0,
             "ticks": ""
            },
            "colorscale": [
             [
              0,
              "#0d0887"
             ],
             [
              0.1111111111111111,
              "#46039f"
             ],
             [
              0.2222222222222222,
              "#7201a8"
             ],
             [
              0.3333333333333333,
              "#9c179e"
             ],
             [
              0.4444444444444444,
              "#bd3786"
             ],
             [
              0.5555555555555556,
              "#d8576b"
             ],
             [
              0.6666666666666666,
              "#ed7953"
             ],
             [
              0.7777777777777778,
              "#fb9f3a"
             ],
             [
              0.8888888888888888,
              "#fdca26"
             ],
             [
              1,
              "#f0f921"
             ]
            ],
            "type": "histogram2dcontour"
           }
          ],
          "mesh3d": [
           {
            "colorbar": {
             "outlinewidth": 0,
             "ticks": ""
            },
            "type": "mesh3d"
           }
          ],
          "parcoords": [
           {
            "line": {
             "colorbar": {
              "outlinewidth": 0,
              "ticks": ""
             }
            },
            "type": "parcoords"
           }
          ],
          "pie": [
           {
            "automargin": true,
            "type": "pie"
           }
          ],
          "scatter": [
           {
            "fillpattern": {
             "fillmode": "overlay",
             "size": 10,
             "solidity": 0.2
            },
            "type": "scatter"
           }
          ],
          "scatter3d": [
           {
            "line": {
             "colorbar": {
              "outlinewidth": 0,
              "ticks": ""
             }
            },
            "marker": {
             "colorbar": {
              "outlinewidth": 0,
              "ticks": ""
             }
            },
            "type": "scatter3d"
           }
          ],
          "scattercarpet": [
           {
            "marker": {
             "colorbar": {
              "outlinewidth": 0,
              "ticks": ""
             }
            },
            "type": "scattercarpet"
           }
          ],
          "scattergeo": [
           {
            "marker": {
             "colorbar": {
              "outlinewidth": 0,
              "ticks": ""
             }
            },
            "type": "scattergeo"
           }
          ],
          "scattergl": [
           {
            "marker": {
             "colorbar": {
              "outlinewidth": 0,
              "ticks": ""
             }
            },
            "type": "scattergl"
           }
          ],
          "scattermap": [
           {
            "marker": {
             "colorbar": {
              "outlinewidth": 0,
              "ticks": ""
             }
            },
            "type": "scattermap"
           }
          ],
          "scattermapbox": [
           {
            "marker": {
             "colorbar": {
              "outlinewidth": 0,
              "ticks": ""
             }
            },
            "type": "scattermapbox"
           }
          ],
          "scatterpolar": [
           {
            "marker": {
             "colorbar": {
              "outlinewidth": 0,
              "ticks": ""
             }
            },
            "type": "scatterpolar"
           }
          ],
          "scatterpolargl": [
           {
            "marker": {
             "colorbar": {
              "outlinewidth": 0,
              "ticks": ""
             }
            },
            "type": "scatterpolargl"
           }
          ],
          "scatterternary": [
           {
            "marker": {
             "colorbar": {
              "outlinewidth": 0,
              "ticks": ""
             }
            },
            "type": "scatterternary"
           }
          ],
          "surface": [
           {
            "colorbar": {
             "outlinewidth": 0,
             "ticks": ""
            },
            "colorscale": [
             [
              0,
              "#0d0887"
             ],
             [
              0.1111111111111111,
              "#46039f"
             ],
             [
              0.2222222222222222,
              "#7201a8"
             ],
             [
              0.3333333333333333,
              "#9c179e"
             ],
             [
              0.4444444444444444,
              "#bd3786"
             ],
             [
              0.5555555555555556,
              "#d8576b"
             ],
             [
              0.6666666666666666,
              "#ed7953"
             ],
             [
              0.7777777777777778,
              "#fb9f3a"
             ],
             [
              0.8888888888888888,
              "#fdca26"
             ],
             [
              1,
              "#f0f921"
             ]
            ],
            "type": "surface"
           }
          ],
          "table": [
           {
            "cells": {
             "fill": {
              "color": "#EBF0F8"
             },
             "line": {
              "color": "white"
             }
            },
            "header": {
             "fill": {
              "color": "#C8D4E3"
             },
             "line": {
              "color": "white"
             }
            },
            "type": "table"
           }
          ]
         },
         "layout": {
          "annotationdefaults": {
           "arrowcolor": "#2a3f5f",
           "arrowhead": 0,
           "arrowwidth": 1
          },
          "autotypenumbers": "strict",
          "coloraxis": {
           "colorbar": {
            "outlinewidth": 0,
            "ticks": ""
           }
          },
          "colorscale": {
           "diverging": [
            [
             0,
             "#8e0152"
            ],
            [
             0.1,
             "#c51b7d"
            ],
            [
             0.2,
             "#de77ae"
            ],
            [
             0.3,
             "#f1b6da"
            ],
            [
             0.4,
             "#fde0ef"
            ],
            [
             0.5,
             "#f7f7f7"
            ],
            [
             0.6,
             "#e6f5d0"
            ],
            [
             0.7,
             "#b8e186"
            ],
            [
             0.8,
             "#7fbc41"
            ],
            [
             0.9,
             "#4d9221"
            ],
            [
             1,
             "#276419"
            ]
           ],
           "sequential": [
            [
             0,
             "#0d0887"
            ],
            [
             0.1111111111111111,
             "#46039f"
            ],
            [
             0.2222222222222222,
             "#7201a8"
            ],
            [
             0.3333333333333333,
             "#9c179e"
            ],
            [
             0.4444444444444444,
             "#bd3786"
            ],
            [
             0.5555555555555556,
             "#d8576b"
            ],
            [
             0.6666666666666666,
             "#ed7953"
            ],
            [
             0.7777777777777778,
             "#fb9f3a"
            ],
            [
             0.8888888888888888,
             "#fdca26"
            ],
            [
             1,
             "#f0f921"
            ]
           ],
           "sequentialminus": [
            [
             0,
             "#0d0887"
            ],
            [
             0.1111111111111111,
             "#46039f"
            ],
            [
             0.2222222222222222,
             "#7201a8"
            ],
            [
             0.3333333333333333,
             "#9c179e"
            ],
            [
             0.4444444444444444,
             "#bd3786"
            ],
            [
             0.5555555555555556,
             "#d8576b"
            ],
            [
             0.6666666666666666,
             "#ed7953"
            ],
            [
             0.7777777777777778,
             "#fb9f3a"
            ],
            [
             0.8888888888888888,
             "#fdca26"
            ],
            [
             1,
             "#f0f921"
            ]
           ]
          },
          "colorway": [
           "#636efa",
           "#EF553B",
           "#00cc96",
           "#ab63fa",
           "#FFA15A",
           "#19d3f3",
           "#FF6692",
           "#B6E880",
           "#FF97FF",
           "#FECB52"
          ],
          "font": {
           "color": "#2a3f5f"
          },
          "geo": {
           "bgcolor": "white",
           "lakecolor": "white",
           "landcolor": "#E5ECF6",
           "showlakes": true,
           "showland": true,
           "subunitcolor": "white"
          },
          "hoverlabel": {
           "align": "left"
          },
          "hovermode": "closest",
          "mapbox": {
           "style": "light"
          },
          "paper_bgcolor": "white",
          "plot_bgcolor": "#E5ECF6",
          "polar": {
           "angularaxis": {
            "gridcolor": "white",
            "linecolor": "white",
            "ticks": ""
           },
           "bgcolor": "#E5ECF6",
           "radialaxis": {
            "gridcolor": "white",
            "linecolor": "white",
            "ticks": ""
           }
          },
          "scene": {
           "xaxis": {
            "backgroundcolor": "#E5ECF6",
            "gridcolor": "white",
            "gridwidth": 2,
            "linecolor": "white",
            "showbackground": true,
            "ticks": "",
            "zerolinecolor": "white"
           },
           "yaxis": {
            "backgroundcolor": "#E5ECF6",
            "gridcolor": "white",
            "gridwidth": 2,
            "linecolor": "white",
            "showbackground": true,
            "ticks": "",
            "zerolinecolor": "white"
           },
           "zaxis": {
            "backgroundcolor": "#E5ECF6",
            "gridcolor": "white",
            "gridwidth": 2,
            "linecolor": "white",
            "showbackground": true,
            "ticks": "",
            "zerolinecolor": "white"
           }
          },
          "shapedefaults": {
           "line": {
            "color": "#2a3f5f"
           }
          },
          "ternary": {
           "aaxis": {
            "gridcolor": "white",
            "linecolor": "white",
            "ticks": ""
           },
           "baxis": {
            "gridcolor": "white",
            "linecolor": "white",
            "ticks": ""
           },
           "bgcolor": "#E5ECF6",
           "caxis": {
            "gridcolor": "white",
            "linecolor": "white",
            "ticks": ""
           }
          },
          "title": {
           "x": 0.05
          },
          "xaxis": {
           "automargin": true,
           "gridcolor": "white",
           "linecolor": "white",
           "ticks": "",
           "title": {
            "standoff": 15
           },
           "zerolinecolor": "white",
           "zerolinewidth": 2
          },
          "yaxis": {
           "automargin": true,
           "gridcolor": "white",
           "linecolor": "white",
           "ticks": "",
           "title": {
            "standoff": 15
           },
           "zerolinecolor": "white",
           "zerolinewidth": 2
          }
         }
        },
        "title": {
         "text": "Farm size (hectares)"
        },
        "xaxis": {
         "anchor": "y",
         "domain": [
          0,
          1
         ],
         "title": {
          "text": "Farm size (hectares)"
         }
        },
        "yaxis": {
         "anchor": "x",
         "domain": [
          0,
          1
         ],
         "title": {
          "text": "count"
         }
        }
       }
      }
     },
     "metadata": {},
     "output_type": "display_data"
    },
    {
     "data": {
      "application/vnd.plotly.v1+json": {
       "config": {
        "plotlyServerURL": "https://plot.ly"
       },
       "data": [
        {
         "bingroup": "x",
         "hovertemplate": "Sunlight (hours)=%{x}<br>count=%{y}<extra></extra>",
         "legendgroup": "",
         "marker": {
          "color": "#636efa",
          "pattern": {
           "shape": ""
          }
         },
         "name": "",
         "nbinsx": 100,
         "orientation": "v",
         "showlegend": false,
         "type": "histogram",
         "x": {
          "bdata": "CwsFBwUHCgwLDAsFCgUFBwQICQwLBQQFCgcICgYFCggEBAwIBAoMBAcGCAoLBQoECgsFDAQJBAYJBgsIBQcMBwsIBAoGCwYECAUHBAwJCwcMBQwICQYHCQoECgQICQUMCQoLBAsHCwkMBwUFCAwGCwcJCQYIBgQKBwoGCAgFBQcHBwkFCQoGCwULCAUKBQkGDAYGCAoLCgwIBgkIBwUKCAcLDAwGBggIBQQLBgQEBQkJBgcFBQoECgQJBgsJBQsICwsJBQsJCQsEBQwLCgoIBQkGBwUFCwsJCAsHBwgEBAULCgwIBQoLCgoIBQkHBQwKCQgGBwYLBgoKCgoFBgwGBQwMBwwGCgoLBwYGCAQGCQYIDAUFCQkLBQwFBAUKCwgJBAkLBgQHBAsIBAsMBQwLCgYFCggJBwUMBgoLBQkLCgYECQsJCAsFBAQHCQwEBAgICAkLBgwEBwwLDAQMBgwEBAwJBwoICgsLBAsJBwsGBwkKBwcKCQsECgoKCgsMDAUKCgcMCwQFBQsEBwgMCgsMCggICQgMBgYKCgkGCggKBQkLBAcEBAsKBAUHBAYLCwsJCQgMBwoEDAoMCgUJBwYFCQsJDAgFCwwHCQsMCAkHCAoMCQkLBwYKCAUFCQsECQUFCgQJCgsKCQwGCQcFBAQGBwUEBwoJCQwFBwgECwsJCAsGBgUIBgYJCwUHCgQECgoEBAcICAcLCgwKBAoECgsMBgcHDAoGCAoLBAUKBQoMBQoHBQoIBAgGCgkLCAUMCwkKDAoGCQoFBgcJBAwICgwMBAQGCQUEBAgHBAcGBQwECgcICAQJDAUKCQgHBwkHCAkICgwKCgcECwcECAsHCwsGDAYEBQkFCQQECAwLBgYEBgQLBAgMCgcMDAUJBwsKCgwICQQJBQkMCwwLBgsJCQkGBAcJBQoKBwcEBQwLCwwKDAUJBgkGCwcJDAUFCgUFBwwLBQsHBQoJCAQFCwQGBQgHCggLBwkHBQQECwcICwoLCwkFCQQEBgYIBAkKBgcGBAsFBAsKCgcMCQUEBAwHCAYHCwcMDAkFCgwJBgoIBAYICgYJCAQJCwQFBwUMCwsHCAcMBQsFBAYMBgwKBAgMBgwIDAkMCgoLCgwMCQoFDAQEBgkIBQwHBwgLBwgHCQYLCQgFCgUECggEBwcKDAUEBQoJBwQECAQKBAQFBgQMCwgFCAkEBwwFCAQHBwkMBgwJCgUJCQUFBQQICwUICwgFBgkIBwcIBQwFBQwGCgcJBwoEBgYECQwLCgsJDAYMBwoMBQUMBgwICQULDAUJCQsIDAQMCgcGCQQGBQwGBQcFBAkLBQwGCwsGBgkEBwQGDAgIBwYIBwsHCwkIBwcHDAcMCQoGCwYECAUJDAQHBAQLBQQLBwYHCAQEBgkEBQoECgcJCwwJDAcJCwwGBQkHBAsMDAUMCggKDAsJBwQJBgkJBwUMBQYECgQMBAgKBgwLBggKBwgGDAwKBQoKCAwGBwQJBwQFBgwLCgcECwcGDAcHDAUIBwwIDAwFDAYHBAQEDAsICAwGBgoMCQUEBQQMCwoGCwUFBgoECwoHCAQHBAQECgoHBQYLCwkMDAcEBAgFCQoECQsICgkHCgwKCAoGBQgHCAsHDAoKCwkLBgQJBAwFBQoFCwkKCgkMDAoMBgYECAcFDAYLCQgEBwYECAkFBgkHDAgHBQkFCgYMCAsJCwYGCAYLCwUHBAcHDAYFDAwECQsGDAUJBAoGCgcMCAYLCQUGCwoJBAwGCAoKBgcKCwUMCgsJCQwHCAwEBwoMCQsMBwQLBQQKDAwGCQoMBQsKBwULCAkKBAsHDAQFCQQHCwgMCQQJCQkLCQgFBwgHBQoFBAgEBAQJDAQIDAwECwQLBAgLCQwEDAQGBAYFBQwLBAcEBAcFBgwFBwQFCAQKBwkLCQUECwsMCQQMBgkMBggICgcHCgwHBwkJCgQGDAkJCAYIBAYHCAwHBgQJCgsEBwgFBAsJCAwFCwwECgsGBwYKDAYJCwkFCgUFBQQECggGBAkEDAUECgkJCAcHBgsKDAQKBwoECAYIBwUHBgQLCAcIBwYIBwQGCwoFBAYIBAYGCAYMBAcHBAUECQYKCAwKBwgICAwGCQsMCgYEBwkGBAkEDAQJBAoGCQoEBAgJDAQHCwwGBQcFBAYKBAUECwgLBgoLCQoFCwgKBAgECwcHBQgEDAgJBQQHCgkEBAsHCAoLCgUHBAwGBgwGCwUGBQQFCwwFCggGDAkECAoHCwgMDAwEBQYHDAkEDAkHBwYKBgULBwsECAwEBwkLBggKBAoLCwwJCQUGBwcLBAcHBAYICQwMDAQMCwUEBAkMCggFBAUEBgkLBgwICgsGBQUIBAUMCgkMCggMCQkHBAgMCwsIDAYGBAwJBQsMDAUFCgcECwUGCAYKCgUKCQwMBQoICQQKCQcEDAcFCwUICQsEBAcIDAoKCwgIBAwJDAYIBQgLBQsHBAgECgsGBgoHBgsGCgUECQsEDAYGBwQMBgcEBwQICAoLBwoHBgkHBgwICgkICgkFBgUGBAsJBQsJCgQKBgsJBwsMBQkICAYLCwgLCwYFDAUMBwUEBwwMBwwJBAkMBQkFBwsKDAoEBQkKBgwKCQkECAYKBggKBgUJCwcMCwoKBgkIBAYEBwYHDAYJCQoMCgQLCAwICAUGDAoEBgUEDAsIBQQKBQQFCgoJCAYGDAcMBwUHCQkIBAYICQQMBgYFCwYJBQoHDAwKCwYIBQoLDAoLDAkFBQcMCgULCgwLBgQFBQcJBwwHCQkECwYJBgUIBAwKBgcJBgoJDAgHBgQGBgoKBAYLDAoKCwkGBAoEBAwKBwkECgkHCgYEBwYEBQgLBAcHCAoLCQQKBgkLCgkMDAQEBAsKBgUHBgoLCQYJBQoKBwsHCgcICgYIBggGCgQMDAgMCQgGCwcGCQsMCQgFBQwFBQYGBwoMBQcMBQQLDAoLBwcFCwUMBwQHBgkKCwUJCQgKBgcMBwYFCAcLCgkFBgwMCAYFCwkKBAQFBgQIBgQLCQwGDAwEBgkLBwgMCQoKBwcHCAgLDAUKBAQHCgUFBAUKDAkFDAoEDAUHDAcGBAoJBwkJBwkLBgcEBwwLBwoGDAcFCAUJBAkHBgUKDAYJDAUKCAgKDAcMDAcGBQwFCQgIBwkIBwwJBgkECAkLDAYFBwsLBgcGBQcJCAYFDAQMBAoJCgYGBAcFCwYKCgwJBAsEBggLDAoMBggLBAsKBAkEBQgFBAkLCwsJBgQFCAgEBAwFCgcKCwgEBwYICQUKBgQGDAkJBwsICgwICAcJBQYEBQULCwUJCAYICAgGBgcKBQcHBAsECwoMCwgLBgoHCAwKBwkKDAcGCwQMBAULDAoGCgkFBggHBQcLCAgGCwkFBQwKDAkIBAkJBgYGBgoFBQYKBgoMBwoMCwsMCAgGCAsIBwsKCQgIBQcLCwQFCAwKCAQJCwoFCAcMBAkGDAgJDAwLDAcJCAgHBQkMBAoJBgQHDAUGBQULBgoLBgULBgoECQwGCgkLBgYHBgwHCQsLCAgJCgoHCQoICAUKCQQHBgYKBwsMBggHCQcLBggECQgLDAsLBgcHCAwMBAsEBQoLBAYKDAsLDAYLBAsKCwQJCggICgYJCgQFBwsJBAgKCQwLBwgKCwgMBwcLBAsIBAcFBwsIBAoEDAYGCQkJBAgJCwQIBgULCgoIDAgFBgcIBgoICAkKCwwHCAgLDAoIBgQMCAwHCAcFBAsHCAkLCwoHCQcKBAgHCgwIBwwIDAsHCggHCAgMDAkHBQYFCAkIBQgMBwUGBgwHBAQKCgUMDAgGBgYJBwsIBAwECQQGCAoLDAkMCwwHDAoICAQFBgsJCAQMBgYFBwUMCgsGCQkECQYGBgsIBwwMBAULCAoECAYFBQwHBwoFBgYJBggHBgsGCQoKBQYHCgUGCgoGBAYICgcECQUGBwkJCggKBQQLBAUJBAYKCwcGBAwJCQwECQgJCwgFBQgGBgsKBAgMBwQLCAUEBgwEBwsL",
          "dtype": "i1"
         },
         "xaxis": "x",
         "yaxis": "y"
        }
       ],
       "layout": {
        "barmode": "relative",
        "legend": {
         "tracegroupgap": 0
        },
        "template": {
         "data": {
          "bar": [
           {
            "error_x": {
             "color": "#2a3f5f"
            },
            "error_y": {
             "color": "#2a3f5f"
            },
            "marker": {
             "line": {
              "color": "#E5ECF6",
              "width": 0.5
             },
             "pattern": {
              "fillmode": "overlay",
              "size": 10,
              "solidity": 0.2
             }
            },
            "type": "bar"
           }
          ],
          "barpolar": [
           {
            "marker": {
             "line": {
              "color": "#E5ECF6",
              "width": 0.5
             },
             "pattern": {
              "fillmode": "overlay",
              "size": 10,
              "solidity": 0.2
             }
            },
            "type": "barpolar"
           }
          ],
          "carpet": [
           {
            "aaxis": {
             "endlinecolor": "#2a3f5f",
             "gridcolor": "white",
             "linecolor": "white",
             "minorgridcolor": "white",
             "startlinecolor": "#2a3f5f"
            },
            "baxis": {
             "endlinecolor": "#2a3f5f",
             "gridcolor": "white",
             "linecolor": "white",
             "minorgridcolor": "white",
             "startlinecolor": "#2a3f5f"
            },
            "type": "carpet"
           }
          ],
          "choropleth": [
           {
            "colorbar": {
             "outlinewidth": 0,
             "ticks": ""
            },
            "type": "choropleth"
           }
          ],
          "contour": [
           {
            "colorbar": {
             "outlinewidth": 0,
             "ticks": ""
            },
            "colorscale": [
             [
              0,
              "#0d0887"
             ],
             [
              0.1111111111111111,
              "#46039f"
             ],
             [
              0.2222222222222222,
              "#7201a8"
             ],
             [
              0.3333333333333333,
              "#9c179e"
             ],
             [
              0.4444444444444444,
              "#bd3786"
             ],
             [
              0.5555555555555556,
              "#d8576b"
             ],
             [
              0.6666666666666666,
              "#ed7953"
             ],
             [
              0.7777777777777778,
              "#fb9f3a"
             ],
             [
              0.8888888888888888,
              "#fdca26"
             ],
             [
              1,
              "#f0f921"
             ]
            ],
            "type": "contour"
           }
          ],
          "contourcarpet": [
           {
            "colorbar": {
             "outlinewidth": 0,
             "ticks": ""
            },
            "type": "contourcarpet"
           }
          ],
          "heatmap": [
           {
            "colorbar": {
             "outlinewidth": 0,
             "ticks": ""
            },
            "colorscale": [
             [
              0,
              "#0d0887"
             ],
             [
              0.1111111111111111,
              "#46039f"
             ],
             [
              0.2222222222222222,
              "#7201a8"
             ],
             [
              0.3333333333333333,
              "#9c179e"
             ],
             [
              0.4444444444444444,
              "#bd3786"
             ],
             [
              0.5555555555555556,
              "#d8576b"
             ],
             [
              0.6666666666666666,
              "#ed7953"
             ],
             [
              0.7777777777777778,
              "#fb9f3a"
             ],
             [
              0.8888888888888888,
              "#fdca26"
             ],
             [
              1,
              "#f0f921"
             ]
            ],
            "type": "heatmap"
           }
          ],
          "histogram": [
           {
            "marker": {
             "pattern": {
              "fillmode": "overlay",
              "size": 10,
              "solidity": 0.2
             }
            },
            "type": "histogram"
           }
          ],
          "histogram2d": [
           {
            "colorbar": {
             "outlinewidth": 0,
             "ticks": ""
            },
            "colorscale": [
             [
              0,
              "#0d0887"
             ],
             [
              0.1111111111111111,
              "#46039f"
             ],
             [
              0.2222222222222222,
              "#7201a8"
             ],
             [
              0.3333333333333333,
              "#9c179e"
             ],
             [
              0.4444444444444444,
              "#bd3786"
             ],
             [
              0.5555555555555556,
              "#d8576b"
             ],
             [
              0.6666666666666666,
              "#ed7953"
             ],
             [
              0.7777777777777778,
              "#fb9f3a"
             ],
             [
              0.8888888888888888,
              "#fdca26"
             ],
             [
              1,
              "#f0f921"
             ]
            ],
            "type": "histogram2d"
           }
          ],
          "histogram2dcontour": [
           {
            "colorbar": {
             "outlinewidth": 0,
             "ticks": ""
            },
            "colorscale": [
             [
              0,
              "#0d0887"
             ],
             [
              0.1111111111111111,
              "#46039f"
             ],
             [
              0.2222222222222222,
              "#7201a8"
             ],
             [
              0.3333333333333333,
              "#9c179e"
             ],
             [
              0.4444444444444444,
              "#bd3786"
             ],
             [
              0.5555555555555556,
              "#d8576b"
             ],
             [
              0.6666666666666666,
              "#ed7953"
             ],
             [
              0.7777777777777778,
              "#fb9f3a"
             ],
             [
              0.8888888888888888,
              "#fdca26"
             ],
             [
              1,
              "#f0f921"
             ]
            ],
            "type": "histogram2dcontour"
           }
          ],
          "mesh3d": [
           {
            "colorbar": {
             "outlinewidth": 0,
             "ticks": ""
            },
            "type": "mesh3d"
           }
          ],
          "parcoords": [
           {
            "line": {
             "colorbar": {
              "outlinewidth": 0,
              "ticks": ""
             }
            },
            "type": "parcoords"
           }
          ],
          "pie": [
           {
            "automargin": true,
            "type": "pie"
           }
          ],
          "scatter": [
           {
            "fillpattern": {
             "fillmode": "overlay",
             "size": 10,
             "solidity": 0.2
            },
            "type": "scatter"
           }
          ],
          "scatter3d": [
           {
            "line": {
             "colorbar": {
              "outlinewidth": 0,
              "ticks": ""
             }
            },
            "marker": {
             "colorbar": {
              "outlinewidth": 0,
              "ticks": ""
             }
            },
            "type": "scatter3d"
           }
          ],
          "scattercarpet": [
           {
            "marker": {
             "colorbar": {
              "outlinewidth": 0,
              "ticks": ""
             }
            },
            "type": "scattercarpet"
           }
          ],
          "scattergeo": [
           {
            "marker": {
             "colorbar": {
              "outlinewidth": 0,
              "ticks": ""
             }
            },
            "type": "scattergeo"
           }
          ],
          "scattergl": [
           {
            "marker": {
             "colorbar": {
              "outlinewidth": 0,
              "ticks": ""
             }
            },
            "type": "scattergl"
           }
          ],
          "scattermap": [
           {
            "marker": {
             "colorbar": {
              "outlinewidth": 0,
              "ticks": ""
             }
            },
            "type": "scattermap"
           }
          ],
          "scattermapbox": [
           {
            "marker": {
             "colorbar": {
              "outlinewidth": 0,
              "ticks": ""
             }
            },
            "type": "scattermapbox"
           }
          ],
          "scatterpolar": [
           {
            "marker": {
             "colorbar": {
              "outlinewidth": 0,
              "ticks": ""
             }
            },
            "type": "scatterpolar"
           }
          ],
          "scatterpolargl": [
           {
            "marker": {
             "colorbar": {
              "outlinewidth": 0,
              "ticks": ""
             }
            },
            "type": "scatterpolargl"
           }
          ],
          "scatterternary": [
           {
            "marker": {
             "colorbar": {
              "outlinewidth": 0,
              "ticks": ""
             }
            },
            "type": "scatterternary"
           }
          ],
          "surface": [
           {
            "colorbar": {
             "outlinewidth": 0,
             "ticks": ""
            },
            "colorscale": [
             [
              0,
              "#0d0887"
             ],
             [
              0.1111111111111111,
              "#46039f"
             ],
             [
              0.2222222222222222,
              "#7201a8"
             ],
             [
              0.3333333333333333,
              "#9c179e"
             ],
             [
              0.4444444444444444,
              "#bd3786"
             ],
             [
              0.5555555555555556,
              "#d8576b"
             ],
             [
              0.6666666666666666,
              "#ed7953"
             ],
             [
              0.7777777777777778,
              "#fb9f3a"
             ],
             [
              0.8888888888888888,
              "#fdca26"
             ],
             [
              1,
              "#f0f921"
             ]
            ],
            "type": "surface"
           }
          ],
          "table": [
           {
            "cells": {
             "fill": {
              "color": "#EBF0F8"
             },
             "line": {
              "color": "white"
             }
            },
            "header": {
             "fill": {
              "color": "#C8D4E3"
             },
             "line": {
              "color": "white"
             }
            },
            "type": "table"
           }
          ]
         },
         "layout": {
          "annotationdefaults": {
           "arrowcolor": "#2a3f5f",
           "arrowhead": 0,
           "arrowwidth": 1
          },
          "autotypenumbers": "strict",
          "coloraxis": {
           "colorbar": {
            "outlinewidth": 0,
            "ticks": ""
           }
          },
          "colorscale": {
           "diverging": [
            [
             0,
             "#8e0152"
            ],
            [
             0.1,
             "#c51b7d"
            ],
            [
             0.2,
             "#de77ae"
            ],
            [
             0.3,
             "#f1b6da"
            ],
            [
             0.4,
             "#fde0ef"
            ],
            [
             0.5,
             "#f7f7f7"
            ],
            [
             0.6,
             "#e6f5d0"
            ],
            [
             0.7,
             "#b8e186"
            ],
            [
             0.8,
             "#7fbc41"
            ],
            [
             0.9,
             "#4d9221"
            ],
            [
             1,
             "#276419"
            ]
           ],
           "sequential": [
            [
             0,
             "#0d0887"
            ],
            [
             0.1111111111111111,
             "#46039f"
            ],
            [
             0.2222222222222222,
             "#7201a8"
            ],
            [
             0.3333333333333333,
             "#9c179e"
            ],
            [
             0.4444444444444444,
             "#bd3786"
            ],
            [
             0.5555555555555556,
             "#d8576b"
            ],
            [
             0.6666666666666666,
             "#ed7953"
            ],
            [
             0.7777777777777778,
             "#fb9f3a"
            ],
            [
             0.8888888888888888,
             "#fdca26"
            ],
            [
             1,
             "#f0f921"
            ]
           ],
           "sequentialminus": [
            [
             0,
             "#0d0887"
            ],
            [
             0.1111111111111111,
             "#46039f"
            ],
            [
             0.2222222222222222,
             "#7201a8"
            ],
            [
             0.3333333333333333,
             "#9c179e"
            ],
            [
             0.4444444444444444,
             "#bd3786"
            ],
            [
             0.5555555555555556,
             "#d8576b"
            ],
            [
             0.6666666666666666,
             "#ed7953"
            ],
            [
             0.7777777777777778,
             "#fb9f3a"
            ],
            [
             0.8888888888888888,
             "#fdca26"
            ],
            [
             1,
             "#f0f921"
            ]
           ]
          },
          "colorway": [
           "#636efa",
           "#EF553B",
           "#00cc96",
           "#ab63fa",
           "#FFA15A",
           "#19d3f3",
           "#FF6692",
           "#B6E880",
           "#FF97FF",
           "#FECB52"
          ],
          "font": {
           "color": "#2a3f5f"
          },
          "geo": {
           "bgcolor": "white",
           "lakecolor": "white",
           "landcolor": "#E5ECF6",
           "showlakes": true,
           "showland": true,
           "subunitcolor": "white"
          },
          "hoverlabel": {
           "align": "left"
          },
          "hovermode": "closest",
          "mapbox": {
           "style": "light"
          },
          "paper_bgcolor": "white",
          "plot_bgcolor": "#E5ECF6",
          "polar": {
           "angularaxis": {
            "gridcolor": "white",
            "linecolor": "white",
            "ticks": ""
           },
           "bgcolor": "#E5ECF6",
           "radialaxis": {
            "gridcolor": "white",
            "linecolor": "white",
            "ticks": ""
           }
          },
          "scene": {
           "xaxis": {
            "backgroundcolor": "#E5ECF6",
            "gridcolor": "white",
            "gridwidth": 2,
            "linecolor": "white",
            "showbackground": true,
            "ticks": "",
            "zerolinecolor": "white"
           },
           "yaxis": {
            "backgroundcolor": "#E5ECF6",
            "gridcolor": "white",
            "gridwidth": 2,
            "linecolor": "white",
            "showbackground": true,
            "ticks": "",
            "zerolinecolor": "white"
           },
           "zaxis": {
            "backgroundcolor": "#E5ECF6",
            "gridcolor": "white",
            "gridwidth": 2,
            "linecolor": "white",
            "showbackground": true,
            "ticks": "",
            "zerolinecolor": "white"
           }
          },
          "shapedefaults": {
           "line": {
            "color": "#2a3f5f"
           }
          },
          "ternary": {
           "aaxis": {
            "gridcolor": "white",
            "linecolor": "white",
            "ticks": ""
           },
           "baxis": {
            "gridcolor": "white",
            "linecolor": "white",
            "ticks": ""
           },
           "bgcolor": "#E5ECF6",
           "caxis": {
            "gridcolor": "white",
            "linecolor": "white",
            "ticks": ""
           }
          },
          "title": {
           "x": 0.05
          },
          "xaxis": {
           "automargin": true,
           "gridcolor": "white",
           "linecolor": "white",
           "ticks": "",
           "title": {
            "standoff": 15
           },
           "zerolinecolor": "white",
           "zerolinewidth": 2
          },
          "yaxis": {
           "automargin": true,
           "gridcolor": "white",
           "linecolor": "white",
           "ticks": "",
           "title": {
            "standoff": 15
           },
           "zerolinecolor": "white",
           "zerolinewidth": 2
          }
         }
        },
        "title": {
         "text": "Sunlight (hours)"
        },
        "xaxis": {
         "anchor": "y",
         "domain": [
          0,
          1
         ],
         "title": {
          "text": "Sunlight (hours)"
         }
        },
        "yaxis": {
         "anchor": "x",
         "domain": [
          0,
          1
         ],
         "title": {
          "text": "count"
         }
        }
       }
      }
     },
     "metadata": {},
     "output_type": "display_data"
    },
    {
     "data": {
      "application/vnd.plotly.v1+json": {
       "config": {
        "plotlyServerURL": "https://plot.ly"
       },
       "data": [
        {
         "bingroup": "x",
         "hovertemplate": "Fertilizer (kg)=%{x}<br>count=%{y}<extra></extra>",
         "legendgroup": "",
         "marker": {
          "color": "#636efa",
          "pattern": {
           "shape": ""
          }
         },
         "name": "",
         "nbinsx": 100,
         "orientation": "v",
         "showlegend": false,
         "type": "histogram",
         "x": {
          "bdata": "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",
          "dtype": "i2"
         },
         "xaxis": "x",
         "yaxis": "y"
        }
       ],
       "layout": {
        "barmode": "relative",
        "legend": {
         "tracegroupgap": 0
        },
        "template": {
         "data": {
          "bar": [
           {
            "error_x": {
             "color": "#2a3f5f"
            },
            "error_y": {
             "color": "#2a3f5f"
            },
            "marker": {
             "line": {
              "color": "#E5ECF6",
              "width": 0.5
             },
             "pattern": {
              "fillmode": "overlay",
              "size": 10,
              "solidity": 0.2
             }
            },
            "type": "bar"
           }
          ],
          "barpolar": [
           {
            "marker": {
             "line": {
              "color": "#E5ECF6",
              "width": 0.5
             },
             "pattern": {
              "fillmode": "overlay",
              "size": 10,
              "solidity": 0.2
             }
            },
            "type": "barpolar"
           }
          ],
          "carpet": [
           {
            "aaxis": {
             "endlinecolor": "#2a3f5f",
             "gridcolor": "white",
             "linecolor": "white",
             "minorgridcolor": "white",
             "startlinecolor": "#2a3f5f"
            },
            "baxis": {
             "endlinecolor": "#2a3f5f",
             "gridcolor": "white",
             "linecolor": "white",
             "minorgridcolor": "white",
             "startlinecolor": "#2a3f5f"
            },
            "type": "carpet"
           }
          ],
          "choropleth": [
           {
            "colorbar": {
             "outlinewidth": 0,
             "ticks": ""
            },
            "type": "choropleth"
           }
          ],
          "contour": [
           {
            "colorbar": {
             "outlinewidth": 0,
             "ticks": ""
            },
            "colorscale": [
             [
              0,
              "#0d0887"
             ],
             [
              0.1111111111111111,
              "#46039f"
             ],
             [
              0.2222222222222222,
              "#7201a8"
             ],
             [
              0.3333333333333333,
              "#9c179e"
             ],
             [
              0.4444444444444444,
              "#bd3786"
             ],
             [
              0.5555555555555556,
              "#d8576b"
             ],
             [
              0.6666666666666666,
              "#ed7953"
             ],
             [
              0.7777777777777778,
              "#fb9f3a"
             ],
             [
              0.8888888888888888,
              "#fdca26"
             ],
             [
              1,
              "#f0f921"
             ]
            ],
            "type": "contour"
           }
          ],
          "contourcarpet": [
           {
            "colorbar": {
             "outlinewidth": 0,
             "ticks": ""
            },
            "type": "contourcarpet"
           }
          ],
          "heatmap": [
           {
            "colorbar": {
             "outlinewidth": 0,
             "ticks": ""
            },
            "colorscale": [
             [
              0,
              "#0d0887"
             ],
             [
              0.1111111111111111,
              "#46039f"
             ],
             [
              0.2222222222222222,
              "#7201a8"
             ],
             [
              0.3333333333333333,
              "#9c179e"
             ],
             [
              0.4444444444444444,
              "#bd3786"
             ],
             [
              0.5555555555555556,
              "#d8576b"
             ],
             [
              0.6666666666666666,
              "#ed7953"
             ],
             [
              0.7777777777777778,
              "#fb9f3a"
             ],
             [
              0.8888888888888888,
              "#fdca26"
             ],
             [
              1,
              "#f0f921"
             ]
            ],
            "type": "heatmap"
           }
          ],
          "histogram": [
           {
            "marker": {
             "pattern": {
              "fillmode": "overlay",
              "size": 10,
              "solidity": 0.2
             }
            },
            "type": "histogram"
           }
          ],
          "histogram2d": [
           {
            "colorbar": {
             "outlinewidth": 0,
             "ticks": ""
            },
            "colorscale": [
             [
              0,
              "#0d0887"
             ],
             [
              0.1111111111111111,
              "#46039f"
             ],
             [
              0.2222222222222222,
              "#7201a8"
             ],
             [
              0.3333333333333333,
              "#9c179e"
             ],
             [
              0.4444444444444444,
              "#bd3786"
             ],
             [
              0.5555555555555556,
              "#d8576b"
             ],
             [
              0.6666666666666666,
              "#ed7953"
             ],
             [
              0.7777777777777778,
              "#fb9f3a"
             ],
             [
              0.8888888888888888,
              "#fdca26"
             ],
             [
              1,
              "#f0f921"
             ]
            ],
            "type": "histogram2d"
           }
          ],
          "histogram2dcontour": [
           {
            "colorbar": {
             "outlinewidth": 0,
             "ticks": ""
            },
            "colorscale": [
             [
              0,
              "#0d0887"
             ],
             [
              0.1111111111111111,
              "#46039f"
             ],
             [
              0.2222222222222222,
              "#7201a8"
             ],
             [
              0.3333333333333333,
              "#9c179e"
             ],
             [
              0.4444444444444444,
              "#bd3786"
             ],
             [
              0.5555555555555556,
              "#d8576b"
             ],
             [
              0.6666666666666666,
              "#ed7953"
             ],
             [
              0.7777777777777778,
              "#fb9f3a"
             ],
             [
              0.8888888888888888,
              "#fdca26"
             ],
             [
              1,
              "#f0f921"
             ]
            ],
            "type": "histogram2dcontour"
           }
          ],
          "mesh3d": [
           {
            "colorbar": {
             "outlinewidth": 0,
             "ticks": ""
            },
            "type": "mesh3d"
           }
          ],
          "parcoords": [
           {
            "line": {
             "colorbar": {
              "outlinewidth": 0,
              "ticks": ""
             }
            },
            "type": "parcoords"
           }
          ],
          "pie": [
           {
            "automargin": true,
            "type": "pie"
           }
          ],
          "scatter": [
           {
            "fillpattern": {
             "fillmode": "overlay",
             "size": 10,
             "solidity": 0.2
            },
            "type": "scatter"
           }
          ],
          "scatter3d": [
           {
            "line": {
             "colorbar": {
              "outlinewidth": 0,
              "ticks": ""
             }
            },
            "marker": {
             "colorbar": {
              "outlinewidth": 0,
              "ticks": ""
             }
            },
            "type": "scatter3d"
           }
          ],
          "scattercarpet": [
           {
            "marker": {
             "colorbar": {
              "outlinewidth": 0,
              "ticks": ""
             }
            },
            "type": "scattercarpet"
           }
          ],
          "scattergeo": [
           {
            "marker": {
             "colorbar": {
              "outlinewidth": 0,
              "ticks": ""
             }
            },
            "type": "scattergeo"
           }
          ],
          "scattergl": [
           {
            "marker": {
             "colorbar": {
              "outlinewidth": 0,
              "ticks": ""
             }
            },
            "type": "scattergl"
           }
          ],
          "scattermap": [
           {
            "marker": {
             "colorbar": {
              "outlinewidth": 0,
              "ticks": ""
             }
            },
            "type": "scattermap"
           }
          ],
          "scattermapbox": [
           {
            "marker": {
             "colorbar": {
              "outlinewidth": 0,
              "ticks": ""
             }
            },
            "type": "scattermapbox"
           }
          ],
          "scatterpolar": [
           {
            "marker": {
             "colorbar": {
              "outlinewidth": 0,
              "ticks": ""
             }
            },
            "type": "scatterpolar"
           }
          ],
          "scatterpolargl": [
           {
            "marker": {
             "colorbar": {
              "outlinewidth": 0,
              "ticks": ""
             }
            },
            "type": "scatterpolargl"
           }
          ],
          "scatterternary": [
           {
            "marker": {
             "colorbar": {
              "outlinewidth": 0,
              "ticks": ""
             }
            },
            "type": "scatterternary"
           }
          ],
          "surface": [
           {
            "colorbar": {
             "outlinewidth": 0,
             "ticks": ""
            },
            "colorscale": [
             [
              0,
              "#0d0887"
             ],
             [
              0.1111111111111111,
              "#46039f"
             ],
             [
              0.2222222222222222,
              "#7201a8"
             ],
             [
              0.3333333333333333,
              "#9c179e"
             ],
             [
              0.4444444444444444,
              "#bd3786"
             ],
             [
              0.5555555555555556,
              "#d8576b"
             ],
             [
              0.6666666666666666,
              "#ed7953"
             ],
             [
              0.7777777777777778,
              "#fb9f3a"
             ],
             [
              0.8888888888888888,
              "#fdca26"
             ],
             [
              1,
              "#f0f921"
             ]
            ],
            "type": "surface"
           }
          ],
          "table": [
           {
            "cells": {
             "fill": {
              "color": "#EBF0F8"
             },
             "line": {
              "color": "white"
             }
            },
            "header": {
             "fill": {
              "color": "#C8D4E3"
             },
             "line": {
              "color": "white"
             }
            },
            "type": "table"
           }
          ]
         },
         "layout": {
          "annotationdefaults": {
           "arrowcolor": "#2a3f5f",
           "arrowhead": 0,
           "arrowwidth": 1
          },
          "autotypenumbers": "strict",
          "coloraxis": {
           "colorbar": {
            "outlinewidth": 0,
            "ticks": ""
           }
          },
          "colorscale": {
           "diverging": [
            [
             0,
             "#8e0152"
            ],
            [
             0.1,
             "#c51b7d"
            ],
            [
             0.2,
             "#de77ae"
            ],
            [
             0.3,
             "#f1b6da"
            ],
            [
             0.4,
             "#fde0ef"
            ],
            [
             0.5,
             "#f7f7f7"
            ],
            [
             0.6,
             "#e6f5d0"
            ],
            [
             0.7,
             "#b8e186"
            ],
            [
             0.8,
             "#7fbc41"
            ],
            [
             0.9,
             "#4d9221"
            ],
            [
             1,
             "#276419"
            ]
           ],
           "sequential": [
            [
             0,
             "#0d0887"
            ],
            [
             0.1111111111111111,
             "#46039f"
            ],
            [
             0.2222222222222222,
             "#7201a8"
            ],
            [
             0.3333333333333333,
             "#9c179e"
            ],
            [
             0.4444444444444444,
             "#bd3786"
            ],
            [
             0.5555555555555556,
             "#d8576b"
            ],
            [
             0.6666666666666666,
             "#ed7953"
            ],
            [
             0.7777777777777778,
             "#fb9f3a"
            ],
            [
             0.8888888888888888,
             "#fdca26"
            ],
            [
             1,
             "#f0f921"
            ]
           ],
           "sequentialminus": [
            [
             0,
             "#0d0887"
            ],
            [
             0.1111111111111111,
             "#46039f"
            ],
            [
             0.2222222222222222,
             "#7201a8"
            ],
            [
             0.3333333333333333,
             "#9c179e"
            ],
            [
             0.4444444444444444,
             "#bd3786"
            ],
            [
             0.5555555555555556,
             "#d8576b"
            ],
            [
             0.6666666666666666,
             "#ed7953"
            ],
            [
             0.7777777777777778,
             "#fb9f3a"
            ],
            [
             0.8888888888888888,
             "#fdca26"
            ],
            [
             1,
             "#f0f921"
            ]
           ]
          },
          "colorway": [
           "#636efa",
           "#EF553B",
           "#00cc96",
           "#ab63fa",
           "#FFA15A",
           "#19d3f3",
           "#FF6692",
           "#B6E880",
           "#FF97FF",
           "#FECB52"
          ],
          "font": {
           "color": "#2a3f5f"
          },
          "geo": {
           "bgcolor": "white",
           "lakecolor": "white",
           "landcolor": "#E5ECF6",
           "showlakes": true,
           "showland": true,
           "subunitcolor": "white"
          },
          "hoverlabel": {
           "align": "left"
          },
          "hovermode": "closest",
          "mapbox": {
           "style": "light"
          },
          "paper_bgcolor": "white",
          "plot_bgcolor": "#E5ECF6",
          "polar": {
           "angularaxis": {
            "gridcolor": "white",
            "linecolor": "white",
            "ticks": ""
           },
           "bgcolor": "#E5ECF6",
           "radialaxis": {
            "gridcolor": "white",
            "linecolor": "white",
            "ticks": ""
           }
          },
          "scene": {
           "xaxis": {
            "backgroundcolor": "#E5ECF6",
            "gridcolor": "white",
            "gridwidth": 2,
            "linecolor": "white",
            "showbackground": true,
            "ticks": "",
            "zerolinecolor": "white"
           },
           "yaxis": {
            "backgroundcolor": "#E5ECF6",
            "gridcolor": "white",
            "gridwidth": 2,
            "linecolor": "white",
            "showbackground": true,
            "ticks": "",
            "zerolinecolor": "white"
           },
           "zaxis": {
            "backgroundcolor": "#E5ECF6",
            "gridcolor": "white",
            "gridwidth": 2,
            "linecolor": "white",
            "showbackground": true,
            "ticks": "",
            "zerolinecolor": "white"
           }
          },
          "shapedefaults": {
           "line": {
            "color": "#2a3f5f"
           }
          },
          "ternary": {
           "aaxis": {
            "gridcolor": "white",
            "linecolor": "white",
            "ticks": ""
           },
           "baxis": {
            "gridcolor": "white",
            "linecolor": "white",
            "ticks": ""
           },
           "bgcolor": "#E5ECF6",
           "caxis": {
            "gridcolor": "white",
            "linecolor": "white",
            "ticks": ""
           }
          },
          "title": {
           "x": 0.05
          },
          "xaxis": {
           "automargin": true,
           "gridcolor": "white",
           "linecolor": "white",
           "ticks": "",
           "title": {
            "standoff": 15
           },
           "zerolinecolor": "white",
           "zerolinewidth": 2
          },
          "yaxis": {
           "automargin": true,
           "gridcolor": "white",
           "linecolor": "white",
           "ticks": "",
           "title": {
            "standoff": 15
           },
           "zerolinecolor": "white",
           "zerolinewidth": 2
          }
         }
        },
        "title": {
         "text": "Fertilizer (kg)"
        },
        "xaxis": {
         "anchor": "y",
         "domain": [
          0,
          1
         ],
         "title": {
          "text": "Fertilizer (kg)"
         }
        },
        "yaxis": {
         "anchor": "x",
         "domain": [
          0,
          1
         ],
         "title": {
          "text": "count"
         }
        }
       }
      }
     },
     "metadata": {},
     "output_type": "display_data"
    },
    {
     "data": {
      "application/vnd.plotly.v1+json": {
       "config": {
        "plotlyServerURL": "https://plot.ly"
       },
       "data": [
        {
         "bingroup": "x",
         "hovertemplate": "Crop Yield (tons/ha)=%{x}<br>count=%{y}<extra></extra>",
         "legendgroup": "",
         "marker": {
          "color": "#636efa",
          "pattern": {
           "shape": ""
          }
         },
         "name": "",
         "nbinsx": 100,
         "orientation": "v",
         "showlegend": false,
         "type": "histogram",
         "x": {
          "bdata": "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",
          "dtype": "i2"
         },
         "xaxis": "x",
         "yaxis": "y"
        }
       ],
       "layout": {
        "barmode": "relative",
        "legend": {
         "tracegroupgap": 0
        },
        "template": {
         "data": {
          "bar": [
           {
            "error_x": {
             "color": "#2a3f5f"
            },
            "error_y": {
             "color": "#2a3f5f"
            },
            "marker": {
             "line": {
              "color": "#E5ECF6",
              "width": 0.5
             },
             "pattern": {
              "fillmode": "overlay",
              "size": 10,
              "solidity": 0.2
             }
            },
            "type": "bar"
           }
          ],
          "barpolar": [
           {
            "marker": {
             "line": {
              "color": "#E5ECF6",
              "width": 0.5
             },
             "pattern": {
              "fillmode": "overlay",
              "size": 10,
              "solidity": 0.2
             }
            },
            "type": "barpolar"
           }
          ],
          "carpet": [
           {
            "aaxis": {
             "endlinecolor": "#2a3f5f",
             "gridcolor": "white",
             "linecolor": "white",
             "minorgridcolor": "white",
             "startlinecolor": "#2a3f5f"
            },
            "baxis": {
             "endlinecolor": "#2a3f5f",
             "gridcolor": "white",
             "linecolor": "white",
             "minorgridcolor": "white",
             "startlinecolor": "#2a3f5f"
            },
            "type": "carpet"
           }
          ],
          "choropleth": [
           {
            "colorbar": {
             "outlinewidth": 0,
             "ticks": ""
            },
            "type": "choropleth"
           }
          ],
          "contour": [
           {
            "colorbar": {
             "outlinewidth": 0,
             "ticks": ""
            },
            "colorscale": [
             [
              0,
              "#0d0887"
             ],
             [
              0.1111111111111111,
              "#46039f"
             ],
             [
              0.2222222222222222,
              "#7201a8"
             ],
             [
              0.3333333333333333,
              "#9c179e"
             ],
             [
              0.4444444444444444,
              "#bd3786"
             ],
             [
              0.5555555555555556,
              "#d8576b"
             ],
             [
              0.6666666666666666,
              "#ed7953"
             ],
             [
              0.7777777777777778,
              "#fb9f3a"
             ],
             [
              0.8888888888888888,
              "#fdca26"
             ],
             [
              1,
              "#f0f921"
             ]
            ],
            "type": "contour"
           }
          ],
          "contourcarpet": [
           {
            "colorbar": {
             "outlinewidth": 0,
             "ticks": ""
            },
            "type": "contourcarpet"
           }
          ],
          "heatmap": [
           {
            "colorbar": {
             "outlinewidth": 0,
             "ticks": ""
            },
            "colorscale": [
             [
              0,
              "#0d0887"
             ],
             [
              0.1111111111111111,
              "#46039f"
             ],
             [
              0.2222222222222222,
              "#7201a8"
             ],
             [
              0.3333333333333333,
              "#9c179e"
             ],
             [
              0.4444444444444444,
              "#bd3786"
             ],
             [
              0.5555555555555556,
              "#d8576b"
             ],
             [
              0.6666666666666666,
              "#ed7953"
             ],
             [
              0.7777777777777778,
              "#fb9f3a"
             ],
             [
              0.8888888888888888,
              "#fdca26"
             ],
             [
              1,
              "#f0f921"
             ]
            ],
            "type": "heatmap"
           }
          ],
          "histogram": [
           {
            "marker": {
             "pattern": {
              "fillmode": "overlay",
              "size": 10,
              "solidity": 0.2
             }
            },
            "type": "histogram"
           }
          ],
          "histogram2d": [
           {
            "colorbar": {
             "outlinewidth": 0,
             "ticks": ""
            },
            "colorscale": [
             [
              0,
              "#0d0887"
             ],
             [
              0.1111111111111111,
              "#46039f"
             ],
             [
              0.2222222222222222,
              "#7201a8"
             ],
             [
              0.3333333333333333,
              "#9c179e"
             ],
             [
              0.4444444444444444,
              "#bd3786"
             ],
             [
              0.5555555555555556,
              "#d8576b"
             ],
             [
              0.6666666666666666,
              "#ed7953"
             ],
             [
              0.7777777777777778,
              "#fb9f3a"
             ],
             [
              0.8888888888888888,
              "#fdca26"
             ],
             [
              1,
              "#f0f921"
             ]
            ],
            "type": "histogram2d"
           }
          ],
          "histogram2dcontour": [
           {
            "colorbar": {
             "outlinewidth": 0,
             "ticks": ""
            },
            "colorscale": [
             [
              0,
              "#0d0887"
             ],
             [
              0.1111111111111111,
              "#46039f"
             ],
             [
              0.2222222222222222,
              "#7201a8"
             ],
             [
              0.3333333333333333,
              "#9c179e"
             ],
             [
              0.4444444444444444,
              "#bd3786"
             ],
             [
              0.5555555555555556,
              "#d8576b"
             ],
             [
              0.6666666666666666,
              "#ed7953"
             ],
             [
              0.7777777777777778,
              "#fb9f3a"
             ],
             [
              0.8888888888888888,
              "#fdca26"
             ],
             [
              1,
              "#f0f921"
             ]
            ],
            "type": "histogram2dcontour"
           }
          ],
          "mesh3d": [
           {
            "colorbar": {
             "outlinewidth": 0,
             "ticks": ""
            },
            "type": "mesh3d"
           }
          ],
          "parcoords": [
           {
            "line": {
             "colorbar": {
              "outlinewidth": 0,
              "ticks": ""
             }
            },
            "type": "parcoords"
           }
          ],
          "pie": [
           {
            "automargin": true,
            "type": "pie"
           }
          ],
          "scatter": [
           {
            "fillpattern": {
             "fillmode": "overlay",
             "size": 10,
             "solidity": 0.2
            },
            "type": "scatter"
           }
          ],
          "scatter3d": [
           {
            "line": {
             "colorbar": {
              "outlinewidth": 0,
              "ticks": ""
             }
            },
            "marker": {
             "colorbar": {
              "outlinewidth": 0,
              "ticks": ""
             }
            },
            "type": "scatter3d"
           }
          ],
          "scattercarpet": [
           {
            "marker": {
             "colorbar": {
              "outlinewidth": 0,
              "ticks": ""
             }
            },
            "type": "scattercarpet"
           }
          ],
          "scattergeo": [
           {
            "marker": {
             "colorbar": {
              "outlinewidth": 0,
              "ticks": ""
             }
            },
            "type": "scattergeo"
           }
          ],
          "scattergl": [
           {
            "marker": {
             "colorbar": {
              "outlinewidth": 0,
              "ticks": ""
             }
            },
            "type": "scattergl"
           }
          ],
          "scattermap": [
           {
            "marker": {
             "colorbar": {
              "outlinewidth": 0,
              "ticks": ""
             }
            },
            "type": "scattermap"
           }
          ],
          "scattermapbox": [
           {
            "marker": {
             "colorbar": {
              "outlinewidth": 0,
              "ticks": ""
             }
            },
            "type": "scattermapbox"
           }
          ],
          "scatterpolar": [
           {
            "marker": {
             "colorbar": {
              "outlinewidth": 0,
              "ticks": ""
             }
            },
            "type": "scatterpolar"
           }
          ],
          "scatterpolargl": [
           {
            "marker": {
             "colorbar": {
              "outlinewidth": 0,
              "ticks": ""
             }
            },
            "type": "scatterpolargl"
           }
          ],
          "scatterternary": [
           {
            "marker": {
             "colorbar": {
              "outlinewidth": 0,
              "ticks": ""
             }
            },
            "type": "scatterternary"
           }
          ],
          "surface": [
           {
            "colorbar": {
             "outlinewidth": 0,
             "ticks": ""
            },
            "colorscale": [
             [
              0,
              "#0d0887"
             ],
             [
              0.1111111111111111,
              "#46039f"
             ],
             [
              0.2222222222222222,
              "#7201a8"
             ],
             [
              0.3333333333333333,
              "#9c179e"
             ],
             [
              0.4444444444444444,
              "#bd3786"
             ],
             [
              0.5555555555555556,
              "#d8576b"
             ],
             [
              0.6666666666666666,
              "#ed7953"
             ],
             [
              0.7777777777777778,
              "#fb9f3a"
             ],
             [
              0.8888888888888888,
              "#fdca26"
             ],
             [
              1,
              "#f0f921"
             ]
            ],
            "type": "surface"
           }
          ],
          "table": [
           {
            "cells": {
             "fill": {
              "color": "#EBF0F8"
             },
             "line": {
              "color": "white"
             }
            },
            "header": {
             "fill": {
              "color": "#C8D4E3"
             },
             "line": {
              "color": "white"
             }
            },
            "type": "table"
           }
          ]
         },
         "layout": {
          "annotationdefaults": {
           "arrowcolor": "#2a3f5f",
           "arrowhead": 0,
           "arrowwidth": 1
          },
          "autotypenumbers": "strict",
          "coloraxis": {
           "colorbar": {
            "outlinewidth": 0,
            "ticks": ""
           }
          },
          "colorscale": {
           "diverging": [
            [
             0,
             "#8e0152"
            ],
            [
             0.1,
             "#c51b7d"
            ],
            [
             0.2,
             "#de77ae"
            ],
            [
             0.3,
             "#f1b6da"
            ],
            [
             0.4,
             "#fde0ef"
            ],
            [
             0.5,
             "#f7f7f7"
            ],
            [
             0.6,
             "#e6f5d0"
            ],
            [
             0.7,
             "#b8e186"
            ],
            [
             0.8,
             "#7fbc41"
            ],
            [
             0.9,
             "#4d9221"
            ],
            [
             1,
             "#276419"
            ]
           ],
           "sequential": [
            [
             0,
             "#0d0887"
            ],
            [
             0.1111111111111111,
             "#46039f"
            ],
            [
             0.2222222222222222,
             "#7201a8"
            ],
            [
             0.3333333333333333,
             "#9c179e"
            ],
            [
             0.4444444444444444,
             "#bd3786"
            ],
            [
             0.5555555555555556,
             "#d8576b"
            ],
            [
             0.6666666666666666,
             "#ed7953"
            ],
            [
             0.7777777777777778,
             "#fb9f3a"
            ],
            [
             0.8888888888888888,
             "#fdca26"
            ],
            [
             1,
             "#f0f921"
            ]
           ],
           "sequentialminus": [
            [
             0,
             "#0d0887"
            ],
            [
             0.1111111111111111,
             "#46039f"
            ],
            [
             0.2222222222222222,
             "#7201a8"
            ],
            [
             0.3333333333333333,
             "#9c179e"
            ],
            [
             0.4444444444444444,
             "#bd3786"
            ],
            [
             0.5555555555555556,
             "#d8576b"
            ],
            [
             0.6666666666666666,
             "#ed7953"
            ],
            [
             0.7777777777777778,
             "#fb9f3a"
            ],
            [
             0.8888888888888888,
             "#fdca26"
            ],
            [
             1,
             "#f0f921"
            ]
           ]
          },
          "colorway": [
           "#636efa",
           "#EF553B",
           "#00cc96",
           "#ab63fa",
           "#FFA15A",
           "#19d3f3",
           "#FF6692",
           "#B6E880",
           "#FF97FF",
           "#FECB52"
          ],
          "font": {
           "color": "#2a3f5f"
          },
          "geo": {
           "bgcolor": "white",
           "lakecolor": "white",
           "landcolor": "#E5ECF6",
           "showlakes": true,
           "showland": true,
           "subunitcolor": "white"
          },
          "hoverlabel": {
           "align": "left"
          },
          "hovermode": "closest",
          "mapbox": {
           "style": "light"
          },
          "paper_bgcolor": "white",
          "plot_bgcolor": "#E5ECF6",
          "polar": {
           "angularaxis": {
            "gridcolor": "white",
            "linecolor": "white",
            "ticks": ""
           },
           "bgcolor": "#E5ECF6",
           "radialaxis": {
            "gridcolor": "white",
            "linecolor": "white",
            "ticks": ""
           }
          },
          "scene": {
           "xaxis": {
            "backgroundcolor": "#E5ECF6",
            "gridcolor": "white",
            "gridwidth": 2,
            "linecolor": "white",
            "showbackground": true,
            "ticks": "",
            "zerolinecolor": "white"
           },
           "yaxis": {
            "backgroundcolor": "#E5ECF6",
            "gridcolor": "white",
            "gridwidth": 2,
            "linecolor": "white",
            "showbackground": true,
            "ticks": "",
            "zerolinecolor": "white"
           },
           "zaxis": {
            "backgroundcolor": "#E5ECF6",
            "gridcolor": "white",
            "gridwidth": 2,
            "linecolor": "white",
            "showbackground": true,
            "ticks": "",
            "zerolinecolor": "white"
           }
          },
          "shapedefaults": {
           "line": {
            "color": "#2a3f5f"
           }
          },
          "ternary": {
           "aaxis": {
            "gridcolor": "white",
            "linecolor": "white",
            "ticks": ""
           },
           "baxis": {
            "gridcolor": "white",
            "linecolor": "white",
            "ticks": ""
           },
           "bgcolor": "#E5ECF6",
           "caxis": {
            "gridcolor": "white",
            "linecolor": "white",
            "ticks": ""
           }
          },
          "title": {
           "x": 0.05
          },
          "xaxis": {
           "automargin": true,
           "gridcolor": "white",
           "linecolor": "white",
           "ticks": "",
           "title": {
            "standoff": 15
           },
           "zerolinecolor": "white",
           "zerolinewidth": 2
          },
          "yaxis": {
           "automargin": true,
           "gridcolor": "white",
           "linecolor": "white",
           "ticks": "",
           "title": {
            "standoff": 15
           },
           "zerolinecolor": "white",
           "zerolinewidth": 2
          }
         }
        },
        "title": {
         "text": "Distribution of Crop Yield (tons per hectare)"
        },
        "xaxis": {
         "anchor": "y",
         "domain": [
          0,
          1
         ],
         "title": {
          "text": "Crop Yield (tons/ha)"
         }
        },
        "yaxis": {
         "anchor": "x",
         "domain": [
          0,
          1
         ],
         "title": {
          "text": "count"
         }
        }
       }
      }
     },
     "metadata": {},
     "output_type": "display_data"
    }
   ],
   "source": [
    "import plotly.express as px\n",
    "\n",
    "# Univariate Analysis\n",
    "\n",
    "# 1. Rainfall distribution\n",
    "fig_rainfall = px.histogram(\n",
    "    df,\n",
    "    x='rainfall_mm',\n",
    "    nbins=100,\n",
    "    title='Distribution of Rainfall (mm)',\n",
    "    labels={'rainfall_mm': 'Rainfall (mm)'}\n",
    ")\n",
    "\n",
    "# 2. Soil quality index\n",
    "fig_soil_quality = px.histogram(\n",
    "    df,\n",
    "    x='soil_quality_index',\n",
    "    nbins=100,\n",
    "    title='Soil Quality Index (1-10)',\n",
    "    labels={'soil_quality_index': 'Soil Quality Index (1-10)'}\n",
    ")\n",
    "\n",
    "# 3. Farm size\n",
    "fig_farm_size_hectares = px.histogram(\n",
    "    df,\n",
    "    x='farm_size_hectares',\n",
    "    nbins=100,\n",
    "    title='Farm size (hectares)',\n",
    "    labels={'farm_size_hectares': 'Farm size (hectares)'}\n",
    ")\n",
    "\n",
    "# 4. Sunlight hours\n",
    "fig_sunlight_hours = px.histogram(\n",
    "    df,\n",
    "    x='sunlight_hours',\n",
    "    nbins=100,\n",
    "    title='Sunlight (hours)',\n",
    "    labels={'sunlight_hours': 'Sunlight (hours)'}\n",
    ")\n",
    "\n",
    "# 5. Fertilizer\n",
    "fig_fertilizer_kg = px.histogram(\n",
    "    df,\n",
    "    x='fertilizer_kg',\n",
    "    nbins=100,\n",
    "    title='Fertilizer (kg)',\n",
    "    labels={'fertilizer_kg': 'Fertilizer (kg)'}\n",
    ")\n",
    "\n",
    "# 6. Crop yield distribution\n",
    "fig_crop_yield = px.histogram(\n",
    "    df,\n",
    "    x='crop_yield',\n",
    "    nbins=100,\n",
    "    title='Distribution of Crop Yield (tons per hectare)',\n",
    "    labels={'crop_yield': 'Crop Yield (tons/ha)'}\n",
    ")\n",
    "\n",
    "import plotly.io as pio\n",
    "# VS Code works best with this renderer:\n",
    "pio.renderers.default = \"vscode\"      # or \"notebook_connected\" if not in VS Code\n",
    "\n",
    "fig_rainfall.show()\n",
    "fig_soil_quality.show()\n",
    "fig_farm_size_hectares.show()\n",
    "fig_sunlight_hours.show()\n",
    "fig_fertilizer_kg.show()\n",
    "fig_crop_yield.show()"
   ]
  },
  {
   "cell_type": "markdown",
   "id": "b4344f62",
   "metadata": {},
   "source": [
    "### Univariate Analysis Insights\n",
    "\n",
    "After plotting the distributions for each variable, a few interesting patterns emerged:\n",
    "\n",
    "1. **Rainfall (mm):**  \n",
    "   The distribution of rainfall is relatively uniform across the range (500–2000 mm). This balance ensures that the dataset captures diverse weather conditions without bias toward dry or wet climates.\n",
    "\n",
    "2. **Soil Quality Index (1–10):**  \n",
    "   Soil quality is discrete and only takes integer values between 1 and 10. The distribution is fairly even across categories, confirming it was designed as an ordinal variable rather than continuous.\n",
    "\n",
    "3. **Farm Size (hectares):**  \n",
    "   Farm sizes (10–1000 hectares) are spread quite evenly across the range. Unlike real-world data (where smallholder farms are more common), this simulated dataset avoids skewness, providing a balanced representation.\n",
    "\n",
    "4. **Sunlight Hours (4–12 hours):**  \n",
    "   Similar to soil quality, sunlight hours are captured as discrete integers. The values are evenly distributed across the range, meaning the dataset covers farms with both low and high sunlight exposure.\n",
    "\n",
    "5. **Fertilizer Usage (kg):**  \n",
    "   Fertilizer use (100–3000 kg) shows a mostly uniform spread but with slight peaks in certain ranges. This may indicate clustering around common farming practices or thresholds.\n",
    "\n",
    "6. **Crop Yield (tons/ha):**  \n",
    "   Crop yield follows a somewhat bell-shaped distribution but with multiple peaks (multimodal). This suggests the presence of subgroups in the data—perhaps high-yield and low-yield farms—driven by combinations of environmental and input factors.\n",
    "\n",
    "---\n",
    "\n",
    "**Key Takeaway:**  \n",
    "While most variables are evenly distributed (likely due to the simulated nature of the dataset), the **multimodal pattern in crop yield** is especially interesting and hints at underlying factors that segment farms into distinct yield categories.\n"
   ]
  },
  {
   "cell_type": "markdown",
   "id": "1cc07e3f",
   "metadata": {},
   "source": [
    "### Bivariate Analysis:"
   ]
  },
  {
   "cell_type": "code",
   "execution_count": 4,
   "id": "2af28880",
   "metadata": {},
   "outputs": [
    {
     "data": {
      "application/vnd.plotly.v1+json": {
       "config": {
        "plotlyServerURL": "https://plot.ly"
       },
       "data": [
        {
         "hovertemplate": "Rainfall (mm)=%{x}<br>Crop Yield (tons/ha)=%{y}<extra></extra>",
         "legendgroup": "",
         "marker": {
          "color": "#636efa",
          "opacity": 0.6,
          "symbol": "circle"
         },
         "mode": "markers",
         "name": "",
         "showlegend": false,
         "type": "scattergl",
         "x": {
          "bdata": "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",
          "dtype": "i2"
         },
         "xaxis": "x",
         "y": {
          "bdata": "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",
          "dtype": "i2"
         },
         "yaxis": "y"
        }
       ],
       "layout": {
        "legend": {
         "tracegroupgap": 0
        },
        "template": {
         "data": {
          "bar": [
           {
            "error_x": {
             "color": "#2a3f5f"
            },
            "error_y": {
             "color": "#2a3f5f"
            },
            "marker": {
             "line": {
              "color": "#E5ECF6",
              "width": 0.5
             },
             "pattern": {
              "fillmode": "overlay",
              "size": 10,
              "solidity": 0.2
             }
            },
            "type": "bar"
           }
          ],
          "barpolar": [
           {
            "marker": {
             "line": {
              "color": "#E5ECF6",
              "width": 0.5
             },
             "pattern": {
              "fillmode": "overlay",
              "size": 10,
              "solidity": 0.2
             }
            },
            "type": "barpolar"
           }
          ],
          "carpet": [
           {
            "aaxis": {
             "endlinecolor": "#2a3f5f",
             "gridcolor": "white",
             "linecolor": "white",
             "minorgridcolor": "white",
             "startlinecolor": "#2a3f5f"
            },
            "baxis": {
             "endlinecolor": "#2a3f5f",
             "gridcolor": "white",
             "linecolor": "white",
             "minorgridcolor": "white",
             "startlinecolor": "#2a3f5f"
            },
            "type": "carpet"
           }
          ],
          "choropleth": [
           {
            "colorbar": {
             "outlinewidth": 0,
             "ticks": ""
            },
            "type": "choropleth"
           }
          ],
          "contour": [
           {
            "colorbar": {
             "outlinewidth": 0,
             "ticks": ""
            },
            "colorscale": [
             [
              0,
              "#0d0887"
             ],
             [
              0.1111111111111111,
              "#46039f"
             ],
             [
              0.2222222222222222,
              "#7201a8"
             ],
             [
              0.3333333333333333,
              "#9c179e"
             ],
             [
              0.4444444444444444,
              "#bd3786"
             ],
             [
              0.5555555555555556,
              "#d8576b"
             ],
             [
              0.6666666666666666,
              "#ed7953"
             ],
             [
              0.7777777777777778,
              "#fb9f3a"
             ],
             [
              0.8888888888888888,
              "#fdca26"
             ],
             [
              1,
              "#f0f921"
             ]
            ],
            "type": "contour"
           }
          ],
          "contourcarpet": [
           {
            "colorbar": {
             "outlinewidth": 0,
             "ticks": ""
            },
            "type": "contourcarpet"
           }
          ],
          "heatmap": [
           {
            "colorbar": {
             "outlinewidth": 0,
             "ticks": ""
            },
            "colorscale": [
             [
              0,
              "#0d0887"
             ],
             [
              0.1111111111111111,
              "#46039f"
             ],
             [
              0.2222222222222222,
              "#7201a8"
             ],
             [
              0.3333333333333333,
              "#9c179e"
             ],
             [
              0.4444444444444444,
              "#bd3786"
             ],
             [
              0.5555555555555556,
              "#d8576b"
             ],
             [
              0.6666666666666666,
              "#ed7953"
             ],
             [
              0.7777777777777778,
              "#fb9f3a"
             ],
             [
              0.8888888888888888,
              "#fdca26"
             ],
             [
              1,
              "#f0f921"
             ]
            ],
            "type": "heatmap"
           }
          ],
          "histogram": [
           {
            "marker": {
             "pattern": {
              "fillmode": "overlay",
              "size": 10,
              "solidity": 0.2
             }
            },
            "type": "histogram"
           }
          ],
          "histogram2d": [
           {
            "colorbar": {
             "outlinewidth": 0,
             "ticks": ""
            },
            "colorscale": [
             [
              0,
              "#0d0887"
             ],
             [
              0.1111111111111111,
              "#46039f"
             ],
             [
              0.2222222222222222,
              "#7201a8"
             ],
             [
              0.3333333333333333,
              "#9c179e"
             ],
             [
              0.4444444444444444,
              "#bd3786"
             ],
             [
              0.5555555555555556,
              "#d8576b"
             ],
             [
              0.6666666666666666,
              "#ed7953"
             ],
             [
              0.7777777777777778,
              "#fb9f3a"
             ],
             [
              0.8888888888888888,
              "#fdca26"
             ],
             [
              1,
              "#f0f921"
             ]
            ],
            "type": "histogram2d"
           }
          ],
          "histogram2dcontour": [
           {
            "colorbar": {
             "outlinewidth": 0,
             "ticks": ""
            },
            "colorscale": [
             [
              0,
              "#0d0887"
             ],
             [
              0.1111111111111111,
              "#46039f"
             ],
             [
              0.2222222222222222,
              "#7201a8"
             ],
             [
              0.3333333333333333,
              "#9c179e"
             ],
             [
              0.4444444444444444,
              "#bd3786"
             ],
             [
              0.5555555555555556,
              "#d8576b"
             ],
             [
              0.6666666666666666,
              "#ed7953"
             ],
             [
              0.7777777777777778,
              "#fb9f3a"
             ],
             [
              0.8888888888888888,
              "#fdca26"
             ],
             [
              1,
              "#f0f921"
             ]
            ],
            "type": "histogram2dcontour"
           }
          ],
          "mesh3d": [
           {
            "colorbar": {
             "outlinewidth": 0,
             "ticks": ""
            },
            "type": "mesh3d"
           }
          ],
          "parcoords": [
           {
            "line": {
             "colorbar": {
              "outlinewidth": 0,
              "ticks": ""
             }
            },
            "type": "parcoords"
           }
          ],
          "pie": [
           {
            "automargin": true,
            "type": "pie"
           }
          ],
          "scatter": [
           {
            "fillpattern": {
             "fillmode": "overlay",
             "size": 10,
             "solidity": 0.2
            },
            "type": "scatter"
           }
          ],
          "scatter3d": [
           {
            "line": {
             "colorbar": {
              "outlinewidth": 0,
              "ticks": ""
             }
            },
            "marker": {
             "colorbar": {
              "outlinewidth": 0,
              "ticks": ""
             }
            },
            "type": "scatter3d"
           }
          ],
          "scattercarpet": [
           {
            "marker": {
             "colorbar": {
              "outlinewidth": 0,
              "ticks": ""
             }
            },
            "type": "scattercarpet"
           }
          ],
          "scattergeo": [
           {
            "marker": {
             "colorbar": {
              "outlinewidth": 0,
              "ticks": ""
             }
            },
            "type": "scattergeo"
           }
          ],
          "scattergl": [
           {
            "marker": {
             "colorbar": {
              "outlinewidth": 0,
              "ticks": ""
             }
            },
            "type": "scattergl"
           }
          ],
          "scattermap": [
           {
            "marker": {
             "colorbar": {
              "outlinewidth": 0,
              "ticks": ""
             }
            },
            "type": "scattermap"
           }
          ],
          "scattermapbox": [
           {
            "marker": {
             "colorbar": {
              "outlinewidth": 0,
              "ticks": ""
             }
            },
            "type": "scattermapbox"
           }
          ],
          "scatterpolar": [
           {
            "marker": {
             "colorbar": {
              "outlinewidth": 0,
              "ticks": ""
             }
            },
            "type": "scatterpolar"
           }
          ],
          "scatterpolargl": [
           {
            "marker": {
             "colorbar": {
              "outlinewidth": 0,
              "ticks": ""
             }
            },
            "type": "scatterpolargl"
           }
          ],
          "scatterternary": [
           {
            "marker": {
             "colorbar": {
              "outlinewidth": 0,
              "ticks": ""
             }
            },
            "type": "scatterternary"
           }
          ],
          "surface": [
           {
            "colorbar": {
             "outlinewidth": 0,
             "ticks": ""
            },
            "colorscale": [
             [
              0,
              "#0d0887"
             ],
             [
              0.1111111111111111,
              "#46039f"
             ],
             [
              0.2222222222222222,
              "#7201a8"
             ],
             [
              0.3333333333333333,
              "#9c179e"
             ],
             [
              0.4444444444444444,
              "#bd3786"
             ],
             [
              0.5555555555555556,
              "#d8576b"
             ],
             [
              0.6666666666666666,
              "#ed7953"
             ],
             [
              0.7777777777777778,
              "#fb9f3a"
             ],
             [
              0.8888888888888888,
              "#fdca26"
             ],
             [
              1,
              "#f0f921"
             ]
            ],
            "type": "surface"
           }
          ],
          "table": [
           {
            "cells": {
             "fill": {
              "color": "#EBF0F8"
             },
             "line": {
              "color": "white"
             }
            },
            "header": {
             "fill": {
              "color": "#C8D4E3"
             },
             "line": {
              "color": "white"
             }
            },
            "type": "table"
           }
          ]
         },
         "layout": {
          "annotationdefaults": {
           "arrowcolor": "#2a3f5f",
           "arrowhead": 0,
           "arrowwidth": 1
          },
          "autotypenumbers": "strict",
          "coloraxis": {
           "colorbar": {
            "outlinewidth": 0,
            "ticks": ""
           }
          },
          "colorscale": {
           "diverging": [
            [
             0,
             "#8e0152"
            ],
            [
             0.1,
             "#c51b7d"
            ],
            [
             0.2,
             "#de77ae"
            ],
            [
             0.3,
             "#f1b6da"
            ],
            [
             0.4,
             "#fde0ef"
            ],
            [
             0.5,
             "#f7f7f7"
            ],
            [
             0.6,
             "#e6f5d0"
            ],
            [
             0.7,
             "#b8e186"
            ],
            [
             0.8,
             "#7fbc41"
            ],
            [
             0.9,
             "#4d9221"
            ],
            [
             1,
             "#276419"
            ]
           ],
           "sequential": [
            [
             0,
             "#0d0887"
            ],
            [
             0.1111111111111111,
             "#46039f"
            ],
            [
             0.2222222222222222,
             "#7201a8"
            ],
            [
             0.3333333333333333,
             "#9c179e"
            ],
            [
             0.4444444444444444,
             "#bd3786"
            ],
            [
             0.5555555555555556,
             "#d8576b"
            ],
            [
             0.6666666666666666,
             "#ed7953"
            ],
            [
             0.7777777777777778,
             "#fb9f3a"
            ],
            [
             0.8888888888888888,
             "#fdca26"
            ],
            [
             1,
             "#f0f921"
            ]
           ],
           "sequentialminus": [
            [
             0,
             "#0d0887"
            ],
            [
             0.1111111111111111,
             "#46039f"
            ],
            [
             0.2222222222222222,
             "#7201a8"
            ],
            [
             0.3333333333333333,
             "#9c179e"
            ],
            [
             0.4444444444444444,
             "#bd3786"
            ],
            [
             0.5555555555555556,
             "#d8576b"
            ],
            [
             0.6666666666666666,
             "#ed7953"
            ],
            [
             0.7777777777777778,
             "#fb9f3a"
            ],
            [
             0.8888888888888888,
             "#fdca26"
            ],
            [
             1,
             "#f0f921"
            ]
           ]
          },
          "colorway": [
           "#636efa",
           "#EF553B",
           "#00cc96",
           "#ab63fa",
           "#FFA15A",
           "#19d3f3",
           "#FF6692",
           "#B6E880",
           "#FF97FF",
           "#FECB52"
          ],
          "font": {
           "color": "#2a3f5f"
          },
          "geo": {
           "bgcolor": "white",
           "lakecolor": "white",
           "landcolor": "#E5ECF6",
           "showlakes": true,
           "showland": true,
           "subunitcolor": "white"
          },
          "hoverlabel": {
           "align": "left"
          },
          "hovermode": "closest",
          "mapbox": {
           "style": "light"
          },
          "paper_bgcolor": "white",
          "plot_bgcolor": "#E5ECF6",
          "polar": {
           "angularaxis": {
            "gridcolor": "white",
            "linecolor": "white",
            "ticks": ""
           },
           "bgcolor": "#E5ECF6",
           "radialaxis": {
            "gridcolor": "white",
            "linecolor": "white",
            "ticks": ""
           }
          },
          "scene": {
           "xaxis": {
            "backgroundcolor": "#E5ECF6",
            "gridcolor": "white",
            "gridwidth": 2,
            "linecolor": "white",
            "showbackground": true,
            "ticks": "",
            "zerolinecolor": "white"
           },
           "yaxis": {
            "backgroundcolor": "#E5ECF6",
            "gridcolor": "white",
            "gridwidth": 2,
            "linecolor": "white",
            "showbackground": true,
            "ticks": "",
            "zerolinecolor": "white"
           },
           "zaxis": {
            "backgroundcolor": "#E5ECF6",
            "gridcolor": "white",
            "gridwidth": 2,
            "linecolor": "white",
            "showbackground": true,
            "ticks": "",
            "zerolinecolor": "white"
           }
          },
          "shapedefaults": {
           "line": {
            "color": "#2a3f5f"
           }
          },
          "ternary": {
           "aaxis": {
            "gridcolor": "white",
            "linecolor": "white",
            "ticks": ""
           },
           "baxis": {
            "gridcolor": "white",
            "linecolor": "white",
            "ticks": ""
           },
           "bgcolor": "#E5ECF6",
           "caxis": {
            "gridcolor": "white",
            "linecolor": "white",
            "ticks": ""
           }
          },
          "title": {
           "x": 0.05
          },
          "xaxis": {
           "automargin": true,
           "gridcolor": "white",
           "linecolor": "white",
           "ticks": "",
           "title": {
            "standoff": 15
           },
           "zerolinecolor": "white",
           "zerolinewidth": 2
          },
          "yaxis": {
           "automargin": true,
           "gridcolor": "white",
           "linecolor": "white",
           "ticks": "",
           "title": {
            "standoff": 15
           },
           "zerolinecolor": "white",
           "zerolinewidth": 2
          }
         }
        },
        "title": {
         "text": "Rainfall vs Crop Yield"
        },
        "xaxis": {
         "anchor": "y",
         "domain": [
          0,
          1
         ],
         "title": {
          "text": "Rainfall (mm)"
         }
        },
        "yaxis": {
         "anchor": "x",
         "domain": [
          0,
          1
         ],
         "title": {
          "text": "Crop Yield (tons/ha)"
         }
        }
       }
      }
     },
     "metadata": {},
     "output_type": "display_data"
    },
    {
     "data": {
      "application/vnd.plotly.v1+json": {
       "config": {
        "plotlyServerURL": "https://plot.ly"
       },
       "data": [
        {
         "hovertemplate": "Soil Quality Index (1-10)=%{x}<br>Crop Yield (tons/ha)=%{y}<extra></extra>",
         "legendgroup": "",
         "marker": {
          "color": "#636efa",
          "opacity": 0.6,
          "symbol": "circle"
         },
         "mode": "markers",
         "name": "",
         "showlegend": false,
         "type": "scattergl",
         "x": {
          "bdata": "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",
          "dtype": "f8"
         },
         "xaxis": "x",
         "y": {
          "bdata": "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",
          "dtype": "i2"
         },
         "yaxis": "y"
        }
       ],
       "layout": {
        "legend": {
         "tracegroupgap": 0
        },
        "template": {
         "data": {
          "bar": [
           {
            "error_x": {
             "color": "#2a3f5f"
            },
            "error_y": {
             "color": "#2a3f5f"
            },
            "marker": {
             "line": {
              "color": "#E5ECF6",
              "width": 0.5
             },
             "pattern": {
              "fillmode": "overlay",
              "size": 10,
              "solidity": 0.2
             }
            },
            "type": "bar"
           }
          ],
          "barpolar": [
           {
            "marker": {
             "line": {
              "color": "#E5ECF6",
              "width": 0.5
             },
             "pattern": {
              "fillmode": "overlay",
              "size": 10,
              "solidity": 0.2
             }
            },
            "type": "barpolar"
           }
          ],
          "carpet": [
           {
            "aaxis": {
             "endlinecolor": "#2a3f5f",
             "gridcolor": "white",
             "linecolor": "white",
             "minorgridcolor": "white",
             "startlinecolor": "#2a3f5f"
            },
            "baxis": {
             "endlinecolor": "#2a3f5f",
             "gridcolor": "white",
             "linecolor": "white",
             "minorgridcolor": "white",
             "startlinecolor": "#2a3f5f"
            },
            "type": "carpet"
           }
          ],
          "choropleth": [
           {
            "colorbar": {
             "outlinewidth": 0,
             "ticks": ""
            },
            "type": "choropleth"
           }
          ],
          "contour": [
           {
            "colorbar": {
             "outlinewidth": 0,
             "ticks": ""
            },
            "colorscale": [
             [
              0,
              "#0d0887"
             ],
             [
              0.1111111111111111,
              "#46039f"
             ],
             [
              0.2222222222222222,
              "#7201a8"
             ],
             [
              0.3333333333333333,
              "#9c179e"
             ],
             [
              0.4444444444444444,
              "#bd3786"
             ],
             [
              0.5555555555555556,
              "#d8576b"
             ],
             [
              0.6666666666666666,
              "#ed7953"
             ],
             [
              0.7777777777777778,
              "#fb9f3a"
             ],
             [
              0.8888888888888888,
              "#fdca26"
             ],
             [
              1,
              "#f0f921"
             ]
            ],
            "type": "contour"
           }
          ],
          "contourcarpet": [
           {
            "colorbar": {
             "outlinewidth": 0,
             "ticks": ""
            },
            "type": "contourcarpet"
           }
          ],
          "heatmap": [
           {
            "colorbar": {
             "outlinewidth": 0,
             "ticks": ""
            },
            "colorscale": [
             [
              0,
              "#0d0887"
             ],
             [
              0.1111111111111111,
              "#46039f"
             ],
             [
              0.2222222222222222,
              "#7201a8"
             ],
             [
              0.3333333333333333,
              "#9c179e"
             ],
             [
              0.4444444444444444,
              "#bd3786"
             ],
             [
              0.5555555555555556,
              "#d8576b"
             ],
             [
              0.6666666666666666,
              "#ed7953"
             ],
             [
              0.7777777777777778,
              "#fb9f3a"
             ],
             [
              0.8888888888888888,
              "#fdca26"
             ],
             [
              1,
              "#f0f921"
             ]
            ],
            "type": "heatmap"
           }
          ],
          "histogram": [
           {
            "marker": {
             "pattern": {
              "fillmode": "overlay",
              "size": 10,
              "solidity": 0.2
             }
            },
            "type": "histogram"
           }
          ],
          "histogram2d": [
           {
            "colorbar": {
             "outlinewidth": 0,
             "ticks": ""
            },
            "colorscale": [
             [
              0,
              "#0d0887"
             ],
             [
              0.1111111111111111,
              "#46039f"
             ],
             [
              0.2222222222222222,
              "#7201a8"
             ],
             [
              0.3333333333333333,
              "#9c179e"
             ],
             [
              0.4444444444444444,
              "#bd3786"
             ],
             [
              0.5555555555555556,
              "#d8576b"
             ],
             [
              0.6666666666666666,
              "#ed7953"
             ],
             [
              0.7777777777777778,
              "#fb9f3a"
             ],
             [
              0.8888888888888888,
              "#fdca26"
             ],
             [
              1,
              "#f0f921"
             ]
            ],
            "type": "histogram2d"
           }
          ],
          "histogram2dcontour": [
           {
            "colorbar": {
             "outlinewidth": 0,
             "ticks": ""
            },
            "colorscale": [
             [
              0,
              "#0d0887"
             ],
             [
              0.1111111111111111,
              "#46039f"
             ],
             [
              0.2222222222222222,
              "#7201a8"
             ],
             [
              0.3333333333333333,
              "#9c179e"
             ],
             [
              0.4444444444444444,
              "#bd3786"
             ],
             [
              0.5555555555555556,
              "#d8576b"
             ],
             [
              0.6666666666666666,
              "#ed7953"
             ],
             [
              0.7777777777777778,
              "#fb9f3a"
             ],
             [
              0.8888888888888888,
              "#fdca26"
             ],
             [
              1,
              "#f0f921"
             ]
            ],
            "type": "histogram2dcontour"
           }
          ],
          "mesh3d": [
           {
            "colorbar": {
             "outlinewidth": 0,
             "ticks": ""
            },
            "type": "mesh3d"
           }
          ],
          "parcoords": [
           {
            "line": {
             "colorbar": {
              "outlinewidth": 0,
              "ticks": ""
             }
            },
            "type": "parcoords"
           }
          ],
          "pie": [
           {
            "automargin": true,
            "type": "pie"
           }
          ],
          "scatter": [
           {
            "fillpattern": {
             "fillmode": "overlay",
             "size": 10,
             "solidity": 0.2
            },
            "type": "scatter"
           }
          ],
          "scatter3d": [
           {
            "line": {
             "colorbar": {
              "outlinewidth": 0,
              "ticks": ""
             }
            },
            "marker": {
             "colorbar": {
              "outlinewidth": 0,
              "ticks": ""
             }
            },
            "type": "scatter3d"
           }
          ],
          "scattercarpet": [
           {
            "marker": {
             "colorbar": {
              "outlinewidth": 0,
              "ticks": ""
             }
            },
            "type": "scattercarpet"
           }
          ],
          "scattergeo": [
           {
            "marker": {
             "colorbar": {
              "outlinewidth": 0,
              "ticks": ""
             }
            },
            "type": "scattergeo"
           }
          ],
          "scattergl": [
           {
            "marker": {
             "colorbar": {
              "outlinewidth": 0,
              "ticks": ""
             }
            },
            "type": "scattergl"
           }
          ],
          "scattermap": [
           {
            "marker": {
             "colorbar": {
              "outlinewidth": 0,
              "ticks": ""
             }
            },
            "type": "scattermap"
           }
          ],
          "scattermapbox": [
           {
            "marker": {
             "colorbar": {
              "outlinewidth": 0,
              "ticks": ""
             }
            },
            "type": "scattermapbox"
           }
          ],
          "scatterpolar": [
           {
            "marker": {
             "colorbar": {
              "outlinewidth": 0,
              "ticks": ""
             }
            },
            "type": "scatterpolar"
           }
          ],
          "scatterpolargl": [
           {
            "marker": {
             "colorbar": {
              "outlinewidth": 0,
              "ticks": ""
             }
            },
            "type": "scatterpolargl"
           }
          ],
          "scatterternary": [
           {
            "marker": {
             "colorbar": {
              "outlinewidth": 0,
              "ticks": ""
             }
            },
            "type": "scatterternary"
           }
          ],
          "surface": [
           {
            "colorbar": {
             "outlinewidth": 0,
             "ticks": ""
            },
            "colorscale": [
             [
              0,
              "#0d0887"
             ],
             [
              0.1111111111111111,
              "#46039f"
             ],
             [
              0.2222222222222222,
              "#7201a8"
             ],
             [
              0.3333333333333333,
              "#9c179e"
             ],
             [
              0.4444444444444444,
              "#bd3786"
             ],
             [
              0.5555555555555556,
              "#d8576b"
             ],
             [
              0.6666666666666666,
              "#ed7953"
             ],
             [
              0.7777777777777778,
              "#fb9f3a"
             ],
             [
              0.8888888888888888,
              "#fdca26"
             ],
             [
              1,
              "#f0f921"
             ]
            ],
            "type": "surface"
           }
          ],
          "table": [
           {
            "cells": {
             "fill": {
              "color": "#EBF0F8"
             },
             "line": {
              "color": "white"
             }
            },
            "header": {
             "fill": {
              "color": "#C8D4E3"
             },
             "line": {
              "color": "white"
             }
            },
            "type": "table"
           }
          ]
         },
         "layout": {
          "annotationdefaults": {
           "arrowcolor": "#2a3f5f",
           "arrowhead": 0,
           "arrowwidth": 1
          },
          "autotypenumbers": "strict",
          "coloraxis": {
           "colorbar": {
            "outlinewidth": 0,
            "ticks": ""
           }
          },
          "colorscale": {
           "diverging": [
            [
             0,
             "#8e0152"
            ],
            [
             0.1,
             "#c51b7d"
            ],
            [
             0.2,
             "#de77ae"
            ],
            [
             0.3,
             "#f1b6da"
            ],
            [
             0.4,
             "#fde0ef"
            ],
            [
             0.5,
             "#f7f7f7"
            ],
            [
             0.6,
             "#e6f5d0"
            ],
            [
             0.7,
             "#b8e186"
            ],
            [
             0.8,
             "#7fbc41"
            ],
            [
             0.9,
             "#4d9221"
            ],
            [
             1,
             "#276419"
            ]
           ],
           "sequential": [
            [
             0,
             "#0d0887"
            ],
            [
             0.1111111111111111,
             "#46039f"
            ],
            [
             0.2222222222222222,
             "#7201a8"
            ],
            [
             0.3333333333333333,
             "#9c179e"
            ],
            [
             0.4444444444444444,
             "#bd3786"
            ],
            [
             0.5555555555555556,
             "#d8576b"
            ],
            [
             0.6666666666666666,
             "#ed7953"
            ],
            [
             0.7777777777777778,
             "#fb9f3a"
            ],
            [
             0.8888888888888888,
             "#fdca26"
            ],
            [
             1,
             "#f0f921"
            ]
           ],
           "sequentialminus": [
            [
             0,
             "#0d0887"
            ],
            [
             0.1111111111111111,
             "#46039f"
            ],
            [
             0.2222222222222222,
             "#7201a8"
            ],
            [
             0.3333333333333333,
             "#9c179e"
            ],
            [
             0.4444444444444444,
             "#bd3786"
            ],
            [
             0.5555555555555556,
             "#d8576b"
            ],
            [
             0.6666666666666666,
             "#ed7953"
            ],
            [
             0.7777777777777778,
             "#fb9f3a"
            ],
            [
             0.8888888888888888,
             "#fdca26"
            ],
            [
             1,
             "#f0f921"
            ]
           ]
          },
          "colorway": [
           "#636efa",
           "#EF553B",
           "#00cc96",
           "#ab63fa",
           "#FFA15A",
           "#19d3f3",
           "#FF6692",
           "#B6E880",
           "#FF97FF",
           "#FECB52"
          ],
          "font": {
           "color": "#2a3f5f"
          },
          "geo": {
           "bgcolor": "white",
           "lakecolor": "white",
           "landcolor": "#E5ECF6",
           "showlakes": true,
           "showland": true,
           "subunitcolor": "white"
          },
          "hoverlabel": {
           "align": "left"
          },
          "hovermode": "closest",
          "mapbox": {
           "style": "light"
          },
          "paper_bgcolor": "white",
          "plot_bgcolor": "#E5ECF6",
          "polar": {
           "angularaxis": {
            "gridcolor": "white",
            "linecolor": "white",
            "ticks": ""
           },
           "bgcolor": "#E5ECF6",
           "radialaxis": {
            "gridcolor": "white",
            "linecolor": "white",
            "ticks": ""
           }
          },
          "scene": {
           "xaxis": {
            "backgroundcolor": "#E5ECF6",
            "gridcolor": "white",
            "gridwidth": 2,
            "linecolor": "white",
            "showbackground": true,
            "ticks": "",
            "zerolinecolor": "white"
           },
           "yaxis": {
            "backgroundcolor": "#E5ECF6",
            "gridcolor": "white",
            "gridwidth": 2,
            "linecolor": "white",
            "showbackground": true,
            "ticks": "",
            "zerolinecolor": "white"
           },
           "zaxis": {
            "backgroundcolor": "#E5ECF6",
            "gridcolor": "white",
            "gridwidth": 2,
            "linecolor": "white",
            "showbackground": true,
            "ticks": "",
            "zerolinecolor": "white"
           }
          },
          "shapedefaults": {
           "line": {
            "color": "#2a3f5f"
           }
          },
          "ternary": {
           "aaxis": {
            "gridcolor": "white",
            "linecolor": "white",
            "ticks": ""
           },
           "baxis": {
            "gridcolor": "white",
            "linecolor": "white",
            "ticks": ""
           },
           "bgcolor": "#E5ECF6",
           "caxis": {
            "gridcolor": "white",
            "linecolor": "white",
            "ticks": ""
           }
          },
          "title": {
           "x": 0.05
          },
          "xaxis": {
           "automargin": true,
           "gridcolor": "white",
           "linecolor": "white",
           "ticks": "",
           "title": {
            "standoff": 15
           },
           "zerolinecolor": "white",
           "zerolinewidth": 2
          },
          "yaxis": {
           "automargin": true,
           "gridcolor": "white",
           "linecolor": "white",
           "ticks": "",
           "title": {
            "standoff": 15
           },
           "zerolinecolor": "white",
           "zerolinewidth": 2
          }
         }
        },
        "title": {
         "text": "Soil Quality Index vs Crop Yield"
        },
        "xaxis": {
         "anchor": "y",
         "domain": [
          0,
          1
         ],
         "title": {
          "text": "Soil Quality Index (1-10)"
         }
        },
        "yaxis": {
         "anchor": "x",
         "domain": [
          0,
          1
         ],
         "title": {
          "text": "Crop Yield (tons/ha)"
         }
        }
       }
      }
     },
     "metadata": {},
     "output_type": "display_data"
    },
    {
     "data": {
      "application/vnd.plotly.v1+json": {
       "config": {
        "plotlyServerURL": "https://plot.ly"
       },
       "data": [
        {
         "hovertemplate": "Farm Size (hectares)=%{x}<br>Crop Yield (tons/ha)=%{y}<extra></extra>",
         "legendgroup": "",
         "marker": {
          "color": "#636efa",
          "opacity": 0.6,
          "symbol": "circle"
         },
         "mode": "markers",
         "name": "",
         "showlegend": false,
         "type": "scattergl",
         "x": {
          "bdata": "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",
          "dtype": "i2"
         },
         "xaxis": "x",
         "y": {
          "bdata": "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",
          "dtype": "i2"
         },
         "yaxis": "y"
        }
       ],
       "layout": {
        "legend": {
         "tracegroupgap": 0
        },
        "template": {
         "data": {
          "bar": [
           {
            "error_x": {
             "color": "#2a3f5f"
            },
            "error_y": {
             "color": "#2a3f5f"
            },
            "marker": {
             "line": {
              "color": "#E5ECF6",
              "width": 0.5
             },
             "pattern": {
              "fillmode": "overlay",
              "size": 10,
              "solidity": 0.2
             }
            },
            "type": "bar"
           }
          ],
          "barpolar": [
           {
            "marker": {
             "line": {
              "color": "#E5ECF6",
              "width": 0.5
             },
             "pattern": {
              "fillmode": "overlay",
              "size": 10,
              "solidity": 0.2
             }
            },
            "type": "barpolar"
           }
          ],
          "carpet": [
           {
            "aaxis": {
             "endlinecolor": "#2a3f5f",
             "gridcolor": "white",
             "linecolor": "white",
             "minorgridcolor": "white",
             "startlinecolor": "#2a3f5f"
            },
            "baxis": {
             "endlinecolor": "#2a3f5f",
             "gridcolor": "white",
             "linecolor": "white",
             "minorgridcolor": "white",
             "startlinecolor": "#2a3f5f"
            },
            "type": "carpet"
           }
          ],
          "choropleth": [
           {
            "colorbar": {
             "outlinewidth": 0,
             "ticks": ""
            },
            "type": "choropleth"
           }
          ],
          "contour": [
           {
            "colorbar": {
             "outlinewidth": 0,
             "ticks": ""
            },
            "colorscale": [
             [
              0,
              "#0d0887"
             ],
             [
              0.1111111111111111,
              "#46039f"
             ],
             [
              0.2222222222222222,
              "#7201a8"
             ],
             [
              0.3333333333333333,
              "#9c179e"
             ],
             [
              0.4444444444444444,
              "#bd3786"
             ],
             [
              0.5555555555555556,
              "#d8576b"
             ],
             [
              0.6666666666666666,
              "#ed7953"
             ],
             [
              0.7777777777777778,
              "#fb9f3a"
             ],
             [
              0.8888888888888888,
              "#fdca26"
             ],
             [
              1,
              "#f0f921"
             ]
            ],
            "type": "contour"
           }
          ],
          "contourcarpet": [
           {
            "colorbar": {
             "outlinewidth": 0,
             "ticks": ""
            },
            "type": "contourcarpet"
           }
          ],
          "heatmap": [
           {
            "colorbar": {
             "outlinewidth": 0,
             "ticks": ""
            },
            "colorscale": [
             [
              0,
              "#0d0887"
             ],
             [
              0.1111111111111111,
              "#46039f"
             ],
             [
              0.2222222222222222,
              "#7201a8"
             ],
             [
              0.3333333333333333,
              "#9c179e"
             ],
             [
              0.4444444444444444,
              "#bd3786"
             ],
             [
              0.5555555555555556,
              "#d8576b"
             ],
             [
              0.6666666666666666,
              "#ed7953"
             ],
             [
              0.7777777777777778,
              "#fb9f3a"
             ],
             [
              0.8888888888888888,
              "#fdca26"
             ],
             [
              1,
              "#f0f921"
             ]
            ],
            "type": "heatmap"
           }
          ],
          "histogram": [
           {
            "marker": {
             "pattern": {
              "fillmode": "overlay",
              "size": 10,
              "solidity": 0.2
             }
            },
            "type": "histogram"
           }
          ],
          "histogram2d": [
           {
            "colorbar": {
             "outlinewidth": 0,
             "ticks": ""
            },
            "colorscale": [
             [
              0,
              "#0d0887"
             ],
             [
              0.1111111111111111,
              "#46039f"
             ],
             [
              0.2222222222222222,
              "#7201a8"
             ],
             [
              0.3333333333333333,
              "#9c179e"
             ],
             [
              0.4444444444444444,
              "#bd3786"
             ],
             [
              0.5555555555555556,
              "#d8576b"
             ],
             [
              0.6666666666666666,
              "#ed7953"
             ],
             [
              0.7777777777777778,
              "#fb9f3a"
             ],
             [
              0.8888888888888888,
              "#fdca26"
             ],
             [
              1,
              "#f0f921"
             ]
            ],
            "type": "histogram2d"
           }
          ],
          "histogram2dcontour": [
           {
            "colorbar": {
             "outlinewidth": 0,
             "ticks": ""
            },
            "colorscale": [
             [
              0,
              "#0d0887"
             ],
             [
              0.1111111111111111,
              "#46039f"
             ],
             [
              0.2222222222222222,
              "#7201a8"
             ],
             [
              0.3333333333333333,
              "#9c179e"
             ],
             [
              0.4444444444444444,
              "#bd3786"
             ],
             [
              0.5555555555555556,
              "#d8576b"
             ],
             [
              0.6666666666666666,
              "#ed7953"
             ],
             [
              0.7777777777777778,
              "#fb9f3a"
             ],
             [
              0.8888888888888888,
              "#fdca26"
             ],
             [
              1,
              "#f0f921"
             ]
            ],
            "type": "histogram2dcontour"
           }
          ],
          "mesh3d": [
           {
            "colorbar": {
             "outlinewidth": 0,
             "ticks": ""
            },
            "type": "mesh3d"
           }
          ],
          "parcoords": [
           {
            "line": {
             "colorbar": {
              "outlinewidth": 0,
              "ticks": ""
             }
            },
            "type": "parcoords"
           }
          ],
          "pie": [
           {
            "automargin": true,
            "type": "pie"
           }
          ],
          "scatter": [
           {
            "fillpattern": {
             "fillmode": "overlay",
             "size": 10,
             "solidity": 0.2
            },
            "type": "scatter"
           }
          ],
          "scatter3d": [
           {
            "line": {
             "colorbar": {
              "outlinewidth": 0,
              "ticks": ""
             }
            },
            "marker": {
             "colorbar": {
              "outlinewidth": 0,
              "ticks": ""
             }
            },
            "type": "scatter3d"
           }
          ],
          "scattercarpet": [
           {
            "marker": {
             "colorbar": {
              "outlinewidth": 0,
              "ticks": ""
             }
            },
            "type": "scattercarpet"
           }
          ],
          "scattergeo": [
           {
            "marker": {
             "colorbar": {
              "outlinewidth": 0,
              "ticks": ""
             }
            },
            "type": "scattergeo"
           }
          ],
          "scattergl": [
           {
            "marker": {
             "colorbar": {
              "outlinewidth": 0,
              "ticks": ""
             }
            },
            "type": "scattergl"
           }
          ],
          "scattermap": [
           {
            "marker": {
             "colorbar": {
              "outlinewidth": 0,
              "ticks": ""
             }
            },
            "type": "scattermap"
           }
          ],
          "scattermapbox": [
           {
            "marker": {
             "colorbar": {
              "outlinewidth": 0,
              "ticks": ""
             }
            },
            "type": "scattermapbox"
           }
          ],
          "scatterpolar": [
           {
            "marker": {
             "colorbar": {
              "outlinewidth": 0,
              "ticks": ""
             }
            },
            "type": "scatterpolar"
           }
          ],
          "scatterpolargl": [
           {
            "marker": {
             "colorbar": {
              "outlinewidth": 0,
              "ticks": ""
             }
            },
            "type": "scatterpolargl"
           }
          ],
          "scatterternary": [
           {
            "marker": {
             "colorbar": {
              "outlinewidth": 0,
              "ticks": ""
             }
            },
            "type": "scatterternary"
           }
          ],
          "surface": [
           {
            "colorbar": {
             "outlinewidth": 0,
             "ticks": ""
            },
            "colorscale": [
             [
              0,
              "#0d0887"
             ],
             [
              0.1111111111111111,
              "#46039f"
             ],
             [
              0.2222222222222222,
              "#7201a8"
             ],
             [
              0.3333333333333333,
              "#9c179e"
             ],
             [
              0.4444444444444444,
              "#bd3786"
             ],
             [
              0.5555555555555556,
              "#d8576b"
             ],
             [
              0.6666666666666666,
              "#ed7953"
             ],
             [
              0.7777777777777778,
              "#fb9f3a"
             ],
             [
              0.8888888888888888,
              "#fdca26"
             ],
             [
              1,
              "#f0f921"
             ]
            ],
            "type": "surface"
           }
          ],
          "table": [
           {
            "cells": {
             "fill": {
              "color": "#EBF0F8"
             },
             "line": {
              "color": "white"
             }
            },
            "header": {
             "fill": {
              "color": "#C8D4E3"
             },
             "line": {
              "color": "white"
             }
            },
            "type": "table"
           }
          ]
         },
         "layout": {
          "annotationdefaults": {
           "arrowcolor": "#2a3f5f",
           "arrowhead": 0,
           "arrowwidth": 1
          },
          "autotypenumbers": "strict",
          "coloraxis": {
           "colorbar": {
            "outlinewidth": 0,
            "ticks": ""
           }
          },
          "colorscale": {
           "diverging": [
            [
             0,
             "#8e0152"
            ],
            [
             0.1,
             "#c51b7d"
            ],
            [
             0.2,
             "#de77ae"
            ],
            [
             0.3,
             "#f1b6da"
            ],
            [
             0.4,
             "#fde0ef"
            ],
            [
             0.5,
             "#f7f7f7"
            ],
            [
             0.6,
             "#e6f5d0"
            ],
            [
             0.7,
             "#b8e186"
            ],
            [
             0.8,
             "#7fbc41"
            ],
            [
             0.9,
             "#4d9221"
            ],
            [
             1,
             "#276419"
            ]
           ],
           "sequential": [
            [
             0,
             "#0d0887"
            ],
            [
             0.1111111111111111,
             "#46039f"
            ],
            [
             0.2222222222222222,
             "#7201a8"
            ],
            [
             0.3333333333333333,
             "#9c179e"
            ],
            [
             0.4444444444444444,
             "#bd3786"
            ],
            [
             0.5555555555555556,
             "#d8576b"
            ],
            [
             0.6666666666666666,
             "#ed7953"
            ],
            [
             0.7777777777777778,
             "#fb9f3a"
            ],
            [
             0.8888888888888888,
             "#fdca26"
            ],
            [
             1,
             "#f0f921"
            ]
           ],
           "sequentialminus": [
            [
             0,
             "#0d0887"
            ],
            [
             0.1111111111111111,
             "#46039f"
            ],
            [
             0.2222222222222222,
             "#7201a8"
            ],
            [
             0.3333333333333333,
             "#9c179e"
            ],
            [
             0.4444444444444444,
             "#bd3786"
            ],
            [
             0.5555555555555556,
             "#d8576b"
            ],
            [
             0.6666666666666666,
             "#ed7953"
            ],
            [
             0.7777777777777778,
             "#fb9f3a"
            ],
            [
             0.8888888888888888,
             "#fdca26"
            ],
            [
             1,
             "#f0f921"
            ]
           ]
          },
          "colorway": [
           "#636efa",
           "#EF553B",
           "#00cc96",
           "#ab63fa",
           "#FFA15A",
           "#19d3f3",
           "#FF6692",
           "#B6E880",
           "#FF97FF",
           "#FECB52"
          ],
          "font": {
           "color": "#2a3f5f"
          },
          "geo": {
           "bgcolor": "white",
           "lakecolor": "white",
           "landcolor": "#E5ECF6",
           "showlakes": true,
           "showland": true,
           "subunitcolor": "white"
          },
          "hoverlabel": {
           "align": "left"
          },
          "hovermode": "closest",
          "mapbox": {
           "style": "light"
          },
          "paper_bgcolor": "white",
          "plot_bgcolor": "#E5ECF6",
          "polar": {
           "angularaxis": {
            "gridcolor": "white",
            "linecolor": "white",
            "ticks": ""
           },
           "bgcolor": "#E5ECF6",
           "radialaxis": {
            "gridcolor": "white",
            "linecolor": "white",
            "ticks": ""
           }
          },
          "scene": {
           "xaxis": {
            "backgroundcolor": "#E5ECF6",
            "gridcolor": "white",
            "gridwidth": 2,
            "linecolor": "white",
            "showbackground": true,
            "ticks": "",
            "zerolinecolor": "white"
           },
           "yaxis": {
            "backgroundcolor": "#E5ECF6",
            "gridcolor": "white",
            "gridwidth": 2,
            "linecolor": "white",
            "showbackground": true,
            "ticks": "",
            "zerolinecolor": "white"
           },
           "zaxis": {
            "backgroundcolor": "#E5ECF6",
            "gridcolor": "white",
            "gridwidth": 2,
            "linecolor": "white",
            "showbackground": true,
            "ticks": "",
            "zerolinecolor": "white"
           }
          },
          "shapedefaults": {
           "line": {
            "color": "#2a3f5f"
           }
          },
          "ternary": {
           "aaxis": {
            "gridcolor": "white",
            "linecolor": "white",
            "ticks": ""
           },
           "baxis": {
            "gridcolor": "white",
            "linecolor": "white",
            "ticks": ""
           },
           "bgcolor": "#E5ECF6",
           "caxis": {
            "gridcolor": "white",
            "linecolor": "white",
            "ticks": ""
           }
          },
          "title": {
           "x": 0.05
          },
          "xaxis": {
           "automargin": true,
           "gridcolor": "white",
           "linecolor": "white",
           "ticks": "",
           "title": {
            "standoff": 15
           },
           "zerolinecolor": "white",
           "zerolinewidth": 2
          },
          "yaxis": {
           "automargin": true,
           "gridcolor": "white",
           "linecolor": "white",
           "ticks": "",
           "title": {
            "standoff": 15
           },
           "zerolinecolor": "white",
           "zerolinewidth": 2
          }
         }
        },
        "title": {
         "text": "Farm Size vs Crop Yield"
        },
        "xaxis": {
         "anchor": "y",
         "domain": [
          0,
          1
         ],
         "title": {
          "text": "Farm Size (hectares)"
         }
        },
        "yaxis": {
         "anchor": "x",
         "domain": [
          0,
          1
         ],
         "title": {
          "text": "Crop Yield (tons/ha)"
         }
        }
       }
      }
     },
     "metadata": {},
     "output_type": "display_data"
    },
    {
     "data": {
      "application/vnd.plotly.v1+json": {
       "config": {
        "plotlyServerURL": "https://plot.ly"
       },
       "data": [
        {
         "hovertemplate": "Sunlight (hours)=%{x}<br>Crop Yield (tons/ha)=%{y}<extra></extra>",
         "legendgroup": "",
         "marker": {
          "color": "#636efa",
          "opacity": 0.6,
          "symbol": "circle"
         },
         "mode": "markers",
         "name": "",
         "showlegend": false,
         "type": "scattergl",
         "x": {
          "bdata": "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",
          "dtype": "f8"
         },
         "xaxis": "x",
         "y": {
          "bdata": "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",
          "dtype": "i2"
         },
         "yaxis": "y"
        }
       ],
       "layout": {
        "legend": {
         "tracegroupgap": 0
        },
        "template": {
         "data": {
          "bar": [
           {
            "error_x": {
             "color": "#2a3f5f"
            },
            "error_y": {
             "color": "#2a3f5f"
            },
            "marker": {
             "line": {
              "color": "#E5ECF6",
              "width": 0.5
             },
             "pattern": {
              "fillmode": "overlay",
              "size": 10,
              "solidity": 0.2
             }
            },
            "type": "bar"
           }
          ],
          "barpolar": [
           {
            "marker": {
             "line": {
              "color": "#E5ECF6",
              "width": 0.5
             },
             "pattern": {
              "fillmode": "overlay",
              "size": 10,
              "solidity": 0.2
             }
            },
            "type": "barpolar"
           }
          ],
          "carpet": [
           {
            "aaxis": {
             "endlinecolor": "#2a3f5f",
             "gridcolor": "white",
             "linecolor": "white",
             "minorgridcolor": "white",
             "startlinecolor": "#2a3f5f"
            },
            "baxis": {
             "endlinecolor": "#2a3f5f",
             "gridcolor": "white",
             "linecolor": "white",
             "minorgridcolor": "white",
             "startlinecolor": "#2a3f5f"
            },
            "type": "carpet"
           }
          ],
          "choropleth": [
           {
            "colorbar": {
             "outlinewidth": 0,
             "ticks": ""
            },
            "type": "choropleth"
           }
          ],
          "contour": [
           {
            "colorbar": {
             "outlinewidth": 0,
             "ticks": ""
            },
            "colorscale": [
             [
              0,
              "#0d0887"
             ],
             [
              0.1111111111111111,
              "#46039f"
             ],
             [
              0.2222222222222222,
              "#7201a8"
             ],
             [
              0.3333333333333333,
              "#9c179e"
             ],
             [
              0.4444444444444444,
              "#bd3786"
             ],
             [
              0.5555555555555556,
              "#d8576b"
             ],
             [
              0.6666666666666666,
              "#ed7953"
             ],
             [
              0.7777777777777778,
              "#fb9f3a"
             ],
             [
              0.8888888888888888,
              "#fdca26"
             ],
             [
              1,
              "#f0f921"
             ]
            ],
            "type": "contour"
           }
          ],
          "contourcarpet": [
           {
            "colorbar": {
             "outlinewidth": 0,
             "ticks": ""
            },
            "type": "contourcarpet"
           }
          ],
          "heatmap": [
           {
            "colorbar": {
             "outlinewidth": 0,
             "ticks": ""
            },
            "colorscale": [
             [
              0,
              "#0d0887"
             ],
             [
              0.1111111111111111,
              "#46039f"
             ],
             [
              0.2222222222222222,
              "#7201a8"
             ],
             [
              0.3333333333333333,
              "#9c179e"
             ],
             [
              0.4444444444444444,
              "#bd3786"
             ],
             [
              0.5555555555555556,
              "#d8576b"
             ],
             [
              0.6666666666666666,
              "#ed7953"
             ],
             [
              0.7777777777777778,
              "#fb9f3a"
             ],
             [
              0.8888888888888888,
              "#fdca26"
             ],
             [
              1,
              "#f0f921"
             ]
            ],
            "type": "heatmap"
           }
          ],
          "histogram": [
           {
            "marker": {
             "pattern": {
              "fillmode": "overlay",
              "size": 10,
              "solidity": 0.2
             }
            },
            "type": "histogram"
           }
          ],
          "histogram2d": [
           {
            "colorbar": {
             "outlinewidth": 0,
             "ticks": ""
            },
            "colorscale": [
             [
              0,
              "#0d0887"
             ],
             [
              0.1111111111111111,
              "#46039f"
             ],
             [
              0.2222222222222222,
              "#7201a8"
             ],
             [
              0.3333333333333333,
              "#9c179e"
             ],
             [
              0.4444444444444444,
              "#bd3786"
             ],
             [
              0.5555555555555556,
              "#d8576b"
             ],
             [
              0.6666666666666666,
              "#ed7953"
             ],
             [
              0.7777777777777778,
              "#fb9f3a"
             ],
             [
              0.8888888888888888,
              "#fdca26"
             ],
             [
              1,
              "#f0f921"
             ]
            ],
            "type": "histogram2d"
           }
          ],
          "histogram2dcontour": [
           {
            "colorbar": {
             "outlinewidth": 0,
             "ticks": ""
            },
            "colorscale": [
             [
              0,
              "#0d0887"
             ],
             [
              0.1111111111111111,
              "#46039f"
             ],
             [
              0.2222222222222222,
              "#7201a8"
             ],
             [
              0.3333333333333333,
              "#9c179e"
             ],
             [
              0.4444444444444444,
              "#bd3786"
             ],
             [
              0.5555555555555556,
              "#d8576b"
             ],
             [
              0.6666666666666666,
              "#ed7953"
             ],
             [
              0.7777777777777778,
              "#fb9f3a"
             ],
             [
              0.8888888888888888,
              "#fdca26"
             ],
             [
              1,
              "#f0f921"
             ]
            ],
            "type": "histogram2dcontour"
           }
          ],
          "mesh3d": [
           {
            "colorbar": {
             "outlinewidth": 0,
             "ticks": ""
            },
            "type": "mesh3d"
           }
          ],
          "parcoords": [
           {
            "line": {
             "colorbar": {
              "outlinewidth": 0,
              "ticks": ""
             }
            },
            "type": "parcoords"
           }
          ],
          "pie": [
           {
            "automargin": true,
            "type": "pie"
           }
          ],
          "scatter": [
           {
            "fillpattern": {
             "fillmode": "overlay",
             "size": 10,
             "solidity": 0.2
            },
            "type": "scatter"
           }
          ],
          "scatter3d": [
           {
            "line": {
             "colorbar": {
              "outlinewidth": 0,
              "ticks": ""
             }
            },
            "marker": {
             "colorbar": {
              "outlinewidth": 0,
              "ticks": ""
             }
            },
            "type": "scatter3d"
           }
          ],
          "scattercarpet": [
           {
            "marker": {
             "colorbar": {
              "outlinewidth": 0,
              "ticks": ""
             }
            },
            "type": "scattercarpet"
           }
          ],
          "scattergeo": [
           {
            "marker": {
             "colorbar": {
              "outlinewidth": 0,
              "ticks": ""
             }
            },
            "type": "scattergeo"
           }
          ],
          "scattergl": [
           {
            "marker": {
             "colorbar": {
              "outlinewidth": 0,
              "ticks": ""
             }
            },
            "type": "scattergl"
           }
          ],
          "scattermap": [
           {
            "marker": {
             "colorbar": {
              "outlinewidth": 0,
              "ticks": ""
             }
            },
            "type": "scattermap"
           }
          ],
          "scattermapbox": [
           {
            "marker": {
             "colorbar": {
              "outlinewidth": 0,
              "ticks": ""
             }
            },
            "type": "scattermapbox"
           }
          ],
          "scatterpolar": [
           {
            "marker": {
             "colorbar": {
              "outlinewidth": 0,
              "ticks": ""
             }
            },
            "type": "scatterpolar"
           }
          ],
          "scatterpolargl": [
           {
            "marker": {
             "colorbar": {
              "outlinewidth": 0,
              "ticks": ""
             }
            },
            "type": "scatterpolargl"
           }
          ],
          "scatterternary": [
           {
            "marker": {
             "colorbar": {
              "outlinewidth": 0,
              "ticks": ""
             }
            },
            "type": "scatterternary"
           }
          ],
          "surface": [
           {
            "colorbar": {
             "outlinewidth": 0,
             "ticks": ""
            },
            "colorscale": [
             [
              0,
              "#0d0887"
             ],
             [
              0.1111111111111111,
              "#46039f"
             ],
             [
              0.2222222222222222,
              "#7201a8"
             ],
             [
              0.3333333333333333,
              "#9c179e"
             ],
             [
              0.4444444444444444,
              "#bd3786"
             ],
             [
              0.5555555555555556,
              "#d8576b"
             ],
             [
              0.6666666666666666,
              "#ed7953"
             ],
             [
              0.7777777777777778,
              "#fb9f3a"
             ],
             [
              0.8888888888888888,
              "#fdca26"
             ],
             [
              1,
              "#f0f921"
             ]
            ],
            "type": "surface"
           }
          ],
          "table": [
           {
            "cells": {
             "fill": {
              "color": "#EBF0F8"
             },
             "line": {
              "color": "white"
             }
            },
            "header": {
             "fill": {
              "color": "#C8D4E3"
             },
             "line": {
              "color": "white"
             }
            },
            "type": "table"
           }
          ]
         },
         "layout": {
          "annotationdefaults": {
           "arrowcolor": "#2a3f5f",
           "arrowhead": 0,
           "arrowwidth": 1
          },
          "autotypenumbers": "strict",
          "coloraxis": {
           "colorbar": {
            "outlinewidth": 0,
            "ticks": ""
           }
          },
          "colorscale": {
           "diverging": [
            [
             0,
             "#8e0152"
            ],
            [
             0.1,
             "#c51b7d"
            ],
            [
             0.2,
             "#de77ae"
            ],
            [
             0.3,
             "#f1b6da"
            ],
            [
             0.4,
             "#fde0ef"
            ],
            [
             0.5,
             "#f7f7f7"
            ],
            [
             0.6,
             "#e6f5d0"
            ],
            [
             0.7,
             "#b8e186"
            ],
            [
             0.8,
             "#7fbc41"
            ],
            [
             0.9,
             "#4d9221"
            ],
            [
             1,
             "#276419"
            ]
           ],
           "sequential": [
            [
             0,
             "#0d0887"
            ],
            [
             0.1111111111111111,
             "#46039f"
            ],
            [
             0.2222222222222222,
             "#7201a8"
            ],
            [
             0.3333333333333333,
             "#9c179e"
            ],
            [
             0.4444444444444444,
             "#bd3786"
            ],
            [
             0.5555555555555556,
             "#d8576b"
            ],
            [
             0.6666666666666666,
             "#ed7953"
            ],
            [
             0.7777777777777778,
             "#fb9f3a"
            ],
            [
             0.8888888888888888,
             "#fdca26"
            ],
            [
             1,
             "#f0f921"
            ]
           ],
           "sequentialminus": [
            [
             0,
             "#0d0887"
            ],
            [
             0.1111111111111111,
             "#46039f"
            ],
            [
             0.2222222222222222,
             "#7201a8"
            ],
            [
             0.3333333333333333,
             "#9c179e"
            ],
            [
             0.4444444444444444,
             "#bd3786"
            ],
            [
             0.5555555555555556,
             "#d8576b"
            ],
            [
             0.6666666666666666,
             "#ed7953"
            ],
            [
             0.7777777777777778,
             "#fb9f3a"
            ],
            [
             0.8888888888888888,
             "#fdca26"
            ],
            [
             1,
             "#f0f921"
            ]
           ]
          },
          "colorway": [
           "#636efa",
           "#EF553B",
           "#00cc96",
           "#ab63fa",
           "#FFA15A",
           "#19d3f3",
           "#FF6692",
           "#B6E880",
           "#FF97FF",
           "#FECB52"
          ],
          "font": {
           "color": "#2a3f5f"
          },
          "geo": {
           "bgcolor": "white",
           "lakecolor": "white",
           "landcolor": "#E5ECF6",
           "showlakes": true,
           "showland": true,
           "subunitcolor": "white"
          },
          "hoverlabel": {
           "align": "left"
          },
          "hovermode": "closest",
          "mapbox": {
           "style": "light"
          },
          "paper_bgcolor": "white",
          "plot_bgcolor": "#E5ECF6",
          "polar": {
           "angularaxis": {
            "gridcolor": "white",
            "linecolor": "white",
            "ticks": ""
           },
           "bgcolor": "#E5ECF6",
           "radialaxis": {
            "gridcolor": "white",
            "linecolor": "white",
            "ticks": ""
           }
          },
          "scene": {
           "xaxis": {
            "backgroundcolor": "#E5ECF6",
            "gridcolor": "white",
            "gridwidth": 2,
            "linecolor": "white",
            "showbackground": true,
            "ticks": "",
            "zerolinecolor": "white"
           },
           "yaxis": {
            "backgroundcolor": "#E5ECF6",
            "gridcolor": "white",
            "gridwidth": 2,
            "linecolor": "white",
            "showbackground": true,
            "ticks": "",
            "zerolinecolor": "white"
           },
           "zaxis": {
            "backgroundcolor": "#E5ECF6",
            "gridcolor": "white",
            "gridwidth": 2,
            "linecolor": "white",
            "showbackground": true,
            "ticks": "",
            "zerolinecolor": "white"
           }
          },
          "shapedefaults": {
           "line": {
            "color": "#2a3f5f"
           }
          },
          "ternary": {
           "aaxis": {
            "gridcolor": "white",
            "linecolor": "white",
            "ticks": ""
           },
           "baxis": {
            "gridcolor": "white",
            "linecolor": "white",
            "ticks": ""
           },
           "bgcolor": "#E5ECF6",
           "caxis": {
            "gridcolor": "white",
            "linecolor": "white",
            "ticks": ""
           }
          },
          "title": {
           "x": 0.05
          },
          "xaxis": {
           "automargin": true,
           "gridcolor": "white",
           "linecolor": "white",
           "ticks": "",
           "title": {
            "standoff": 15
           },
           "zerolinecolor": "white",
           "zerolinewidth": 2
          },
          "yaxis": {
           "automargin": true,
           "gridcolor": "white",
           "linecolor": "white",
           "ticks": "",
           "title": {
            "standoff": 15
           },
           "zerolinecolor": "white",
           "zerolinewidth": 2
          }
         }
        },
        "title": {
         "text": "Sunlight Hours vs Crop Yield"
        },
        "xaxis": {
         "anchor": "y",
         "domain": [
          0,
          1
         ],
         "title": {
          "text": "Sunlight (hours)"
         }
        },
        "yaxis": {
         "anchor": "x",
         "domain": [
          0,
          1
         ],
         "title": {
          "text": "Crop Yield (tons/ha)"
         }
        }
       }
      }
     },
     "metadata": {},
     "output_type": "display_data"
    },
    {
     "data": {
      "application/vnd.plotly.v1+json": {
       "config": {
        "plotlyServerURL": "https://plot.ly"
       },
       "data": [
        {
         "hovertemplate": "Fertilizer (kg)=%{x}<br>Crop Yield (tons/ha)=%{y}<extra></extra>",
         "legendgroup": "",
         "marker": {
          "color": "#636efa",
          "opacity": 0.6,
          "symbol": "circle"
         },
         "mode": "markers",
         "name": "",
         "showlegend": false,
         "type": "scattergl",
         "x": {
          "bdata": "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",
          "dtype": "i2"
         },
         "xaxis": "x",
         "y": {
          "bdata": "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",
          "dtype": "i2"
         },
         "yaxis": "y"
        }
       ],
       "layout": {
        "legend": {
         "tracegroupgap": 0
        },
        "template": {
         "data": {
          "bar": [
           {
            "error_x": {
             "color": "#2a3f5f"
            },
            "error_y": {
             "color": "#2a3f5f"
            },
            "marker": {
             "line": {
              "color": "#E5ECF6",
              "width": 0.5
             },
             "pattern": {
              "fillmode": "overlay",
              "size": 10,
              "solidity": 0.2
             }
            },
            "type": "bar"
           }
          ],
          "barpolar": [
           {
            "marker": {
             "line": {
              "color": "#E5ECF6",
              "width": 0.5
             },
             "pattern": {
              "fillmode": "overlay",
              "size": 10,
              "solidity": 0.2
             }
            },
            "type": "barpolar"
           }
          ],
          "carpet": [
           {
            "aaxis": {
             "endlinecolor": "#2a3f5f",
             "gridcolor": "white",
             "linecolor": "white",
             "minorgridcolor": "white",
             "startlinecolor": "#2a3f5f"
            },
            "baxis": {
             "endlinecolor": "#2a3f5f",
             "gridcolor": "white",
             "linecolor": "white",
             "minorgridcolor": "white",
             "startlinecolor": "#2a3f5f"
            },
            "type": "carpet"
           }
          ],
          "choropleth": [
           {
            "colorbar": {
             "outlinewidth": 0,
             "ticks": ""
            },
            "type": "choropleth"
           }
          ],
          "contour": [
           {
            "colorbar": {
             "outlinewidth": 0,
             "ticks": ""
            },
            "colorscale": [
             [
              0,
              "#0d0887"
             ],
             [
              0.1111111111111111,
              "#46039f"
             ],
             [
              0.2222222222222222,
              "#7201a8"
             ],
             [
              0.3333333333333333,
              "#9c179e"
             ],
             [
              0.4444444444444444,
              "#bd3786"
             ],
             [
              0.5555555555555556,
              "#d8576b"
             ],
             [
              0.6666666666666666,
              "#ed7953"
             ],
             [
              0.7777777777777778,
              "#fb9f3a"
             ],
             [
              0.8888888888888888,
              "#fdca26"
             ],
             [
              1,
              "#f0f921"
             ]
            ],
            "type": "contour"
           }
          ],
          "contourcarpet": [
           {
            "colorbar": {
             "outlinewidth": 0,
             "ticks": ""
            },
            "type": "contourcarpet"
           }
          ],
          "heatmap": [
           {
            "colorbar": {
             "outlinewidth": 0,
             "ticks": ""
            },
            "colorscale": [
             [
              0,
              "#0d0887"
             ],
             [
              0.1111111111111111,
              "#46039f"
             ],
             [
              0.2222222222222222,
              "#7201a8"
             ],
             [
              0.3333333333333333,
              "#9c179e"
             ],
             [
              0.4444444444444444,
              "#bd3786"
             ],
             [
              0.5555555555555556,
              "#d8576b"
             ],
             [
              0.6666666666666666,
              "#ed7953"
             ],
             [
              0.7777777777777778,
              "#fb9f3a"
             ],
             [
              0.8888888888888888,
              "#fdca26"
             ],
             [
              1,
              "#f0f921"
             ]
            ],
            "type": "heatmap"
           }
          ],
          "histogram": [
           {
            "marker": {
             "pattern": {
              "fillmode": "overlay",
              "size": 10,
              "solidity": 0.2
             }
            },
            "type": "histogram"
           }
          ],
          "histogram2d": [
           {
            "colorbar": {
             "outlinewidth": 0,
             "ticks": ""
            },
            "colorscale": [
             [
              0,
              "#0d0887"
             ],
             [
              0.1111111111111111,
              "#46039f"
             ],
             [
              0.2222222222222222,
              "#7201a8"
             ],
             [
              0.3333333333333333,
              "#9c179e"
             ],
             [
              0.4444444444444444,
              "#bd3786"
             ],
             [
              0.5555555555555556,
              "#d8576b"
             ],
             [
              0.6666666666666666,
              "#ed7953"
             ],
             [
              0.7777777777777778,
              "#fb9f3a"
             ],
             [
              0.8888888888888888,
              "#fdca26"
             ],
             [
              1,
              "#f0f921"
             ]
            ],
            "type": "histogram2d"
           }
          ],
          "histogram2dcontour": [
           {
            "colorbar": {
             "outlinewidth": 0,
             "ticks": ""
            },
            "colorscale": [
             [
              0,
              "#0d0887"
             ],
             [
              0.1111111111111111,
              "#46039f"
             ],
             [
              0.2222222222222222,
              "#7201a8"
             ],
             [
              0.3333333333333333,
              "#9c179e"
             ],
             [
              0.4444444444444444,
              "#bd3786"
             ],
             [
              0.5555555555555556,
              "#d8576b"
             ],
             [
              0.6666666666666666,
              "#ed7953"
             ],
             [
              0.7777777777777778,
              "#fb9f3a"
             ],
             [
              0.8888888888888888,
              "#fdca26"
             ],
             [
              1,
              "#f0f921"
             ]
            ],
            "type": "histogram2dcontour"
           }
          ],
          "mesh3d": [
           {
            "colorbar": {
             "outlinewidth": 0,
             "ticks": ""
            },
            "type": "mesh3d"
           }
          ],
          "parcoords": [
           {
            "line": {
             "colorbar": {
              "outlinewidth": 0,
              "ticks": ""
             }
            },
            "type": "parcoords"
           }
          ],
          "pie": [
           {
            "automargin": true,
            "type": "pie"
           }
          ],
          "scatter": [
           {
            "fillpattern": {
             "fillmode": "overlay",
             "size": 10,
             "solidity": 0.2
            },
            "type": "scatter"
           }
          ],
          "scatter3d": [
           {
            "line": {
             "colorbar": {
              "outlinewidth": 0,
              "ticks": ""
             }
            },
            "marker": {
             "colorbar": {
              "outlinewidth": 0,
              "ticks": ""
             }
            },
            "type": "scatter3d"
           }
          ],
          "scattercarpet": [
           {
            "marker": {
             "colorbar": {
              "outlinewidth": 0,
              "ticks": ""
             }
            },
            "type": "scattercarpet"
           }
          ],
          "scattergeo": [
           {
            "marker": {
             "colorbar": {
              "outlinewidth": 0,
              "ticks": ""
             }
            },
            "type": "scattergeo"
           }
          ],
          "scattergl": [
           {
            "marker": {
             "colorbar": {
              "outlinewidth": 0,
              "ticks": ""
             }
            },
            "type": "scattergl"
           }
          ],
          "scattermap": [
           {
            "marker": {
             "colorbar": {
              "outlinewidth": 0,
              "ticks": ""
             }
            },
            "type": "scattermap"
           }
          ],
          "scattermapbox": [
           {
            "marker": {
             "colorbar": {
              "outlinewidth": 0,
              "ticks": ""
             }
            },
            "type": "scattermapbox"
           }
          ],
          "scatterpolar": [
           {
            "marker": {
             "colorbar": {
              "outlinewidth": 0,
              "ticks": ""
             }
            },
            "type": "scatterpolar"
           }
          ],
          "scatterpolargl": [
           {
            "marker": {
             "colorbar": {
              "outlinewidth": 0,
              "ticks": ""
             }
            },
            "type": "scatterpolargl"
           }
          ],
          "scatterternary": [
           {
            "marker": {
             "colorbar": {
              "outlinewidth": 0,
              "ticks": ""
             }
            },
            "type": "scatterternary"
           }
          ],
          "surface": [
           {
            "colorbar": {
             "outlinewidth": 0,
             "ticks": ""
            },
            "colorscale": [
             [
              0,
              "#0d0887"
             ],
             [
              0.1111111111111111,
              "#46039f"
             ],
             [
              0.2222222222222222,
              "#7201a8"
             ],
             [
              0.3333333333333333,
              "#9c179e"
             ],
             [
              0.4444444444444444,
              "#bd3786"
             ],
             [
              0.5555555555555556,
              "#d8576b"
             ],
             [
              0.6666666666666666,
              "#ed7953"
             ],
             [
              0.7777777777777778,
              "#fb9f3a"
             ],
             [
              0.8888888888888888,
              "#fdca26"
             ],
             [
              1,
              "#f0f921"
             ]
            ],
            "type": "surface"
           }
          ],
          "table": [
           {
            "cells": {
             "fill": {
              "color": "#EBF0F8"
             },
             "line": {
              "color": "white"
             }
            },
            "header": {
             "fill": {
              "color": "#C8D4E3"
             },
             "line": {
              "color": "white"
             }
            },
            "type": "table"
           }
          ]
         },
         "layout": {
          "annotationdefaults": {
           "arrowcolor": "#2a3f5f",
           "arrowhead": 0,
           "arrowwidth": 1
          },
          "autotypenumbers": "strict",
          "coloraxis": {
           "colorbar": {
            "outlinewidth": 0,
            "ticks": ""
           }
          },
          "colorscale": {
           "diverging": [
            [
             0,
             "#8e0152"
            ],
            [
             0.1,
             "#c51b7d"
            ],
            [
             0.2,
             "#de77ae"
            ],
            [
             0.3,
             "#f1b6da"
            ],
            [
             0.4,
             "#fde0ef"
            ],
            [
             0.5,
             "#f7f7f7"
            ],
            [
             0.6,
             "#e6f5d0"
            ],
            [
             0.7,
             "#b8e186"
            ],
            [
             0.8,
             "#7fbc41"
            ],
            [
             0.9,
             "#4d9221"
            ],
            [
             1,
             "#276419"
            ]
           ],
           "sequential": [
            [
             0,
             "#0d0887"
            ],
            [
             0.1111111111111111,
             "#46039f"
            ],
            [
             0.2222222222222222,
             "#7201a8"
            ],
            [
             0.3333333333333333,
             "#9c179e"
            ],
            [
             0.4444444444444444,
             "#bd3786"
            ],
            [
             0.5555555555555556,
             "#d8576b"
            ],
            [
             0.6666666666666666,
             "#ed7953"
            ],
            [
             0.7777777777777778,
             "#fb9f3a"
            ],
            [
             0.8888888888888888,
             "#fdca26"
            ],
            [
             1,
             "#f0f921"
            ]
           ],
           "sequentialminus": [
            [
             0,
             "#0d0887"
            ],
            [
             0.1111111111111111,
             "#46039f"
            ],
            [
             0.2222222222222222,
             "#7201a8"
            ],
            [
             0.3333333333333333,
             "#9c179e"
            ],
            [
             0.4444444444444444,
             "#bd3786"
            ],
            [
             0.5555555555555556,
             "#d8576b"
            ],
            [
             0.6666666666666666,
             "#ed7953"
            ],
            [
             0.7777777777777778,
             "#fb9f3a"
            ],
            [
             0.8888888888888888,
             "#fdca26"
            ],
            [
             1,
             "#f0f921"
            ]
           ]
          },
          "colorway": [
           "#636efa",
           "#EF553B",
           "#00cc96",
           "#ab63fa",
           "#FFA15A",
           "#19d3f3",
           "#FF6692",
           "#B6E880",
           "#FF97FF",
           "#FECB52"
          ],
          "font": {
           "color": "#2a3f5f"
          },
          "geo": {
           "bgcolor": "white",
           "lakecolor": "white",
           "landcolor": "#E5ECF6",
           "showlakes": true,
           "showland": true,
           "subunitcolor": "white"
          },
          "hoverlabel": {
           "align": "left"
          },
          "hovermode": "closest",
          "mapbox": {
           "style": "light"
          },
          "paper_bgcolor": "white",
          "plot_bgcolor": "#E5ECF6",
          "polar": {
           "angularaxis": {
            "gridcolor": "white",
            "linecolor": "white",
            "ticks": ""
           },
           "bgcolor": "#E5ECF6",
           "radialaxis": {
            "gridcolor": "white",
            "linecolor": "white",
            "ticks": ""
           }
          },
          "scene": {
           "xaxis": {
            "backgroundcolor": "#E5ECF6",
            "gridcolor": "white",
            "gridwidth": 2,
            "linecolor": "white",
            "showbackground": true,
            "ticks": "",
            "zerolinecolor": "white"
           },
           "yaxis": {
            "backgroundcolor": "#E5ECF6",
            "gridcolor": "white",
            "gridwidth": 2,
            "linecolor": "white",
            "showbackground": true,
            "ticks": "",
            "zerolinecolor": "white"
           },
           "zaxis": {
            "backgroundcolor": "#E5ECF6",
            "gridcolor": "white",
            "gridwidth": 2,
            "linecolor": "white",
            "showbackground": true,
            "ticks": "",
            "zerolinecolor": "white"
           }
          },
          "shapedefaults": {
           "line": {
            "color": "#2a3f5f"
           }
          },
          "ternary": {
           "aaxis": {
            "gridcolor": "white",
            "linecolor": "white",
            "ticks": ""
           },
           "baxis": {
            "gridcolor": "white",
            "linecolor": "white",
            "ticks": ""
           },
           "bgcolor": "#E5ECF6",
           "caxis": {
            "gridcolor": "white",
            "linecolor": "white",
            "ticks": ""
           }
          },
          "title": {
           "x": 0.05
          },
          "xaxis": {
           "automargin": true,
           "gridcolor": "white",
           "linecolor": "white",
           "ticks": "",
           "title": {
            "standoff": 15
           },
           "zerolinecolor": "white",
           "zerolinewidth": 2
          },
          "yaxis": {
           "automargin": true,
           "gridcolor": "white",
           "linecolor": "white",
           "ticks": "",
           "title": {
            "standoff": 15
           },
           "zerolinecolor": "white",
           "zerolinewidth": 2
          }
         }
        },
        "title": {
         "text": "Fertilizer Usage vs Crop Yield"
        },
        "xaxis": {
         "anchor": "y",
         "domain": [
          0,
          1
         ],
         "title": {
          "text": "Fertilizer (kg)"
         }
        },
        "yaxis": {
         "anchor": "x",
         "domain": [
          0,
          1
         ],
         "title": {
          "text": "Crop Yield (tons/ha)"
         }
        }
       }
      }
     },
     "metadata": {},
     "output_type": "display_data"
    }
   ],
   "source": [
    "import plotly.express as px\n",
    "import numpy as np\n",
    "\n",
    "# Add jitter for discrete variables\n",
    "df[\"soil_quality_jitter\"] = df[\"soil_quality_index\"] + np.random.uniform(-0.2, 0.2, size=len(df))\n",
    "df[\"sunlight_jitter\"] = df[\"sunlight_hours\"] + np.random.uniform(-0.2, 0.2, size=len(df))\n",
    "\n",
    "# 1. Rainfall vs Crop Yield\n",
    "fig_rainfall_yield = px.scatter(\n",
    "    df,\n",
    "    x=\"rainfall_mm\",\n",
    "    y=\"crop_yield\",\n",
    "    title=\"Rainfall vs Crop Yield\",\n",
    "    labels={\"rainfall_mm\": \"Rainfall (mm)\", \"crop_yield\": \"Crop Yield (tons/ha)\"},\n",
    "    opacity=0.6\n",
    ")\n",
    "\n",
    "# 2. Soil Quality Index vs Crop Yield\n",
    "fig_soil_yield = px.scatter(\n",
    "    df,\n",
    "    x=\"soil_quality_jitter\",\n",
    "    y=\"crop_yield\",\n",
    "    title=\"Soil Quality Index vs Crop Yield\",\n",
    "    labels={\"soil_quality_jitter\": \"Soil Quality Index (1-10)\", \"crop_yield\": \"Crop Yield (tons/ha)\"},\n",
    "    opacity=0.6\n",
    ")\n",
    "\n",
    "# 3. Farm Size vs Crop Yield\n",
    "fig_farm_yield = px.scatter(\n",
    "    df,\n",
    "    x=\"farm_size_hectares\",\n",
    "    y=\"crop_yield\",\n",
    "    title=\"Farm Size vs Crop Yield\",\n",
    "    labels={\"farm_size_hectares\": \"Farm Size (hectares)\", \"crop_yield\": \"Crop Yield (tons/ha)\"},\n",
    "    opacity=0.6\n",
    ")\n",
    "\n",
    "# 4. Sunlight Hours vs Crop Yield\n",
    "fig_sunlight_yield = px.scatter(\n",
    "    df,\n",
    "    x=\"sunlight_jitter\",\n",
    "    y=\"crop_yield\",\n",
    "    title=\"Sunlight Hours vs Crop Yield\",\n",
    "    labels={\"sunlight_jitter\": \"Sunlight (hours)\", \"crop_yield\": \"Crop Yield (tons/ha)\"},\n",
    "    opacity=0.6\n",
    ")\n",
    "\n",
    "# 5. Fertilizer Usage vs Crop Yield\n",
    "fig_fertilizer_yield = px.scatter(\n",
    "    df,\n",
    "    x=\"fertilizer_kg\",\n",
    "    y=\"crop_yield\",\n",
    "    title=\"Fertilizer Usage vs Crop Yield\",\n",
    "    labels={\"fertilizer_kg\": \"Fertilizer (kg)\", \"crop_yield\": \"Crop Yield (tons/ha)\"},\n",
    "    opacity=0.6\n",
    ")\n",
    "\n",
    "# Show all plots\n",
    "fig_rainfall_yield.show()\n",
    "fig_soil_yield.show()\n",
    "fig_farm_yield.show()\n",
    "fig_sunlight_yield.show()\n",
    "fig_fertilizer_yield.show()"
   ]
  },
  {
   "cell_type": "markdown",
   "id": "df9ef595",
   "metadata": {},
   "source": [
    "### Bivariate Analysis Insights\n",
    "\n",
    "After plotting scatter plots of each independent variable against crop yield, several patterns and relationships became apparent:\n",
    "\n",
    "1. **Rainfall vs Crop Yield:**  \n",
    "   The scatter plot shows no clear linear relationship. Crop yields are spread widely across the entire rainfall range, suggesting that rainfall alone does not strongly determine yield. Other factors likely interact with rainfall to influence productivity.\n",
    "\n",
    "2. **Soil Quality Index vs Crop Yield:**  \n",
    "   Even with jitter added, crop yields appear relatively consistent across all soil quality levels (1–10). There is no strong upward or downward trend, indicating that soil quality may have less predictive power on its own. However, it might interact with fertilizer usage or rainfall in more complex ways.\n",
    "\n",
    "3. **Farm Size vs Crop Yield:**  \n",
    "   A clear positive relationship is observed — larger farms tend to be associated with higher crop yields. This may reflect economies of scale, where larger farms can use resources more efficiently or apply more inputs, leading to better yields.\n",
    "\n",
    "4. **Sunlight Hours vs Crop Yield:**  \n",
    "   Similar to soil quality, sunlight hours show little variation in crop yields across the range (4–12 hours). This suggests that within the simulated dataset, sunlight exposure may not be a major limiting factor for productivity.\n",
    "\n",
    "5. **Fertilizer Usage vs Crop Yield:**  \n",
    "   Fertilizer use shows some weak positive trend with crop yield, though the points are widely scattered. This implies that while fertilizer may improve yields, it is not the sole determinant. The effect of fertilizer likely depends on interactions with soil quality and rainfall.\n",
    "\n",
    "---\n",
    "\n",
    "**Key Takeaway:**  \n",
    "Among the environmental and input variables, **farm size shows the clearest positive relationship with crop yield**, while other variables (rainfall, soil quality, sunlight, fertilizer) display weak or no standalone patterns. This suggests that crop yield in the dataset is likely influenced by **multifactor interactions** rather than any single variable in isolation.\n"
   ]
  },
  {
   "cell_type": "markdown",
   "id": "bbea936b",
   "metadata": {},
   "source": [
    "## Hypothesis Testing"
   ]
  },
  {
   "cell_type": "markdown",
   "id": "b5bc4c3a",
   "metadata": {},
   "source": [
    "### Hypothesis Testing: Does Farm Size Affect Crop Yield?\n",
    "\n",
    "We want to test whether farm size has a significant effect on crop yield.  \n",
    "\n",
    "**Null Hypothesis (H₀):**  \n",
    "Farm size has no effect on crop yield. Any differences in yield between farms of different sizes are due to random chance.\n",
    "\n",
    "**Alternative Hypothesis (H₁):**  \n",
    "Farm size does affect crop yield. Farms with larger (or smaller) sizes tend to have systematically different yields.\n",
    "\n",
    "---\n",
    "\n",
    "**Test Choice:**  \n",
    "We will use a **permutation test** to assess the relationship between farm size and crop yield.  \n",
    "- **Test statistic:** The observed correlation (or difference in mean yields between large and small farms).  \n",
    "- **Permutation procedure:** Randomly shuffle the crop yield values among farms many times (e.g., 10,000 permutations), recompute the test statistic each time, and compare the observed statistic to this null distribution.  \n",
    "- **Significance level (α):** 0.05  \n",
    "\n",
    "---\n",
    "\n",
    "**Interpretation of Results:**  \n",
    "- If the *p-value* < 0.05, we reject the null hypothesis and conclude that farm size has a statistically significant effect on crop yield.  \n",
    "- If the *p-value* ≥ 0.05, we fail to reject the null hypothesis and conclude that we do not have enough evidence to say farm size impacts crop yield.\n",
    "\n",
    "---\n",
    "\n",
    "**Note:** Since this dataset is simulated, this test only shows whether a statistical relationship exists in the given data, not necessarily in real-world farming."
   ]
  },
  {
   "cell_type": "code",
   "execution_count": 5,
   "id": "e0dadf77",
   "metadata": {},
   "outputs": [
    {
     "name": "stdout",
     "output_type": "stream",
     "text": [
      "Observed correlation: 0.9892\n",
      "P-value from permutation test: 0.0000\n"
     ]
    }
   ],
   "source": [
    "import numpy as np\n",
    "\n",
    "# Observed correlation (test statistic)\n",
    "observed_corr = np.corrcoef(df[\"farm_size_hectares\"], df[\"crop_yield\"])[0, 1]\n",
    "\n",
    "# Permutation test\n",
    "n_permutations = 10000\n",
    "perm_corrs = []\n",
    "\n",
    "for _ in range(n_permutations):\n",
    "    shuffled_yield = np.random.permutation(df[\"crop_yield\"])\n",
    "    perm_corr = np.corrcoef(df[\"farm_size_hectares\"], shuffled_yield)[0, 1]\n",
    "    perm_corrs.append(perm_corr)\n",
    "\n",
    "# Calculate p-value (two-sided test)\n",
    "perm_corrs = np.array(perm_corrs)\n",
    "p_value = np.mean(np.abs(perm_corrs) >= np.abs(observed_corr))\n",
    "\n",
    "print(f\"Observed correlation: {observed_corr:.4f}\")\n",
    "print(f\"P-value from permutation test: {p_value:.4f}\")"
   ]
  },
  {
   "cell_type": "markdown",
   "id": "17055284",
   "metadata": {},
   "source": [
    "### Hypothesis Test Results: Farm Size vs Crop Yield\n",
    "\n",
    "- **Observed correlation (test statistic):** 0.9892  \n",
    "- **p-value from permutation test:** < 0.001  \n",
    "\n",
    "Since the p-value is far below the significance level (α = 0.05), we reject the null hypothesis.  \n",
    "This provides strong evidence that **farm size is significantly associated with crop yield** in the dataset.  \n",
    "\n",
    "---\n",
    "\n",
    "**Interpretation:**  \n",
    "Larger farms tend to achieve higher crop yields, and this effect is very unlikely to be due to random chance.  \n",
    "However, since the dataset is simulated, these results show only a statistical relationship within the data, not necessarily a guaranteed real-world causal effect.\n"
   ]
  },
  {
   "cell_type": "markdown",
   "id": "c5504b25",
   "metadata": {},
   "source": [
    "## Framing a Prediction Problem"
   ]
  },
  {
   "cell_type": "markdown",
   "id": "9665376d",
   "metadata": {},
   "source": [
    "### Problem Identification\n",
    "For this project, we aim to **predict crop yield (tons per hectare) based on farm size (hectares)**. The primary prediction problem is:\n",
    "\n",
    "**\"Can we predict crop yield based on farm size?\"**\n",
    "\n",
    "This is a **regression problem**, since the target variable (crop yield) is continuous. From the exploratory analysis, farm size shows the clearest positive relationship with crop yield compared to other features, making it the most suitable predictor for this model.\n",
    "\n",
    "### Response Variable\n",
    "- **Response variable (target):** Crop Yield (tons per hectare)  \n",
    "- **Predictor variable (feature):** Farm size (hectares)\n",
    "\n",
    "### Model Evaluation Metric\n",
    "We will evaluate the regression model using **Root Mean Squared Error (RMSE)** as the primary metric, since it penalizes larger errors more heavily and ensures predictions are as close as possible to actual yields. We will also consider **R²** to measure how much variance in crop yield is explained by farm size.\n",
    "\n",
    "### Assumptions at Time of Prediction\n",
    "At the time of prediction, we assume that farm size is known. Since farm size is a fixed attribute available before planting, it is a valid predictor for this regression problem."
   ]
  },
  {
   "cell_type": "code",
   "execution_count": 9,
   "id": "5a2ba199",
   "metadata": {},
   "outputs": [
    {
     "name": "stdout",
     "output_type": "stream",
     "text": [
      "Root Mean Squared Error (RMSE): 21.463\n",
      "R² Score: 0.978\n",
      "Intercept: 78.527\n",
      "Coefficient (slope): 0.500\n"
     ]
    },
    {
     "data": {
      "image/png": "[encoded data removed]",
      "text/plain": [
       "<Figure size 640x480 with 1 Axes>"
      ]
     },
     "metadata": {},
     "output_type": "display_data"
    }
   ],
   "source": [
    "import numpy as np\n",
    "from sklearn.model_selection import train_test_split\n",
    "from sklearn.linear_model import LinearRegression\n",
    "from sklearn.metrics import mean_squared_error, r2_score\n",
    "import matplotlib.pyplot as plt\n",
    "\n",
    "# -----------------------------\n",
    "# Step 1: Define predictor and target\n",
    "# -----------------------------\n",
    "X = df[[\"farm_size_hectares\"]]   # predictor (must be 2D)\n",
    "y = df[\"crop_yield\"]             # target\n",
    "\n",
    "# -----------------------------\n",
    "# Step 2: Train-test split\n",
    "# -----------------------------\n",
    "X_train, X_test, y_train, y_test = train_test_split(\n",
    "    X, y, test_size=0.2, random_state=42\n",
    ")\n",
    "\n",
    "# -----------------------------\n",
    "# Step 3: Fit Linear Regression model\n",
    "# -----------------------------\n",
    "model = LinearRegression()\n",
    "model.fit(X_train, y_train)\n",
    "\n",
    "# -----------------------------\n",
    "# Step 4: Predictions\n",
    "# -----------------------------\n",
    "y_pred = model.predict(X_test)\n",
    "\n",
    "# -----------------------------\n",
    "# Step 5: Evaluation\n",
    "# -----------------------------\n",
    "rmse = np.sqrt(mean_squared_error(y_test, y_pred))\n",
    "r2 = r2_score(y_test, y_pred)\n",
    "\n",
    "print(f\"Root Mean Squared Error (RMSE): {rmse:.3f}\")\n",
    "print(f\"R² Score: {r2:.3f}\")\n",
    "print(f\"Intercept: {model.intercept_:.3f}\")\n",
    "print(f\"Coefficient (slope): {model.coef_[0]:.3f}\")\n",
    "\n",
    "# -----------------------------\n",
    "# Step 6: Visualization\n",
    "# -----------------------------\n",
    "plt.scatter(X, y, color=\"blue\", alpha=0.6, label=\"Actual data\")\n",
    "plt.plot(X, model.predict(X), color=\"red\", linewidth=2, label=\"Regression line\")\n",
    "plt.xlabel(\"Farm Size (hectares)\")\n",
    "plt.ylabel(\"Crop Yield (tons per hectare)\")\n",
    "plt.title(\"Linear Regression: Farm Size vs. Crop Yield\")\n",
    "plt.legend()\n",
    "plt.show()"
   ]
  },
  {
   "cell_type": "markdown",
   "id": "6965c9a4",
   "metadata": {},
   "source": [
    "## Conclusion\n",
    "\n",
    "The linear regression model built to predict **crop yield (tons per hectare)** from **farm size (hectares)** performed exceptionally well. The model achieved an **R² score of 0.978**, indicating that farm size alone explains nearly **98% of the variation in crop yield**. The low **RMSE of 21.46** further confirms that prediction errors are relatively small compared to the overall scale of yields in the dataset.  \n",
    "\n",
    "The regression line, with an intercept of **78.53** and a slope of **0.50**, suggests that even small farms start with a baseline yield, and each additional hectare is associated with an average increase of approximately **0.5 tons per hectare** in yield. This strong linear pattern is clearly visible in the scatter plot, where the fitted line closely follows the distribution of the actual data.  \n",
    "\n",
    "These results demonstrate that farm size is a highly effective single predictor of crop yield in this dataset. However, in real-world agriculture, yield is also shaped by environmental and management factors such as rainfall, soil quality, sunlight, and fertilizer usage. Incorporating these additional features into a **multiple regression model** could further refine predictions and provide a more holistic understanding of yield variability."
   ]
  }
 ],
 "metadata": {
  "kernelspec": {
   "display_name": "Python 3",
   "language": "python",
   "name": "python3"
  },
  "language_info": {
   "codemirror_mode": {
    "name": "ipython",
    "version": 3
   },
   "file_extension": ".py",
   "mimetype": "text/x-python",
   "name": "python",
   "nbconvert_exporter": "python",
   "pygments_lexer": "ipython3",
   "version": "3.9.6"
  }
 },
 "nbformat": 4,
 "nbformat_minor": 5
}
