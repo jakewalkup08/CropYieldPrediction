{
 "cells": [
  {
   "cell_type": "markdown",
   "id": "8bef52ea",
   "metadata": {},
   "source": [
    "# Crop Yield Prediction Using Environmental Data\n",
    "\n",
    "**Name(s):** Jake Walkup\n",
    "\n",
    "**Website Link:** _coming soon_"
   ]
  },
  {
   "cell_type": "markdown",
   "id": "d6cd39d0",
   "metadata": {},
   "source": [
    "## Introduction\n",
    "\n",
    "I got the dataset from Kaggle. It contains **3000 rows** of simulated data points representing different environmental and farming conditions that affect crop yield. I chose this topic because I care about sustainability and want to explore how data can help improve agricultural productivity in an eco-friendly way.\n",
    "\n",
    "The dataset includes the following **features**:\n",
    "\n",
    "- `rainfall_mm`: Average rainfall during the growing season (500–2000 mm)\n",
    "- `soil_quality_index`: A score from 1 to 10 measuring soil quality\n",
    "- `farm_size_hectares`: The size of the farm (10–1000 hectares)\n",
    "- `sunlight_hours`: Average sunlight per day during the season (4–12 hours)\n",
    "- `fertilizer_kg`: Amount of fertilizer used per hectare (100–3000 kg)\n",
    "\n",
    "The **target variable** is `crop_yield` (in tons per hectare).\n",
    "\n",
    "Some questions I brainstormed:\n",
    "\n",
    "- What are the most important factors that influence crop yield?\n",
    "- How much does fertilizer usage affect yield?\n",
    "- Can sunlight or rainfall predict crop success alone?\n",
    "\n",
    "I chose: **\"What are the most important factors that influence crop yield?\"**\n"
   ]
  },
  {
   "cell_type": "code",
   "execution_count": 1,
   "id": "8c2d8fdc",
   "metadata": {},
   "outputs": [
    {
     "name": "stdout",
     "output_type": "stream",
     "text": [
      "   rainfall_mm  soil_quality_index  farm_size_hectares  sunlight_hours  \\\n",
      "0         1626                   9                 636              11   \n",
      "1         1959                   9                  73              11   \n",
      "2         1360                   1                 352               5   \n",
      "3         1794                   2                 948               7   \n",
      "4         1630                   5                 884               5   \n",
      "5         1595                   4                 928               7   \n",
      "6         1544                  10                 361              10   \n",
      "7          621                   9                 167              12   \n",
      "8          966                   7                 598              11   \n",
      "9         1738                   6                 500              12   \n",
      "\n",
      "   fertilizer_kg  crop_yield  \n",
      "0           1006         404  \n",
      "1            112         115  \n",
      "2            702         231  \n",
      "3            299         537  \n",
      "4           2733         554  \n",
      "5           1891         556  \n",
      "6            547         257  \n",
      "7           1911         158  \n",
      "8            940         360  \n",
      "9            689         327  \n"
     ]
    }
   ],
   "source": [
    "import pandas as pd\n",
    "\n",
    "# Convert CSV file to Pandas data frame\n",
    "df = pd.read_csv('crop_yield_data.csv')\n",
    "\n",
    "# Head returns the first few rows from the data frame\n",
    "print(df.head(10))"
   ]
  },
  {
   "cell_type": "markdown",
   "id": "0ef083f4",
   "metadata": {},
   "source": [
    "## Data Cleaning and Exploratory Data Analysis"
   ]
  },
  {
   "cell_type": "markdown",
   "id": "e4ba832a",
   "metadata": {},
   "source": [
    "### Data Cleaning:"
   ]
  },
  {
   "cell_type": "markdown",
   "id": "00cf0a7a",
   "metadata": {},
   "source": [
    "In the introduction section, I listed the units for each variable. Below, I examined the dataset for missing values (NaN) and other inconsistencies. After a thorough review, I found no significant missing or invalid data, indicating that the dataset was already clean and ready for analysis. This ensures that subsequent analyses are not biased or impacted by incomplete information."
   ]
  },
  {
   "cell_type": "code",
   "execution_count": 2,
   "id": "9fc0472f",
   "metadata": {},
   "outputs": [
    {
     "name": "stdout",
     "output_type": "stream",
     "text": [
      "False\n",
      "rainfall_mm           0\n",
      "soil_quality_index    0\n",
      "farm_size_hectares    0\n",
      "sunlight_hours        0\n",
      "fertilizer_kg         0\n",
      "crop_yield            0\n",
      "dtype: int64\n"
     ]
    }
   ],
   "source": [
    "# It tells you if there are any missing values in the whole DataFrame\n",
    "print(df.isnull().values.any())\n",
    "\n",
    "# It tells you which columns have missing values in the DataFrame\n",
    "print(df.isnull().sum())"
   ]
  },
  {
   "cell_type": "markdown",
   "id": "f75ccf2e",
   "metadata": {},
   "source": [
    "As shown in the code above, there are no missing values in the DataFrame."
   ]
  },
  {
   "cell_type": "markdown",
   "id": "3bee65a4",
   "metadata": {},
   "source": [
    "### Univariate Analysis:"
   ]
  },
  {
   "cell_type": "code",
   "execution_count": 3,
   "id": "acb6b70d",
   "metadata": {},
   "outputs": [
    {
     "name": "stdout",
     "output_type": "stream",
     "text": [
      "Defaulting to user installation because normal site-packages is not writeable\n",
      "Requirement already satisfied: nbformat in /Users/jakewalkup/Library/Python/3.9/lib/python/site-packages (5.10.4)\n",
      "Requirement already satisfied: plotly in /Users/jakewalkup/Library/Python/3.9/lib/python/site-packages (6.2.0)\n",
      "Requirement already satisfied: fastjsonschema>=2.15 in /Users/jakewalkup/Library/Python/3.9/lib/python/site-packages (from nbformat) (2.21.1)\n",
      "Requirement already satisfied: jsonschema>=2.6 in /Users/jakewalkup/Library/Python/3.9/lib/python/site-packages (from nbformat) (4.25.0)\n",
      "Requirement already satisfied: jupyter-core!=5.0.*,>=4.12 in /Users/jakewalkup/Library/Python/3.9/lib/python/site-packages (from nbformat) (5.8.1)\n",
      "Requirement already satisfied: traitlets>=5.1 in /Users/jakewalkup/Library/Python/3.9/lib/python/site-packages (from nbformat) (5.14.3)\n",
      "Requirement already satisfied: narwhals>=1.15.1 in /Users/jakewalkup/Library/Python/3.9/lib/python/site-packages (from plotly) (2.1.0)\n",
      "Requirement already satisfied: packaging in /Users/jakewalkup/Library/Python/3.9/lib/python/site-packages (from plotly) (25.0)\n",
      "Requirement already satisfied: attrs>=22.2.0 in /Users/jakewalkup/Library/Python/3.9/lib/python/site-packages (from jsonschema>=2.6->nbformat) (25.3.0)\n",
      "Requirement already satisfied: jsonschema-specifications>=2023.03.6 in /Users/jakewalkup/Library/Python/3.9/lib/python/site-packages (from jsonschema>=2.6->nbformat) (2025.4.1)\n",
      "Requirement already satisfied: referencing>=0.28.4 in /Users/jakewalkup/Library/Python/3.9/lib/python/site-packages (from jsonschema>=2.6->nbformat) (0.36.2)\n",
      "Requirement already satisfied: rpds-py>=0.7.1 in /Users/jakewalkup/Library/Python/3.9/lib/python/site-packages (from jsonschema>=2.6->nbformat) (0.27.0)\n",
      "Requirement already satisfied: platformdirs>=2.5 in /Users/jakewalkup/Library/Python/3.9/lib/python/site-packages (from jupyter-core!=5.0.*,>=4.12->nbformat) (4.3.8)\n",
      "Requirement already satisfied: typing-extensions>=4.4.0 in /Users/jakewalkup/Library/Python/3.9/lib/python/site-packages (from referencing>=0.28.4->jsonschema>=2.6->nbformat) (4.14.1)\n",
      "Note: you may need to restart the kernel to use updated packages.\n"
     ]
    },
    {
     "data": {
      "application/vnd.plotly.v1+json": {
       "config": {
        "plotlyServerURL": "https://plot.ly"
       },
       "data": [
        {
         "bingroup": "x",
         "hovertemplate": "Rainfall (mm)=%{x}<br>count=%{y}<extra></extra>",
         "legendgroup": "",
         "marker": {
          "color": "#636efa",
          "pattern": {
           "shape": ""
          }
         },
         "name": "",
         "nbinsx": 100,
         "orientation": "v",
         "showlegend": false,
         "type": "histogram",
         "x": {
          "bdata": "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",
          "dtype": "i2"
         },
         "xaxis": "x",
         "yaxis": "y"
        }
       ],
       "layout": {
        "barmode": "relative",
        "legend": {
         "tracegroupgap": 0
        },
        "template": {
         "data": {
          "bar": [
           {
            "error_x": {
             "color": "#2a3f5f"
            },
            "error_y": {
             "color": "#2a3f5f"
            },
            "marker": {
             "line": {
              "color": "#E5ECF6",
              "width": 0.5
             },
             "pattern": {
              "fillmode": "overlay",
              "size": 10,
              "solidity": 0.2
             }
            },
            "type": "bar"
           }
          ],
          "barpolar": [
           {
            "marker": {
             "line": {
              "color": "#E5ECF6",
              "width": 0.5
             },
             "pattern": {
              "fillmode": "overlay",
              "size": 10,
              "solidity": 0.2
             }
            },
            "type": "barpolar"
           }
          ],
          "carpet": [
           {
            "aaxis": {
             "endlinecolor": "#2a3f5f",
             "gridcolor": "white",
             "linecolor": "white",
             "minorgridcolor": "white",
             "startlinecolor": "#2a3f5f"
            },
            "baxis": {
             "endlinecolor": "#2a3f5f",
             "gridcolor": "white",
             "linecolor": "white",
             "minorgridcolor": "white",
             "startlinecolor": "#2a3f5f"
            },
            "type": "carpet"
           }
          ],
          "choropleth": [
           {
            "colorbar": {
             "outlinewidth": 0,
             "ticks": ""
            },
            "type": "choropleth"
           }
          ],
          "contour": [
           {
            "colorbar": {
             "outlinewidth": 0,
             "ticks": ""
            },
            "colorscale": [
             [
              0,
              "#0d0887"
             ],
             [
              0.1111111111111111,
              "#46039f"
             ],
             [
              0.2222222222222222,
              "#7201a8"
             ],
             [
              0.3333333333333333,
              "#9c179e"
             ],
             [
              0.4444444444444444,
              "#bd3786"
             ],
             [
              0.5555555555555556,
              "#d8576b"
             ],
             [
              0.6666666666666666,
              "#ed7953"
             ],
             [
              0.7777777777777778,
              "#fb9f3a"
             ],
             [
              0.8888888888888888,
              "#fdca26"
             ],
             [
              1,
              "#f0f921"
             ]
            ],
            "type": "contour"
           }
          ],
          "contourcarpet": [
           {
            "colorbar": {
             "outlinewidth": 0,
             "ticks": ""
            },
            "type": "contourcarpet"
           }
          ],
          "heatmap": [
           {
            "colorbar": {
             "outlinewidth": 0,
             "ticks": ""
            },
            "colorscale": [
             [
              0,
              "#0d0887"
             ],
             [
              0.1111111111111111,
              "#46039f"
             ],
             [
              0.2222222222222222,
              "#7201a8"
             ],
             [
              0.3333333333333333,
              "#9c179e"
             ],
             [
              0.4444444444444444,
              "#bd3786"
             ],
             [
              0.5555555555555556,
              "#d8576b"
             ],
             [
              0.6666666666666666,
              "#ed7953"
             ],
             [
              0.7777777777777778,
              "#fb9f3a"
             ],
             [
              0.8888888888888888,
              "#fdca26"
             ],
             [
              1,
              "#f0f921"
             ]
            ],
            "type": "heatmap"
           }
          ],
          "histogram": [
           {
            "marker": {
             "pattern": {
              "fillmode": "overlay",
              "size": 10,
              "solidity": 0.2
             }
            },
            "type": "histogram"
           }
          ],
          "histogram2d": [
           {
            "colorbar": {
             "outlinewidth": 0,
             "ticks": ""
            },
            "colorscale": [
             [
              0,
              "#0d0887"
             ],
             [
              0.1111111111111111,
              "#46039f"
             ],
             [
              0.2222222222222222,
              "#7201a8"
             ],
             [
              0.3333333333333333,
              "#9c179e"
             ],
             [
              0.4444444444444444,
              "#bd3786"
             ],
             [
              0.5555555555555556,
              "#d8576b"
             ],
             [
              0.6666666666666666,
              "#ed7953"
             ],
             [
              0.7777777777777778,
              "#fb9f3a"
             ],
             [
              0.8888888888888888,
              "#fdca26"
             ],
             [
              1,
              "#f0f921"
             ]
            ],
            "type": "histogram2d"
           }
          ],
          "histogram2dcontour": [
           {
            "colorbar": {
             "outlinewidth": 0,
             "ticks": ""
            },
            "colorscale": [
             [
              0,
              "#0d0887"
             ],
             [
              0.1111111111111111,
              "#46039f"
             ],
             [
              0.2222222222222222,
              "#7201a8"
             ],
             [
              0.3333333333333333,
              "#9c179e"
             ],
             [
              0.4444444444444444,
              "#bd3786"
             ],
             [
              0.5555555555555556,
              "#d8576b"
             ],
             [
              0.6666666666666666,
              "#ed7953"
             ],
             [
              0.7777777777777778,
              "#fb9f3a"
             ],
             [
              0.8888888888888888,
              "#fdca26"
             ],
             [
              1,
              "#f0f921"
             ]
            ],
            "type": "histogram2dcontour"
           }
          ],
          "mesh3d": [
           {
            "colorbar": {
             "outlinewidth": 0,
             "ticks": ""
            },
            "type": "mesh3d"
           }
          ],
          "parcoords": [
           {
            "line": {
             "colorbar": {
              "outlinewidth": 0,
              "ticks": ""
             }
            },
            "type": "parcoords"
           }
          ],
          "pie": [
           {
            "automargin": true,
            "type": "pie"
           }
          ],
          "scatter": [
           {
            "fillpattern": {
             "fillmode": "overlay",
             "size": 10,
             "solidity": 0.2
            },
            "type": "scatter"
           }
          ],
          "scatter3d": [
           {
            "line": {
             "colorbar": {
              "outlinewidth": 0,
              "ticks": ""
             }
            },
            "marker": {
             "colorbar": {
              "outlinewidth": 0,
              "ticks": ""
             }
            },
            "type": "scatter3d"
           }
          ],
          "scattercarpet": [
           {
            "marker": {
             "colorbar": {
              "outlinewidth": 0,
              "ticks": ""
             }
            },
            "type": "scattercarpet"
           }
          ],
          "scattergeo": [
           {
            "marker": {
             "colorbar": {
              "outlinewidth": 0,
              "ticks": ""
             }
            },
            "type": "scattergeo"
           }
          ],
          "scattergl": [
           {
            "marker": {
             "colorbar": {
              "outlinewidth": 0,
              "ticks": ""
             }
            },
            "type": "scattergl"
           }
          ],
          "scattermap": [
           {
            "marker": {
             "colorbar": {
              "outlinewidth": 0,
              "ticks": ""
             }
            },
            "type": "scattermap"
           }
          ],
          "scattermapbox": [
           {
            "marker": {
             "colorbar": {
              "outlinewidth": 0,
              "ticks": ""
             }
            },
            "type": "scattermapbox"
           }
          ],
          "scatterpolar": [
           {
            "marker": {
             "colorbar": {
              "outlinewidth": 0,
              "ticks": ""
             }
            },
            "type": "scatterpolar"
           }
          ],
          "scatterpolargl": [
           {
            "marker": {
             "colorbar": {
              "outlinewidth": 0,
              "ticks": ""
             }
            },
            "type": "scatterpolargl"
           }
          ],
          "scatterternary": [
           {
            "marker": {
             "colorbar": {
              "outlinewidth": 0,
              "ticks": ""
             }
            },
            "type": "scatterternary"
           }
          ],
          "surface": [
           {
            "colorbar": {
             "outlinewidth": 0,
             "ticks": ""
            },
            "colorscale": [
             [
              0,
              "#0d0887"
             ],
             [
              0.1111111111111111,
              "#46039f"
             ],
             [
              0.2222222222222222,
              "#7201a8"
             ],
             [
              0.3333333333333333,
              "#9c179e"
             ],
             [
              0.4444444444444444,
              "#bd3786"
             ],
             [
              0.5555555555555556,
              "#d8576b"
             ],
             [
              0.6666666666666666,
              "#ed7953"
             ],
             [
              0.7777777777777778,
              "#fb9f3a"
             ],
             [
              0.8888888888888888,
              "#fdca26"
             ],
             [
              1,
              "#f0f921"
             ]
            ],
            "type": "surface"
           }
          ],
          "table": [
           {
            "cells": {
             "fill": {
              "color": "#EBF0F8"
             },
             "line": {
              "color": "white"
             }
            },
            "header": {
             "fill": {
              "color": "#C8D4E3"
             },
             "line": {
              "color": "white"
             }
            },
            "type": "table"
           }
          ]
         },
         "layout": {
          "annotationdefaults": {
           "arrowcolor": "#2a3f5f",
           "arrowhead": 0,
           "arrowwidth": 1
          },
          "autotypenumbers": "strict",
          "coloraxis": {
           "colorbar": {
            "outlinewidth": 0,
            "ticks": ""
           }
          },
          "colorscale": {
           "diverging": [
            [
             0,
             "#8e0152"
            ],
            [
             0.1,
             "#c51b7d"
            ],
            [
             0.2,
             "#de77ae"
            ],
            [
             0.3,
             "#f1b6da"
            ],
            [
             0.4,
             "#fde0ef"
            ],
            [
             0.5,
             "#f7f7f7"
            ],
            [
             0.6,
             "#e6f5d0"
            ],
            [
             0.7,
             "#b8e186"
            ],
            [
             0.8,
             "#7fbc41"
            ],
            [
             0.9,
             "#4d9221"
            ],
            [
             1,
             "#276419"
            ]
           ],
           "sequential": [
            [
             0,
             "#0d0887"
            ],
            [
             0.1111111111111111,
             "#46039f"
            ],
            [
             0.2222222222222222,
             "#7201a8"
            ],
            [
             0.3333333333333333,
             "#9c179e"
            ],
            [
             0.4444444444444444,
             "#bd3786"
            ],
            [
             0.5555555555555556,
             "#d8576b"
            ],
            [
             0.6666666666666666,
             "#ed7953"
            ],
            [
             0.7777777777777778,
             "#fb9f3a"
            ],
            [
             0.8888888888888888,
             "#fdca26"
            ],
            [
             1,
             "#f0f921"
            ]
           ],
           "sequentialminus": [
            [
             0,
             "#0d0887"
            ],
            [
             0.1111111111111111,
             "#46039f"
            ],
            [
             0.2222222222222222,
             "#7201a8"
            ],
            [
             0.3333333333333333,
             "#9c179e"
            ],
            [
             0.4444444444444444,
             "#bd3786"
            ],
            [
             0.5555555555555556,
             "#d8576b"
            ],
            [
             0.6666666666666666,
             "#ed7953"
            ],
            [
             0.7777777777777778,
             "#fb9f3a"
            ],
            [
             0.8888888888888888,
             "#fdca26"
            ],
            [
             1,
             "#f0f921"
            ]
           ]
          },
          "colorway": [
           "#636efa",
           "#EF553B",
           "#00cc96",
           "#ab63fa",
           "#FFA15A",
           "#19d3f3",
           "#FF6692",
           "#B6E880",
           "#FF97FF",
           "#FECB52"
          ],
          "font": {
           "color": "#2a3f5f"
          },
          "geo": {
           "bgcolor": "white",
           "lakecolor": "white",
           "landcolor": "#E5ECF6",
           "showlakes": true,
           "showland": true,
           "subunitcolor": "white"
          },
          "hoverlabel": {
           "align": "left"
          },
          "hovermode": "closest",
          "mapbox": {
           "style": "light"
          },
          "paper_bgcolor": "white",
          "plot_bgcolor": "#E5ECF6",
          "polar": {
           "angularaxis": {
            "gridcolor": "white",
            "linecolor": "white",
            "ticks": ""
           },
           "bgcolor": "#E5ECF6",
           "radialaxis": {
            "gridcolor": "white",
            "linecolor": "white",
            "ticks": ""
           }
          },
          "scene": {
           "xaxis": {
            "backgroundcolor": "#E5ECF6",
            "gridcolor": "white",
            "gridwidth": 2,
            "linecolor": "white",
            "showbackground": true,
            "ticks": "",
            "zerolinecolor": "white"
           },
           "yaxis": {
            "backgroundcolor": "#E5ECF6",
            "gridcolor": "white",
            "gridwidth": 2,
            "linecolor": "white",
            "showbackground": true,
            "ticks": "",
            "zerolinecolor": "white"
           },
           "zaxis": {
            "backgroundcolor": "#E5ECF6",
            "gridcolor": "white",
            "gridwidth": 2,
            "linecolor": "white",
            "showbackground": true,
            "ticks": "",
            "zerolinecolor": "white"
           }
          },
          "shapedefaults": {
           "line": {
            "color": "#2a3f5f"
           }
          },
          "ternary": {
           "aaxis": {
            "gridcolor": "white",
            "linecolor": "white",
            "ticks": ""
           },
           "baxis": {
            "gridcolor": "white",
            "linecolor": "white",
            "ticks": ""
           },
           "bgcolor": "#E5ECF6",
           "caxis": {
            "gridcolor": "white",
            "linecolor": "white",
            "ticks": ""
           }
          },
          "title": {
           "x": 0.05
          },
          "xaxis": {
           "automargin": true,
           "gridcolor": "white",
           "linecolor": "white",
           "ticks": "",
           "title": {
            "standoff": 15
           },
           "zerolinecolor": "white",
           "zerolinewidth": 2
          },
          "yaxis": {
           "automargin": true,
           "gridcolor": "white",
           "linecolor": "white",
           "ticks": "",
           "title": {
            "standoff": 15
           },
           "zerolinecolor": "white",
           "zerolinewidth": 2
          }
         }
        },
        "title": {
         "text": "Distribution of Rainfall (mm)"
        },
        "xaxis": {
         "anchor": "y",
         "domain": [
          0,
          1
         ],
         "title": {
          "text": "Rainfall (mm)"
         }
        },
        "yaxis": {
         "anchor": "x",
         "domain": [
          0,
          1
         ],
         "title": {
          "text": "count"
         }
        }
       }
      }
     },
     "metadata": {},
     "output_type": "display_data"
    },
    {
     "data": {
      "application/vnd.plotly.v1+json": {
       "config": {
        "plotlyServerURL": "https://plot.ly"
       },
       "data": [
        {
         "bingroup": "x",
         "hovertemplate": "Soil Quality Index (1-10)=%{x}<br>count=%{y}<extra></extra>",
         "legendgroup": "",
         "marker": {
          "color": "#636efa",
          "pattern": {
           "shape": ""
          }
         },
         "name": "",
         "nbinsx": 100,
         "orientation": "v",
         "showlegend": false,
         "type": "histogram",
         "x": {
          "bdata": "CQkBAgUECgkHBgcBAQgCCgkHBgEBAgYGAgEKBQUCBgkCCgIDBwYICAYKAwMBBwUECgQEBggIBQYECQgKCgECCQgDCAEKBAMGBwQHCQIDBQMICggICQQFBQgHCQgCCgQGAgcDAwIIBgEBBwgFBQQGBgMJBwEHBQUCBAYKBwUJAwEECQQCCgUDCQQGAgYDCQIJBQgCBgMKBQgKAQUDBAIJAwIKCQcGAQUDAQQCAgMICAcGCQQBCAcHAwQKCQYFAwkFBQQEAQcJAwIDAQYHAggGBAUIAwMEAQkICAoGBwYJAwMDCgMJBAcJBwkDBAgGBQQIAQkBCAQJBQMJCQQECAIJBgkIBwEDAgUFBQQFAwEFCQkEAwECCAEIBwgGCQMKBAYIBQMGBAkDBAcHBAYDBgIIAgcJAQgHBgYGCQIBBgoIAwoBCQEDCAMECAEGAQEIBAEKBwUFAQoGCQkIBQEJAQgFAwcHCQcDAQgDCAgFAQoHCgUICQcHAQQCAgIEAQQCBQMIBAEBCgMJBwIJCgIDCgIDBgkJBwMEBgUCBgMIAgEJAwEHCgUFAQkHCAkGBQYCBAMHCQUGCgIDAwkHCAoJBgQBCAcCCAUHBAUIAQEEAwoCAwEBBgUIAgQIBgEEAQIFCAgDBAoGCgMCBgUKBQoFCgUDBwYEAgkBBAEGBAUFCQECBgUHAwMKAgMKAQUFBwQDAQgDAgQDAQMCCAYJCAoDBQcFCAUBBQQGAwUCBgYFBgcFAQgECQoGAQMDCgQGBwoEBgEIBwkDAgEDBQIDBAcDCQgEAQEBAQgDBgMFBwIGBgMGCgoFAgkIAwgJAwMCCAoBCAcHAwEECQUBBQgIBQkBBAMCCAcJAgQGAwgDAgMGAggBBwIKBgICCggCBwMIBwgHBgcFBwEBCQUFAwUDCQkGAQcHCgoECAYEBAICBAUIBgQHCAIHAgIIAgkBCQEKCgIGBgEHCAIICQYFCQkBAwkCBAQCAwMBBggDBQEKBwoBCQgHCgcFBQUBCAEECQkFBAMDBQoBBQYHCQMCAwkHCQIFBAIJCQYGCAYBBAcCCQgIBwQCAwYFCAYGAQQFAwkBBgYKBQUKBQYIAgYBBAoDCQMGAQYECAkECgoGAQQHAQgKBgUKCQIFBgcFCQEHCgcECQUEBwQDCQgBBwkICAYECAMJAgIHCgQKCAkHBQgEAgYJAQoHCgkKCQoDBQgIBAEBBAYIBgkJAgoBAgUEBAkIBgECBgIKBQUGBgYCCgMGCAEBAgYJBAMICgkFCQIDBwcGBgIKBgQDAgEFAgIHCAoIBAEHAQQIAgYGCQUKBAUKBQgKCAIHCAYFCQMKBAkGCAcCAwEJBwEDBAQFAwMBBwoBAgQEBQIEAQIBCgoEBAcKCQkFCgEBBgIICQQFCAMFAwoDAwcHBwoIBQUEBwoEAgQICQMHCQQKAwUBAwgIBAIICAoEAwIJAQcFCAQHBQUJCQkGBgUJCggHBwYFBAMDBgQGAwQJBQcKAgUJAwkGBAcIBgUGBQgBBwoKAgkBCgYJAQQECQUFBgEBCQMEAQkIAggHBgEHCgcJAQIJCQYGBAQFAwEBBwEBAwoEBAIBAwQDCAoBAgcECAMGCQEBCAMFAQUGCAMDCgkEBAcCCAYDCQUIBwgHAwIHAwMCBAgBAQUFAQYBBQkFBggBAgkDBgUCBwQBBAYHBwcDBggECAIKCQkICgoBAgYKBQkFAgoECQEBBwMKAgkDAggKBgYKBwcGBAkGBAMEAwIFAgYDBgoJAQYJBAIEAQMKCQoFBgMFCAYEAgkBAQQHAQkEAwEKBAkKBgYBCgIGAgMEBQkECQoDCAEJCQoCBAgHAQUHBAEJBQIIAgMKAQIHCgIGAwQIAwoGAQcICAMKAQkGCQcBAQYFCQIIBQIKBgoIBAIFAgIGCgkEBgcGCAQBBwMGAgkBBgYFBQEKBQIHAwQDAwQFAQQICgcJBQoECAkHBwUECgEKCgcBAQUJBgMDBwYJBgUKBwEHAwkGCQUHBAcBBwgFAgUGAgYGAQEKAwoKAwQCCQoHBwYDBggICQEBAwMKCAoBAgIDBgECAQUHCAoBBwUKAQMHCgEHBQEBAQkDBQoJBgkICAEJBgkDAwYJBwMDAgkDBQkIAgMCCAYGCQgEBAkBAgIGBAoDAwMGCAcEBAoCAQkCCAkECAkKCgUHCgQBAwUDBwkGCgEHAwUKBAoFBQYKCgYICAkIAgoBCgICAwoHAgEGCQMGAwEFCgQHBgoHBQQHBwYIBAoFBAEIAQUGBgUDBQgCBgkICAgHCAYCAggBBgYECgMDAQMEBQMGBQMGBggCAQQHCgMDBQUKAwkEAwIKCQQDBwgCBwUFAwUCBAYBCgQGCQIHBgIIBwUFBwkJCQYKBgMBBwQBCAYGAgECBAIBBwgGBAYDCAoCBQEGAgQGCggIBgQICAoBBAQHBwgFBwgJAwMEBQoBBwkIBQQHBQcBAQoDAgIHCgIEAgYICgQFBAMFCQgICAgHCAgICgcBBAQFCgYEAgYICAcGAgcFBgoICAMHAQEHCgkHCgUIAgkGCQIDCAEKBwcBCQgECgUCCQYDBwkDAgcHBAkIAQEFBgMJCgYEBwgJBgYIBQMDBgIGBggHCAkGAwoDAQUECQkFCgQHBgQKAgEEBAEGBAEBAQgKCAIHCAgKBwUBCQcCBgIBBwICBQUHAQgDBAkECgUHBAEJBAkGAQMCCQEJCQgIAQgKAwcBAQoFBQgHCAYGAgYFAwYICQEDAwgBBQMCCAMHAQYDCAYCBgcFAwQEBgoBBAoECgEJBAcDCgMICAEKAggBCAgCBAYJCAgHCQIDCggGCgkKBAgKAwMIBQMKAQMJBQoCBwIEBwQHBwEGCQIDCgUJBAEEBgUBBAYKCgQJBQgJCgUGAQcEAgUDBggHAwgCCgkEAQgHBQoFBwUIBgUJAgEIAwcKCAYKCQcKBQgCBwQJAQcGCAUBAQkKBgoFAQYGAwgBAQYKAQYBBgMIBgEFCAMGBQYKAQcJAgoFCgQGBgICBAEJBwcDAwEDAwQEAwoICAEHAgEDBAYKBQQIBAoCAwYICAkHAggHCAMHCgkDCgYCAgUFBwIHBQYICgQHBgoCCAoJBQoEBggDCgEEBAEJAwUGCAYDBgEEBgcKAwkHAQIBCQkHCgMFBAcJAggJCgoJCgcJCQMEAgoDBQUGBwcBAgkKAgYBAwIDBQoGCQoEBwYCCggHBwgBAQgEBQgFCgQGBQcKBwQFAwQEAwoFBQcEBAkGBAIGAgUGBAMHAgYEBgQEBAkHAwMGBgQJBAkEAgIFBAcFBgoEAgoJCgcEAwoDCQUDBQIECgICCAEHBQgBBwUEBwoCAQEBBQoHAgoIBAMKCAIDAwoBBgIBAgYEBgkKCggBCAkGCgUGBgkEAgkCCgkCCAkKCQoJAgQHAgEDBAgGAgkCBQQHCAUKBQIIAgoGCAYEBAYECAkBBAQCBgMHBQQFCAMHBgEHBwEJBgIFBAcIAQUDAQMGBwgEAwUJBgkGAgUJCAcBBAcHBggGCgMEAwEKBQEBAgQGCAMBAwMFBAQJBwQDBgMGCQYEBQYDCAQICgoDCgcJBAgDBwMHCgoGAgMGBAYBCgEDCAgEBggHBwQJCgYDBQUFCAkJBgYJBAYEAQcKBgkHBwIJCgkGAwEEAwEDBAgJAwYKBQYECgYHCQoHBgECAQkKCgkHAgYEAQEFAgQBBAYKBAEHAgkDCAgDBAIECQIDBAUBBwoHCQQGAgQCCgUHAQoKBwoGBggIBgMFAgUJCgEKBQYHCQYFBwEFAgQHBQYCAwcCBgUKAQoEAgQBAggGAgYKCQcJBQcHAwcBCQoGBQcFCgUKBwoHAwMKAwYGAwMICAcKBAQDBQMIBwMJBQkHBwYCCQYIAQUBCggIAQkCCQEKCQQJBwYFCQICCQMICQgEAQQJAgMKCAYIBwUJBAYCAgIKBwICCQcDAwcFCgYICQEDBwYHCAYDAgcBAwQBBQoDAgMIBgcGBgMIBwcGBQoIBQkJAQYH",
          "dtype": "i1"
         },
         "xaxis": "x",
         "yaxis": "y"
        }
       ],
       "layout": {
        "barmode": "relative",
        "legend": {
         "tracegroupgap": 0
        },
        "template": {
         "data": {
          "bar": [
           {
            "error_x": {
             "color": "#2a3f5f"
            },
            "error_y": {
             "color": "#2a3f5f"
            },
            "marker": {
             "line": {
              "color": "#E5ECF6",
              "width": 0.5
             },
             "pattern": {
              "fillmode": "overlay",
              "size": 10,
              "solidity": 0.2
             }
            },
            "type": "bar"
           }
          ],
          "barpolar": [
           {
            "marker": {
             "line": {
              "color": "#E5ECF6",
              "width": 0.5
             },
             "pattern": {
              "fillmode": "overlay",
              "size": 10,
              "solidity": 0.2
             }
            },
            "type": "barpolar"
           }
          ],
          "carpet": [
           {
            "aaxis": {
             "endlinecolor": "#2a3f5f",
             "gridcolor": "white",
             "linecolor": "white",
             "minorgridcolor": "white",
             "startlinecolor": "#2a3f5f"
            },
            "baxis": {
             "endlinecolor": "#2a3f5f",
             "gridcolor": "white",
             "linecolor": "white",
             "minorgridcolor": "white",
             "startlinecolor": "#2a3f5f"
            },
            "type": "carpet"
           }
          ],
          "choropleth": [
           {
            "colorbar": {
             "outlinewidth": 0,
             "ticks": ""
            },
            "type": "choropleth"
           }
          ],
          "contour": [
           {
            "colorbar": {
             "outlinewidth": 0,
             "ticks": ""
            },
            "colorscale": [
             [
              0,
              "#0d0887"
             ],
             [
              0.1111111111111111,
              "#46039f"
             ],
             [
              0.2222222222222222,
              "#7201a8"
             ],
             [
              0.3333333333333333,
              "#9c179e"
             ],
             [
              0.4444444444444444,
              "#bd3786"
             ],
             [
              0.5555555555555556,
              "#d8576b"
             ],
             [
              0.6666666666666666,
              "#ed7953"
             ],
             [
              0.7777777777777778,
              "#fb9f3a"
             ],
             [
              0.8888888888888888,
              "#fdca26"
             ],
             [
              1,
              "#f0f921"
             ]
            ],
            "type": "contour"
           }
          ],
          "contourcarpet": [
           {
            "colorbar": {
             "outlinewidth": 0,
             "ticks": ""
            },
            "type": "contourcarpet"
           }
          ],
          "heatmap": [
           {
            "colorbar": {
             "outlinewidth": 0,
             "ticks": ""
            },
            "colorscale": [
             [
              0,
              "#0d0887"
             ],
             [
              0.1111111111111111,
              "#46039f"
             ],
             [
              0.2222222222222222,
              "#7201a8"
             ],
             [
              0.3333333333333333,
              "#9c179e"
             ],
             [
              0.4444444444444444,
              "#bd3786"
             ],
             [
              0.5555555555555556,
              "#d8576b"
             ],
             [
              0.6666666666666666,
              "#ed7953"
             ],
             [
              0.7777777777777778,
              "#fb9f3a"
             ],
             [
              0.8888888888888888,
              "#fdca26"
             ],
             [
              1,
              "#f0f921"
             ]
            ],
            "type": "heatmap"
           }
          ],
          "histogram": [
           {
            "marker": {
             "pattern": {
              "fillmode": "overlay",
              "size": 10,
              "solidity": 0.2
             }
            },
            "type": "histogram"
           }
          ],
          "histogram2d": [
           {
            "colorbar": {
             "outlinewidth": 0,
             "ticks": ""
            },
            "colorscale": [
             [
              0,
              "#0d0887"
             ],
             [
              0.1111111111111111,
              "#46039f"
             ],
             [
              0.2222222222222222,
              "#7201a8"
             ],
             [
              0.3333333333333333,
              "#9c179e"
             ],
             [
              0.4444444444444444,
              "#bd3786"
             ],
             [
              0.5555555555555556,
              "#d8576b"
             ],
             [
              0.6666666666666666,
              "#ed7953"
             ],
             [
              0.7777777777777778,
              "#fb9f3a"
             ],
             [
              0.8888888888888888,
              "#fdca26"
             ],
             [
              1,
              "#f0f921"
             ]
            ],
            "type": "histogram2d"
           }
          ],
          "histogram2dcontour": [
           {
            "colorbar": {
             "outlinewidth": 0,
             "ticks": ""
            },
            "colorscale": [
             [
              0,
              "#0d0887"
             ],
             [
              0.1111111111111111,
              "#46039f"
             ],
             [
              0.2222222222222222,
              "#7201a8"
             ],
             [
              0.3333333333333333,
              "#9c179e"
             ],
             [
              0.4444444444444444,
              "#bd3786"
             ],
             [
              0.5555555555555556,
              "#d8576b"
             ],
             [
              0.6666666666666666,
              "#ed7953"
             ],
             [
              0.7777777777777778,
              "#fb9f3a"
             ],
             [
              0.8888888888888888,
              "#fdca26"
             ],
             [
              1,
              "#f0f921"
             ]
            ],
            "type": "histogram2dcontour"
           }
          ],
          "mesh3d": [
           {
            "colorbar": {
             "outlinewidth": 0,
             "ticks": ""
            },
            "type": "mesh3d"
           }
          ],
          "parcoords": [
           {
            "line": {
             "colorbar": {
              "outlinewidth": 0,
              "ticks": ""
             }
            },
            "type": "parcoords"
           }
          ],
          "pie": [
           {
            "automargin": true,
            "type": "pie"
           }
          ],
          "scatter": [
           {
            "fillpattern": {
             "fillmode": "overlay",
             "size": 10,
             "solidity": 0.2
            },
            "type": "scatter"
           }
          ],
          "scatter3d": [
           {
            "line": {
             "colorbar": {
              "outlinewidth": 0,
              "ticks": ""
             }
            },
            "marker": {
             "colorbar": {
              "outlinewidth": 0,
              "ticks": ""
             }
            },
            "type": "scatter3d"
           }
          ],
          "scattercarpet": [
           {
            "marker": {
             "colorbar": {
              "outlinewidth": 0,
              "ticks": ""
             }
            },
            "type": "scattercarpet"
           }
          ],
          "scattergeo": [
           {
            "marker": {
             "colorbar": {
              "outlinewidth": 0,
              "ticks": ""
             }
            },
            "type": "scattergeo"
           }
          ],
          "scattergl": [
           {
            "marker": {
             "colorbar": {
              "outlinewidth": 0,
              "ticks": ""
             }
            },
            "type": "scattergl"
           }
          ],
          "scattermap": [
           {
            "marker": {
             "colorbar": {
              "outlinewidth": 0,
              "ticks": ""
             }
            },
            "type": "scattermap"
           }
          ],
          "scattermapbox": [
           {
            "marker": {
             "colorbar": {
              "outlinewidth": 0,
              "ticks": ""
             }
            },
            "type": "scattermapbox"
           }
          ],
          "scatterpolar": [
           {
            "marker": {
             "colorbar": {
              "outlinewidth": 0,
              "ticks": ""
             }
            },
            "type": "scatterpolar"
           }
          ],
          "scatterpolargl": [
           {
            "marker": {
             "colorbar": {
              "outlinewidth": 0,
              "ticks": ""
             }
            },
            "type": "scatterpolargl"
           }
          ],
          "scatterternary": [
           {
            "marker": {
             "colorbar": {
              "outlinewidth": 0,
              "ticks": ""
             }
            },
            "type": "scatterternary"
           }
          ],
          "surface": [
           {
            "colorbar": {
             "outlinewidth": 0,
             "ticks": ""
            },
            "colorscale": [
             [
              0,
              "#0d0887"
             ],
             [
              0.1111111111111111,
              "#46039f"
             ],
             [
              0.2222222222222222,
              "#7201a8"
             ],
             [
              0.3333333333333333,
              "#9c179e"
             ],
             [
              0.4444444444444444,
              "#bd3786"
             ],
             [
              0.5555555555555556,
              "#d8576b"
             ],
             [
              0.6666666666666666,
              "#ed7953"
             ],
             [
              0.7777777777777778,
              "#fb9f3a"
             ],
             [
              0.8888888888888888,
              "#fdca26"
             ],
             [
              1,
              "#f0f921"
             ]
            ],
            "type": "surface"
           }
          ],
          "table": [
           {
            "cells": {
             "fill": {
              "color": "#EBF0F8"
             },
             "line": {
              "color": "white"
             }
            },
            "header": {
             "fill": {
              "color": "#C8D4E3"
             },
             "line": {
              "color": "white"
             }
            },
            "type": "table"
           }
          ]
         },
         "layout": {
          "annotationdefaults": {
           "arrowcolor": "#2a3f5f",
           "arrowhead": 0,
           "arrowwidth": 1
          },
          "autotypenumbers": "strict",
          "coloraxis": {
           "colorbar": {
            "outlinewidth": 0,
            "ticks": ""
           }
          },
          "colorscale": {
           "diverging": [
            [
             0,
             "#8e0152"
            ],
            [
             0.1,
             "#c51b7d"
            ],
            [
             0.2,
             "#de77ae"
            ],
            [
             0.3,
             "#f1b6da"
            ],
            [
             0.4,
             "#fde0ef"
            ],
            [
             0.5,
             "#f7f7f7"
            ],
            [
             0.6,
             "#e6f5d0"
            ],
            [
             0.7,
             "#b8e186"
            ],
            [
             0.8,
             "#7fbc41"
            ],
            [
             0.9,
             "#4d9221"
            ],
            [
             1,
             "#276419"
            ]
           ],
           "sequential": [
            [
             0,
             "#0d0887"
            ],
            [
             0.1111111111111111,
             "#46039f"
            ],
            [
             0.2222222222222222,
             "#7201a8"
            ],
            [
             0.3333333333333333,
             "#9c179e"
            ],
            [
             0.4444444444444444,
             "#bd3786"
            ],
            [
             0.5555555555555556,
             "#d8576b"
            ],
            [
             0.6666666666666666,
             "#ed7953"
            ],
            [
             0.7777777777777778,
             "#fb9f3a"
            ],
            [
             0.8888888888888888,
             "#fdca26"
            ],
            [
             1,
             "#f0f921"
            ]
           ],
           "sequentialminus": [
            [
             0,
             "#0d0887"
            ],
            [
             0.1111111111111111,
             "#46039f"
            ],
            [
             0.2222222222222222,
             "#7201a8"
            ],
            [
             0.3333333333333333,
             "#9c179e"
            ],
            [
             0.4444444444444444,
             "#bd3786"
            ],
            [
             0.5555555555555556,
             "#d8576b"
            ],
            [
             0.6666666666666666,
             "#ed7953"
            ],
            [
             0.7777777777777778,
             "#fb9f3a"
            ],
            [
             0.8888888888888888,
             "#fdca26"
            ],
            [
             1,
             "#f0f921"
            ]
           ]
          },
          "colorway": [
           "#636efa",
           "#EF553B",
           "#00cc96",
           "#ab63fa",
           "#FFA15A",
           "#19d3f3",
           "#FF6692",
           "#B6E880",
           "#FF97FF",
           "#FECB52"
          ],
          "font": {
           "color": "#2a3f5f"
          },
          "geo": {
           "bgcolor": "white",
           "lakecolor": "white",
           "landcolor": "#E5ECF6",
           "showlakes": true,
           "showland": true,
           "subunitcolor": "white"
          },
          "hoverlabel": {
           "align": "left"
          },
          "hovermode": "closest",
          "mapbox": {
           "style": "light"
          },
          "paper_bgcolor": "white",
          "plot_bgcolor": "#E5ECF6",
          "polar": {
           "angularaxis": {
            "gridcolor": "white",
            "linecolor": "white",
            "ticks": ""
           },
           "bgcolor": "#E5ECF6",
           "radialaxis": {
            "gridcolor": "white",
            "linecolor": "white",
            "ticks": ""
           }
          },
          "scene": {
           "xaxis": {
            "backgroundcolor": "#E5ECF6",
            "gridcolor": "white",
            "gridwidth": 2,
            "linecolor": "white",
            "showbackground": true,
            "ticks": "",
            "zerolinecolor": "white"
           },
           "yaxis": {
            "backgroundcolor": "#E5ECF6",
            "gridcolor": "white",
            "gridwidth": 2,
            "linecolor": "white",
            "showbackground": true,
            "ticks": "",
            "zerolinecolor": "white"
           },
           "zaxis": {
            "backgroundcolor": "#E5ECF6",
            "gridcolor": "white",
            "gridwidth": 2,
            "linecolor": "white",
            "showbackground": true,
            "ticks": "",
            "zerolinecolor": "white"
           }
          },
          "shapedefaults": {
           "line": {
            "color": "#2a3f5f"
           }
          },
          "ternary": {
           "aaxis": {
            "gridcolor": "white",
            "linecolor": "white",
            "ticks": ""
           },
           "baxis": {
            "gridcolor": "white",
            "linecolor": "white",
            "ticks": ""
           },
           "bgcolor": "#E5ECF6",
           "caxis": {
            "gridcolor": "white",
            "linecolor": "white",
            "ticks": ""
           }
          },
          "title": {
           "x": 0.05
          },
          "xaxis": {
           "automargin": true,
           "gridcolor": "white",
           "linecolor": "white",
           "ticks": "",
           "title": {
            "standoff": 15
           },
           "zerolinecolor": "white",
           "zerolinewidth": 2
          },
          "yaxis": {
           "automargin": true,
           "gridcolor": "white",
           "linecolor": "white",
           "ticks": "",
           "title": {
            "standoff": 15
           },
           "zerolinecolor": "white",
           "zerolinewidth": 2
          }
         }
        },
        "title": {
         "text": "Soil Quality Index (1-10)"
        },
        "xaxis": {
         "anchor": "y",
         "domain": [
          0,
          1
         ],
         "title": {
          "text": "Soil Quality Index (1-10)"
         }
        },
        "yaxis": {
         "anchor": "x",
         "domain": [
          0,
          1
         ],
         "title": {
          "text": "count"
         }
        }
       }
      }
     },
     "metadata": {},
     "output_type": "display_data"
    },
    {
     "data": {
      "application/vnd.plotly.v1+json": {
       "config": {
        "plotlyServerURL": "https://plot.ly"
       },
       "data": [
        {
         "bingroup": "x",
         "hovertemplate": "Farm size (hectares)=%{x}<br>count=%{y}<extra></extra>",
         "legendgroup": "",
         "marker": {
          "color": "#636efa",
          "pattern": {
           "shape": ""
          }
         },
         "name": "",
         "nbinsx": 100,
         "orientation": "v",
         "showlegend": false,
         "type": "histogram",
         "x": {
          "bdata": "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",
          "dtype": "i2"
         },
         "xaxis": "x",
         "yaxis": "y"
        }
       ],
       "layout": {
        "barmode": "relative",
        "legend": {
         "tracegroupgap": 0
        },
        "template": {
         "data": {
          "bar": [
           {
            "error_x": {
             "color": "#2a3f5f"
            },
            "error_y": {
             "color": "#2a3f5f"
            },
            "marker": {
             "line": {
              "color": "#E5ECF6",
              "width": 0.5
             },
             "pattern": {
              "fillmode": "overlay",
              "size": 10,
              "solidity": 0.2
             }
            },
            "type": "bar"
           }
          ],
          "barpolar": [
           {
            "marker": {
             "line": {
              "color": "#E5ECF6",
              "width": 0.5
             },
             "pattern": {
              "fillmode": "overlay",
              "size": 10,
              "solidity": 0.2
             }
            },
            "type": "barpolar"
           }
          ],
          "carpet": [
           {
            "aaxis": {
             "endlinecolor": "#2a3f5f",
             "gridcolor": "white",
             "linecolor": "white",
             "minorgridcolor": "white",
             "startlinecolor": "#2a3f5f"
            },
            "baxis": {
             "endlinecolor": "#2a3f5f",
             "gridcolor": "white",
             "linecolor": "white",
             "minorgridcolor": "white",
             "startlinecolor": "#2a3f5f"
            },
            "type": "carpet"
           }
          ],
          "choropleth": [
           {
            "colorbar": {
             "outlinewidth": 0,
             "ticks": ""
            },
            "type": "choropleth"
           }
          ],
          "contour": [
           {
            "colorbar": {
             "outlinewidth": 0,
             "ticks": ""
            },
            "colorscale": [
             [
              0,
              "#0d0887"
             ],
             [
              0.1111111111111111,
              "#46039f"
             ],
             [
              0.2222222222222222,
              "#7201a8"
             ],
             [
              0.3333333333333333,
              "#9c179e"
             ],
             [
              0.4444444444444444,
              "#bd3786"
             ],
             [
              0.5555555555555556,
              "#d8576b"
             ],
             [
              0.6666666666666666,
              "#ed7953"
             ],
             [
              0.7777777777777778,
              "#fb9f3a"
             ],
             [
              0.8888888888888888,
              "#fdca26"
             ],
             [
              1,
              "#f0f921"
             ]
            ],
            "type": "contour"
           }
          ],
          "contourcarpet": [
           {
            "colorbar": {
             "outlinewidth": 0,
             "ticks": ""
            },
            "type": "contourcarpet"
           }
          ],
          "heatmap": [
           {
            "colorbar": {
             "outlinewidth": 0,
             "ticks": ""
            },
            "colorscale": [
             [
              0,
              "#0d0887"
             ],
             [
              0.1111111111111111,
              "#46039f"
             ],
             [
              0.2222222222222222,
              "#7201a8"
             ],
             [
              0.3333333333333333,
              "#9c179e"
             ],
             [
              0.4444444444444444,
              "#bd3786"
             ],
             [
              0.5555555555555556,
              "#d8576b"
             ],
             [
              0.6666666666666666,
              "#ed7953"
             ],
             [
              0.7777777777777778,
              "#fb9f3a"
             ],
             [
              0.8888888888888888,
              "#fdca26"
             ],
             [
              1,
              "#f0f921"
             ]
            ],
            "type": "heatmap"
           }
          ],
          "histogram": [
           {
            "marker": {
             "pattern": {
              "fillmode": "overlay",
              "size": 10,
              "solidity": 0.2
             }
            },
            "type": "histogram"
           }
          ],
          "histogram2d": [
           {
            "colorbar": {
             "outlinewidth": 0,
             "ticks": ""
            },
            "colorscale": [
             [
              0,
              "#0d0887"
             ],
             [
              0.1111111111111111,
              "#46039f"
             ],
             [
              0.2222222222222222,
              "#7201a8"
             ],
             [
              0.3333333333333333,
              "#9c179e"
             ],
             [
              0.4444444444444444,
              "#bd3786"
             ],
             [
              0.5555555555555556,
              "#d8576b"
             ],
             [
              0.6666666666666666,
              "#ed7953"
             ],
             [
              0.7777777777777778,
              "#fb9f3a"
             ],
             [
              0.8888888888888888,
              "#fdca26"
             ],
             [
              1,
              "#f0f921"
             ]
            ],
            "type": "histogram2d"
           }
          ],
          "histogram2dcontour": [
           {
            "colorbar": {
             "outlinewidth": 0,
             "ticks": ""
            },
            "colorscale": [
             [
              0,
              "#0d0887"
             ],
             [
              0.1111111111111111,
              "#46039f"
             ],
             [
              0.2222222222222222,
              "#7201a8"
             ],
             [
              0.3333333333333333,
              "#9c179e"
             ],
             [
              0.4444444444444444,
              "#bd3786"
             ],
             [
              0.5555555555555556,
              "#d8576b"
             ],
             [
              0.6666666666666666,
              "#ed7953"
             ],
             [
              0.7777777777777778,
              "#fb9f3a"
             ],
             [
              0.8888888888888888,
              "#fdca26"
             ],
             [
              1,
              "#f0f921"
             ]
            ],
            "type": "histogram2dcontour"
           }
          ],
          "mesh3d": [
           {
            "colorbar": {
             "outlinewidth": 0,
             "ticks": ""
            },
            "type": "mesh3d"
           }
          ],
          "parcoords": [
           {
            "line": {
             "colorbar": {
              "outlinewidth": 0,
              "ticks": ""
             }
            },
            "type": "parcoords"
           }
          ],
          "pie": [
           {
            "automargin": true,
            "type": "pie"
           }
          ],
          "scatter": [
           {
            "fillpattern": {
             "fillmode": "overlay",
             "size": 10,
             "solidity": 0.2
            },
            "type": "scatter"
           }
          ],
          "scatter3d": [
           {
            "line": {
             "colorbar": {
              "outlinewidth": 0,
              "ticks": ""
             }
            },
            "marker": {
             "colorbar": {
              "outlinewidth": 0,
              "ticks": ""
             }
            },
            "type": "scatter3d"
           }
          ],
          "scattercarpet": [
           {
            "marker": {
             "colorbar": {
              "outlinewidth": 0,
              "ticks": ""
             }
            },
            "type": "scattercarpet"
           }
          ],
          "scattergeo": [
           {
            "marker": {
             "colorbar": {
              "outlinewidth": 0,
              "ticks": ""
             }
            },
            "type": "scattergeo"
           }
          ],
          "scattergl": [
           {
            "marker": {
             "colorbar": {
              "outlinewidth": 0,
              "ticks": ""
             }
            },
            "type": "scattergl"
           }
          ],
          "scattermap": [
           {
            "marker": {
             "colorbar": {
              "outlinewidth": 0,
              "ticks": ""
             }
            },
            "type": "scattermap"
           }
          ],
          "scattermapbox": [
           {
            "marker": {
             "colorbar": {
              "outlinewidth": 0,
              "ticks": ""
             }
            },
            "type": "scattermapbox"
           }
          ],
          "scatterpolar": [
           {
            "marker": {
             "colorbar": {
              "outlinewidth": 0,
              "ticks": ""
             }
            },
            "type": "scatterpolar"
           }
          ],
          "scatterpolargl": [
           {
            "marker": {
             "colorbar": {
              "outlinewidth": 0,
              "ticks": ""
             }
            },
            "type": "scatterpolargl"
           }
          ],
          "scatterternary": [
           {
            "marker": {
             "colorbar": {
              "outlinewidth": 0,
              "ticks": ""
             }
            },
            "type": "scatterternary"
           }
          ],
          "surface": [
           {
            "colorbar": {
             "outlinewidth": 0,
             "ticks": ""
            },
            "colorscale": [
             [
              0,
              "#0d0887"
             ],
             [
              0.1111111111111111,
              "#46039f"
             ],
             [
              0.2222222222222222,
              "#7201a8"
             ],
             [
              0.3333333333333333,
              "#9c179e"
             ],
             [
              0.4444444444444444,
              "#bd3786"
             ],
             [
              0.5555555555555556,
              "#d8576b"
             ],
             [
              0.6666666666666666,
              "#ed7953"
             ],
             [
              0.7777777777777778,
              "#fb9f3a"
             ],
             [
              0.8888888888888888,
              "#fdca26"
             ],
             [
              1,
              "#f0f921"
             ]
            ],
            "type": "surface"
           }
          ],
          "table": [
           {
            "cells": {
             "fill": {
              "color": "#EBF0F8"
             },
             "line": {
              "color": "white"
             }
            },
            "header": {
             "fill": {
              "color": "#C8D4E3"
             },
             "line": {
              "color": "white"
             }
            },
            "type": "table"
           }
          ]
         },
         "layout": {
          "annotationdefaults": {
           "arrowcolor": "#2a3f5f",
           "arrowhead": 0,
           "arrowwidth": 1
          },
          "autotypenumbers": "strict",
          "coloraxis": {
           "colorbar": {
            "outlinewidth": 0,
            "ticks": ""
           }
          },
          "colorscale": {
           "diverging": [
            [
             0,
             "#8e0152"
            ],
            [
             0.1,
             "#c51b7d"
            ],
            [
             0.2,
             "#de77ae"
            ],
            [
             0.3,
             "#f1b6da"
            ],
            [
             0.4,
             "#fde0ef"
            ],
            [
             0.5,
             "#f7f7f7"
            ],
            [
             0.6,
             "#e6f5d0"
            ],
            [
             0.7,
             "#b8e186"
            ],
            [
             0.8,
             "#7fbc41"
            ],
            [
             0.9,
             "#4d9221"
            ],
            [
             1,
             "#276419"
            ]
           ],
           "sequential": [
            [
             0,
             "#0d0887"
            ],
            [
             0.1111111111111111,
             "#46039f"
            ],
            [
             0.2222222222222222,
             "#7201a8"
            ],
            [
             0.3333333333333333,
             "#9c179e"
            ],
            [
             0.4444444444444444,
             "#bd3786"
            ],
            [
             0.5555555555555556,
             "#d8576b"
            ],
            [
             0.6666666666666666,
             "#ed7953"
            ],
            [
             0.7777777777777778,
             "#fb9f3a"
            ],
            [
             0.8888888888888888,
             "#fdca26"
            ],
            [
             1,
             "#f0f921"
            ]
           ],
           "sequentialminus": [
            [
             0,
             "#0d0887"
            ],
            [
             0.1111111111111111,
             "#46039f"
            ],
            [
             0.2222222222222222,
             "#7201a8"
            ],
            [
             0.3333333333333333,
             "#9c179e"
            ],
            [
             0.4444444444444444,
             "#bd3786"
            ],
            [
             0.5555555555555556,
             "#d8576b"
            ],
            [
             0.6666666666666666,
             "#ed7953"
            ],
            [
             0.7777777777777778,
             "#fb9f3a"
            ],
            [
             0.8888888888888888,
             "#fdca26"
            ],
            [
             1,
             "#f0f921"
            ]
           ]
          },
          "colorway": [
           "#636efa",
           "#EF553B",
           "#00cc96",
           "#ab63fa",
           "#FFA15A",
           "#19d3f3",
           "#FF6692",
           "#B6E880",
           "#FF97FF",
           "#FECB52"
          ],
          "font": {
           "color": "#2a3f5f"
          },
          "geo": {
           "bgcolor": "white",
           "lakecolor": "white",
           "landcolor": "#E5ECF6",
           "showlakes": true,
           "showland": true,
           "subunitcolor": "white"
          },
          "hoverlabel": {
           "align": "left"
          },
          "hovermode": "closest",
          "mapbox": {
           "style": "light"
          },
          "paper_bgcolor": "white",
          "plot_bgcolor": "#E5ECF6",
          "polar": {
           "angularaxis": {
            "gridcolor": "white",
            "linecolor": "white",
            "ticks": ""
           },
           "bgcolor": "#E5ECF6",
           "radialaxis": {
            "gridcolor": "white",
            "linecolor": "white",
            "ticks": ""
           }
          },
          "scene": {
           "xaxis": {
            "backgroundcolor": "#E5ECF6",
            "gridcolor": "white",
            "gridwidth": 2,
            "linecolor": "white",
            "showbackground": true,
            "ticks": "",
            "zerolinecolor": "white"
           },
           "yaxis": {
            "backgroundcolor": "#E5ECF6",
            "gridcolor": "white",
            "gridwidth": 2,
            "linecolor": "white",
            "showbackground": true,
            "ticks": "",
            "zerolinecolor": "white"
           },
           "zaxis": {
            "backgroundcolor": "#E5ECF6",
            "gridcolor": "white",
            "gridwidth": 2,
            "linecolor": "white",
            "showbackground": true,
            "ticks": "",
            "zerolinecolor": "white"
           }
          },
          "shapedefaults": {
           "line": {
            "color": "#2a3f5f"
           }
          },
          "ternary": {
           "aaxis": {
            "gridcolor": "white",
            "linecolor": "white",
            "ticks": ""
           },
           "baxis": {
            "gridcolor": "white",
            "linecolor": "white",
            "ticks": ""
           },
           "bgcolor": "#E5ECF6",
           "caxis": {
            "gridcolor": "white",
            "linecolor": "white",
            "ticks": ""
           }
          },
          "title": {
           "x": 0.05
          },
          "xaxis": {
           "automargin": true,
           "gridcolor": "white",
           "linecolor": "white",
           "ticks": "",
           "title": {
            "standoff": 15
           },
           "zerolinecolor": "white",
           "zerolinewidth": 2
          },
          "yaxis": {
           "automargin": true,
           "gridcolor": "white",
           "linecolor": "white",
           "ticks": "",
           "title": {
            "standoff": 15
           },
           "zerolinecolor": "white",
           "zerolinewidth": 2
          }
         }
        },
        "title": {
         "text": "Farm size (hectares)"
        },
        "xaxis": {
         "anchor": "y",
         "domain": [
          0,
          1
         ],
         "title": {
          "text": "Farm size (hectares)"
         }
        },
        "yaxis": {
         "anchor": "x",
         "domain": [
          0,
          1
         ],
         "title": {
          "text": "count"
         }
        }
       }
      }
     },
     "metadata": {},
     "output_type": "display_data"
    },
    {
     "data": {
      "application/vnd.plotly.v1+json": {
       "config": {
        "plotlyServerURL": "https://plot.ly"
       },
       "data": [
        {
         "bingroup": "x",
         "hovertemplate": "Sunlight (hours)=%{x}<br>count=%{y}<extra></extra>",
         "legendgroup": "",
         "marker": {
          "color": "#636efa",
          "pattern": {
           "shape": ""
          }
         },
         "name": "",
         "nbinsx": 100,
         "orientation": "v",
         "showlegend": false,
         "type": "histogram",
         "x": {
          "bdata": "CwsFBwUHCgwLDAsFCgUFBwQICQwLBQQFCgcICgYFCggEBAwIBAoMBAcGCAoLBQoECgsFDAQJBAYJBgsIBQcMBwsIBAoGCwYECAUHBAwJCwcMBQwICQYHCQoECgQICQUMCQoLBAsHCwkMBwUFCAwGCwcJCQYIBgQKBwoGCAgFBQcHBwkFCQoGCwULCAUKBQkGDAYGCAoLCgwIBgkIBwUKCAcLDAwGBggIBQQLBgQEBQkJBgcFBQoECgQJBgsJBQsICwsJBQsJCQsEBQwLCgoIBQkGBwUFCwsJCAsHBwgEBAULCgwIBQoLCgoIBQkHBQwKCQgGBwYLBgoKCgoFBgwGBQwMBwwGCgoLBwYGCAQGCQYIDAUFCQkLBQwFBAUKCwgJBAkLBgQHBAsIBAsMBQwLCgYFCggJBwUMBgoLBQkLCgYECQsJCAsFBAQHCQwEBAgICAkLBgwEBwwLDAQMBgwEBAwJBwoICgsLBAsJBwsGBwkKBwcKCQsECgoKCgsMDAUKCgcMCwQFBQsEBwgMCgsMCggICQgMBgYKCgkGCggKBQkLBAcEBAsKBAUHBAYLCwsJCQgMBwoEDAoMCgUJBwYFCQsJDAgFCwwHCQsMCAkHCAoMCQkLBwYKCAUFCQsECQUFCgQJCgsKCQwGCQcFBAQGBwUEBwoJCQwFBwgECwsJCAsGBgUIBgYJCwUHCgQECgoEBAcICAcLCgwKBAoECgsMBgcHDAoGCAoLBAUKBQoMBQoHBQoIBAgGCgkLCAUMCwkKDAoGCQoFBgcJBAwICgwMBAQGCQUEBAgHBAcGBQwECgcICAQJDAUKCQgHBwkHCAkICgwKCgcECwcECAsHCwsGDAYEBQkFCQQECAwLBgYEBgQLBAgMCgcMDAUJBwsKCgwICQQJBQkMCwwLBgsJCQkGBAcJBQoKBwcEBQwLCwwKDAUJBgkGCwcJDAUFCgUFBwwLBQsHBQoJCAQFCwQGBQgHCggLBwkHBQQECwcICwoLCwkFCQQEBgYIBAkKBgcGBAsFBAsKCgcMCQUEBAwHCAYHCwcMDAkFCgwJBgoIBAYICgYJCAQJCwQFBwUMCwsHCAcMBQsFBAYMBgwKBAgMBgwIDAkMCgoLCgwMCQoFDAQEBgkIBQwHBwgLBwgHCQYLCQgFCgUECggEBwcKDAUEBQoJBwQECAQKBAQFBgQMCwgFCAkEBwwFCAQHBwkMBgwJCgUJCQUFBQQICwUICwgFBgkIBwcIBQwFBQwGCgcJBwoEBgYECQwLCgsJDAYMBwoMBQUMBgwICQULDAUJCQsIDAQMCgcGCQQGBQwGBQcFBAkLBQwGCwsGBgkEBwQGDAgIBwYIBwsHCwkIBwcHDAcMCQoGCwYECAUJDAQHBAQLBQQLBwYHCAQEBgkEBQoECgcJCwwJDAcJCwwGBQkHBAsMDAUMCggKDAsJBwQJBgkJBwUMBQYECgQMBAgKBgwLBggKBwgGDAwKBQoKCAwGBwQJBwQFBgwLCgcECwcGDAcHDAUIBwwIDAwFDAYHBAQEDAsICAwGBgoMCQUEBQQMCwoGCwUFBgoECwoHCAQHBAQECgoHBQYLCwkMDAcEBAgFCQoECQsICgkHCgwKCAoGBQgHCAsHDAoKCwkLBgQJBAwFBQoFCwkKCgkMDAoMBgYECAcFDAYLCQgEBwYECAkFBgkHDAgHBQkFCgYMCAsJCwYGCAYLCwUHBAcHDAYFDAwECQsGDAUJBAoGCgcMCAYLCQUGCwoJBAwGCAoKBgcKCwUMCgsJCQwHCAwEBwoMCQsMBwQLBQQKDAwGCQoMBQsKBwULCAkKBAsHDAQFCQQHCwgMCQQJCQkLCQgFBwgHBQoFBAgEBAQJDAQIDAwECwQLBAgLCQwEDAQGBAYFBQwLBAcEBAcFBgwFBwQFCAQKBwkLCQUECwsMCQQMBgkMBggICgcHCgwHBwkJCgQGDAkJCAYIBAYHCAwHBgQJCgsEBwgFBAsJCAwFCwwECgsGBwYKDAYJCwkFCgUFBQQECggGBAkEDAUECgkJCAcHBgsKDAQKBwoECAYIBwUHBgQLCAcIBwYIBwQGCwoFBAYIBAYGCAYMBAcHBAUECQYKCAwKBwgICAwGCQsMCgYEBwkGBAkEDAQJBAoGCQoEBAgJDAQHCwwGBQcFBAYKBAUECwgLBgoLCQoFCwgKBAgECwcHBQgEDAgJBQQHCgkEBAsHCAoLCgUHBAwGBgwGCwUGBQQFCwwFCggGDAkECAoHCwgMDAwEBQYHDAkEDAkHBwYKBgULBwsECAwEBwkLBggKBAoLCwwJCQUGBwcLBAcHBAYICQwMDAQMCwUEBAkMCggFBAUEBgkLBgwICgsGBQUIBAUMCgkMCggMCQkHBAgMCwsIDAYGBAwJBQsMDAUFCgcECwUGCAYKCgUKCQwMBQoICQQKCQcEDAcFCwUICQsEBAcIDAoKCwgIBAwJDAYIBQgLBQsHBAgECgsGBgoHBgsGCgUECQsEDAYGBwQMBgcEBwQICAoLBwoHBgkHBgwICgkICgkFBgUGBAsJBQsJCgQKBgsJBwsMBQkICAYLCwgLCwYFDAUMBwUEBwwMBwwJBAkMBQkFBwsKDAoEBQkKBgwKCQkECAYKBggKBgUJCwcMCwoKBgkIBAYEBwYHDAYJCQoMCgQLCAwICAUGDAoEBgUEDAsIBQQKBQQFCgoJCAYGDAcMBwUHCQkIBAYICQQMBgYFCwYJBQoHDAwKCwYIBQoLDAoLDAkFBQcMCgULCgwLBgQFBQcJBwwHCQkECwYJBgUIBAwKBgcJBgoJDAgHBgQGBgoKBAYLDAoKCwkGBAoEBAwKBwkECgkHCgYEBwYEBQgLBAcHCAoLCQQKBgkLCgkMDAQEBAsKBgUHBgoLCQYJBQoKBwsHCgcICgYIBggGCgQMDAgMCQgGCwcGCQsMCQgFBQwFBQYGBwoMBQcMBQQLDAoLBwcFCwUMBwQHBgkKCwUJCQgKBgcMBwYFCAcLCgkFBgwMCAYFCwkKBAQFBgQIBgQLCQwGDAwEBgkLBwgMCQoKBwcHCAgLDAUKBAQHCgUFBAUKDAkFDAoEDAUHDAcGBAoJBwkJBwkLBgcEBwwLBwoGDAcFCAUJBAkHBgUKDAYJDAUKCAgKDAcMDAcGBQwFCQgIBwkIBwwJBgkECAkLDAYFBwsLBgcGBQcJCAYFDAQMBAoJCgYGBAcFCwYKCgwJBAsEBggLDAoMBggLBAsKBAkEBQgFBAkLCwsJBgQFCAgEBAwFCgcKCwgEBwYICQUKBgQGDAkJBwsICgwICAcJBQYEBQULCwUJCAYICAgGBgcKBQcHBAsECwoMCwgLBgoHCAwKBwkKDAcGCwQMBAULDAoGCgkFBggHBQcLCAgGCwkFBQwKDAkIBAkJBgYGBgoFBQYKBgoMBwoMCwsMCAgGCAsIBwsKCQgIBQcLCwQFCAwKCAQJCwoFCAcMBAkGDAgJDAwLDAcJCAgHBQkMBAoJBgQHDAUGBQULBgoLBgULBgoECQwGCgkLBgYHBgwHCQsLCAgJCgoHCQoICAUKCQQHBgYKBwsMBggHCQcLBggECQgLDAsLBgcHCAwMBAsEBQoLBAYKDAsLDAYLBAsKCwQJCggICgYJCgQFBwsJBAgKCQwLBwgKCwgMBwcLBAsIBAcFBwsIBAoEDAYGCQkJBAgJCwQIBgULCgoIDAgFBgcIBgoICAkKCwwHCAgLDAoIBgQMCAwHCAcFBAsHCAkLCwoHCQcKBAgHCgwIBwwIDAsHCggHCAgMDAkHBQYFCAkIBQgMBwUGBgwHBAQKCgUMDAgGBgYJBwsIBAwECQQGCAoLDAkMCwwHDAoICAQFBgsJCAQMBgYFBwUMCgsGCQkECQYGBgsIBwwMBAULCAoECAYFBQwHBwoFBgYJBggHBgsGCQoKBQYHCgUGCgoGBAYICgcECQUGBwkJCggKBQQLBAUJBAYKCwcGBAwJCQwECQgJCwgFBQgGBgsKBAgMBwQLCAUEBgwEBwsL",
          "dtype": "i1"
         },
         "xaxis": "x",
         "yaxis": "y"
        }
       ],
       "layout": {
        "barmode": "relative",
        "legend": {
         "tracegroupgap": 0
        },
        "template": {
         "data": {
          "bar": [
           {
            "error_x": {
             "color": "#2a3f5f"
            },
            "error_y": {
             "color": "#2a3f5f"
            },
            "marker": {
             "line": {
              "color": "#E5ECF6",
              "width": 0.5
             },
             "pattern": {
              "fillmode": "overlay",
              "size": 10,
              "solidity": 0.2
             }
            },
            "type": "bar"
           }
          ],
          "barpolar": [
           {
            "marker": {
             "line": {
              "color": "#E5ECF6",
              "width": 0.5
             },
             "pattern": {
              "fillmode": "overlay",
              "size": 10,
              "solidity": 0.2
             }
            },
            "type": "barpolar"
           }
          ],
          "carpet": [
           {
            "aaxis": {
             "endlinecolor": "#2a3f5f",
             "gridcolor": "white",
             "linecolor": "white",
             "minorgridcolor": "white",
             "startlinecolor": "#2a3f5f"
            },
            "baxis": {
             "endlinecolor": "#2a3f5f",
             "gridcolor": "white",
             "linecolor": "white",
             "minorgridcolor": "white",
             "startlinecolor": "#2a3f5f"
            },
            "type": "carpet"
           }
          ],
          "choropleth": [
           {
            "colorbar": {
             "outlinewidth": 0,
             "ticks": ""
            },
            "type": "choropleth"
           }
          ],
          "contour": [
           {
            "colorbar": {
             "outlinewidth": 0,
             "ticks": ""
            },
            "colorscale": [
             [
              0,
              "#0d0887"
             ],
             [
              0.1111111111111111,
              "#46039f"
             ],
             [
              0.2222222222222222,
              "#7201a8"
             ],
             [
              0.3333333333333333,
              "#9c179e"
             ],
             [
              0.4444444444444444,
              "#bd3786"
             ],
             [
              0.5555555555555556,
              "#d8576b"
             ],
             [
              0.6666666666666666,
              "#ed7953"
             ],
             [
              0.7777777777777778,
              "#fb9f3a"
             ],
             [
              0.8888888888888888,
              "#fdca26"
             ],
             [
              1,
              "#f0f921"
             ]
            ],
            "type": "contour"
           }
          ],
          "contourcarpet": [
           {
            "colorbar": {
             "outlinewidth": 0,
             "ticks": ""
            },
            "type": "contourcarpet"
           }
          ],
          "heatmap": [
           {
            "colorbar": {
             "outlinewidth": 0,
             "ticks": ""
            },
            "colorscale": [
             [
              0,
              "#0d0887"
             ],
             [
              0.1111111111111111,
              "#46039f"
             ],
             [
              0.2222222222222222,
              "#7201a8"
             ],
             [
              0.3333333333333333,
              "#9c179e"
             ],
             [
              0.4444444444444444,
              "#bd3786"
             ],
             [
              0.5555555555555556,
              "#d8576b"
             ],
             [
              0.6666666666666666,
              "#ed7953"
             ],
             [
              0.7777777777777778,
              "#fb9f3a"
             ],
             [
              0.8888888888888888,
              "#fdca26"
             ],
             [
              1,
              "#f0f921"
             ]
            ],
            "type": "heatmap"
           }
          ],
          "histogram": [
           {
            "marker": {
             "pattern": {
              "fillmode": "overlay",
              "size": 10,
              "solidity": 0.2
             }
            },
            "type": "histogram"
           }
          ],
          "histogram2d": [
           {
            "colorbar": {
             "outlinewidth": 0,
             "ticks": ""
            },
            "colorscale": [
             [
              0,
              "#0d0887"
             ],
             [
              0.1111111111111111,
              "#46039f"
             ],
             [
              0.2222222222222222,
              "#7201a8"
             ],
             [
              0.3333333333333333,
              "#9c179e"
             ],
             [
              0.4444444444444444,
              "#bd3786"
             ],
             [
              0.5555555555555556,
              "#d8576b"
             ],
             [
              0.6666666666666666,
              "#ed7953"
             ],
             [
              0.7777777777777778,
              "#fb9f3a"
             ],
             [
              0.8888888888888888,
              "#fdca26"
             ],
             [
              1,
              "#f0f921"
             ]
            ],
            "type": "histogram2d"
           }
          ],
          "histogram2dcontour": [
           {
            "colorbar": {
             "outlinewidth": 0,
             "ticks": ""
            },
            "colorscale": [
             [
              0,
              "#0d0887"
             ],
             [
              0.1111111111111111,
              "#46039f"
             ],
             [
              0.2222222222222222,
              "#7201a8"
             ],
             [
              0.3333333333333333,
              "#9c179e"
             ],
             [
              0.4444444444444444,
              "#bd3786"
             ],
             [
              0.5555555555555556,
              "#d8576b"
             ],
             [
              0.6666666666666666,
              "#ed7953"
             ],
             [
              0.7777777777777778,
              "#fb9f3a"
             ],
             [
              0.8888888888888888,
              "#fdca26"
             ],
             [
              1,
              "#f0f921"
             ]
            ],
            "type": "histogram2dcontour"
           }
          ],
          "mesh3d": [
           {
            "colorbar": {
             "outlinewidth": 0,
             "ticks": ""
            },
            "type": "mesh3d"
           }
          ],
          "parcoords": [
           {
            "line": {
             "colorbar": {
              "outlinewidth": 0,
              "ticks": ""
             }
            },
            "type": "parcoords"
           }
          ],
          "pie": [
           {
            "automargin": true,
            "type": "pie"
           }
          ],
          "scatter": [
           {
            "fillpattern": {
             "fillmode": "overlay",
             "size": 10,
             "solidity": 0.2
            },
            "type": "scatter"
           }
          ],
          "scatter3d": [
           {
            "line": {
             "colorbar": {
              "outlinewidth": 0,
              "ticks": ""
             }
            },
            "marker": {
             "colorbar": {
              "outlinewidth": 0,
              "ticks": ""
             }
            },
            "type": "scatter3d"
           }
          ],
          "scattercarpet": [
           {
            "marker": {
             "colorbar": {
              "outlinewidth": 0,
              "ticks": ""
             }
            },
            "type": "scattercarpet"
           }
          ],
          "scattergeo": [
           {
            "marker": {
             "colorbar": {
              "outlinewidth": 0,
              "ticks": ""
             }
            },
            "type": "scattergeo"
           }
          ],
          "scattergl": [
           {
            "marker": {
             "colorbar": {
              "outlinewidth": 0,
              "ticks": ""
             }
            },
            "type": "scattergl"
           }
          ],
          "scattermap": [
           {
            "marker": {
             "colorbar": {
              "outlinewidth": 0,
              "ticks": ""
             }
            },
            "type": "scattermap"
           }
          ],
          "scattermapbox": [
           {
            "marker": {
             "colorbar": {
              "outlinewidth": 0,
              "ticks": ""
             }
            },
            "type": "scattermapbox"
           }
          ],
          "scatterpolar": [
           {
            "marker": {
             "colorbar": {
              "outlinewidth": 0,
              "ticks": ""
             }
            },
            "type": "scatterpolar"
           }
          ],
          "scatterpolargl": [
           {
            "marker": {
             "colorbar": {
              "outlinewidth": 0,
              "ticks": ""
             }
            },
            "type": "scatterpolargl"
           }
          ],
          "scatterternary": [
           {
            "marker": {
             "colorbar": {
              "outlinewidth": 0,
              "ticks": ""
             }
            },
            "type": "scatterternary"
           }
          ],
          "surface": [
           {
            "colorbar": {
             "outlinewidth": 0,
             "ticks": ""
            },
            "colorscale": [
             [
              0,
              "#0d0887"
             ],
             [
              0.1111111111111111,
              "#46039f"
             ],
             [
              0.2222222222222222,
              "#7201a8"
             ],
             [
              0.3333333333333333,
              "#9c179e"
             ],
             [
              0.4444444444444444,
              "#bd3786"
             ],
             [
              0.5555555555555556,
              "#d8576b"
             ],
             [
              0.6666666666666666,
              "#ed7953"
             ],
             [
              0.7777777777777778,
              "#fb9f3a"
             ],
             [
              0.8888888888888888,
              "#fdca26"
             ],
             [
              1,
              "#f0f921"
             ]
            ],
            "type": "surface"
           }
          ],
          "table": [
           {
            "cells": {
             "fill": {
              "color": "#EBF0F8"
             },
             "line": {
              "color": "white"
             }
            },
            "header": {
             "fill": {
              "color": "#C8D4E3"
             },
             "line": {
              "color": "white"
             }
            },
            "type": "table"
           }
          ]
         },
         "layout": {
          "annotationdefaults": {
           "arrowcolor": "#2a3f5f",
           "arrowhead": 0,
           "arrowwidth": 1
          },
          "autotypenumbers": "strict",
          "coloraxis": {
           "colorbar": {
            "outlinewidth": 0,
            "ticks": ""
           }
          },
          "colorscale": {
           "diverging": [
            [
             0,
             "#8e0152"
            ],
            [
             0.1,
             "#c51b7d"
            ],
            [
             0.2,
             "#de77ae"
            ],
            [
             0.3,
             "#f1b6da"
            ],
            [
             0.4,
             "#fde0ef"
            ],
            [
             0.5,
             "#f7f7f7"
            ],
            [
             0.6,
             "#e6f5d0"
            ],
            [
             0.7,
             "#b8e186"
            ],
            [
             0.8,
             "#7fbc41"
            ],
            [
             0.9,
             "#4d9221"
            ],
            [
             1,
             "#276419"
            ]
           ],
           "sequential": [
            [
             0,
             "#0d0887"
            ],
            [
             0.1111111111111111,
             "#46039f"
            ],
            [
             0.2222222222222222,
             "#7201a8"
            ],
            [
             0.3333333333333333,
             "#9c179e"
            ],
            [
             0.4444444444444444,
             "#bd3786"
            ],
            [
             0.5555555555555556,
             "#d8576b"
            ],
            [
             0.6666666666666666,
             "#ed7953"
            ],
            [
             0.7777777777777778,
             "#fb9f3a"
            ],
            [
             0.8888888888888888,
             "#fdca26"
            ],
            [
             1,
             "#f0f921"
            ]
           ],
           "sequentialminus": [
            [
             0,
             "#0d0887"
            ],
            [
             0.1111111111111111,
             "#46039f"
            ],
            [
             0.2222222222222222,
             "#7201a8"
            ],
            [
             0.3333333333333333,
             "#9c179e"
            ],
            [
             0.4444444444444444,
             "#bd3786"
            ],
            [
             0.5555555555555556,
             "#d8576b"
            ],
            [
             0.6666666666666666,
             "#ed7953"
            ],
            [
             0.7777777777777778,
             "#fb9f3a"
            ],
            [
             0.8888888888888888,
             "#fdca26"
            ],
            [
             1,
             "#f0f921"
            ]
           ]
          },
          "colorway": [
           "#636efa",
           "#EF553B",
           "#00cc96",
           "#ab63fa",
           "#FFA15A",
           "#19d3f3",
           "#FF6692",
           "#B6E880",
           "#FF97FF",
           "#FECB52"
          ],
          "font": {
           "color": "#2a3f5f"
          },
          "geo": {
           "bgcolor": "white",
           "lakecolor": "white",
           "landcolor": "#E5ECF6",
           "showlakes": true,
           "showland": true,
           "subunitcolor": "white"
          },
          "hoverlabel": {
           "align": "left"
          },
          "hovermode": "closest",
          "mapbox": {
           "style": "light"
          },
          "paper_bgcolor": "white",
          "plot_bgcolor": "#E5ECF6",
          "polar": {
           "angularaxis": {
            "gridcolor": "white",
            "linecolor": "white",
            "ticks": ""
           },
           "bgcolor": "#E5ECF6",
           "radialaxis": {
            "gridcolor": "white",
            "linecolor": "white",
            "ticks": ""
           }
          },
          "scene": {
           "xaxis": {
            "backgroundcolor": "#E5ECF6",
            "gridcolor": "white",
            "gridwidth": 2,
            "linecolor": "white",
            "showbackground": true,
            "ticks": "",
            "zerolinecolor": "white"
           },
           "yaxis": {
            "backgroundcolor": "#E5ECF6",
            "gridcolor": "white",
            "gridwidth": 2,
            "linecolor": "white",
            "showbackground": true,
            "ticks": "",
            "zerolinecolor": "white"
           },
           "zaxis": {
            "backgroundcolor": "#E5ECF6",
            "gridcolor": "white",
            "gridwidth": 2,
            "linecolor": "white",
            "showbackground": true,
            "ticks": "",
            "zerolinecolor": "white"
           }
          },
          "shapedefaults": {
           "line": {
            "color": "#2a3f5f"
           }
          },
          "ternary": {
           "aaxis": {
            "gridcolor": "white",
            "linecolor": "white",
            "ticks": ""
           },
           "baxis": {
            "gridcolor": "white",
            "linecolor": "white",
            "ticks": ""
           },
           "bgcolor": "#E5ECF6",
           "caxis": {
            "gridcolor": "white",
            "linecolor": "white",
            "ticks": ""
           }
          },
          "title": {
           "x": 0.05
          },
          "xaxis": {
           "automargin": true,
           "gridcolor": "white",
           "linecolor": "white",
           "ticks": "",
           "title": {
            "standoff": 15
           },
           "zerolinecolor": "white",
           "zerolinewidth": 2
          },
          "yaxis": {
           "automargin": true,
           "gridcolor": "white",
           "linecolor": "white",
           "ticks": "",
           "title": {
            "standoff": 15
           },
           "zerolinecolor": "white",
           "zerolinewidth": 2
          }
         }
        },
        "title": {
         "text": "Sunlight (hours)"
        },
        "xaxis": {
         "anchor": "y",
         "domain": [
          0,
          1
         ],
         "title": {
          "text": "Sunlight (hours)"
         }
        },
        "yaxis": {
         "anchor": "x",
         "domain": [
          0,
          1
         ],
         "title": {
          "text": "count"
         }
        }
       }
      }
     },
     "metadata": {},
     "output_type": "display_data"
    },
    {
     "data": {
      "application/vnd.plotly.v1+json": {
       "config": {
        "plotlyServerURL": "https://plot.ly"
       },
       "data": [
        {
         "bingroup": "x",
         "hovertemplate": "Fertilizer (kg)=%{x}<br>count=%{y}<extra></extra>",
         "legendgroup": "",
         "marker": {
          "color": "#636efa",
          "pattern": {
           "shape": ""
          }
         },
         "name": "",
         "nbinsx": 100,
         "orientation": "v",
         "showlegend": false,
         "type": "histogram",
         "x": {
          "bdata": "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",
          "dtype": "i2"
         },
         "xaxis": "x",
         "yaxis": "y"
        }
       ],
       "layout": {
        "barmode": "relative",
        "legend": {
         "tracegroupgap": 0
        },
        "template": {
         "data": {
          "bar": [
           {
            "error_x": {
             "color": "#2a3f5f"
            },
            "error_y": {
             "color": "#2a3f5f"
            },
            "marker": {
             "line": {
              "color": "#E5ECF6",
              "width": 0.5
             },
             "pattern": {
              "fillmode": "overlay",
              "size": 10,
              "solidity": 0.2
             }
            },
            "type": "bar"
           }
          ],
          "barpolar": [
           {
            "marker": {
             "line": {
              "color": "#E5ECF6",
              "width": 0.5
             },
             "pattern": {
              "fillmode": "overlay",
              "size": 10,
              "solidity": 0.2
             }
            },
            "type": "barpolar"
           }
          ],
          "carpet": [
           {
            "aaxis": {
             "endlinecolor": "#2a3f5f",
             "gridcolor": "white",
             "linecolor": "white",
             "minorgridcolor": "white",
             "startlinecolor": "#2a3f5f"
            },
            "baxis": {
             "endlinecolor": "#2a3f5f",
             "gridcolor": "white",
             "linecolor": "white",
             "minorgridcolor": "white",
             "startlinecolor": "#2a3f5f"
            },
            "type": "carpet"
           }
          ],
          "choropleth": [
           {
            "colorbar": {
             "outlinewidth": 0,
             "ticks": ""
            },
            "type": "choropleth"
           }
          ],
          "contour": [
           {
            "colorbar": {
             "outlinewidth": 0,
             "ticks": ""
            },
            "colorscale": [
             [
              0,
              "#0d0887"
             ],
             [
              0.1111111111111111,
              "#46039f"
             ],
             [
              0.2222222222222222,
              "#7201a8"
             ],
             [
              0.3333333333333333,
              "#9c179e"
             ],
             [
              0.4444444444444444,
              "#bd3786"
             ],
             [
              0.5555555555555556,
              "#d8576b"
             ],
             [
              0.6666666666666666,
              "#ed7953"
             ],
             [
              0.7777777777777778,
              "#fb9f3a"
             ],
             [
              0.8888888888888888,
              "#fdca26"
             ],
             [
              1,
              "#f0f921"
             ]
            ],
            "type": "contour"
           }
          ],
          "contourcarpet": [
           {
            "colorbar": {
             "outlinewidth": 0,
             "ticks": ""
            },
            "type": "contourcarpet"
           }
          ],
          "heatmap": [
           {
            "colorbar": {
             "outlinewidth": 0,
             "ticks": ""
            },
            "colorscale": [
             [
              0,
              "#0d0887"
             ],
             [
              0.1111111111111111,
              "#46039f"
             ],
             [
              0.2222222222222222,
              "#7201a8"
             ],
             [
              0.3333333333333333,
              "#9c179e"
             ],
             [
              0.4444444444444444,
              "#bd3786"
             ],
             [
              0.5555555555555556,
              "#d8576b"
             ],
             [
              0.6666666666666666,
              "#ed7953"
             ],
             [
              0.7777777777777778,
              "#fb9f3a"
             ],
             [
              0.8888888888888888,
              "#fdca26"
             ],
             [
              1,
              "#f0f921"
             ]
            ],
            "type": "heatmap"
           }
          ],
          "histogram": [
           {
            "marker": {
             "pattern": {
              "fillmode": "overlay",
              "size": 10,
              "solidity": 0.2
             }
            },
            "type": "histogram"
           }
          ],
          "histogram2d": [
           {
            "colorbar": {
             "outlinewidth": 0,
             "ticks": ""
            },
            "colorscale": [
             [
              0,
              "#0d0887"
             ],
             [
              0.1111111111111111,
              "#46039f"
             ],
             [
              0.2222222222222222,
              "#7201a8"
             ],
             [
              0.3333333333333333,
              "#9c179e"
             ],
             [
              0.4444444444444444,
              "#bd3786"
             ],
             [
              0.5555555555555556,
              "#d8576b"
             ],
             [
              0.6666666666666666,
              "#ed7953"
             ],
             [
              0.7777777777777778,
              "#fb9f3a"
             ],
             [
              0.8888888888888888,
              "#fdca26"
             ],
             [
              1,
              "#f0f921"
             ]
            ],
            "type": "histogram2d"
           }
          ],
          "histogram2dcontour": [
           {
            "colorbar": {
             "outlinewidth": 0,
             "ticks": ""
            },
            "colorscale": [
             [
              0,
              "#0d0887"
             ],
             [
              0.1111111111111111,
              "#46039f"
             ],
             [
              0.2222222222222222,
              "#7201a8"
             ],
             [
              0.3333333333333333,
              "#9c179e"
             ],
             [
              0.4444444444444444,
              "#bd3786"
             ],
             [
              0.5555555555555556,
              "#d8576b"
             ],
             [
              0.6666666666666666,
              "#ed7953"
             ],
             [
              0.7777777777777778,
              "#fb9f3a"
             ],
             [
              0.8888888888888888,
              "#fdca26"
             ],
             [
              1,
              "#f0f921"
             ]
            ],
            "type": "histogram2dcontour"
           }
          ],
          "mesh3d": [
           {
            "colorbar": {
             "outlinewidth": 0,
             "ticks": ""
            },
            "type": "mesh3d"
           }
          ],
          "parcoords": [
           {
            "line": {
             "colorbar": {
              "outlinewidth": 0,
              "ticks": ""
             }
            },
            "type": "parcoords"
           }
          ],
          "pie": [
           {
            "automargin": true,
            "type": "pie"
           }
          ],
          "scatter": [
           {
            "fillpattern": {
             "fillmode": "overlay",
             "size": 10,
             "solidity": 0.2
            },
            "type": "scatter"
           }
          ],
          "scatter3d": [
           {
            "line": {
             "colorbar": {
              "outlinewidth": 0,
              "ticks": ""
             }
            },
            "marker": {
             "colorbar": {
              "outlinewidth": 0,
              "ticks": ""
             }
            },
            "type": "scatter3d"
           }
          ],
          "scattercarpet": [
           {
            "marker": {
             "colorbar": {
              "outlinewidth": 0,
              "ticks": ""
             }
            },
            "type": "scattercarpet"
           }
          ],
          "scattergeo": [
           {
            "marker": {
             "colorbar": {
              "outlinewidth": 0,
              "ticks": ""
             }
            },
            "type": "scattergeo"
           }
          ],
          "scattergl": [
           {
            "marker": {
             "colorbar": {
              "outlinewidth": 0,
              "ticks": ""
             }
            },
            "type": "scattergl"
           }
          ],
          "scattermap": [
           {
            "marker": {
             "colorbar": {
              "outlinewidth": 0,
              "ticks": ""
             }
            },
            "type": "scattermap"
           }
          ],
          "scattermapbox": [
           {
            "marker": {
             "colorbar": {
              "outlinewidth": 0,
              "ticks": ""
             }
            },
            "type": "scattermapbox"
           }
          ],
          "scatterpolar": [
           {
            "marker": {
             "colorbar": {
              "outlinewidth": 0,
              "ticks": ""
             }
            },
            "type": "scatterpolar"
           }
          ],
          "scatterpolargl": [
           {
            "marker": {
             "colorbar": {
              "outlinewidth": 0,
              "ticks": ""
             }
            },
            "type": "scatterpolargl"
           }
          ],
          "scatterternary": [
           {
            "marker": {
             "colorbar": {
              "outlinewidth": 0,
              "ticks": ""
             }
            },
            "type": "scatterternary"
           }
          ],
          "surface": [
           {
            "colorbar": {
             "outlinewidth": 0,
             "ticks": ""
            },
            "colorscale": [
             [
              0,
              "#0d0887"
             ],
             [
              0.1111111111111111,
              "#46039f"
             ],
             [
              0.2222222222222222,
              "#7201a8"
             ],
             [
              0.3333333333333333,
              "#9c179e"
             ],
             [
              0.4444444444444444,
              "#bd3786"
             ],
             [
              0.5555555555555556,
              "#d8576b"
             ],
             [
              0.6666666666666666,
              "#ed7953"
             ],
             [
              0.7777777777777778,
              "#fb9f3a"
             ],
             [
              0.8888888888888888,
              "#fdca26"
             ],
             [
              1,
              "#f0f921"
             ]
            ],
            "type": "surface"
           }
          ],
          "table": [
           {
            "cells": {
             "fill": {
              "color": "#EBF0F8"
             },
             "line": {
              "color": "white"
             }
            },
            "header": {
             "fill": {
              "color": "#C8D4E3"
             },
             "line": {
              "color": "white"
             }
            },
            "type": "table"
           }
          ]
         },
         "layout": {
          "annotationdefaults": {
           "arrowcolor": "#2a3f5f",
           "arrowhead": 0,
           "arrowwidth": 1
          },
          "autotypenumbers": "strict",
          "coloraxis": {
           "colorbar": {
            "outlinewidth": 0,
            "ticks": ""
           }
          },
          "colorscale": {
           "diverging": [
            [
             0,
             "#8e0152"
            ],
            [
             0.1,
             "#c51b7d"
            ],
            [
             0.2,
             "#de77ae"
            ],
            [
             0.3,
             "#f1b6da"
            ],
            [
             0.4,
             "#fde0ef"
            ],
            [
             0.5,
             "#f7f7f7"
            ],
            [
             0.6,
             "#e6f5d0"
            ],
            [
             0.7,
             "#b8e186"
            ],
            [
             0.8,
             "#7fbc41"
            ],
            [
             0.9,
             "#4d9221"
            ],
            [
             1,
             "#276419"
            ]
           ],
           "sequential": [
            [
             0,
             "#0d0887"
            ],
            [
             0.1111111111111111,
             "#46039f"
            ],
            [
             0.2222222222222222,
             "#7201a8"
            ],
            [
             0.3333333333333333,
             "#9c179e"
            ],
            [
             0.4444444444444444,
             "#bd3786"
            ],
            [
             0.5555555555555556,
             "#d8576b"
            ],
            [
             0.6666666666666666,
             "#ed7953"
            ],
            [
             0.7777777777777778,
             "#fb9f3a"
            ],
            [
             0.8888888888888888,
             "#fdca26"
            ],
            [
             1,
             "#f0f921"
            ]
           ],
           "sequentialminus": [
            [
             0,
             "#0d0887"
            ],
            [
             0.1111111111111111,
             "#46039f"
            ],
            [
             0.2222222222222222,
             "#7201a8"
            ],
            [
             0.3333333333333333,
             "#9c179e"
            ],
            [
             0.4444444444444444,
             "#bd3786"
            ],
            [
             0.5555555555555556,
             "#d8576b"
            ],
            [
             0.6666666666666666,
             "#ed7953"
            ],
            [
             0.7777777777777778,
             "#fb9f3a"
            ],
            [
             0.8888888888888888,
             "#fdca26"
            ],
            [
             1,
             "#f0f921"
            ]
           ]
          },
          "colorway": [
           "#636efa",
           "#EF553B",
           "#00cc96",
           "#ab63fa",
           "#FFA15A",
           "#19d3f3",
           "#FF6692",
           "#B6E880",
           "#FF97FF",
           "#FECB52"
          ],
          "font": {
           "color": "#2a3f5f"
          },
          "geo": {
           "bgcolor": "white",
           "lakecolor": "white",
           "landcolor": "#E5ECF6",
           "showlakes": true,
           "showland": true,
           "subunitcolor": "white"
          },
          "hoverlabel": {
           "align": "left"
          },
          "hovermode": "closest",
          "mapbox": {
           "style": "light"
          },
          "paper_bgcolor": "white",
          "plot_bgcolor": "#E5ECF6",
          "polar": {
           "angularaxis": {
            "gridcolor": "white",
            "linecolor": "white",
            "ticks": ""
           },
           "bgcolor": "#E5ECF6",
           "radialaxis": {
            "gridcolor": "white",
            "linecolor": "white",
            "ticks": ""
           }
          },
          "scene": {
           "xaxis": {
            "backgroundcolor": "#E5ECF6",
            "gridcolor": "white",
            "gridwidth": 2,
            "linecolor": "white",
            "showbackground": true,
            "ticks": "",
            "zerolinecolor": "white"
           },
           "yaxis": {
            "backgroundcolor": "#E5ECF6",
            "gridcolor": "white",
            "gridwidth": 2,
            "linecolor": "white",
            "showbackground": true,
            "ticks": "",
            "zerolinecolor": "white"
           },
           "zaxis": {
            "backgroundcolor": "#E5ECF6",
            "gridcolor": "white",
            "gridwidth": 2,
            "linecolor": "white",
            "showbackground": true,
            "ticks": "",
            "zerolinecolor": "white"
           }
          },
          "shapedefaults": {
           "line": {
            "color": "#2a3f5f"
           }
          },
          "ternary": {
           "aaxis": {
            "gridcolor": "white",
            "linecolor": "white",
            "ticks": ""
           },
           "baxis": {
            "gridcolor": "white",
            "linecolor": "white",
            "ticks": ""
           },
           "bgcolor": "#E5ECF6",
           "caxis": {
            "gridcolor": "white",
            "linecolor": "white",
            "ticks": ""
           }
          },
          "title": {
           "x": 0.05
          },
          "xaxis": {
           "automargin": true,
           "gridcolor": "white",
           "linecolor": "white",
           "ticks": "",
           "title": {
            "standoff": 15
           },
           "zerolinecolor": "white",
           "zerolinewidth": 2
          },
          "yaxis": {
           "automargin": true,
           "gridcolor": "white",
           "linecolor": "white",
           "ticks": "",
           "title": {
            "standoff": 15
           },
           "zerolinecolor": "white",
           "zerolinewidth": 2
          }
         }
        },
        "title": {
         "text": "Fertilizer (kg)"
        },
        "xaxis": {
         "anchor": "y",
         "domain": [
          0,
          1
         ],
         "title": {
          "text": "Fertilizer (kg)"
         }
        },
        "yaxis": {
         "anchor": "x",
         "domain": [
          0,
          1
         ],
         "title": {
          "text": "count"
         }
        }
       }
      }
     },
     "metadata": {},
     "output_type": "display_data"
    },
    {
     "data": {
      "application/vnd.plotly.v1+json": {
       "config": {
        "plotlyServerURL": "https://plot.ly"
       },
       "data": [
        {
         "bingroup": "x",
         "hovertemplate": "Crop Yield (tons/ha)=%{x}<br>count=%{y}<extra></extra>",
         "legendgroup": "",
         "marker": {
          "color": "#636efa",
          "pattern": {
           "shape": ""
          }
         },
         "name": "",
         "nbinsx": 100,
         "orientation": "v",
         "showlegend": false,
         "type": "histogram",
         "x": {
          "bdata": "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",
          "dtype": "i2"
         },
         "xaxis": "x",
         "yaxis": "y"
        }
       ],
       "layout": {
        "barmode": "relative",
        "legend": {
         "tracegroupgap": 0
        },
        "template": {
         "data": {
          "bar": [
           {
            "error_x": {
             "color": "#2a3f5f"
            },
            "error_y": {
             "color": "#2a3f5f"
            },
            "marker": {
             "line": {
              "color": "#E5ECF6",
              "width": 0.5
             },
             "pattern": {
              "fillmode": "overlay",
              "size": 10,
              "solidity": 0.2
             }
            },
            "type": "bar"
           }
          ],
          "barpolar": [
           {
            "marker": {
             "line": {
              "color": "#E5ECF6",
              "width": 0.5
             },
             "pattern": {
              "fillmode": "overlay",
              "size": 10,
              "solidity": 0.2
             }
            },
            "type": "barpolar"
           }
          ],
          "carpet": [
           {
            "aaxis": {
             "endlinecolor": "#2a3f5f",
             "gridcolor": "white",
             "linecolor": "white",
             "minorgridcolor": "white",
             "startlinecolor": "#2a3f5f"
            },
            "baxis": {
             "endlinecolor": "#2a3f5f",
             "gridcolor": "white",
             "linecolor": "white",
             "minorgridcolor": "white",
             "startlinecolor": "#2a3f5f"
            },
            "type": "carpet"
           }
          ],
          "choropleth": [
           {
            "colorbar": {
             "outlinewidth": 0,
             "ticks": ""
            },
            "type": "choropleth"
           }
          ],
          "contour": [
           {
            "colorbar": {
             "outlinewidth": 0,
             "ticks": ""
            },
            "colorscale": [
             [
              0,
              "#0d0887"
             ],
             [
              0.1111111111111111,
              "#46039f"
             ],
             [
              0.2222222222222222,
              "#7201a8"
             ],
             [
              0.3333333333333333,
              "#9c179e"
             ],
             [
              0.4444444444444444,
              "#bd3786"
             ],
             [
              0.5555555555555556,
              "#d8576b"
             ],
             [
              0.6666666666666666,
              "#ed7953"
             ],
             [
              0.7777777777777778,
              "#fb9f3a"
             ],
             [
              0.8888888888888888,
              "#fdca26"
             ],
             [
              1,
              "#f0f921"
             ]
            ],
            "type": "contour"
           }
          ],
          "contourcarpet": [
           {
            "colorbar": {
             "outlinewidth": 0,
             "ticks": ""
            },
            "type": "contourcarpet"
           }
          ],
          "heatmap": [
           {
            "colorbar": {
             "outlinewidth": 0,
             "ticks": ""
            },
            "colorscale": [
             [
              0,
              "#0d0887"
             ],
             [
              0.1111111111111111,
              "#46039f"
             ],
             [
              0.2222222222222222,
              "#7201a8"
             ],
             [
              0.3333333333333333,
              "#9c179e"
             ],
             [
              0.4444444444444444,
              "#bd3786"
             ],
             [
              0.5555555555555556,
              "#d8576b"
             ],
             [
              0.6666666666666666,
              "#ed7953"
             ],
             [
              0.7777777777777778,
              "#fb9f3a"
             ],
             [
              0.8888888888888888,
              "#fdca26"
             ],
             [
              1,
              "#f0f921"
             ]
            ],
            "type": "heatmap"
           }
          ],
          "histogram": [
           {
            "marker": {
             "pattern": {
              "fillmode": "overlay",
              "size": 10,
              "solidity": 0.2
             }
            },
            "type": "histogram"
           }
          ],
          "histogram2d": [
           {
            "colorbar": {
             "outlinewidth": 0,
             "ticks": ""
            },
            "colorscale": [
             [
              0,
              "#0d0887"
             ],
             [
              0.1111111111111111,
              "#46039f"
             ],
             [
              0.2222222222222222,
              "#7201a8"
             ],
             [
              0.3333333333333333,
              "#9c179e"
             ],
             [
              0.4444444444444444,
              "#bd3786"
             ],
             [
              0.5555555555555556,
              "#d8576b"
             ],
             [
              0.6666666666666666,
              "#ed7953"
             ],
             [
              0.7777777777777778,
              "#fb9f3a"
             ],
             [
              0.8888888888888888,
              "#fdca26"
             ],
             [
              1,
              "#f0f921"
             ]
            ],
            "type": "histogram2d"
           }
          ],
          "histogram2dcontour": [
           {
            "colorbar": {
             "outlinewidth": 0,
             "ticks": ""
            },
            "colorscale": [
             [
              0,
              "#0d0887"
             ],
             [
              0.1111111111111111,
              "#46039f"
             ],
             [
              0.2222222222222222,
              "#7201a8"
             ],
             [
              0.3333333333333333,
              "#9c179e"
             ],
             [
              0.4444444444444444,
              "#bd3786"
             ],
             [
              0.5555555555555556,
              "#d8576b"
             ],
             [
              0.6666666666666666,
              "#ed7953"
             ],
             [
              0.7777777777777778,
              "#fb9f3a"
             ],
             [
              0.8888888888888888,
              "#fdca26"
             ],
             [
              1,
              "#f0f921"
             ]
            ],
            "type": "histogram2dcontour"
           }
          ],
          "mesh3d": [
           {
            "colorbar": {
             "outlinewidth": 0,
             "ticks": ""
            },
            "type": "mesh3d"
           }
          ],
          "parcoords": [
           {
            "line": {
             "colorbar": {
              "outlinewidth": 0,
              "ticks": ""
             }
            },
            "type": "parcoords"
           }
          ],
          "pie": [
           {
            "automargin": true,
            "type": "pie"
           }
          ],
          "scatter": [
           {
            "fillpattern": {
             "fillmode": "overlay",
             "size": 10,
             "solidity": 0.2
            },
            "type": "scatter"
           }
          ],
          "scatter3d": [
           {
            "line": {
             "colorbar": {
              "outlinewidth": 0,
              "ticks": ""
             }
            },
            "marker": {
             "colorbar": {
              "outlinewidth": 0,
              "ticks": ""
             }
            },
            "type": "scatter3d"
           }
          ],
          "scattercarpet": [
           {
            "marker": {
             "colorbar": {
              "outlinewidth": 0,
              "ticks": ""
             }
            },
            "type": "scattercarpet"
           }
          ],
          "scattergeo": [
           {
            "marker": {
             "colorbar": {
              "outlinewidth": 0,
              "ticks": ""
             }
            },
            "type": "scattergeo"
           }
          ],
          "scattergl": [
           {
            "marker": {
             "colorbar": {
              "outlinewidth": 0,
              "ticks": ""
             }
            },
            "type": "scattergl"
           }
          ],
          "scattermap": [
           {
            "marker": {
             "colorbar": {
              "outlinewidth": 0,
              "ticks": ""
             }
            },
            "type": "scattermap"
           }
          ],
          "scattermapbox": [
           {
            "marker": {
             "colorbar": {
              "outlinewidth": 0,
              "ticks": ""
             }
            },
            "type": "scattermapbox"
           }
          ],
          "scatterpolar": [
           {
            "marker": {
             "colorbar": {
              "outlinewidth": 0,
              "ticks": ""
             }
            },
            "type": "scatterpolar"
           }
          ],
          "scatterpolargl": [
           {
            "marker": {
             "colorbar": {
              "outlinewidth": 0,
              "ticks": ""
             }
            },
            "type": "scatterpolargl"
           }
          ],
          "scatterternary": [
           {
            "marker": {
             "colorbar": {
              "outlinewidth": 0,
              "ticks": ""
             }
            },
            "type": "scatterternary"
           }
          ],
          "surface": [
           {
            "colorbar": {
             "outlinewidth": 0,
             "ticks": ""
            },
            "colorscale": [
             [
              0,
              "#0d0887"
             ],
             [
              0.1111111111111111,
              "#46039f"
             ],
             [
              0.2222222222222222,
              "#7201a8"
             ],
             [
              0.3333333333333333,
              "#9c179e"
             ],
             [
              0.4444444444444444,
              "#bd3786"
             ],
             [
              0.5555555555555556,
              "#d8576b"
             ],
             [
              0.6666666666666666,
              "#ed7953"
             ],
             [
              0.7777777777777778,
              "#fb9f3a"
             ],
             [
              0.8888888888888888,
              "#fdca26"
             ],
             [
              1,
              "#f0f921"
             ]
            ],
            "type": "surface"
           }
          ],
          "table": [
           {
            "cells": {
             "fill": {
              "color": "#EBF0F8"
             },
             "line": {
              "color": "white"
             }
            },
            "header": {
             "fill": {
              "color": "#C8D4E3"
             },
             "line": {
              "color": "white"
             }
            },
            "type": "table"
           }
          ]
         },
         "layout": {
          "annotationdefaults": {
           "arrowcolor": "#2a3f5f",
           "arrowhead": 0,
           "arrowwidth": 1
          },
          "autotypenumbers": "strict",
          "coloraxis": {
           "colorbar": {
            "outlinewidth": 0,
            "ticks": ""
           }
          },
          "colorscale": {
           "diverging": [
            [
             0,
             "#8e0152"
            ],
            [
             0.1,
             "#c51b7d"
            ],
            [
             0.2,
             "#de77ae"
            ],
            [
             0.3,
             "#f1b6da"
            ],
            [
             0.4,
             "#fde0ef"
            ],
            [
             0.5,
             "#f7f7f7"
            ],
            [
             0.6,
             "#e6f5d0"
            ],
            [
             0.7,
             "#b8e186"
            ],
            [
             0.8,
             "#7fbc41"
            ],
            [
             0.9,
             "#4d9221"
            ],
            [
             1,
             "#276419"
            ]
           ],
           "sequential": [
            [
             0,
             "#0d0887"
            ],
            [
             0.1111111111111111,
             "#46039f"
            ],
            [
             0.2222222222222222,
             "#7201a8"
            ],
            [
             0.3333333333333333,
             "#9c179e"
            ],
            [
             0.4444444444444444,
             "#bd3786"
            ],
            [
             0.5555555555555556,
             "#d8576b"
            ],
            [
             0.6666666666666666,
             "#ed7953"
            ],
            [
             0.7777777777777778,
             "#fb9f3a"
            ],
            [
             0.8888888888888888,
             "#fdca26"
            ],
            [
             1,
             "#f0f921"
            ]
           ],
           "sequentialminus": [
            [
             0,
             "#0d0887"
            ],
            [
             0.1111111111111111,
             "#46039f"
            ],
            [
             0.2222222222222222,
             "#7201a8"
            ],
            [
             0.3333333333333333,
             "#9c179e"
            ],
            [
             0.4444444444444444,
             "#bd3786"
            ],
            [
             0.5555555555555556,
             "#d8576b"
            ],
            [
             0.6666666666666666,
             "#ed7953"
            ],
            [
             0.7777777777777778,
             "#fb9f3a"
            ],
            [
             0.8888888888888888,
             "#fdca26"
            ],
            [
             1,
             "#f0f921"
            ]
           ]
          },
          "colorway": [
           "#636efa",
           "#EF553B",
           "#00cc96",
           "#ab63fa",
           "#FFA15A",
           "#19d3f3",
           "#FF6692",
           "#B6E880",
           "#FF97FF",
           "#FECB52"
          ],
          "font": {
           "color": "#2a3f5f"
          },
          "geo": {
           "bgcolor": "white",
           "lakecolor": "white",
           "landcolor": "#E5ECF6",
           "showlakes": true,
           "showland": true,
           "subunitcolor": "white"
          },
          "hoverlabel": {
           "align": "left"
          },
          "hovermode": "closest",
          "mapbox": {
           "style": "light"
          },
          "paper_bgcolor": "white",
          "plot_bgcolor": "#E5ECF6",
          "polar": {
           "angularaxis": {
            "gridcolor": "white",
            "linecolor": "white",
            "ticks": ""
           },
           "bgcolor": "#E5ECF6",
           "radialaxis": {
            "gridcolor": "white",
            "linecolor": "white",
            "ticks": ""
           }
          },
          "scene": {
           "xaxis": {
            "backgroundcolor": "#E5ECF6",
            "gridcolor": "white",
            "gridwidth": 2,
            "linecolor": "white",
            "showbackground": true,
            "ticks": "",
            "zerolinecolor": "white"
           },
           "yaxis": {
            "backgroundcolor": "#E5ECF6",
            "gridcolor": "white",
            "gridwidth": 2,
            "linecolor": "white",
            "showbackground": true,
            "ticks": "",
            "zerolinecolor": "white"
           },
           "zaxis": {
            "backgroundcolor": "#E5ECF6",
            "gridcolor": "white",
            "gridwidth": 2,
            "linecolor": "white",
            "showbackground": true,
            "ticks": "",
            "zerolinecolor": "white"
           }
          },
          "shapedefaults": {
           "line": {
            "color": "#2a3f5f"
           }
          },
          "ternary": {
           "aaxis": {
            "gridcolor": "white",
            "linecolor": "white",
            "ticks": ""
           },
           "baxis": {
            "gridcolor": "white",
            "linecolor": "white",
            "ticks": ""
           },
           "bgcolor": "#E5ECF6",
           "caxis": {
            "gridcolor": "white",
            "linecolor": "white",
            "ticks": ""
           }
          },
          "title": {
           "x": 0.05
          },
          "xaxis": {
           "automargin": true,
           "gridcolor": "white",
           "linecolor": "white",
           "ticks": "",
           "title": {
            "standoff": 15
           },
           "zerolinecolor": "white",
           "zerolinewidth": 2
          },
          "yaxis": {
           "automargin": true,
           "gridcolor": "white",
           "linecolor": "white",
           "ticks": "",
           "title": {
            "standoff": 15
           },
           "zerolinecolor": "white",
           "zerolinewidth": 2
          }
         }
        },
        "title": {
         "text": "Distribution of Crop Yield (tons per hectare)"
        },
        "xaxis": {
         "anchor": "y",
         "domain": [
          0,
          1
         ],
         "title": {
          "text": "Crop Yield (tons/ha)"
         }
        },
        "yaxis": {
         "anchor": "x",
         "domain": [
          0,
          1
         ],
         "title": {
          "text": "count"
         }
        }
       }
      }
     },
     "metadata": {},
     "output_type": "display_data"
    }
   ],
   "source": [
    "import plotly.express as px\n",
    "\n",
    "# Univariate Analysis\n",
    "\n",
    "# 1. Rainfall distribution\n",
    "fig_rainfall = px.histogram(\n",
    "    df,\n",
    "    x='rainfall_mm',\n",
    "    nbins=100,\n",
    "    title='Distribution of Rainfall (mm)',\n",
    "    labels={'rainfall_mm': 'Rainfall (mm)'}\n",
    ")\n",
    "\n",
    "# 2. Soil quality index\n",
    "fig_soil_quality = px.histogram(\n",
    "    df,\n",
    "    x='soil_quality_index',\n",
    "    nbins=100,\n",
    "    title='Soil Quality Index (1-10)',\n",
    "    labels={'soil_quality_index': 'Soil Quality Index (1-10)'}\n",
    ")\n",
    "\n",
    "# 3. Farm size\n",
    "fig_farm_size_hectares = px.histogram(\n",
    "    df,\n",
    "    x='farm_size_hectares',\n",
    "    nbins=100,\n",
    "    title='Farm size (hectares)',\n",
    "    labels={'farm_size_hectares': 'Farm size (hectares)'}\n",
    ")\n",
    "\n",
    "# 4. Sunlight hours\n",
    "fig_sunlight_hours = px.histogram(\n",
    "    df,\n",
    "    x='sunlight_hours',\n",
    "    nbins=100,\n",
    "    title='Sunlight (hours)',\n",
    "    labels={'sunlight_hours': 'Sunlight (hours)'}\n",
    ")\n",
    "\n",
    "# 5. Fertilizer\n",
    "fig_fertilizer_kg = px.histogram(\n",
    "    df,\n",
    "    x='fertilizer_kg',\n",
    "    nbins=100,\n",
    "    title='Fertilizer (kg)',\n",
    "    labels={'fertilizer_kg': 'Fertilizer (kg)'}\n",
    ")\n",
    "\n",
    "# 6. Crop yield distribution\n",
    "fig_crop_yield = px.histogram(\n",
    "    df,\n",
    "    x='crop_yield',\n",
    "    nbins=100,\n",
    "    title='Distribution of Crop Yield (tons per hectare)',\n",
    "    labels={'crop_yield': 'Crop Yield (tons/ha)'}\n",
    ")\n",
    "\n",
    "# Run this IN A NOTEBOOK CELL (top-left of your notebook, new cell)\n",
    "%pip install -U nbformat plotly\n",
    "\n",
    "import plotly.io as pio\n",
    "# VS Code works best with this renderer:\n",
    "pio.renderers.default = \"vscode\"      # or \"notebook_connected\" if not in VS Code\n",
    "\n",
    "fig_rainfall.show()\n",
    "fig_soil_quality.show()\n",
    "fig_farm_size_hectares.show()\n",
    "fig_sunlight_hours.show()\n",
    "fig_fertilizer_kg.show()\n",
    "fig_crop_yield.show()"
   ]
  }
 ],
 "metadata": {
  "kernelspec": {
   "display_name": "Python 3",
   "language": "python",
   "name": "python3"
  },
  "language_info": {
   "codemirror_mode": {
    "name": "ipython",
    "version": 3
   },
   "file_extension": ".py",
   "mimetype": "text/x-python",
   "name": "python",
   "nbconvert_exporter": "python",
   "pygments_lexer": "ipython3",
   "version": "3.9.6"
  }
 },
 "nbformat": 4,
 "nbformat_minor": 5
}
