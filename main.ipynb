{
 "cells": [
  {
   "cell_type": "markdown",
   "id": "8bef52ea",
   "metadata": {},
   "source": [
    "# Crop Yield Prediction Using Environmental Data\n",
    "\n",
    "**Name(s):** Jake Walkup\n",
    "\n",
    "**Website Link:** _coming soon_"
   ]
  },
  {
   "cell_type": "markdown",
   "id": "d6cd39d0",
   "metadata": {},
   "source": [
    "## Introduction\n",
    "\n",
    "I got the dataset from Kaggle. It contains **3000 rows** of simulated data points representing different environmental and farming conditions that affect crop yield. I chose this topic because I care about sustainability and want to explore how data can help improve agricultural productivity in an eco-friendly way.\n",
    "\n",
    "The dataset includes the following **features**:\n",
    "\n",
    "- `rainfall_mm`: Average rainfall during the growing season (500–2000 mm)\n",
    "- `soil_quality_index`: A score from 1 to 10 measuring soil quality\n",
    "- `farm_size_hectares`: The size of the farm (10–1000 hectares)\n",
    "- `sunlight_hours`: Average sunlight per day during the season (4–12 hours)\n",
    "- `fertilizer_kg`: Amount of fertilizer used per hectare (100–3000 kg)\n",
    "\n",
    "The **target variable** is `crop_yield` (in tons per hectare).\n",
    "\n",
    "Some questions I brainstormed:\n",
    "\n",
    "- What are the most important factors that influence crop yield?\n",
    "- How much does fertilizer usage affect yield?\n",
    "- Can sunlight or rainfall predict crop success alone?\n",
    "\n",
    "I chose: **\"What are the most important factors that influence crop yield?\"**\n"
   ]
  },
  {
   "cell_type": "code",
   "execution_count": 3,
   "id": "8c2d8fdc",
   "metadata": {},
   "outputs": [
    {
     "name": "stdout",
     "output_type": "stream",
     "text": [
      "   rainfall_mm  soil_quality_index  farm_size_hectares  sunlight_hours  \\\n",
      "0         1626                   9                 636              11   \n",
      "1         1959                   9                  73              11   \n",
      "2         1360                   1                 352               5   \n",
      "3         1794                   2                 948               7   \n",
      "4         1630                   5                 884               5   \n",
      "5         1595                   4                 928               7   \n",
      "6         1544                  10                 361              10   \n",
      "7          621                   9                 167              12   \n",
      "8          966                   7                 598              11   \n",
      "9         1738                   6                 500              12   \n",
      "\n",
      "   fertilizer_kg  crop_yield  \n",
      "0           1006         404  \n",
      "1            112         115  \n",
      "2            702         231  \n",
      "3            299         537  \n",
      "4           2733         554  \n",
      "5           1891         556  \n",
      "6            547         257  \n",
      "7           1911         158  \n",
      "8            940         360  \n",
      "9            689         327  \n"
     ]
    }
   ],
   "source": [
    "import pandas as pd\n",
    "\n",
    "# Convert CSV file to Pandas data frame\n",
    "df = pd.read_csv('crop_yield_data.csv')\n",
    "\n",
    "# Head returns the first few rows from the data frame\n",
    "print(df.head(10))"
   ]
  },
  {
   "cell_type": "markdown",
   "id": "0ef083f4",
   "metadata": {},
   "source": [
    "## Data Cleaning and Exploratory Data Analysis"
   ]
  },
  {
   "cell_type": "markdown",
   "id": "e4ba832a",
   "metadata": {},
   "source": [
    "### Data Cleaning:"
   ]
  },
  {
   "cell_type": "markdown",
   "id": "00cf0a7a",
   "metadata": {},
   "source": [
    "In the introduction section, I listed the units for each variable. Below, I examined the dataset for missing values (NaN) and other inconsistencies. After a thorough review, I found no significant missing or invalid data, indicating that the dataset was already clean and ready for analysis. This ensures that subsequent analyses are not biased or impacted by incomplete information."
   ]
  },
  {
   "cell_type": "code",
   "execution_count": 12,
   "id": "9fc0472f",
   "metadata": {},
   "outputs": [
    {
     "name": "stdout",
     "output_type": "stream",
     "text": [
      "False\n",
      "rainfall_mm           0\n",
      "soil_quality_index    0\n",
      "farm_size_hectares    0\n",
      "sunlight_hours        0\n",
      "fertilizer_kg         0\n",
      "crop_yield            0\n",
      "dtype: int64\n"
     ]
    }
   ],
   "source": [
    "# It tells you if there are any missing values in the whole DataFrame\n",
    "print(df.isnull().values.any())\n",
    "\n",
    "# It tells you which columns have missing values in the DataFrame\n",
    "print(df.isnull().sum())"
   ]
  },
  {
   "cell_type": "markdown",
   "id": "f75ccf2e",
   "metadata": {},
   "source": [
    "As shown in the code above, there are no missing values in the DataFrame."
   ]
  }
 ],
 "metadata": {
  "kernelspec": {
   "display_name": "Python 3",
   "language": "python",
   "name": "python3"
  },
  "language_info": {
   "codemirror_mode": {
    "name": "ipython",
    "version": 3
   },
   "file_extension": ".py",
   "mimetype": "text/x-python",
   "name": "python",
   "nbconvert_exporter": "python",
   "pygments_lexer": "ipython3",
   "version": "3.9.6"
  }
 },
 "nbformat": 4,
 "nbformat_minor": 5
}
