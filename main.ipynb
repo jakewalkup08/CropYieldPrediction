{
 "cells": [
  {
   "cell_type": "markdown",
   "id": "8bef52ea",
   "metadata": {},
   "source": [
    "# Crop Yield Prediction Using Environmental Data\n",
    "\n",
    "**Name(s):** Jake Walkup\n",
    "\n",
    "**Website Link:** _coming soon_"
   ]
  },
  {
   "cell_type": "markdown",
   "id": "d6cd39d0",
   "metadata": {},
   "source": [
    "## Introduction\n",
    "\n",
    "I got the dataset from Kaggle. It contains **3000 rows** of simulated data points representing different environmental and farming conditions that affect crop yield. I chose this topic because I care about sustainability and want to explore how data can help improve agricultural productivity in an eco-friendly way.\n",
    "\n",
    "The dataset includes the following **features**:\n",
    "\n",
    "- `rainfall_mm`: Average rainfall during the growing season (500–2000 mm)\n",
    "- `soil_quality_index`: A score from 1 to 10 measuring soil quality\n",
    "- `farm_size_hectares`: The size of the farm (10–1000 hectares)\n",
    "- `sunlight_hours`: Average sunlight per day during the season (4–12 hours)\n",
    "- `fertilizer_kg`: Amount of fertilizer used per hectare (100–3000 kg)\n",
    "\n",
    "The **target variable** is `crop_yield` (in tons per hectare).\n",
    "\n",
    "Some questions I brainstormed:\n",
    "\n",
    "- What are the most important factors that influence crop yield?\n",
    "- How much does fertilizer usage affect yield?\n",
    "- Can sunlight or rainfall predict crop success alone?\n",
    "\n",
    "I chose: **\"What are the most important factors that influence crop yield?\"**\n"
   ]
  },
  {
   "cell_type": "code",
   "execution_count": 1,
   "id": "8c2d8fdc",
   "metadata": {},
   "outputs": [
    {
     "name": "stdout",
     "output_type": "stream",
     "text": [
      "   rainfall_mm  soil_quality_index  farm_size_hectares  sunlight_hours  \\\n",
      "0         1626                   9                 636              11   \n",
      "1         1959                   9                  73              11   \n",
      "2         1360                   1                 352               5   \n",
      "3         1794                   2                 948               7   \n",
      "4         1630                   5                 884               5   \n",
      "5         1595                   4                 928               7   \n",
      "6         1544                  10                 361              10   \n",
      "7          621                   9                 167              12   \n",
      "8          966                   7                 598              11   \n",
      "9         1738                   6                 500              12   \n",
      "\n",
      "   fertilizer_kg  crop_yield  \n",
      "0           1006         404  \n",
      "1            112         115  \n",
      "2            702         231  \n",
      "3            299         537  \n",
      "4           2733         554  \n",
      "5           1891         556  \n",
      "6            547         257  \n",
      "7           1911         158  \n",
      "8            940         360  \n",
      "9            689         327  \n"
     ]
    }
   ],
   "source": [
    "import pandas as pd\n",
    "\n",
    "# Convert CSV file to Pandas data frame\n",
    "df = pd.read_csv('crop_yield_data.csv')\n",
    "\n",
    "# Head returns the first few rows from the data frame\n",
    "print(df.head(10))"
   ]
  },
  {
   "cell_type": "markdown",
   "id": "0ef083f4",
   "metadata": {},
   "source": [
    "## Data Cleaning and Exploratory Data Analysis"
   ]
  },
  {
   "cell_type": "markdown",
   "id": "e4ba832a",
   "metadata": {},
   "source": [
    "### Data Cleaning:"
   ]
  },
  {
   "cell_type": "markdown",
   "id": "00cf0a7a",
   "metadata": {},
   "source": [
    "In the introduction section, I listed the units for each variable. Below, I examined the dataset for missing values (NaN) and other inconsistencies. After a thorough review, I found no significant missing or invalid data, indicating that the dataset was already clean and ready for analysis. This ensures that subsequent analyses are not biased or impacted by incomplete information."
   ]
  },
  {
   "cell_type": "code",
   "execution_count": 10,
   "id": "9fc0472f",
   "metadata": {},
   "outputs": [
    {
     "name": "stdout",
     "output_type": "stream",
     "text": [
      "False\n",
      "rainfall_mm            0\n",
      "soil_quality_index     0\n",
      "farm_size_hectares     0\n",
      "sunlight_hours         0\n",
      "fertilizer_kg          0\n",
      "crop_yield             0\n",
      "soil_quality_jitter    0\n",
      "sunlight_jitter        0\n",
      "dtype: int64\n"
     ]
    }
   ],
   "source": [
    "# It tells you if there are any missing values in the whole DataFrame\n",
    "print(df.isnull().values.any())\n",
    "\n",
    "# It tells you which columns have missing values in the DataFrame\n",
    "print(df.isnull().sum())"
   ]
  },
  {
   "cell_type": "markdown",
   "id": "f75ccf2e",
   "metadata": {},
   "source": [
    "As shown in the code above, there are no missing values in the DataFrame."
   ]
  },
  {
   "cell_type": "markdown",
   "id": "3bee65a4",
   "metadata": {},
   "source": [
    "### Univariate Analysis:"
   ]
  },
  {
   "cell_type": "code",
   "execution_count": 11,
   "id": "acb6b70d",
   "metadata": {},
   "outputs": [
    {
     "name": "stdout",
     "output_type": "stream",
     "text": [
      "Defaulting to user installation because normal site-packages is not writeable\n",
      "Requirement already satisfied: nbformat in /Users/jakewalkup/Library/Python/3.9/lib/python/site-packages (5.10.4)\n",
      "Requirement already satisfied: plotly in /Users/jakewalkup/Library/Python/3.9/lib/python/site-packages (6.3.0)\n",
      "Requirement already satisfied: fastjsonschema>=2.15 in /Users/jakewalkup/Library/Python/3.9/lib/python/site-packages (from nbformat) (2.21.1)\n",
      "Requirement already satisfied: jsonschema>=2.6 in /Users/jakewalkup/Library/Python/3.9/lib/python/site-packages (from nbformat) (4.25.0)\n",
      "Requirement already satisfied: jupyter-core!=5.0.*,>=4.12 in /Users/jakewalkup/Library/Python/3.9/lib/python/site-packages (from nbformat) (5.8.1)\n",
      "Requirement already satisfied: traitlets>=5.1 in /Users/jakewalkup/Library/Python/3.9/lib/python/site-packages (from nbformat) (5.14.3)\n",
      "Requirement already satisfied: narwhals>=1.15.1 in /Users/jakewalkup/Library/Python/3.9/lib/python/site-packages (from plotly) (2.1.0)\n",
      "Requirement already satisfied: packaging in /Users/jakewalkup/Library/Python/3.9/lib/python/site-packages (from plotly) (25.0)\n",
      "Requirement already satisfied: attrs>=22.2.0 in /Users/jakewalkup/Library/Python/3.9/lib/python/site-packages (from jsonschema>=2.6->nbformat) (25.3.0)\n",
      "Requirement already satisfied: jsonschema-specifications>=2023.03.6 in /Users/jakewalkup/Library/Python/3.9/lib/python/site-packages (from jsonschema>=2.6->nbformat) (2025.4.1)\n",
      "Requirement already satisfied: referencing>=0.28.4 in /Users/jakewalkup/Library/Python/3.9/lib/python/site-packages (from jsonschema>=2.6->nbformat) (0.36.2)\n",
      "Requirement already satisfied: rpds-py>=0.7.1 in /Users/jakewalkup/Library/Python/3.9/lib/python/site-packages (from jsonschema>=2.6->nbformat) (0.27.0)\n",
      "Requirement already satisfied: platformdirs>=2.5 in /Users/jakewalkup/Library/Python/3.9/lib/python/site-packages (from jupyter-core!=5.0.*,>=4.12->nbformat) (4.3.8)\n",
      "Requirement already satisfied: typing-extensions>=4.4.0 in /Users/jakewalkup/Library/Python/3.9/lib/python/site-packages (from referencing>=0.28.4->jsonschema>=2.6->nbformat) (4.14.1)\n",
      "Note: you may need to restart the kernel to use updated packages.\n"
     ]
    },
    {
     "data": {
      "application/vnd.plotly.v1+json": {
       "config": {
        "plotlyServerURL": "https://plot.ly"
       },
       "data": [
        {
         "bingroup": "x",
         "hovertemplate": "Rainfall (mm)=%{x}<br>count=%{y}<extra></extra>",
         "legendgroup": "",
         "marker": {
          "color": "#636efa",
          "pattern": {
           "shape": ""
          }
         },
         "name": "",
         "nbinsx": 100,
         "orientation": "v",
         "showlegend": false,
         "type": "histogram",
         "x": {
          "bdata": "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",
          "dtype": "i2"
         },
         "xaxis": "x",
         "yaxis": "y"
        }
       ],
       "layout": {
        "barmode": "relative",
        "legend": {
         "tracegroupgap": 0
        },
        "template": {
         "data": {
          "bar": [
           {
            "error_x": {
             "color": "#2a3f5f"
            },
            "error_y": {
             "color": "#2a3f5f"
            },
            "marker": {
             "line": {
              "color": "#E5ECF6",
              "width": 0.5
             },
             "pattern": {
              "fillmode": "overlay",
              "size": 10,
              "solidity": 0.2
             }
            },
            "type": "bar"
           }
          ],
          "barpolar": [
           {
            "marker": {
             "line": {
              "color": "#E5ECF6",
              "width": 0.5
             },
             "pattern": {
              "fillmode": "overlay",
              "size": 10,
              "solidity": 0.2
             }
            },
            "type": "barpolar"
           }
          ],
          "carpet": [
           {
            "aaxis": {
             "endlinecolor": "#2a3f5f",
             "gridcolor": "white",
             "linecolor": "white",
             "minorgridcolor": "white",
             "startlinecolor": "#2a3f5f"
            },
            "baxis": {
             "endlinecolor": "#2a3f5f",
             "gridcolor": "white",
             "linecolor": "white",
             "minorgridcolor": "white",
             "startlinecolor": "#2a3f5f"
            },
            "type": "carpet"
           }
          ],
          "choropleth": [
           {
            "colorbar": {
             "outlinewidth": 0,
             "ticks": ""
            },
            "type": "choropleth"
           }
          ],
          "contour": [
           {
            "colorbar": {
             "outlinewidth": 0,
             "ticks": ""
            },
            "colorscale": [
             [
              0,
              "#0d0887"
             ],
             [
              0.1111111111111111,
              "#46039f"
             ],
             [
              0.2222222222222222,
              "#7201a8"
             ],
             [
              0.3333333333333333,
              "#9c179e"
             ],
             [
              0.4444444444444444,
              "#bd3786"
             ],
             [
              0.5555555555555556,
              "#d8576b"
             ],
             [
              0.6666666666666666,
              "#ed7953"
             ],
             [
              0.7777777777777778,
              "#fb9f3a"
             ],
             [
              0.8888888888888888,
              "#fdca26"
             ],
             [
              1,
              "#f0f921"
             ]
            ],
            "type": "contour"
           }
          ],
          "contourcarpet": [
           {
            "colorbar": {
             "outlinewidth": 0,
             "ticks": ""
            },
            "type": "contourcarpet"
           }
          ],
          "heatmap": [
           {
            "colorbar": {
             "outlinewidth": 0,
             "ticks": ""
            },
            "colorscale": [
             [
              0,
              "#0d0887"
             ],
             [
              0.1111111111111111,
              "#46039f"
             ],
             [
              0.2222222222222222,
              "#7201a8"
             ],
             [
              0.3333333333333333,
              "#9c179e"
             ],
             [
              0.4444444444444444,
              "#bd3786"
             ],
             [
              0.5555555555555556,
              "#d8576b"
             ],
             [
              0.6666666666666666,
              "#ed7953"
             ],
             [
              0.7777777777777778,
              "#fb9f3a"
             ],
             [
              0.8888888888888888,
              "#fdca26"
             ],
             [
              1,
              "#f0f921"
             ]
            ],
            "type": "heatmap"
           }
          ],
          "histogram": [
           {
            "marker": {
             "pattern": {
              "fillmode": "overlay",
              "size": 10,
              "solidity": 0.2
             }
            },
            "type": "histogram"
           }
          ],
          "histogram2d": [
           {
            "colorbar": {
             "outlinewidth": 0,
             "ticks": ""
            },
            "colorscale": [
             [
              0,
              "#0d0887"
             ],
             [
              0.1111111111111111,
              "#46039f"
             ],
             [
              0.2222222222222222,
              "#7201a8"
             ],
             [
              0.3333333333333333,
              "#9c179e"
             ],
             [
              0.4444444444444444,
              "#bd3786"
             ],
             [
              0.5555555555555556,
              "#d8576b"
             ],
             [
              0.6666666666666666,
              "#ed7953"
             ],
             [
              0.7777777777777778,
              "#fb9f3a"
             ],
             [
              0.8888888888888888,
              "#fdca26"
             ],
             [
              1,
              "#f0f921"
             ]
            ],
            "type": "histogram2d"
           }
          ],
          "histogram2dcontour": [
           {
            "colorbar": {
             "outlinewidth": 0,
             "ticks": ""
            },
            "colorscale": [
             [
              0,
              "#0d0887"
             ],
             [
              0.1111111111111111,
              "#46039f"
             ],
             [
              0.2222222222222222,
              "#7201a8"
             ],
             [
              0.3333333333333333,
              "#9c179e"
             ],
             [
              0.4444444444444444,
              "#bd3786"
             ],
             [
              0.5555555555555556,
              "#d8576b"
             ],
             [
              0.6666666666666666,
              "#ed7953"
             ],
             [
              0.7777777777777778,
              "#fb9f3a"
             ],
             [
              0.8888888888888888,
              "#fdca26"
             ],
             [
              1,
              "#f0f921"
             ]
            ],
            "type": "histogram2dcontour"
           }
          ],
          "mesh3d": [
           {
            "colorbar": {
             "outlinewidth": 0,
             "ticks": ""
            },
            "type": "mesh3d"
           }
          ],
          "parcoords": [
           {
            "line": {
             "colorbar": {
              "outlinewidth": 0,
              "ticks": ""
             }
            },
            "type": "parcoords"
           }
          ],
          "pie": [
           {
            "automargin": true,
            "type": "pie"
           }
          ],
          "scatter": [
           {
            "fillpattern": {
             "fillmode": "overlay",
             "size": 10,
             "solidity": 0.2
            },
            "type": "scatter"
           }
          ],
          "scatter3d": [
           {
            "line": {
             "colorbar": {
              "outlinewidth": 0,
              "ticks": ""
             }
            },
            "marker": {
             "colorbar": {
              "outlinewidth": 0,
              "ticks": ""
             }
            },
            "type": "scatter3d"
           }
          ],
          "scattercarpet": [
           {
            "marker": {
             "colorbar": {
              "outlinewidth": 0,
              "ticks": ""
             }
            },
            "type": "scattercarpet"
           }
          ],
          "scattergeo": [
           {
            "marker": {
             "colorbar": {
              "outlinewidth": 0,
              "ticks": ""
             }
            },
            "type": "scattergeo"
           }
          ],
          "scattergl": [
           {
            "marker": {
             "colorbar": {
              "outlinewidth": 0,
              "ticks": ""
             }
            },
            "type": "scattergl"
           }
          ],
          "scattermap": [
           {
            "marker": {
             "colorbar": {
              "outlinewidth": 0,
              "ticks": ""
             }
            },
            "type": "scattermap"
           }
          ],
          "scattermapbox": [
           {
            "marker": {
             "colorbar": {
              "outlinewidth": 0,
              "ticks": ""
             }
            },
            "type": "scattermapbox"
           }
          ],
          "scatterpolar": [
           {
            "marker": {
             "colorbar": {
              "outlinewidth": 0,
              "ticks": ""
             }
            },
            "type": "scatterpolar"
           }
          ],
          "scatterpolargl": [
           {
            "marker": {
             "colorbar": {
              "outlinewidth": 0,
              "ticks": ""
             }
            },
            "type": "scatterpolargl"
           }
          ],
          "scatterternary": [
           {
            "marker": {
             "colorbar": {
              "outlinewidth": 0,
              "ticks": ""
             }
            },
            "type": "scatterternary"
           }
          ],
          "surface": [
           {
            "colorbar": {
             "outlinewidth": 0,
             "ticks": ""
            },
            "colorscale": [
             [
              0,
              "#0d0887"
             ],
             [
              0.1111111111111111,
              "#46039f"
             ],
             [
              0.2222222222222222,
              "#7201a8"
             ],
             [
              0.3333333333333333,
              "#9c179e"
             ],
             [
              0.4444444444444444,
              "#bd3786"
             ],
             [
              0.5555555555555556,
              "#d8576b"
             ],
             [
              0.6666666666666666,
              "#ed7953"
             ],
             [
              0.7777777777777778,
              "#fb9f3a"
             ],
             [
              0.8888888888888888,
              "#fdca26"
             ],
             [
              1,
              "#f0f921"
             ]
            ],
            "type": "surface"
           }
          ],
          "table": [
           {
            "cells": {
             "fill": {
              "color": "#EBF0F8"
             },
             "line": {
              "color": "white"
             }
            },
            "header": {
             "fill": {
              "color": "#C8D4E3"
             },
             "line": {
              "color": "white"
             }
            },
            "type": "table"
           }
          ]
         },
         "layout": {
          "annotationdefaults": {
           "arrowcolor": "#2a3f5f",
           "arrowhead": 0,
           "arrowwidth": 1
          },
          "autotypenumbers": "strict",
          "coloraxis": {
           "colorbar": {
            "outlinewidth": 0,
            "ticks": ""
           }
          },
          "colorscale": {
           "diverging": [
            [
             0,
             "#8e0152"
            ],
            [
             0.1,
             "#c51b7d"
            ],
            [
             0.2,
             "#de77ae"
            ],
            [
             0.3,
             "#f1b6da"
            ],
            [
             0.4,
             "#fde0ef"
            ],
            [
             0.5,
             "#f7f7f7"
            ],
            [
             0.6,
             "#e6f5d0"
            ],
            [
             0.7,
             "#b8e186"
            ],
            [
             0.8,
             "#7fbc41"
            ],
            [
             0.9,
             "#4d9221"
            ],
            [
             1,
             "#276419"
            ]
           ],
           "sequential": [
            [
             0,
             "#0d0887"
            ],
            [
             0.1111111111111111,
             "#46039f"
            ],
            [
             0.2222222222222222,
             "#7201a8"
            ],
            [
             0.3333333333333333,
             "#9c179e"
            ],
            [
             0.4444444444444444,
             "#bd3786"
            ],
            [
             0.5555555555555556,
             "#d8576b"
            ],
            [
             0.6666666666666666,
             "#ed7953"
            ],
            [
             0.7777777777777778,
             "#fb9f3a"
            ],
            [
             0.8888888888888888,
             "#fdca26"
            ],
            [
             1,
             "#f0f921"
            ]
           ],
           "sequentialminus": [
            [
             0,
             "#0d0887"
            ],
            [
             0.1111111111111111,
             "#46039f"
            ],
            [
             0.2222222222222222,
             "#7201a8"
            ],
            [
             0.3333333333333333,
             "#9c179e"
            ],
            [
             0.4444444444444444,
             "#bd3786"
            ],
            [
             0.5555555555555556,
             "#d8576b"
            ],
            [
             0.6666666666666666,
             "#ed7953"
            ],
            [
             0.7777777777777778,
             "#fb9f3a"
            ],
            [
             0.8888888888888888,
             "#fdca26"
            ],
            [
             1,
             "#f0f921"
            ]
           ]
          },
          "colorway": [
           "#636efa",
           "#EF553B",
           "#00cc96",
           "#ab63fa",
           "#FFA15A",
           "#19d3f3",
           "#FF6692",
           "#B6E880",
           "#FF97FF",
           "#FECB52"
          ],
          "font": {
           "color": "#2a3f5f"
          },
          "geo": {
           "bgcolor": "white",
           "lakecolor": "white",
           "landcolor": "#E5ECF6",
           "showlakes": true,
           "showland": true,
           "subunitcolor": "white"
          },
          "hoverlabel": {
           "align": "left"
          },
          "hovermode": "closest",
          "mapbox": {
           "style": "light"
          },
          "paper_bgcolor": "white",
          "plot_bgcolor": "#E5ECF6",
          "polar": {
           "angularaxis": {
            "gridcolor": "white",
            "linecolor": "white",
            "ticks": ""
           },
           "bgcolor": "#E5ECF6",
           "radialaxis": {
            "gridcolor": "white",
            "linecolor": "white",
            "ticks": ""
           }
          },
          "scene": {
           "xaxis": {
            "backgroundcolor": "#E5ECF6",
            "gridcolor": "white",
            "gridwidth": 2,
            "linecolor": "white",
            "showbackground": true,
            "ticks": "",
            "zerolinecolor": "white"
           },
           "yaxis": {
            "backgroundcolor": "#E5ECF6",
            "gridcolor": "white",
            "gridwidth": 2,
            "linecolor": "white",
            "showbackground": true,
            "ticks": "",
            "zerolinecolor": "white"
           },
           "zaxis": {
            "backgroundcolor": "#E5ECF6",
            "gridcolor": "white",
            "gridwidth": 2,
            "linecolor": "white",
            "showbackground": true,
            "ticks": "",
            "zerolinecolor": "white"
           }
          },
          "shapedefaults": {
           "line": {
            "color": "#2a3f5f"
           }
          },
          "ternary": {
           "aaxis": {
            "gridcolor": "white",
            "linecolor": "white",
            "ticks": ""
           },
           "baxis": {
            "gridcolor": "white",
            "linecolor": "white",
            "ticks": ""
           },
           "bgcolor": "#E5ECF6",
           "caxis": {
            "gridcolor": "white",
            "linecolor": "white",
            "ticks": ""
           }
          },
          "title": {
           "x": 0.05
          },
          "xaxis": {
           "automargin": true,
           "gridcolor": "white",
           "linecolor": "white",
           "ticks": "",
           "title": {
            "standoff": 15
           },
           "zerolinecolor": "white",
           "zerolinewidth": 2
          },
          "yaxis": {
           "automargin": true,
           "gridcolor": "white",
           "linecolor": "white",
           "ticks": "",
           "title": {
            "standoff": 15
           },
           "zerolinecolor": "white",
           "zerolinewidth": 2
          }
         }
        },
        "title": {
         "text": "Distribution of Rainfall (mm)"
        },
        "xaxis": {
         "anchor": "y",
         "domain": [
          0,
          1
         ],
         "title": {
          "text": "Rainfall (mm)"
         }
        },
        "yaxis": {
         "anchor": "x",
         "domain": [
          0,
          1
         ],
         "title": {
          "text": "count"
         }
        }
       }
      }
     },
     "metadata": {},
     "output_type": "display_data"
    },
    {
     "data": {
      "application/vnd.plotly.v1+json": {
       "config": {
        "plotlyServerURL": "https://plot.ly"
       },
       "data": [
        {
         "bingroup": "x",
         "hovertemplate": "Soil Quality Index (1-10)=%{x}<br>count=%{y}<extra></extra>",
         "legendgroup": "",
         "marker": {
          "color": "#636efa",
          "pattern": {
           "shape": ""
          }
         },
         "name": "",
         "nbinsx": 100,
         "orientation": "v",
         "showlegend": false,
         "type": "histogram",
         "x": {
          "bdata": "CQkBAgUECgkHBgcBAQgCCgkHBgEBAgYGAgEKBQUCBgkCCgIDBwYICAYKAwMBBwUECgQEBggIBQYECQgKCgECCQgDCAEKBAMGBwQHCQIDBQMICggICQQFBQgHCQgCCgQGAgcDAwIIBgEBBwgFBQQGBgMJBwEHBQUCBAYKBwUJAwEECQQCCgUDCQQGAgYDCQIJBQgCBgMKBQgKAQUDBAIJAwIKCQcGAQUDAQQCAgMICAcGCQQBCAcHAwQKCQYFAwkFBQQEAQcJAwIDAQYHAggGBAUIAwMEAQkICAoGBwYJAwMDCgMJBAcJBwkDBAgGBQQIAQkBCAQJBQMJCQQECAIJBgkIBwEDAgUFBQQFAwEFCQkEAwECCAEIBwgGCQMKBAYIBQMGBAkDBAcHBAYDBgIIAgcJAQgHBgYGCQIBBgoIAwoBCQEDCAMECAEGAQEIBAEKBwUFAQoGCQkIBQEJAQgFAwcHCQcDAQgDCAgFAQoHCgUICQcHAQQCAgIEAQQCBQMIBAEBCgMJBwIJCgIDCgIDBgkJBwMEBgUCBgMIAgEJAwEHCgUFAQkHCAkGBQYCBAMHCQUGCgIDAwkHCAoJBgQBCAcCCAUHBAUIAQEEAwoCAwEBBgUIAgQIBgEEAQIFCAgDBAoGCgMCBgUKBQoFCgUDBwYEAgkBBAEGBAUFCQECBgUHAwMKAgMKAQUFBwQDAQgDAgQDAQMCCAYJCAoDBQcFCAUBBQQGAwUCBgYFBgcFAQgECQoGAQMDCgQGBwoEBgEIBwkDAgEDBQIDBAcDCQgEAQEBAQgDBgMFBwIGBgMGCgoFAgkIAwgJAwMCCAoBCAcHAwEECQUBBQgIBQkBBAMCCAcJAgQGAwgDAgMGAggBBwIKBgICCggCBwMIBwgHBgcFBwEBCQUFAwUDCQkGAQcHCgoECAYEBAICBAUIBgQHCAIHAgIIAgkBCQEKCgIGBgEHCAIICQYFCQkBAwkCBAQCAwMBBggDBQEKBwoBCQgHCgcFBQUBCAEECQkFBAMDBQoBBQYHCQMCAwkHCQIFBAIJCQYGCAYBBAcCCQgIBwQCAwYFCAYGAQQFAwkBBgYKBQUKBQYIAgYBBAoDCQMGAQYECAkECgoGAQQHAQgKBgUKCQIFBgcFCQEHCgcECQUEBwQDCQgBBwkICAYECAMJAgIHCgQKCAkHBQgEAgYJAQoHCgkKCQoDBQgIBAEBBAYIBgkJAgoBAgUEBAkIBgECBgIKBQUGBgYCCgMGCAEBAgYJBAMICgkFCQIDBwcGBgIKBgQDAgEFAgIHCAoIBAEHAQQIAgYGCQUKBAUKBQgKCAIHCAYFCQMKBAkGCAcCAwEJBwEDBAQFAwMBBwoBAgQEBQIEAQIBCgoEBAcKCQkFCgEBBgIICQQFCAMFAwoDAwcHBwoIBQUEBwoEAgQICQMHCQQKAwUBAwgIBAIICAoEAwIJAQcFCAQHBQUJCQkGBgUJCggHBwYFBAMDBgQGAwQJBQcKAgUJAwkGBAcIBgUGBQgBBwoKAgkBCgYJAQQECQUFBgEBCQMEAQkIAggHBgEHCgcJAQIJCQYGBAQFAwEBBwEBAwoEBAIBAwQDCAoBAgcECAMGCQEBCAMFAQUGCAMDCgkEBAcCCAYDCQUIBwgHAwIHAwMCBAgBAQUFAQYBBQkFBggBAgkDBgUCBwQBBAYHBwcDBggECAIKCQkICgoBAgYKBQkFAgoECQEBBwMKAgkDAggKBgYKBwcGBAkGBAMEAwIFAgYDBgoJAQYJBAIEAQMKCQoFBgMFCAYEAgkBAQQHAQkEAwEKBAkKBgYBCgIGAgMEBQkECQoDCAEJCQoCBAgHAQUHBAEJBQIIAgMKAQIHCgIGAwQIAwoGAQcICAMKAQkGCQcBAQYFCQIIBQIKBgoIBAIFAgIGCgkEBgcGCAQBBwMGAgkBBgYFBQEKBQIHAwQDAwQFAQQICgcJBQoECAkHBwUECgEKCgcBAQUJBgMDBwYJBgUKBwEHAwkGCQUHBAcBBwgFAgUGAgYGAQEKAwoKAwQCCQoHBwYDBggICQEBAwMKCAoBAgIDBgECAQUHCAoBBwUKAQMHCgEHBQEBAQkDBQoJBgkICAEJBgkDAwYJBwMDAgkDBQkIAgMCCAYGCQgEBAkBAgIGBAoDAwMGCAcEBAoCAQkCCAkECAkKCgUHCgQBAwUDBwkGCgEHAwUKBAoFBQYKCgYICAkIAgoBCgICAwoHAgEGCQMGAwEFCgQHBgoHBQQHBwYIBAoFBAEIAQUGBgUDBQgCBgkICAgHCAYCAggBBgYECgMDAQMEBQMGBQMGBggCAQQHCgMDBQUKAwkEAwIKCQQDBwgCBwUFAwUCBAYBCgQGCQIHBgIIBwUFBwkJCQYKBgMBBwQBCAYGAgECBAIBBwgGBAYDCAoCBQEGAgQGCggIBgQICAoBBAQHBwgFBwgJAwMEBQoBBwkIBQQHBQcBAQoDAgIHCgIEAgYICgQFBAMFCQgICAgHCAgICgcBBAQFCgYEAgYICAcGAgcFBgoICAMHAQEHCgkHCgUIAgkGCQIDCAEKBwcBCQgECgUCCQYDBwkDAgcHBAkIAQEFBgMJCgYEBwgJBgYIBQMDBgIGBggHCAkGAwoDAQUECQkFCgQHBgQKAgEEBAEGBAEBAQgKCAIHCAgKBwUBCQcCBgIBBwICBQUHAQgDBAkECgUHBAEJBAkGAQMCCQEJCQgIAQgKAwcBAQoFBQgHCAYGAgYFAwYICQEDAwgBBQMCCAMHAQYDCAYCBgcFAwQEBgoBBAoECgEJBAcDCgMICAEKAggBCAgCBAYJCAgHCQIDCggGCgkKBAgKAwMIBQMKAQMJBQoCBwIEBwQHBwEGCQIDCgUJBAEEBgUBBAYKCgQJBQgJCgUGAQcEAgUDBggHAwgCCgkEAQgHBQoFBwUIBgUJAgEIAwcKCAYKCQcKBQgCBwQJAQcGCAUBAQkKBgoFAQYGAwgBAQYKAQYBBgMIBgEFCAMGBQYKAQcJAgoFCgQGBgICBAEJBwcDAwEDAwQEAwoICAEHAgEDBAYKBQQIBAoCAwYICAkHAggHCAMHCgkDCgYCAgUFBwIHBQYICgQHBgoCCAoJBQoEBggDCgEEBAEJAwUGCAYDBgEEBgcKAwkHAQIBCQkHCgMFBAcJAggJCgoJCgcJCQMEAgoDBQUGBwcBAgkKAgYBAwIDBQoGCQoEBwYCCggHBwgBAQgEBQgFCgQGBQcKBwQFAwQEAwoFBQcEBAkGBAIGAgUGBAMHAgYEBgQEBAkHAwMGBgQJBAkEAgIFBAcFBgoEAgoJCgcEAwoDCQUDBQIECgICCAEHBQgBBwUEBwoCAQEBBQoHAgoIBAMKCAIDAwoBBgIBAgYEBgkKCggBCAkGCgUGBgkEAgkCCgkCCAkKCQoJAgQHAgEDBAgGAgkCBQQHCAUKBQIIAgoGCAYEBAYECAkBBAQCBgMHBQQFCAMHBgEHBwEJBgIFBAcIAQUDAQMGBwgEAwUJBgkGAgUJCAcBBAcHBggGCgMEAwEKBQEBAgQGCAMBAwMFBAQJBwQDBgMGCQYEBQYDCAQICgoDCgcJBAgDBwMHCgoGAgMGBAYBCgEDCAgEBggHBwQJCgYDBQUFCAkJBgYJBAYEAQcKBgkHBwIJCgkGAwEEAwEDBAgJAwYKBQYECgYHCQoHBgECAQkKCgkHAgYEAQEFAgQBBAYKBAEHAgkDCAgDBAIECQIDBAUBBwoHCQQGAgQCCgUHAQoKBwoGBggIBgMFAgUJCgEKBQYHCQYFBwEFAgQHBQYCAwcCBgUKAQoEAgQBAggGAgYKCQcJBQcHAwcBCQoGBQcFCgUKBwoHAwMKAwYGAwMICAcKBAQDBQMIBwMJBQkHBwYCCQYIAQUBCggIAQkCCQEKCQQJBwYFCQICCQMICQgEAQQJAgMKCAYIBwUJBAYCAgIKBwICCQcDAwcFCgYICQEDBwYHCAYDAgcBAwQBBQoDAgMIBgcGBgMIBwcGBQoIBQkJAQYH",
          "dtype": "i1"
         },
         "xaxis": "x",
         "yaxis": "y"
        }
       ],
       "layout": {
        "barmode": "relative",
        "legend": {
         "tracegroupgap": 0
        },
        "template": {
         "data": {
          "bar": [
           {
            "error_x": {
             "color": "#2a3f5f"
            },
            "error_y": {
             "color": "#2a3f5f"
            },
            "marker": {
             "line": {
              "color": "#E5ECF6",
              "width": 0.5
             },
             "pattern": {
              "fillmode": "overlay",
              "size": 10,
              "solidity": 0.2
             }
            },
            "type": "bar"
           }
          ],
          "barpolar": [
           {
            "marker": {
             "line": {
              "color": "#E5ECF6",
              "width": 0.5
             },
             "pattern": {
              "fillmode": "overlay",
              "size": 10,
              "solidity": 0.2
             }
            },
            "type": "barpolar"
           }
          ],
          "carpet": [
           {
            "aaxis": {
             "endlinecolor": "#2a3f5f",
             "gridcolor": "white",
             "linecolor": "white",
             "minorgridcolor": "white",
             "startlinecolor": "#2a3f5f"
            },
            "baxis": {
             "endlinecolor": "#2a3f5f",
             "gridcolor": "white",
             "linecolor": "white",
             "minorgridcolor": "white",
             "startlinecolor": "#2a3f5f"
            },
            "type": "carpet"
           }
          ],
          "choropleth": [
           {
            "colorbar": {
             "outlinewidth": 0,
             "ticks": ""
            },
            "type": "choropleth"
           }
          ],
          "contour": [
           {
            "colorbar": {
             "outlinewidth": 0,
             "ticks": ""
            },
            "colorscale": [
             [
              0,
              "#0d0887"
             ],
             [
              0.1111111111111111,
              "#46039f"
             ],
             [
              0.2222222222222222,
              "#7201a8"
             ],
             [
              0.3333333333333333,
              "#9c179e"
             ],
             [
              0.4444444444444444,
              "#bd3786"
             ],
             [
              0.5555555555555556,
              "#d8576b"
             ],
             [
              0.6666666666666666,
              "#ed7953"
             ],
             [
              0.7777777777777778,
              "#fb9f3a"
             ],
             [
              0.8888888888888888,
              "#fdca26"
             ],
             [
              1,
              "#f0f921"
             ]
            ],
            "type": "contour"
           }
          ],
          "contourcarpet": [
           {
            "colorbar": {
             "outlinewidth": 0,
             "ticks": ""
            },
            "type": "contourcarpet"
           }
          ],
          "heatmap": [
           {
            "colorbar": {
             "outlinewidth": 0,
             "ticks": ""
            },
            "colorscale": [
             [
              0,
              "#0d0887"
             ],
             [
              0.1111111111111111,
              "#46039f"
             ],
             [
              0.2222222222222222,
              "#7201a8"
             ],
             [
              0.3333333333333333,
              "#9c179e"
             ],
             [
              0.4444444444444444,
              "#bd3786"
             ],
             [
              0.5555555555555556,
              "#d8576b"
             ],
             [
              0.6666666666666666,
              "#ed7953"
             ],
             [
              0.7777777777777778,
              "#fb9f3a"
             ],
             [
              0.8888888888888888,
              "#fdca26"
             ],
             [
              1,
              "#f0f921"
             ]
            ],
            "type": "heatmap"
           }
          ],
          "histogram": [
           {
            "marker": {
             "pattern": {
              "fillmode": "overlay",
              "size": 10,
              "solidity": 0.2
             }
            },
            "type": "histogram"
           }
          ],
          "histogram2d": [
           {
            "colorbar": {
             "outlinewidth": 0,
             "ticks": ""
            },
            "colorscale": [
             [
              0,
              "#0d0887"
             ],
             [
              0.1111111111111111,
              "#46039f"
             ],
             [
              0.2222222222222222,
              "#7201a8"
             ],
             [
              0.3333333333333333,
              "#9c179e"
             ],
             [
              0.4444444444444444,
              "#bd3786"
             ],
             [
              0.5555555555555556,
              "#d8576b"
             ],
             [
              0.6666666666666666,
              "#ed7953"
             ],
             [
              0.7777777777777778,
              "#fb9f3a"
             ],
             [
              0.8888888888888888,
              "#fdca26"
             ],
             [
              1,
              "#f0f921"
             ]
            ],
            "type": "histogram2d"
           }
          ],
          "histogram2dcontour": [
           {
            "colorbar": {
             "outlinewidth": 0,
             "ticks": ""
            },
            "colorscale": [
             [
              0,
              "#0d0887"
             ],
             [
              0.1111111111111111,
              "#46039f"
             ],
             [
              0.2222222222222222,
              "#7201a8"
             ],
             [
              0.3333333333333333,
              "#9c179e"
             ],
             [
              0.4444444444444444,
              "#bd3786"
             ],
             [
              0.5555555555555556,
              "#d8576b"
             ],
             [
              0.6666666666666666,
              "#ed7953"
             ],
             [
              0.7777777777777778,
              "#fb9f3a"
             ],
             [
              0.8888888888888888,
              "#fdca26"
             ],
             [
              1,
              "#f0f921"
             ]
            ],
            "type": "histogram2dcontour"
           }
          ],
          "mesh3d": [
           {
            "colorbar": {
             "outlinewidth": 0,
             "ticks": ""
            },
            "type": "mesh3d"
           }
          ],
          "parcoords": [
           {
            "line": {
             "colorbar": {
              "outlinewidth": 0,
              "ticks": ""
             }
            },
            "type": "parcoords"
           }
          ],
          "pie": [
           {
            "automargin": true,
            "type": "pie"
           }
          ],
          "scatter": [
           {
            "fillpattern": {
             "fillmode": "overlay",
             "size": 10,
             "solidity": 0.2
            },
            "type": "scatter"
           }
          ],
          "scatter3d": [
           {
            "line": {
             "colorbar": {
              "outlinewidth": 0,
              "ticks": ""
             }
            },
            "marker": {
             "colorbar": {
              "outlinewidth": 0,
              "ticks": ""
             }
            },
            "type": "scatter3d"
           }
          ],
          "scattercarpet": [
           {
            "marker": {
             "colorbar": {
              "outlinewidth": 0,
              "ticks": ""
             }
            },
            "type": "scattercarpet"
           }
          ],
          "scattergeo": [
           {
            "marker": {
             "colorbar": {
              "outlinewidth": 0,
              "ticks": ""
             }
            },
            "type": "scattergeo"
           }
          ],
          "scattergl": [
           {
            "marker": {
             "colorbar": {
              "outlinewidth": 0,
              "ticks": ""
             }
            },
            "type": "scattergl"
           }
          ],
          "scattermap": [
           {
            "marker": {
             "colorbar": {
              "outlinewidth": 0,
              "ticks": ""
             }
            },
            "type": "scattermap"
           }
          ],
          "scattermapbox": [
           {
            "marker": {
             "colorbar": {
              "outlinewidth": 0,
              "ticks": ""
             }
            },
            "type": "scattermapbox"
           }
          ],
          "scatterpolar": [
           {
            "marker": {
             "colorbar": {
              "outlinewidth": 0,
              "ticks": ""
             }
            },
            "type": "scatterpolar"
           }
          ],
          "scatterpolargl": [
           {
            "marker": {
             "colorbar": {
              "outlinewidth": 0,
              "ticks": ""
             }
            },
            "type": "scatterpolargl"
           }
          ],
          "scatterternary": [
           {
            "marker": {
             "colorbar": {
              "outlinewidth": 0,
              "ticks": ""
             }
            },
            "type": "scatterternary"
           }
          ],
          "surface": [
           {
            "colorbar": {
             "outlinewidth": 0,
             "ticks": ""
            },
            "colorscale": [
             [
              0,
              "#0d0887"
             ],
             [
              0.1111111111111111,
              "#46039f"
             ],
             [
              0.2222222222222222,
              "#7201a8"
             ],
             [
              0.3333333333333333,
              "#9c179e"
             ],
             [
              0.4444444444444444,
              "#bd3786"
             ],
             [
              0.5555555555555556,
              "#d8576b"
             ],
             [
              0.6666666666666666,
              "#ed7953"
             ],
             [
              0.7777777777777778,
              "#fb9f3a"
             ],
             [
              0.8888888888888888,
              "#fdca26"
             ],
             [
              1,
              "#f0f921"
             ]
            ],
            "type": "surface"
           }
          ],
          "table": [
           {
            "cells": {
             "fill": {
              "color": "#EBF0F8"
             },
             "line": {
              "color": "white"
             }
            },
            "header": {
             "fill": {
              "color": "#C8D4E3"
             },
             "line": {
              "color": "white"
             }
            },
            "type": "table"
           }
          ]
         },
         "layout": {
          "annotationdefaults": {
           "arrowcolor": "#2a3f5f",
           "arrowhead": 0,
           "arrowwidth": 1
          },
          "autotypenumbers": "strict",
          "coloraxis": {
           "colorbar": {
            "outlinewidth": 0,
            "ticks": ""
           }
          },
          "colorscale": {
           "diverging": [
            [
             0,
             "#8e0152"
            ],
            [
             0.1,
             "#c51b7d"
            ],
            [
             0.2,
             "#de77ae"
            ],
            [
             0.3,
             "#f1b6da"
            ],
            [
             0.4,
             "#fde0ef"
            ],
            [
             0.5,
             "#f7f7f7"
            ],
            [
             0.6,
             "#e6f5d0"
            ],
            [
             0.7,
             "#b8e186"
            ],
            [
             0.8,
             "#7fbc41"
            ],
            [
             0.9,
             "#4d9221"
            ],
            [
             1,
             "#276419"
            ]
           ],
           "sequential": [
            [
             0,
             "#0d0887"
            ],
            [
             0.1111111111111111,
             "#46039f"
            ],
            [
             0.2222222222222222,
             "#7201a8"
            ],
            [
             0.3333333333333333,
             "#9c179e"
            ],
            [
             0.4444444444444444,
             "#bd3786"
            ],
            [
             0.5555555555555556,
             "#d8576b"
            ],
            [
             0.6666666666666666,
             "#ed7953"
            ],
            [
             0.7777777777777778,
             "#fb9f3a"
            ],
            [
             0.8888888888888888,
             "#fdca26"
            ],
            [
             1,
             "#f0f921"
            ]
           ],
           "sequentialminus": [
            [
             0,
             "#0d0887"
            ],
            [
             0.1111111111111111,
             "#46039f"
            ],
            [
             0.2222222222222222,
             "#7201a8"
            ],
            [
             0.3333333333333333,
             "#9c179e"
            ],
            [
             0.4444444444444444,
             "#bd3786"
            ],
            [
             0.5555555555555556,
             "#d8576b"
            ],
            [
             0.6666666666666666,
             "#ed7953"
            ],
            [
             0.7777777777777778,
             "#fb9f3a"
            ],
            [
             0.8888888888888888,
             "#fdca26"
            ],
            [
             1,
             "#f0f921"
            ]
           ]
          },
          "colorway": [
           "#636efa",
           "#EF553B",
           "#00cc96",
           "#ab63fa",
           "#FFA15A",
           "#19d3f3",
           "#FF6692",
           "#B6E880",
           "#FF97FF",
           "#FECB52"
          ],
          "font": {
           "color": "#2a3f5f"
          },
          "geo": {
           "bgcolor": "white",
           "lakecolor": "white",
           "landcolor": "#E5ECF6",
           "showlakes": true,
           "showland": true,
           "subunitcolor": "white"
          },
          "hoverlabel": {
           "align": "left"
          },
          "hovermode": "closest",
          "mapbox": {
           "style": "light"
          },
          "paper_bgcolor": "white",
          "plot_bgcolor": "#E5ECF6",
          "polar": {
           "angularaxis": {
            "gridcolor": "white",
            "linecolor": "white",
            "ticks": ""
           },
           "bgcolor": "#E5ECF6",
           "radialaxis": {
            "gridcolor": "white",
            "linecolor": "white",
            "ticks": ""
           }
          },
          "scene": {
           "xaxis": {
            "backgroundcolor": "#E5ECF6",
            "gridcolor": "white",
            "gridwidth": 2,
            "linecolor": "white",
            "showbackground": true,
            "ticks": "",
            "zerolinecolor": "white"
           },
           "yaxis": {
            "backgroundcolor": "#E5ECF6",
            "gridcolor": "white",
            "gridwidth": 2,
            "linecolor": "white",
            "showbackground": true,
            "ticks": "",
            "zerolinecolor": "white"
           },
           "zaxis": {
            "backgroundcolor": "#E5ECF6",
            "gridcolor": "white",
            "gridwidth": 2,
            "linecolor": "white",
            "showbackground": true,
            "ticks": "",
            "zerolinecolor": "white"
           }
          },
          "shapedefaults": {
           "line": {
            "color": "#2a3f5f"
           }
          },
          "ternary": {
           "aaxis": {
            "gridcolor": "white",
            "linecolor": "white",
            "ticks": ""
           },
           "baxis": {
            "gridcolor": "white",
            "linecolor": "white",
            "ticks": ""
           },
           "bgcolor": "#E5ECF6",
           "caxis": {
            "gridcolor": "white",
            "linecolor": "white",
            "ticks": ""
           }
          },
          "title": {
           "x": 0.05
          },
          "xaxis": {
           "automargin": true,
           "gridcolor": "white",
           "linecolor": "white",
           "ticks": "",
           "title": {
            "standoff": 15
           },
           "zerolinecolor": "white",
           "zerolinewidth": 2
          },
          "yaxis": {
           "automargin": true,
           "gridcolor": "white",
           "linecolor": "white",
           "ticks": "",
           "title": {
            "standoff": 15
           },
           "zerolinecolor": "white",
           "zerolinewidth": 2
          }
         }
        },
        "title": {
         "text": "Soil Quality Index (1-10)"
        },
        "xaxis": {
         "anchor": "y",
         "domain": [
          0,
          1
         ],
         "title": {
          "text": "Soil Quality Index (1-10)"
         }
        },
        "yaxis": {
         "anchor": "x",
         "domain": [
          0,
          1
         ],
         "title": {
          "text": "count"
         }
        }
       }
      }
     },
     "metadata": {},
     "output_type": "display_data"
    },
    {
     "data": {
      "application/vnd.plotly.v1+json": {
       "config": {
        "plotlyServerURL": "https://plot.ly"
       },
       "data": [
        {
         "bingroup": "x",
         "hovertemplate": "Farm size (hectares)=%{x}<br>count=%{y}<extra></extra>",
         "legendgroup": "",
         "marker": {
          "color": "#636efa",
          "pattern": {
           "shape": ""
          }
         },
         "name": "",
         "nbinsx": 100,
         "orientation": "v",
         "showlegend": false,
         "type": "histogram",
         "x": {
          "bdata": "fAJJAGABtAN0A6ADaQGnAFYC9AGbAmAD2AHqAJ4DQgFwAqADZAM2A7UD2wFhAHwDOAGxArwBswKQADsAuQFdAWQBjwJkAZIC/gB2AEIDKAMeAmMAMQF5ADYDVgK6AGABnQJuAP8CfgJlApoBJQCyA8sDIgJDAPsBMgGPAFQBAgEvAo8DtgNUAJcCSwOxAAwDAAJ+A2wB6gChAhwCmwDJA/oAfQOGA2EB9gIsAMcCCgCiALYBugMFAocA9AHrAWIBmQPrAuYAnAOgA9wCIgAZAr8A/AFSA4oCMwCcA+oBqwNZA/UCcQPAAZsBKwJiAYYDNgCPAh4AgwJPAGkDcgM5APQBMAIoARMAJwL9AhsBxQNhAv0ChgFSAegBGAANAsgAsQASAnYCkgCjAI0B2gAZAZgAbAKCAz0DTgAAAQ4BHQNYAJsCeAILA2YCFgINA7MDdgJTAcYAaAByAhEATAD5AcgAdwEJAxIC5wN+ABQBbALuAQYCMwGWA60AgQGWAhUBLgJTAAUCUgA9AdAAiwD/AkEDRQIgA3ACMQNJA/ABXgOgAKYC1wDjA7wAzgDoAmIAKAO7AR0D9QLAANoA9gGLAKICFgCDAnAD5QJzAIABTwLMAsMCbABbAlQCfwNdA8kATgHcA98CRAPFA9wBhwN4AUcBmQCJAeEAcgFNARgA4gD1AcADLALAABcBugPcAW8DbQIQAicC3AE6AeIDmQB4APEAvAJRAtsC5QJZAv0BXAIzAhoByAK2ANYDEACkABMCKwItAqIDDwKhA5sD4ACPACYBhwCiA8ABWgO3AqEAVAEjAogBfACHA+sBJQGMA1QArwDGAFcAvANjArkCHgA/AsEAcAPnAEQDUQG8AB0DeQDpAt8CRABQAZIDdgKKA6YCyADRAEEBzQIsAIQBjAH/AvYAcQIQAiQBCgDkAtkB7wDQA7UAYAAyAoQAVAMzAX4DqgO7AkgC7QGuAMQCiAHaAOwCuQGOATkC6QAMAH0BuALHAWwCfQAXAcgBeQEGAUYBqAFoABoDhQMhAH0CoAJbAzsA/wHXAvsBWAFYAE8CJAAYATsCLQMAAREDWAKMAccCOALWA3IBawPhA/EBaQHGAqkDCQHnAH0D+gIWAwoAKwLHAVgA9QBXAYIDZgFrAFsA/wHQA+YBqAPJAgYDogMvAhcAkQFkAT8BiwHaAG4B1wNiAkECZwBmAF0BXgLGAf4CHwAsAe4BGQM7AYMCiQB6ArQDGgFZA8MBAAKLAI0AXgKwA+sBZwOPAVoC4gNOAU4AnQLJARkCPANyAq4A8QHSAs4CswHCAksDEgF0A20CXwFJA98CHwGrAsABpgCvAQQBdwNqAhsCUAHKA4gDagAKAuEAjQANAYYAWwAkAbQCRAApAqoAJQFzAHIAwAHtAMUCTwJHAdkBKwNgAnsDcwPhAUEAegIWAMEBGwC/AtYDegDuALQAMAHGALMB2gNYAJsCoAO/APwBJwMDA2sDQwPNAkwDUAABAZsAcwIQAzEBTwLfAQMCygBNAPcBOgM9AHsDdAEmA54D4wFXAxICBAO4AVUDMwG8AcECvALPAIkAHQLhA6QBrwNRA0oAvwL6AHoBIQKJAbgB0ANcAN8DSAPCAsADRQNsAkcCJwHmAx8C1AHdAIcApgH8AbIBMwJrAsoDKAKnAHkAmwEAA4MAGgEvAZcB4AHiA9gAdwDBAR8BzANBAoADnANCArUD6wEsA3sAhgOKAz0DXgPmAc8CrgNKAbwAigPkAB4DvgMZAvUBhANGAD8AsQIjAlkD5QNKAG0CUwLJArQAGgGCA8QCIAKQAbUDvgJQAXUAWAOrADcDzQHXAFcCGQBQAWkCnAILABMAuwGGAFoA7gGVAk8DnwApA3IDXQGKAL8B+AL+AUMAzwDcAJsDjwM2AGoAIAEgAqMB1gGQAVgDNQAkACMDagDYAy0CdgJAAskC5ADCAE4ARgOLAEACgwNqAlkDYAIvA4AC2QJXAaYDowAsAlgATAJgA6YBKwJqArIAsgKgAlACDAJDASkAKAFbAjQAkANyAgoARgIXAb0A6QIPAnAAEwBQAmMA6wCnAu0CngOHAMUD2gBqAFMAfALIALMCPAPJA9UCQQDZAjICKQAYAkcCpAIlAdoCSQP3AcQA+wHDAYsAiAItAXsA0AAWABgBYgLgAMUBHwMJAsgB4wPUAlMAIgJuALkAtAF+AK8AMgC2AWEBsQF3AYEAagKaAuEC7gBCA4sAaQGCA0cB4QOSAk0DWgEaAX4AOwN5AWcAsQDDA9QCXgGeApsDwAKmA6EAUwJ2A5oDGwEzAvkB3QJuADYCWwAaAlIAFwC6AaYA6AKNAFsBnQGBAYEDOAJ0AHUCEgHWAFgApAAYA+UDAAEcAmMDvQMjAuICowCjALcCZQC6AVsB6QG+AowAywEzAxwDGgGqA1UCugDBAkgDjAJ0AzoAQAKjAmwB0QI9AW0DfgN/AhADNwA3AW0DmQOhAcYAPwNHA4oAOgIiAhMBfwDZAZkAwwHRAKYA8AFlA48AmQOdAFkBUADyAFcBNAOjAmMAVwHQAKoAIwKCADYB3QJIAswDvQFNAAYDowPUAQsClwF1AicBOgKVAOMCNQKqAxYDVwLhAocDawL1AiMBngKlAzkDsQNLAvMC0gFgAFgA1gAgA1oBBwE5AYUBiwBdAh0BxAI3AowDwAAVATEDSwEJAm0CVwAZA1wBqwI1AgYC9wCPANYDyQBtAR8BGwAVAr0AhAD/AOcCfgE8AFAA6QE5AhwADwNdAKQAPgJ0Am4BOQOQAsQBTgAUApgAyQCMAYMBTgIgAr4CLgESABgBjAFmAM8DGgKjAJ4BUQOeAIIDFAGvAVEDcwLhAYYDLAKAAhcCAAIXABMDlQIvA3UBgAD3ACsCsgATAoMCmgOaAswDxwPoAnwDCgMVA3ADDQKzA5YBawNzAF4A3wCCAI0AWwPOABwAiwIVAFoAUwFrAw8DkQGGAjwBFAHIAcIBiAOVAlIDCwARAgMDlAKFAj4B7QITAt4B3QB5ABEALQPmAXMD1QEGARcC+QK/AfsC3gNfA54C9QA7AecBsAIdAOEAYAOQAJIDigCjAa8BLwH/AMYCNQJfADUCUwOAAccBgwGPAZoCPAD7AC8BoQM8AhMBgQDRAp4DAQFPAF4DQgCHATAA4QMqA8QBGwDBA+UCQgP9AmkB1QM5AzMBJAFTAncAvQCzAykC8wIjAyIAVAMgA+sCQgC9APEAhwNgAeYBKANJAtAB8QAqAd4ACwEbArgCqgPuAOsAXQIsA7wBewP/ApsBdwIHA2EAUQKGAycCtQI+AZMDYAG9AboAlADLAMMA4wCtAKoAuAMWAjEDYgJNAzMAnAPbAO4CZwMcAcMDIAEEAT8B2QJKA5UAIQMrAj4DkQMbAkIAeQAOAKMBpwG/ABYAXAEmAwwBYwBxAoQDwwIDAQgBVQKLA9QDdQClAlsCVgLuAd8D1QMLAYgCkAMjAeMDYQDVABkAoACxAwcBxQBSASkCGAOWAQ4C1AFTAT0DVgOyAL4CdwG7AJgCcwEBA4gCEAMxAKUDqQFsAQgBmAD5Au0CXgPPAkoCjQMUAHUCIwDGA64BoALmAF4D+QH2APYA5ADwAbED1gGgAoQCmQDnA8YACAFNAHECWQGoAj4DcwOiATUBlQNjAm4BCQFqAeUCEgIVAk4DvwP9Ar8CJQFBAWwAzgDrAXcD6wBWA3ACcwJ2AXkBQwJXAlQAMwCvAU0DvgAqAlAAQQJyANEAbgAJAzwBUwK0AoIBmAKvApgBDgPmAFwCvwA8ARMClQENAGgDmwNZAy0DIgHgANUDawKtAW4AzAMSAkYCPgGbArQDrAMHAkgAggLrAHIA1wMNA2YDsgEIAbYBuwHYACUAswJZAVUCfQJOAGsD8wIKArAAaQPjAhoDeQEEAWQDYQOsA7cCswD/ArADYwA6AscBLwGgA58AjQC6AUQA0gNNA9AA4ACLAzoC4QHxAgABhwHoA/gAqAN4AbEAOQI8ADQDawLAA+ECugKFAeMBWQDCAngB1gGYAyQCzQHZAckD5wGnA60BzALfAHoBXwN7APsCAAKFAjoDVQJAAd4BQQPNAmgDNQCoAcMCYAP/AL4DXQDYAKAApQIZAq4AngPYA5oALgBWAZwBpwE2AJsB1wBHAK0BbQPdAT0DHAB2ATUBEAACA7UBfgBNAgQCKwLLAk4BQAATAzMAMgHWA/AAzgGDA5MBEwJvAeQDxQGJALwCngGRAcoAZQJ6A/ACVwBeACcA3gI6ABIDmgBOAEMAwgJHAugBPQPGATEBrwK0AEgCnADtATsBqgKWAlcDagLHAeYANAK6Ay0DgwF1AhMBaAAPAUIDigNQAMMD5AAeAmUAiABZAEED9wDgA30BnQPvAb8CIgClAA4CgQIeAxsCuAPPAkIAZgIcAIkBagPKAPYAjAGzAR4B7ADyAjECTAGiAIgC9gBAAN0DvQG1AnYAawPeA8EAwAN5AeADzwB8AX4B1gP6AWAC0gBaAwYCSwEcAdwAAQKQA38AyAIzAjMARAEdA1IBGgAkAbgDCwFIAkcCbQIcABoCTgOwAdsBfgH/AgQD0ANaADACLQKxAbYBjQGiA84CpwLVAM0A4QImAdIDzQA8AaECFwBOA5sAswNCANwCFQPbABoCJwNhAdQCbAIgAdoAigJYASkBBQESARgBpQOhA8UCrAHfAiQD3AB2AVUAnQJKAd4CugF2AIoCEwI4AIQBRANpAMcDcACFA18DmwB5A7cDqQMkAOUCGwKwAroD5gNbALUBUQI/A+gBBwOrAFADrQObAQUCLwDEAwgCkgHSAvcB0QAIAbwALAJbAo4BlwHlAqcADQCwAN0ByQOiAaUB1QDLAPQA1wKfAKgAIAE5A50BhgOvAkABTQDYAWEA4gAKAJAAwgJoAZUAcwKOAHUCuwAzA28BhQGVA3ADmwLLAVMC2AHnA3UAgwAaAM0AUAFHATID6AEFAQACgACrAs8C+wHvATYAQwG8AIcDqwE1AhgDVwBPAbsCbgGpAcwDDALfAF8DUwA8AkwCBgJVAWYAuQKaAhACFgGBAUsDDQCTAPAAYQIaAj0AjwLcAk4B0wOSA+QC1gLcAh4BIQLvAQ0CoQDEA+wBDAFNAW4DsQC5Aj8BLAPoAUEAdQLiATEB1gFNATcDVwOWAKQCDwEaA60B8QL6AGwBWgMLAwIDVgK9AEsAPQNlAbQA4wEfAngBdADAAUwD7ADFAcMBlQHhAk4CXQBwAjACFgAyA0IDvgL2ARUBFgKBANMDagFCADEAfwNZAYkCtgAsAgwBgQMOAuMCFAKHA1ADfgDBAJMDcwN9AKsATALRAigCVAL2AFADSwBPADIDyAGpAR0CwgHrArsD2QGiA5UB0AIwApoCNgKUAU8BhgOgA2QA9wJPAK8AiwLfAF0DYgJYAQUDegFmA1ECrgI6AD0AKgEfA3sC+ACOABsDrwB/AX4BLgPnAfwC6AFJA5MCWAKzAoQCuQI1AVsAYADqABkAPwNvAawAawKlAgsCZwGWA7IC2QFEA04DgAFlAL4A8AI2AZ0CIQPGAGQDZwNDAfYBpAOjA4kAEAKzATgCPgLEAC8CzgHgAeUD6wI+ApgD6QCjADkCaAGcAJIDSQJmAb8AhgK8ADAADQOHAwwASQAmAH0BFAJqAG8DwwHUAKQBHgAwAugCbwA3AEsAZAKtANQDeABbAYQAygLIAWwCLAGoAqUBcAKKAyIBNADvAV0CzAPIAjwAiwPbAIcA9QEGAskD0wNOAhIDCwGrA8UA7wDGAKgBEwB7AFUArQL/AV4AOgD4AU8DugKMAdMDjgHjAMYC3gNjAe8ACAH1ACMAUQIOAQcDGAGEAJkCCgGZAq4BDAG9AzgAaAMWAoED2QBAAfQCngBLA78BpACvAmMAwwJHA28BtwDiAJQD0QERA2oCfgLQAEkD7wEeAtEAfAHIA14DyQEBAR0DEQFDADcBKAD7AQIBZgISAxgBZwKjApMBJgP/AVkCLQNdAHYBfwMuAl8BUAOgAbIB8QJmAFkDbwKlAbkBrwKoABcAfgHqAAICUgACAQgCZALhANYDYwImArwDOgO0A+UD5QBRA+AC5gCOATMCkAIzAK0CcgMkAUMANwNLAyICUgB+A6QDigBgAlMDswG9A6ICvwKGAEwADwCGAkMBTwE+AksCQwMDAlsAYAILANUAnwIuA50BcAAhAnkB3QBKAsoD2gAEA4oDfgB9AvYC5wFyAPgBDAM3AEADVAHhAN8DyQP1ATYDowNWA8oBIQIIAtMBLAIhAiUC7QHZAxkARALaA/wAvwPYAJkDGAECAxQDygJYA+MCfABNAjQBTgPsAZYBkwFUANsD6wFwADIBuwDgANADRAEwAAwB1QIQADoAIwKqAG4DuQBYAgsAiAPQAakDjQIdAfsBfgKtAikDJQBWAQoAxQBBACwCeQAnAz8BLQDAAeICWQJDA1wCSgJOAYkCPAEfAuECdAJ2AH0BbgG+AG0BrQJNAC0BvQK+ANsBuwHZAbICmwMfAksAHgBtAokBNQNwAjgCMAAmAT8DYwJeAhoDWQHFAKgC/ABSAOgB1wM6Am4ACwL9ArkA9wCXA0QAagNsAMMDcAPDA/gBvAPdAwsC/AIyAdwAhADuAFsCmQKNAZUAJgKQARcBAAMVAGwDjgFaAQMCcwApAFMAtABaA04ANgNzAZICugGqA20AmwISAEcCwgImAIYDewDXAaIDmACPAYECswKmAFgBZgMNAVsA+wLCAboDtQDwANkCVAAXAYwDewJHAHMDSQFvALYBcwPbAsMDCAEdAkMCeQDiA0IB1gHNAoAD1wFqA2UAPQAuAxECNQNrAPUAjgN/AU4CqAM2ApIC8wApACoBhwJMAicCewDVACYAjALjAcICBgEnA5IDowOLAUcADAK3AU0CIgK8ApYA8AI1AawCQAHgAZIBiwLGAf8CMgO1AEkCKAA4AIsAaQHbA1YDdwJOAkMAcwA1A1MBCQNBA7QCiAHiA6sAJwFQAAgDzwF/A0ACTAOWAQwCIwBCAYcAoQE+As8ANAPFAMMCOgMzA9UC7QHLARQCcANrAeMDmwJeAm0AcQK9AzcCNQIfAb4CxALnA3sC9AEIAYYBhQMnAhEBawJCA3gDUgF8AB0B8QEiARwBDgNUA9gCiQNRAdwA4AKkAzECIwAkAMcCXACJA7sDswKmAbAAxQKyACoD3APuANwDagJ4ARkCIAOQAiMCaQMVAlEAjgJzAOUCfgPOA7oCIwGOAB8C2AMWAaUBqgJ0AiADagP0AhsA+wJ+ACcDIwOZANYCMAKqA6MCuQLKA/oCrwGLA3oBjwI3AjsArwJzAOEAmwKkA7IBUQDlA1MDGgMAA8cBpgPDAE8A1wOfAP8ADwMjArADlQJsAJcDHwE8AqACuQPQAXEAuwNiApYC3gLyAJMB/gHAAgQBEgJYAD0AiwOiAxYD6wA8AMMAKwAsA+8CjACBAsQBTwMAA7kByQL6AZwBTAHbAHACUgF9AdUBjgBMA5QCggBnAs0BzgOKAGQAZQJIAiYA2wIVAlYBMgGLAC4BtgDZArkDIQBsAJ8BbQGUAAACQwO3ACYArAP5AZgCRQNoATMCNAHZAlMDugPJAKkCSQD8AgsDoQLgAEsDrwAoAnwD8QAjAyYCzAADAlcBCQMiAzkBSgO+AUwB/wFjA5sDkgEvA2ACngACA0oDngEkAXMBhAHPADUCbQElArYBGgCIAoQBsQIDAv0CjANVAPAA1QLLAwEBNwHfAuAApwBOAJIBXgAUAU4AbAJkAcsD4QKoA6oCsAFnArcArgJ8AOUAxQMoABQCYAGCAYsAcgIkAuwCCwBwA24AHgJDAI4BvQK2A14BZgMdAAgBRgEvAJ0CIgKLAYICqQMjAM8BsgJMAeoCCgI8Aw4DFgCcA5UDOQKiA0IDfAEsAVUBZwIOAR8DcAPWAMICuAK/A4wBhQM+A90BqAFOAOEBcQD/AqoA",
          "dtype": "i2"
         },
         "xaxis": "x",
         "yaxis": "y"
        }
       ],
       "layout": {
        "barmode": "relative",
        "legend": {
         "tracegroupgap": 0
        },
        "template": {
         "data": {
          "bar": [
           {
            "error_x": {
             "color": "#2a3f5f"
            },
            "error_y": {
             "color": "#2a3f5f"
            },
            "marker": {
             "line": {
              "color": "#E5ECF6",
              "width": 0.5
             },
             "pattern": {
              "fillmode": "overlay",
              "size": 10,
              "solidity": 0.2
             }
            },
            "type": "bar"
           }
          ],
          "barpolar": [
           {
            "marker": {
             "line": {
              "color": "#E5ECF6",
              "width": 0.5
             },
             "pattern": {
              "fillmode": "overlay",
              "size": 10,
              "solidity": 0.2
             }
            },
            "type": "barpolar"
           }
          ],
          "carpet": [
           {
            "aaxis": {
             "endlinecolor": "#2a3f5f",
             "gridcolor": "white",
             "linecolor": "white",
             "minorgridcolor": "white",
             "startlinecolor": "#2a3f5f"
            },
            "baxis": {
             "endlinecolor": "#2a3f5f",
             "gridcolor": "white",
             "linecolor": "white",
             "minorgridcolor": "white",
             "startlinecolor": "#2a3f5f"
            },
            "type": "carpet"
           }
          ],
          "choropleth": [
           {
            "colorbar": {
             "outlinewidth": 0,
             "ticks": ""
            },
            "type": "choropleth"
           }
          ],
          "contour": [
           {
            "colorbar": {
             "outlinewidth": 0,
             "ticks": ""
            },
            "colorscale": [
             [
              0,
              "#0d0887"
             ],
             [
              0.1111111111111111,
              "#46039f"
             ],
             [
              0.2222222222222222,
              "#7201a8"
             ],
             [
              0.3333333333333333,
              "#9c179e"
             ],
             [
              0.4444444444444444,
              "#bd3786"
             ],
             [
              0.5555555555555556,
              "#d8576b"
             ],
             [
              0.6666666666666666,
              "#ed7953"
             ],
             [
              0.7777777777777778,
              "#fb9f3a"
             ],
             [
              0.8888888888888888,
              "#fdca26"
             ],
             [
              1,
              "#f0f921"
             ]
            ],
            "type": "contour"
           }
          ],
          "contourcarpet": [
           {
            "colorbar": {
             "outlinewidth": 0,
             "ticks": ""
            },
            "type": "contourcarpet"
           }
          ],
          "heatmap": [
           {
            "colorbar": {
             "outlinewidth": 0,
             "ticks": ""
            },
            "colorscale": [
             [
              0,
              "#0d0887"
             ],
             [
              0.1111111111111111,
              "#46039f"
             ],
             [
              0.2222222222222222,
              "#7201a8"
             ],
             [
              0.3333333333333333,
              "#9c179e"
             ],
             [
              0.4444444444444444,
              "#bd3786"
             ],
             [
              0.5555555555555556,
              "#d8576b"
             ],
             [
              0.6666666666666666,
              "#ed7953"
             ],
             [
              0.7777777777777778,
              "#fb9f3a"
             ],
             [
              0.8888888888888888,
              "#fdca26"
             ],
             [
              1,
              "#f0f921"
             ]
            ],
            "type": "heatmap"
           }
          ],
          "histogram": [
           {
            "marker": {
             "pattern": {
              "fillmode": "overlay",
              "size": 10,
              "solidity": 0.2
             }
            },
            "type": "histogram"
           }
          ],
          "histogram2d": [
           {
            "colorbar": {
             "outlinewidth": 0,
             "ticks": ""
            },
            "colorscale": [
             [
              0,
              "#0d0887"
             ],
             [
              0.1111111111111111,
              "#46039f"
             ],
             [
              0.2222222222222222,
              "#7201a8"
             ],
             [
              0.3333333333333333,
              "#9c179e"
             ],
             [
              0.4444444444444444,
              "#bd3786"
             ],
             [
              0.5555555555555556,
              "#d8576b"
             ],
             [
              0.6666666666666666,
              "#ed7953"
             ],
             [
              0.7777777777777778,
              "#fb9f3a"
             ],
             [
              0.8888888888888888,
              "#fdca26"
             ],
             [
              1,
              "#f0f921"
             ]
            ],
            "type": "histogram2d"
           }
          ],
          "histogram2dcontour": [
           {
            "colorbar": {
             "outlinewidth": 0,
             "ticks": ""
            },
            "colorscale": [
             [
              0,
              "#0d0887"
             ],
             [
              0.1111111111111111,
              "#46039f"
             ],
             [
              0.2222222222222222,
              "#7201a8"
             ],
             [
              0.3333333333333333,
              "#9c179e"
             ],
             [
              0.4444444444444444,
              "#bd3786"
             ],
             [
              0.5555555555555556,
              "#d8576b"
             ],
             [
              0.6666666666666666,
              "#ed7953"
             ],
             [
              0.7777777777777778,
              "#fb9f3a"
             ],
             [
              0.8888888888888888,
              "#fdca26"
             ],
             [
              1,
              "#f0f921"
             ]
            ],
            "type": "histogram2dcontour"
           }
          ],
          "mesh3d": [
           {
            "colorbar": {
             "outlinewidth": 0,
             "ticks": ""
            },
            "type": "mesh3d"
           }
          ],
          "parcoords": [
           {
            "line": {
             "colorbar": {
              "outlinewidth": 0,
              "ticks": ""
             }
            },
            "type": "parcoords"
           }
          ],
          "pie": [
           {
            "automargin": true,
            "type": "pie"
           }
          ],
          "scatter": [
           {
            "fillpattern": {
             "fillmode": "overlay",
             "size": 10,
             "solidity": 0.2
            },
            "type": "scatter"
           }
          ],
          "scatter3d": [
           {
            "line": {
             "colorbar": {
              "outlinewidth": 0,
              "ticks": ""
             }
            },
            "marker": {
             "colorbar": {
              "outlinewidth": 0,
              "ticks": ""
             }
            },
            "type": "scatter3d"
           }
          ],
          "scattercarpet": [
           {
            "marker": {
             "colorbar": {
              "outlinewidth": 0,
              "ticks": ""
             }
            },
            "type": "scattercarpet"
           }
          ],
          "scattergeo": [
           {
            "marker": {
             "colorbar": {
              "outlinewidth": 0,
              "ticks": ""
             }
            },
            "type": "scattergeo"
           }
          ],
          "scattergl": [
           {
            "marker": {
             "colorbar": {
              "outlinewidth": 0,
              "ticks": ""
             }
            },
            "type": "scattergl"
           }
          ],
          "scattermap": [
           {
            "marker": {
             "colorbar": {
              "outlinewidth": 0,
              "ticks": ""
             }
            },
            "type": "scattermap"
           }
          ],
          "scattermapbox": [
           {
            "marker": {
             "colorbar": {
              "outlinewidth": 0,
              "ticks": ""
             }
            },
            "type": "scattermapbox"
           }
          ],
          "scatterpolar": [
           {
            "marker": {
             "colorbar": {
              "outlinewidth": 0,
              "ticks": ""
             }
            },
            "type": "scatterpolar"
           }
          ],
          "scatterpolargl": [
           {
            "marker": {
             "colorbar": {
              "outlinewidth": 0,
              "ticks": ""
             }
            },
            "type": "scatterpolargl"
           }
          ],
          "scatterternary": [
           {
            "marker": {
             "colorbar": {
              "outlinewidth": 0,
              "ticks": ""
             }
            },
            "type": "scatterternary"
           }
          ],
          "surface": [
           {
            "colorbar": {
             "outlinewidth": 0,
             "ticks": ""
            },
            "colorscale": [
             [
              0,
              "#0d0887"
             ],
             [
              0.1111111111111111,
              "#46039f"
             ],
             [
              0.2222222222222222,
              "#7201a8"
             ],
             [
              0.3333333333333333,
              "#9c179e"
             ],
             [
              0.4444444444444444,
              "#bd3786"
             ],
             [
              0.5555555555555556,
              "#d8576b"
             ],
             [
              0.6666666666666666,
              "#ed7953"
             ],
             [
              0.7777777777777778,
              "#fb9f3a"
             ],
             [
              0.8888888888888888,
              "#fdca26"
             ],
             [
              1,
              "#f0f921"
             ]
            ],
            "type": "surface"
           }
          ],
          "table": [
           {
            "cells": {
             "fill": {
              "color": "#EBF0F8"
             },
             "line": {
              "color": "white"
             }
            },
            "header": {
             "fill": {
              "color": "#C8D4E3"
             },
             "line": {
              "color": "white"
             }
            },
            "type": "table"
           }
          ]
         },
         "layout": {
          "annotationdefaults": {
           "arrowcolor": "#2a3f5f",
           "arrowhead": 0,
           "arrowwidth": 1
          },
          "autotypenumbers": "strict",
          "coloraxis": {
           "colorbar": {
            "outlinewidth": 0,
            "ticks": ""
           }
          },
          "colorscale": {
           "diverging": [
            [
             0,
             "#8e0152"
            ],
            [
             0.1,
             "#c51b7d"
            ],
            [
             0.2,
             "#de77ae"
            ],
            [
             0.3,
             "#f1b6da"
            ],
            [
             0.4,
             "#fde0ef"
            ],
            [
             0.5,
             "#f7f7f7"
            ],
            [
             0.6,
             "#e6f5d0"
            ],
            [
             0.7,
             "#b8e186"
            ],
            [
             0.8,
             "#7fbc41"
            ],
            [
             0.9,
             "#4d9221"
            ],
            [
             1,
             "#276419"
            ]
           ],
           "sequential": [
            [
             0,
             "#0d0887"
            ],
            [
             0.1111111111111111,
             "#46039f"
            ],
            [
             0.2222222222222222,
             "#7201a8"
            ],
            [
             0.3333333333333333,
             "#9c179e"
            ],
            [
             0.4444444444444444,
             "#bd3786"
            ],
            [
             0.5555555555555556,
             "#d8576b"
            ],
            [
             0.6666666666666666,
             "#ed7953"
            ],
            [
             0.7777777777777778,
             "#fb9f3a"
            ],
            [
             0.8888888888888888,
             "#fdca26"
            ],
            [
             1,
             "#f0f921"
            ]
           ],
           "sequentialminus": [
            [
             0,
             "#0d0887"
            ],
            [
             0.1111111111111111,
             "#46039f"
            ],
            [
             0.2222222222222222,
             "#7201a8"
            ],
            [
             0.3333333333333333,
             "#9c179e"
            ],
            [
             0.4444444444444444,
             "#bd3786"
            ],
            [
             0.5555555555555556,
             "#d8576b"
            ],
            [
             0.6666666666666666,
             "#ed7953"
            ],
            [
             0.7777777777777778,
             "#fb9f3a"
            ],
            [
             0.8888888888888888,
             "#fdca26"
            ],
            [
             1,
             "#f0f921"
            ]
           ]
          },
          "colorway": [
           "#636efa",
           "#EF553B",
           "#00cc96",
           "#ab63fa",
           "#FFA15A",
           "#19d3f3",
           "#FF6692",
           "#B6E880",
           "#FF97FF",
           "#FECB52"
          ],
          "font": {
           "color": "#2a3f5f"
          },
          "geo": {
           "bgcolor": "white",
           "lakecolor": "white",
           "landcolor": "#E5ECF6",
           "showlakes": true,
           "showland": true,
           "subunitcolor": "white"
          },
          "hoverlabel": {
           "align": "left"
          },
          "hovermode": "closest",
          "mapbox": {
           "style": "light"
          },
          "paper_bgcolor": "white",
          "plot_bgcolor": "#E5ECF6",
          "polar": {
           "angularaxis": {
            "gridcolor": "white",
            "linecolor": "white",
            "ticks": ""
           },
           "bgcolor": "#E5ECF6",
           "radialaxis": {
            "gridcolor": "white",
            "linecolor": "white",
            "ticks": ""
           }
          },
          "scene": {
           "xaxis": {
            "backgroundcolor": "#E5ECF6",
            "gridcolor": "white",
            "gridwidth": 2,
            "linecolor": "white",
            "showbackground": true,
            "ticks": "",
            "zerolinecolor": "white"
           },
           "yaxis": {
            "backgroundcolor": "#E5ECF6",
            "gridcolor": "white",
            "gridwidth": 2,
            "linecolor": "white",
            "showbackground": true,
            "ticks": "",
            "zerolinecolor": "white"
           },
           "zaxis": {
            "backgroundcolor": "#E5ECF6",
            "gridcolor": "white",
            "gridwidth": 2,
            "linecolor": "white",
            "showbackground": true,
            "ticks": "",
            "zerolinecolor": "white"
           }
          },
          "shapedefaults": {
           "line": {
            "color": "#2a3f5f"
           }
          },
          "ternary": {
           "aaxis": {
            "gridcolor": "white",
            "linecolor": "white",
            "ticks": ""
           },
           "baxis": {
            "gridcolor": "white",
            "linecolor": "white",
            "ticks": ""
           },
           "bgcolor": "#E5ECF6",
           "caxis": {
            "gridcolor": "white",
            "linecolor": "white",
            "ticks": ""
           }
          },
          "title": {
           "x": 0.05
          },
          "xaxis": {
           "automargin": true,
           "gridcolor": "white",
           "linecolor": "white",
           "ticks": "",
           "title": {
            "standoff": 15
           },
           "zerolinecolor": "white",
           "zerolinewidth": 2
          },
          "yaxis": {
           "automargin": true,
           "gridcolor": "white",
           "linecolor": "white",
           "ticks": "",
           "title": {
            "standoff": 15
           },
           "zerolinecolor": "white",
           "zerolinewidth": 2
          }
         }
        },
        "title": {
         "text": "Farm size (hectares)"
        },
        "xaxis": {
         "anchor": "y",
         "domain": [
          0,
          1
         ],
         "title": {
          "text": "Farm size (hectares)"
         }
        },
        "yaxis": {
         "anchor": "x",
         "domain": [
          0,
          1
         ],
         "title": {
          "text": "count"
         }
        }
       }
      }
     },
     "metadata": {},
     "output_type": "display_data"
    },
    {
     "data": {
      "application/vnd.plotly.v1+json": {
       "config": {
        "plotlyServerURL": "https://plot.ly"
       },
       "data": [
        {
         "bingroup": "x",
         "hovertemplate": "Sunlight (hours)=%{x}<br>count=%{y}<extra></extra>",
         "legendgroup": "",
         "marker": {
          "color": "#636efa",
          "pattern": {
           "shape": ""
          }
         },
         "name": "",
         "nbinsx": 100,
         "orientation": "v",
         "showlegend": false,
         "type": "histogram",
         "x": {
          "bdata": "CwsFBwUHCgwLDAsFCgUFBwQICQwLBQQFCgcICgYFCggEBAwIBAoMBAcGCAoLBQoECgsFDAQJBAYJBgsIBQcMBwsIBAoGCwYECAUHBAwJCwcMBQwICQYHCQoECgQICQUMCQoLBAsHCwkMBwUFCAwGCwcJCQYIBgQKBwoGCAgFBQcHBwkFCQoGCwULCAUKBQkGDAYGCAoLCgwIBgkIBwUKCAcLDAwGBggIBQQLBgQEBQkJBgcFBQoECgQJBgsJBQsICwsJBQsJCQsEBQwLCgoIBQkGBwUFCwsJCAsHBwgEBAULCgwIBQoLCgoIBQkHBQwKCQgGBwYLBgoKCgoFBgwGBQwMBwwGCgoLBwYGCAQGCQYIDAUFCQkLBQwFBAUKCwgJBAkLBgQHBAsIBAsMBQwLCgYFCggJBwUMBgoLBQkLCgYECQsJCAsFBAQHCQwEBAgICAkLBgwEBwwLDAQMBgwEBAwJBwoICgsLBAsJBwsGBwkKBwcKCQsECgoKCgsMDAUKCgcMCwQFBQsEBwgMCgsMCggICQgMBgYKCgkGCggKBQkLBAcEBAsKBAUHBAYLCwsJCQgMBwoEDAoMCgUJBwYFCQsJDAgFCwwHCQsMCAkHCAoMCQkLBwYKCAUFCQsECQUFCgQJCgsKCQwGCQcFBAQGBwUEBwoJCQwFBwgECwsJCAsGBgUIBgYJCwUHCgQECgoEBAcICAcLCgwKBAoECgsMBgcHDAoGCAoLBAUKBQoMBQoHBQoIBAgGCgkLCAUMCwkKDAoGCQoFBgcJBAwICgwMBAQGCQUEBAgHBAcGBQwECgcICAQJDAUKCQgHBwkHCAkICgwKCgcECwcECAsHCwsGDAYEBQkFCQQECAwLBgYEBgQLBAgMCgcMDAUJBwsKCgwICQQJBQkMCwwLBgsJCQkGBAcJBQoKBwcEBQwLCwwKDAUJBgkGCwcJDAUFCgUFBwwLBQsHBQoJCAQFCwQGBQgHCggLBwkHBQQECwcICwoLCwkFCQQEBgYIBAkKBgcGBAsFBAsKCgcMCQUEBAwHCAYHCwcMDAkFCgwJBgoIBAYICgYJCAQJCwQFBwUMCwsHCAcMBQsFBAYMBgwKBAgMBgwIDAkMCgoLCgwMCQoFDAQEBgkIBQwHBwgLBwgHCQYLCQgFCgUECggEBwcKDAUEBQoJBwQECAQKBAQFBgQMCwgFCAkEBwwFCAQHBwkMBgwJCgUJCQUFBQQICwUICwgFBgkIBwcIBQwFBQwGCgcJBwoEBgYECQwLCgsJDAYMBwoMBQUMBgwICQULDAUJCQsIDAQMCgcGCQQGBQwGBQcFBAkLBQwGCwsGBgkEBwQGDAgIBwYIBwsHCwkIBwcHDAcMCQoGCwYECAUJDAQHBAQLBQQLBwYHCAQEBgkEBQoECgcJCwwJDAcJCwwGBQkHBAsMDAUMCggKDAsJBwQJBgkJBwUMBQYECgQMBAgKBgwLBggKBwgGDAwKBQoKCAwGBwQJBwQFBgwLCgcECwcGDAcHDAUIBwwIDAwFDAYHBAQEDAsICAwGBgoMCQUEBQQMCwoGCwUFBgoECwoHCAQHBAQECgoHBQYLCwkMDAcEBAgFCQoECQsICgkHCgwKCAoGBQgHCAsHDAoKCwkLBgQJBAwFBQoFCwkKCgkMDAoMBgYECAcFDAYLCQgEBwYECAkFBgkHDAgHBQkFCgYMCAsJCwYGCAYLCwUHBAcHDAYFDAwECQsGDAUJBAoGCgcMCAYLCQUGCwoJBAwGCAoKBgcKCwUMCgsJCQwHCAwEBwoMCQsMBwQLBQQKDAwGCQoMBQsKBwULCAkKBAsHDAQFCQQHCwgMCQQJCQkLCQgFBwgHBQoFBAgEBAQJDAQIDAwECwQLBAgLCQwEDAQGBAYFBQwLBAcEBAcFBgwFBwQFCAQKBwkLCQUECwsMCQQMBgkMBggICgcHCgwHBwkJCgQGDAkJCAYIBAYHCAwHBgQJCgsEBwgFBAsJCAwFCwwECgsGBwYKDAYJCwkFCgUFBQQECggGBAkEDAUECgkJCAcHBgsKDAQKBwoECAYIBwUHBgQLCAcIBwYIBwQGCwoFBAYIBAYGCAYMBAcHBAUECQYKCAwKBwgICAwGCQsMCgYEBwkGBAkEDAQJBAoGCQoEBAgJDAQHCwwGBQcFBAYKBAUECwgLBgoLCQoFCwgKBAgECwcHBQgEDAgJBQQHCgkEBAsHCAoLCgUHBAwGBgwGCwUGBQQFCwwFCggGDAkECAoHCwgMDAwEBQYHDAkEDAkHBwYKBgULBwsECAwEBwkLBggKBAoLCwwJCQUGBwcLBAcHBAYICQwMDAQMCwUEBAkMCggFBAUEBgkLBgwICgsGBQUIBAUMCgkMCggMCQkHBAgMCwsIDAYGBAwJBQsMDAUFCgcECwUGCAYKCgUKCQwMBQoICQQKCQcEDAcFCwUICQsEBAcIDAoKCwgIBAwJDAYIBQgLBQsHBAgECgsGBgoHBgsGCgUECQsEDAYGBwQMBgcEBwQICAoLBwoHBgkHBgwICgkICgkFBgUGBAsJBQsJCgQKBgsJBwsMBQkICAYLCwgLCwYFDAUMBwUEBwwMBwwJBAkMBQkFBwsKDAoEBQkKBgwKCQkECAYKBggKBgUJCwcMCwoKBgkIBAYEBwYHDAYJCQoMCgQLCAwICAUGDAoEBgUEDAsIBQQKBQQFCgoJCAYGDAcMBwUHCQkIBAYICQQMBgYFCwYJBQoHDAwKCwYIBQoLDAoLDAkFBQcMCgULCgwLBgQFBQcJBwwHCQkECwYJBgUIBAwKBgcJBgoJDAgHBgQGBgoKBAYLDAoKCwkGBAoEBAwKBwkECgkHCgYEBwYEBQgLBAcHCAoLCQQKBgkLCgkMDAQEBAsKBgUHBgoLCQYJBQoKBwsHCgcICgYIBggGCgQMDAgMCQgGCwcGCQsMCQgFBQwFBQYGBwoMBQcMBQQLDAoLBwcFCwUMBwQHBgkKCwUJCQgKBgcMBwYFCAcLCgkFBgwMCAYFCwkKBAQFBgQIBgQLCQwGDAwEBgkLBwgMCQoKBwcHCAgLDAUKBAQHCgUFBAUKDAkFDAoEDAUHDAcGBAoJBwkJBwkLBgcEBwwLBwoGDAcFCAUJBAkHBgUKDAYJDAUKCAgKDAcMDAcGBQwFCQgIBwkIBwwJBgkECAkLDAYFBwsLBgcGBQcJCAYFDAQMBAoJCgYGBAcFCwYKCgwJBAsEBggLDAoMBggLBAsKBAkEBQgFBAkLCwsJBgQFCAgEBAwFCgcKCwgEBwYICQUKBgQGDAkJBwsICgwICAcJBQYEBQULCwUJCAYICAgGBgcKBQcHBAsECwoMCwgLBgoHCAwKBwkKDAcGCwQMBAULDAoGCgkFBggHBQcLCAgGCwkFBQwKDAkIBAkJBgYGBgoFBQYKBgoMBwoMCwsMCAgGCAsIBwsKCQgIBQcLCwQFCAwKCAQJCwoFCAcMBAkGDAgJDAwLDAcJCAgHBQkMBAoJBgQHDAUGBQULBgoLBgULBgoECQwGCgkLBgYHBgwHCQsLCAgJCgoHCQoICAUKCQQHBgYKBwsMBggHCQcLBggECQgLDAsLBgcHCAwMBAsEBQoLBAYKDAsLDAYLBAsKCwQJCggICgYJCgQFBwsJBAgKCQwLBwgKCwgMBwcLBAsIBAcFBwsIBAoEDAYGCQkJBAgJCwQIBgULCgoIDAgFBgcIBgoICAkKCwwHCAgLDAoIBgQMCAwHCAcFBAsHCAkLCwoHCQcKBAgHCgwIBwwIDAsHCggHCAgMDAkHBQYFCAkIBQgMBwUGBgwHBAQKCgUMDAgGBgYJBwsIBAwECQQGCAoLDAkMCwwHDAoICAQFBgsJCAQMBgYFBwUMCgsGCQkECQYGBgsIBwwMBAULCAoECAYFBQwHBwoFBgYJBggHBgsGCQoKBQYHCgUGCgoGBAYICgcECQUGBwkJCggKBQQLBAUJBAYKCwcGBAwJCQwECQgJCwgFBQgGBgsKBAgMBwQLCAUEBgwEBwsL",
          "dtype": "i1"
         },
         "xaxis": "x",
         "yaxis": "y"
        }
       ],
       "layout": {
        "barmode": "relative",
        "legend": {
         "tracegroupgap": 0
        },
        "template": {
         "data": {
          "bar": [
           {
            "error_x": {
             "color": "#2a3f5f"
            },
            "error_y": {
             "color": "#2a3f5f"
            },
            "marker": {
             "line": {
              "color": "#E5ECF6",
              "width": 0.5
             },
             "pattern": {
              "fillmode": "overlay",
              "size": 10,
              "solidity": 0.2
             }
            },
            "type": "bar"
           }
          ],
          "barpolar": [
           {
            "marker": {
             "line": {
              "color": "#E5ECF6",
              "width": 0.5
             },
             "pattern": {
              "fillmode": "overlay",
              "size": 10,
              "solidity": 0.2
             }
            },
            "type": "barpolar"
           }
          ],
          "carpet": [
           {
            "aaxis": {
             "endlinecolor": "#2a3f5f",
             "gridcolor": "white",
             "linecolor": "white",
             "minorgridcolor": "white",
             "startlinecolor": "#2a3f5f"
            },
            "baxis": {
             "endlinecolor": "#2a3f5f",
             "gridcolor": "white",
             "linecolor": "white",
             "minorgridcolor": "white",
             "startlinecolor": "#2a3f5f"
            },
            "type": "carpet"
           }
          ],
          "choropleth": [
           {
            "colorbar": {
             "outlinewidth": 0,
             "ticks": ""
            },
            "type": "choropleth"
           }
          ],
          "contour": [
           {
            "colorbar": {
             "outlinewidth": 0,
             "ticks": ""
            },
            "colorscale": [
             [
              0,
              "#0d0887"
             ],
             [
              0.1111111111111111,
              "#46039f"
             ],
             [
              0.2222222222222222,
              "#7201a8"
             ],
             [
              0.3333333333333333,
              "#9c179e"
             ],
             [
              0.4444444444444444,
              "#bd3786"
             ],
             [
              0.5555555555555556,
              "#d8576b"
             ],
             [
              0.6666666666666666,
              "#ed7953"
             ],
             [
              0.7777777777777778,
              "#fb9f3a"
             ],
             [
              0.8888888888888888,
              "#fdca26"
             ],
             [
              1,
              "#f0f921"
             ]
            ],
            "type": "contour"
           }
          ],
          "contourcarpet": [
           {
            "colorbar": {
             "outlinewidth": 0,
             "ticks": ""
            },
            "type": "contourcarpet"
           }
          ],
          "heatmap": [
           {
            "colorbar": {
             "outlinewidth": 0,
             "ticks": ""
            },
            "colorscale": [
             [
              0,
              "#0d0887"
             ],
             [
              0.1111111111111111,
              "#46039f"
             ],
             [
              0.2222222222222222,
              "#7201a8"
             ],
             [
              0.3333333333333333,
              "#9c179e"
             ],
             [
              0.4444444444444444,
              "#bd3786"
             ],
             [
              0.5555555555555556,
              "#d8576b"
             ],
             [
              0.6666666666666666,
              "#ed7953"
             ],
             [
              0.7777777777777778,
              "#fb9f3a"
             ],
             [
              0.8888888888888888,
              "#fdca26"
             ],
             [
              1,
              "#f0f921"
             ]
            ],
            "type": "heatmap"
           }
          ],
          "histogram": [
           {
            "marker": {
             "pattern": {
              "fillmode": "overlay",
              "size": 10,
              "solidity": 0.2
             }
            },
            "type": "histogram"
           }
          ],
          "histogram2d": [
           {
            "colorbar": {
             "outlinewidth": 0,
             "ticks": ""
            },
            "colorscale": [
             [
              0,
              "#0d0887"
             ],
             [
              0.1111111111111111,
              "#46039f"
             ],
             [
              0.2222222222222222,
              "#7201a8"
             ],
             [
              0.3333333333333333,
              "#9c179e"
             ],
             [
              0.4444444444444444,
              "#bd3786"
             ],
             [
              0.5555555555555556,
              "#d8576b"
             ],
             [
              0.6666666666666666,
              "#ed7953"
             ],
             [
              0.7777777777777778,
              "#fb9f3a"
             ],
             [
              0.8888888888888888,
              "#fdca26"
             ],
             [
              1,
              "#f0f921"
             ]
            ],
            "type": "histogram2d"
           }
          ],
          "histogram2dcontour": [
           {
            "colorbar": {
             "outlinewidth": 0,
             "ticks": ""
            },
            "colorscale": [
             [
              0,
              "#0d0887"
             ],
             [
              0.1111111111111111,
              "#46039f"
             ],
             [
              0.2222222222222222,
              "#7201a8"
             ],
             [
              0.3333333333333333,
              "#9c179e"
             ],
             [
              0.4444444444444444,
              "#bd3786"
             ],
             [
              0.5555555555555556,
              "#d8576b"
             ],
             [
              0.6666666666666666,
              "#ed7953"
             ],
             [
              0.7777777777777778,
              "#fb9f3a"
             ],
             [
              0.8888888888888888,
              "#fdca26"
             ],
             [
              1,
              "#f0f921"
             ]
            ],
            "type": "histogram2dcontour"
           }
          ],
          "mesh3d": [
           {
            "colorbar": {
             "outlinewidth": 0,
             "ticks": ""
            },
            "type": "mesh3d"
           }
          ],
          "parcoords": [
           {
            "line": {
             "colorbar": {
              "outlinewidth": 0,
              "ticks": ""
             }
            },
            "type": "parcoords"
           }
          ],
          "pie": [
           {
            "automargin": true,
            "type": "pie"
           }
          ],
          "scatter": [
           {
            "fillpattern": {
             "fillmode": "overlay",
             "size": 10,
             "solidity": 0.2
            },
            "type": "scatter"
           }
          ],
          "scatter3d": [
           {
            "line": {
             "colorbar": {
              "outlinewidth": 0,
              "ticks": ""
             }
            },
            "marker": {
             "colorbar": {
              "outlinewidth": 0,
              "ticks": ""
             }
            },
            "type": "scatter3d"
           }
          ],
          "scattercarpet": [
           {
            "marker": {
             "colorbar": {
              "outlinewidth": 0,
              "ticks": ""
             }
            },
            "type": "scattercarpet"
           }
          ],
          "scattergeo": [
           {
            "marker": {
             "colorbar": {
              "outlinewidth": 0,
              "ticks": ""
             }
            },
            "type": "scattergeo"
           }
          ],
          "scattergl": [
           {
            "marker": {
             "colorbar": {
              "outlinewidth": 0,
              "ticks": ""
             }
            },
            "type": "scattergl"
           }
          ],
          "scattermap": [
           {
            "marker": {
             "colorbar": {
              "outlinewidth": 0,
              "ticks": ""
             }
            },
            "type": "scattermap"
           }
          ],
          "scattermapbox": [
           {
            "marker": {
             "colorbar": {
              "outlinewidth": 0,
              "ticks": ""
             }
            },
            "type": "scattermapbox"
           }
          ],
          "scatterpolar": [
           {
            "marker": {
             "colorbar": {
              "outlinewidth": 0,
              "ticks": ""
             }
            },
            "type": "scatterpolar"
           }
          ],
          "scatterpolargl": [
           {
            "marker": {
             "colorbar": {
              "outlinewidth": 0,
              "ticks": ""
             }
            },
            "type": "scatterpolargl"
           }
          ],
          "scatterternary": [
           {
            "marker": {
             "colorbar": {
              "outlinewidth": 0,
              "ticks": ""
             }
            },
            "type": "scatterternary"
           }
          ],
          "surface": [
           {
            "colorbar": {
             "outlinewidth": 0,
             "ticks": ""
            },
            "colorscale": [
             [
              0,
              "#0d0887"
             ],
             [
              0.1111111111111111,
              "#46039f"
             ],
             [
              0.2222222222222222,
              "#7201a8"
             ],
             [
              0.3333333333333333,
              "#9c179e"
             ],
             [
              0.4444444444444444,
              "#bd3786"
             ],
             [
              0.5555555555555556,
              "#d8576b"
             ],
             [
              0.6666666666666666,
              "#ed7953"
             ],
             [
              0.7777777777777778,
              "#fb9f3a"
             ],
             [
              0.8888888888888888,
              "#fdca26"
             ],
             [
              1,
              "#f0f921"
             ]
            ],
            "type": "surface"
           }
          ],
          "table": [
           {
            "cells": {
             "fill": {
              "color": "#EBF0F8"
             },
             "line": {
              "color": "white"
             }
            },
            "header": {
             "fill": {
              "color": "#C8D4E3"
             },
             "line": {
              "color": "white"
             }
            },
            "type": "table"
           }
          ]
         },
         "layout": {
          "annotationdefaults": {
           "arrowcolor": "#2a3f5f",
           "arrowhead": 0,
           "arrowwidth": 1
          },
          "autotypenumbers": "strict",
          "coloraxis": {
           "colorbar": {
            "outlinewidth": 0,
            "ticks": ""
           }
          },
          "colorscale": {
           "diverging": [
            [
             0,
             "#8e0152"
            ],
            [
             0.1,
             "#c51b7d"
            ],
            [
             0.2,
             "#de77ae"
            ],
            [
             0.3,
             "#f1b6da"
            ],
            [
             0.4,
             "#fde0ef"
            ],
            [
             0.5,
             "#f7f7f7"
            ],
            [
             0.6,
             "#e6f5d0"
            ],
            [
             0.7,
             "#b8e186"
            ],
            [
             0.8,
             "#7fbc41"
            ],
            [
             0.9,
             "#4d9221"
            ],
            [
             1,
             "#276419"
            ]
           ],
           "sequential": [
            [
             0,
             "#0d0887"
            ],
            [
             0.1111111111111111,
             "#46039f"
            ],
            [
             0.2222222222222222,
             "#7201a8"
            ],
            [
             0.3333333333333333,
             "#9c179e"
            ],
            [
             0.4444444444444444,
             "#bd3786"
            ],
            [
             0.5555555555555556,
             "#d8576b"
            ],
            [
             0.6666666666666666,
             "#ed7953"
            ],
            [
             0.7777777777777778,
             "#fb9f3a"
            ],
            [
             0.8888888888888888,
             "#fdca26"
            ],
            [
             1,
             "#f0f921"
            ]
           ],
           "sequentialminus": [
            [
             0,
             "#0d0887"
            ],
            [
             0.1111111111111111,
             "#46039f"
            ],
            [
             0.2222222222222222,
             "#7201a8"
            ],
            [
             0.3333333333333333,
             "#9c179e"
            ],
            [
             0.4444444444444444,
             "#bd3786"
            ],
            [
             0.5555555555555556,
             "#d8576b"
            ],
            [
             0.6666666666666666,
             "#ed7953"
            ],
            [
             0.7777777777777778,
             "#fb9f3a"
            ],
            [
             0.8888888888888888,
             "#fdca26"
            ],
            [
             1,
             "#f0f921"
            ]
           ]
          },
          "colorway": [
           "#636efa",
           "#EF553B",
           "#00cc96",
           "#ab63fa",
           "#FFA15A",
           "#19d3f3",
           "#FF6692",
           "#B6E880",
           "#FF97FF",
           "#FECB52"
          ],
          "font": {
           "color": "#2a3f5f"
          },
          "geo": {
           "bgcolor": "white",
           "lakecolor": "white",
           "landcolor": "#E5ECF6",
           "showlakes": true,
           "showland": true,
           "subunitcolor": "white"
          },
          "hoverlabel": {
           "align": "left"
          },
          "hovermode": "closest",
          "mapbox": {
           "style": "light"
          },
          "paper_bgcolor": "white",
          "plot_bgcolor": "#E5ECF6",
          "polar": {
           "angularaxis": {
            "gridcolor": "white",
            "linecolor": "white",
            "ticks": ""
           },
           "bgcolor": "#E5ECF6",
           "radialaxis": {
            "gridcolor": "white",
            "linecolor": "white",
            "ticks": ""
           }
          },
          "scene": {
           "xaxis": {
            "backgroundcolor": "#E5ECF6",
            "gridcolor": "white",
            "gridwidth": 2,
            "linecolor": "white",
            "showbackground": true,
            "ticks": "",
            "zerolinecolor": "white"
           },
           "yaxis": {
            "backgroundcolor": "#E5ECF6",
            "gridcolor": "white",
            "gridwidth": 2,
            "linecolor": "white",
            "showbackground": true,
            "ticks": "",
            "zerolinecolor": "white"
           },
           "zaxis": {
            "backgroundcolor": "#E5ECF6",
            "gridcolor": "white",
            "gridwidth": 2,
            "linecolor": "white",
            "showbackground": true,
            "ticks": "",
            "zerolinecolor": "white"
           }
          },
          "shapedefaults": {
           "line": {
            "color": "#2a3f5f"
           }
          },
          "ternary": {
           "aaxis": {
            "gridcolor": "white",
            "linecolor": "white",
            "ticks": ""
           },
           "baxis": {
            "gridcolor": "white",
            "linecolor": "white",
            "ticks": ""
           },
           "bgcolor": "#E5ECF6",
           "caxis": {
            "gridcolor": "white",
            "linecolor": "white",
            "ticks": ""
           }
          },
          "title": {
           "x": 0.05
          },
          "xaxis": {
           "automargin": true,
           "gridcolor": "white",
           "linecolor": "white",
           "ticks": "",
           "title": {
            "standoff": 15
           },
           "zerolinecolor": "white",
           "zerolinewidth": 2
          },
          "yaxis": {
           "automargin": true,
           "gridcolor": "white",
           "linecolor": "white",
           "ticks": "",
           "title": {
            "standoff": 15
           },
           "zerolinecolor": "white",
           "zerolinewidth": 2
          }
         }
        },
        "title": {
         "text": "Sunlight (hours)"
        },
        "xaxis": {
         "anchor": "y",
         "domain": [
          0,
          1
         ],
         "title": {
          "text": "Sunlight (hours)"
         }
        },
        "yaxis": {
         "anchor": "x",
         "domain": [
          0,
          1
         ],
         "title": {
          "text": "count"
         }
        }
       }
      }
     },
     "metadata": {},
     "output_type": "display_data"
    },
    {
     "data": {
      "application/vnd.plotly.v1+json": {
       "config": {
        "plotlyServerURL": "https://plot.ly"
       },
       "data": [
        {
         "bingroup": "x",
         "hovertemplate": "Fertilizer (kg)=%{x}<br>count=%{y}<extra></extra>",
         "legendgroup": "",
         "marker": {
          "color": "#636efa",
          "pattern": {
           "shape": ""
          }
         },
         "name": "",
         "nbinsx": 100,
         "orientation": "v",
         "showlegend": false,
         "type": "histogram",
         "x": {
          "bdata": "7gNwAL4CKwGtCmMHIwJ3B6wDsQLlBI4IawJwBDgD0go/BIYDegqRCXIC5QbWBC8CowtcCgcEJgioAaYCXAu2C2UGWQo0CLEJfwk+ApkELQamBgcG2wIiA/wJOQSTBQoIkgJBAXgGAQm/AQIF3AP9A04F+Qr4AWQFCAOwArgGkQpCCkoKngaZAm8KIwOYC70DaAWsAhELSwFxCUEFlwDXCH0CgAJ2BJID6wV6C9gGzQoGApgJwwMdAWgBcwZ0BQMJXQNDAWMFFwF3CNMG2wJkBp0INgsPCMoClQLZCdECuwhZBHEI6AgMCIUEswKqArEGsQSEAYQGBwZqAAMFUwEmCAoGewo5B6kI0wc7CZkEiQutCbMDgwWQCKALKQk7BUQGmAWvCRsDfgChCdAJIwRaBrAH2AEBCFgBlAfwBkEK4AB8AiUL4wfHBvUFaAZ2AnULYQHcCPgCbQeIBLkFcAQaBbsIkQjaBHYGPwcRCEwDwQYqBF4DXQt9A0sDkQRfBpECLghxArgKqwNmAH8E4AUAAfUHBghiAhID1QToBUoGngIuA54FUgmSCcIKQgSxAdQI0AbNAbwHhAvECCEIcwiPCh0I2wFJA+kBzwo8BZsDowknCQUCwgKbAoMCSgnXA2wKIgMrBbELBAu6BngIrwpeB7cGFQbWCZMG3gexAIAF6wLvCIwCSQR9AWUFmgfLBRsKcQnpBE0LywBhA8IIPAugBkMCbwtwCA8IvArCCIgJfAhzBVwGCQUOBF0D8QLpBuEKTgrvB8oE6QeiAokJlQVhBRcFiwBrC2sCywaFCk8JMgJHBZwHRgIRCroBEAUaBhYFuQboCMIJXQq3CEQEoQu6CQkFiAmnBg0FuQLoAiMCFQtZCl8DQgPOBl0JvALgCNQIOARaB/kIugmnAnIDpAmZC3cCTAZPCscCXwk5CLAE6gbrBf8FEAnOAywJPAHbAa0GbgCxBhYKlQN0BRYDowZgBucE/wdzA6IJrwsYCLgH0Ap0A/ABnQRDBlUIsgYvAqAI1AkyC4UCUwpUAlwCqAQECckGMQOcBuQFcAH+BykGHgtpBsQDwQnRAPoJ7QKWCD8GugS3AjYEPgOcAEULJwlbBwkHagXTAGALKgMVBRcEfQD9CVkDdgpsB3cGUAuVB1kJtAT5AvAD7wltAqQHQwdrCXkDdQUlBw8BbAEmCH0EOAbBBz8Cxwl9BIUAawntBJMDVQOZAjEC2gbyCrQAWAv1B8kD+gWRBLoCxgaKA/IHmAQjAz8KswpzCEoCJQNZBvAEzwJsAyIChQk0AT4GAAoICw4GuQf7CoUJbwX6CDIHYgXcBfAGugPJBcMK1QkkA50DUATcATAE2QAfAlYD4wLfCPUKeAWZC/sKywnSAjgGPAjXBh8H4wf6A/kEJwoFBdsAqQL/B8YICgX6BjMIZQr7CvQB0AmpBagK3AbQAp8LWgEVCsAEygrTAqQJkwehCI8B9gHrBmABQQdBCtQFEAgDATAB7QTTBb0DWwOaBjQLpwjoAB8HEQKXCe0KEQX/CcQADgf9BBoHVQWTBYAFfgTLBS0JXQuoAtUJeAL7BMkE5gPCCiEGSAVlA6UD1AdPCQUJjQJ3C6cEEAXgBpICaAE8CZQH3wSIAwUFLAn1CXYBMQEfB8YDwACNBN4JqwWkCNABmANHBlEI6Ad/CqEETgp0BUgJdwRmAD0H8gOWARMK6wDwB2YKJAmsBgIGzAPZBP0CNAEbBIUE7AKhBdsI1gJwAqgGsAdkA2MKkghnA0cDbQLcBekIWwGhBRcKpgcRA60CwgnyACoEhwsxA+YCWArVAbkEdgNGCy8GGQSoBW0CTAoECPAJxgEWBIMJLgbTBnsChgW2C6kLCwkZBNACDwIhB00KxgknCYQCMAubA04E9gJvC24I7wk+A4wH/AHNCbcA/wgmAw0IOwrOCgsG6QB3A8MD/gJ4AVMH1QNwCLkJhgiSCjkF+An1CgIB0QSICp8HegFCCtIAEgqBAtYEywHXCToFQAceBGYJbQvbCDME9APjBDYDbgoTB6gBXQZxBpUE/QerBqgI6gHiCXMAsQPIA5sC5whHCHQJ0gZHCokKyAHcBkwJhwAACmcEjwibCkcL1QBQB/AJEQViBTUCMwayA1kCHAKoCKkBSQemAJMBLwRHAgQEBAb4AKsKWwnIBCELwwB9AaUJdAJqCc4GpwLjBokJwwbuCWQKjQMYA04BGwSiB7QFawQeBhAIfgKXA/UGcwFoBOYHPgXZBLQCqQbWAGoJ8QYJBjIBkgnTAAQGvgccAUgH6ANAAR8GqQTRCg4K5wqbCkAIHgq8AuwEWwLmCD0BEwsOCT4GxwLkBJwAGAVZAfMA0wEuBj0JywK9B5gGHQqsCx4DzwP5BmsLXQsUBP4DNgd8AIkL+wZ7Bl8LnwQVAqUEmAoDCM0IwwALAY0I0gfLCLAHawoyCH0J0QQ+CFADxweiA5QA1gD+BOwGWgqqALMFpgBQBu0GVQcqBBgJYQfIAsIHugYcA74KWwk5BcoJXAHhAhkE1Ae7BPoKEwE2Aw0KZgP/ByIDtAgCBO0AOQrBCeEE+AfHB7oHSQUvBrwFmQF3BOoGgAaTBkAGcAllA3MAwQLJBZADKghFCuIDgwZwCQECfAA4CJ8BngI4A50HdwUFCOgBNQsfAhwLLgQ0C9MJEAi5CYgHkwFfAxkIkwPTCNEDIgOxCxMEegnhCXAIkgGPBgMB/QhVCxgJFwXcCWsLCwX5BHMIvgTbBB8IYAH8BYIIPgOECVUC+AWHAiQE5wCnBb0D5wRUCGwCgQDWCmcIYAJQBXoGcwBIBKsGkwdECEkFMwdqCaQEbAm1Bd0BEgU/Am0FrAGTBwYFGQLSBVEHKgVXBnMImAeLBccDYgp3BzsEUgWoCpAFaQheBGEHigPJB+UFzgqKBdkE+AFeB7UCmQpTC28ACAmJBWoGsQjJAiYIyAOPA4IHYgO1ADQHNAltApMFRQQ0ClkGIQbXCk0GcAMPBpICvghZCD0HvwOwBo8C/wBlCMgFnAOcBoULnQQXBVACAAOuANYBrgKsAbECYgdsA0oIkwmmAkABBwVDBtoJDwc1Bx8BIgW5BD0KrwN2ApIEJgQ+CvUE4QVoAsQHDQo3BsEE6ACdAbICawYCCfgKwQe+Bk8DPQaEA/0JPQbHBQsD1QjkA24GZQekCA8DcwX5Bs0F9QgSBIEFbQRGCx0JuAamC4wDDgE4CXUGnwa7Bn4AWQSnBHkL+wHQBK0ApQoLA9MFdQu0A8kDUAE6C90J+AqhC+0D2wnOAvAKbAQnCYoLhQWyA5UL5weXCt0CCgtdBGsA1AWQBLsJWAd/C84GJAW0A8gFoQChBAkKfQfcAnsDigp4BcEKEgbWBBMHcAJICOYDBgl2A7QF3gkQAUsEdgejAKUFMgSlAK4HugYtAqYGKAoJCDAHDQYLCBUJBgh7AbsJdASLCS0JJQQPC/oHJQXaAdsHhgDUBYAIagNAAZgIeguvCFECEwfYCHsBTQNfC4oJJgalB2kGrAStC4cE5gc5CFQCMQkNCo8AnwfACikCtgKwBV4CfQN4ANsFzwoBCqoE9wWVBnoH8AW0AecG8QN3Ad8DcABmBDEEEgHkBb0G+wdUCYYCcQgmBfAFEgY4C/0FZgAWC5YHTgNkC8sDUgIECuoF1wKXBPEAMwaRAK8LbQj7AqACUQh1BrkG7Ar0A+MCywodC/ADFQnIA2kEuAOWAYcKqgl8B+4BjwlQA4AJrQGVCFMIaAPRBigH3QFfB7sGSwScB30GaQOfBG8HrgRmCKIGTwMjBkgHdgl1BrMGOglIBqwBYgnmBeEAYgOJBi8FDwVCBzwBswWNBaMDGQGxAWIC4gHMB68BCAVVBecD5QJGBd0CJgonAckHLQKhA2QJbAhcCywF2gPsAe8G8gmuCUMK6Qj3AwoExgGrClUG1AqFCZwL2ALbCvYEqgECBjUJ8QXKBN8KWAdfBt4HNAUICA8K7AGdA9wHvwmVANgFfgSDA2QH7Aq3BZAJgQYJCZ8JZABfBGgFogBGCrEHQQn7AOcC1QI8AScBWgTqCicLVQaOBpwEWwY1A6sGQwd+BuMCzQgIAToBqgS9AGcHRwWyBMMCwAFZAXMBUgj2AR0GDwWbBLIGygR/AWgCzQp5BccCUQNwBaQH8wFaBkwIuQijAYMEswGWCBEBzQZYAq8InwmkB8wH4wYaB1YHHAM/A6oE/QrvAqoEkQCSBAkG+AgrAuIGKQRICMgDXAZMBGkDVwk9CuEJygRMCogE8QZrBvABiwnOAB0EdQqcBwkEgwElA18IMAY6AXwFPwsdCC4GhAe7ASUBAQE0AssIhQjiCjkHqAkWC7MC8Ag9CoIE1wOiALoEkwGgBO8BsQF1C/4Bfwk1ArMAcwuwBB0IQAN9B38GzAWwCGAKBwUSBTEKrwZYCd0AHAGDAEkEJghdC5wCmQnXBfMGoQO3BpsEegMzCgkLAQsdC0UEsQB5Cs8AdAVfC3II1QEwCTgICwccAkYBcwrFCdICZASMBs8GBAUEAcoDNQf6BB8CYgc6BjICPAKQCrMAigRTAZACsQK0BcAHGwh7BdcEcAn3B7IBmwGYBBkLhQCVB+UBXAHSBP0FFgV9A7cD2wE3A64G3QctASAK+geMCZcFUAK1ARQIrQd7A1AGSgigCREE1QquCJ4A5QlyCEoFKgnFBYYABQGCC+IDOgJ2CnsLtwsKBr8BGQMKBPQD9gATBwYDAwYSC1EGYwURA8oE3AAGCsEJjQCAACkE3wd0CzQIcQj7A5UDnAtIBiAFywOKAcMDhwpxBN4KtgICBVEGrAXJArQHpwaTBpwG5wQ0AisGbgWCC+4JWQmbAokAWAF4ANEEwQbtAf0FPgTrBmsIqwnaB4UBXgdiCvMDzAG6Bi8LPgH5CUMIXAhgCFQLowNlB2MHfQs/BbYCzgioAsQKNwdrCIkLIAm0AM8IpAWmBhELvQHCB6sJjgKRASsBigSWAdwGswc3ChYJ6AqaB0gHdwH7BN0F0ArhAlMHBQS8BxoBmAerADIL8AZzBTkLcAl3BKUKkgNaBvYImQFpCnEI5wC5B1YLGgpKC0cDfgNqCeYKZQFNBfwJnwcyBHsEcgHCBPEA6QN1AXcJNAIzBYsFgwHPAywIFwnEBCIFIgJ0C5QKRwq0CzUD1wh6CqsF+gEhBxkDUgIXBHoAzAQGB5ECtAYQBEEF3AaxAKUFigN1BGMDKQJ4CQsGPwZ+BGUKxAczCooLmwvOAVILcAIlBTEGmwhJBUwKowc1AyMIGwUMBtoFjAhHBk8EZwkcCgEEuwO3AJEIGwpqBj0EsAfrABoFKAcPBfADdwuxAgMIHwQVC34K2wSXBScLdQaKCXIHmAiJAxMGlwA7C6sAfwA4Al8Dhgr0BSwJlwM1Bu8GkwLeAeIHlwSyAOQFpQNrBHwIJQJjC1YLLAgwBikJMgcWCBgKcgYVAyoI3QWuAssIiQclCNYCUwgtCs8B6gjZAYoIJwiWC5IIhwjCCMwFcAb1BPgH0wGkAFUDawZXCJMLuAeOBlcDGAlYBrgCdgvWCo4HywrXBZYG0wAoAlcLqwruCLMHSglSBWABOAgXBvoHlAqSBasIpQdBCbAEoQA6BgAFiQPgCEgLtwcECYAC1QKyBs0A5gQQB2sL2AdlCEwJ1AFeBRUEFwmIAasCfgsSCd4IRgkfCg8KYAPbCqQIfAXqBQ8CzQpCCI8LzgD2AgIFbAktBf4A4wNVBrgGRARYCY8FzQXlCVoLAQp5BS4LWgNOA7QCcAaqC3MARASQBKQF7gr3CMYJIgPIAswAPQbvAcEKPgi2AygIHQLoBswD/gJ/BH0LPgrXAvgFWQq/AVMFXQSdAhoLfQgECDwJqwWoC2kLAQMxA5kJugpuAQIG6QqwBWIEWQglCpgCWgWHBPQFfwA/AfkByQZqB3IJQwfuBnsDJgSBBaUDoAGMBbUJlgXCAWICcApPAu8HtQZsCFQGkwaUChsKiwZ7C0UHKwhYBYQIegSwC5kKlAAxArEKswHJBd0EygG9CSQBAwbcBVcD+AZBCp8D3QPwAvsJgQnlB7YD0gDPAnwDlQjpBK8CtwoBC4EFCQidCcEKjAHBBpwCBwWjA8UCcwC9BasAcQGCAaUA0wOnACQF3gUxBF8CqAvJBNkDfQsJCicIagNBCgEE2wD2B0sCsQgcAjECxwKJBd8G+APECmkADANyCc8GjguSCsYAcQIlCQAF/QbWBO8BZQOGB20GTAsOA3gGcgDTCeEKuAs4BR8LaABKCdgH9QWrBq0KDAFcC3sDSwT7AEMJWwKJBo8IHAtbAq4DwgF6CN8GuQKOBDUKiwCSCRIBSgQwBtAKJAVXCacDewmHBJAK5QN/BnoEMgsHBL4I6QmJCkcFLQXBBYkEQAtXAh4HaAqnCEcH3ggQB7MB/ARuAwUF8QceBgoKfQYOBIcD8wfdAkkFngTDCGkFxQHrBMEHfgcqBDwKEQp8CvUEbwa6CNAAvAVBB0UEUQawBZkDDATsCiIBMAgIBPEAyAerCwsJmQJmBRoG0gRLAwQDqgt2AoUFlQJhBhIJkQEcAWEClguZBb0F/wh2C34DEwpXBlwD9ghEChYCagZaCA4HqADBBtQHHQkNCy8JjQJwCP0KdQWWCFcC1Ak3C8gJsgtdBmMJSwZ6AZ4EIQLUCKcDVgOZB5wGTAb6BdIJnwSsCTsLmgbYBzMLGwliBJoJfQYUAbIDRAWkBqgGGwhsCE8BKQMQC30DiwvyB+kGfgCJCi4FuACjBzUKxgQhBW8AWAQ4B7gHnwqJBcsF8gYXAYADHwZMCBwK2gMICgkF7wZTBjcKLAvkCZ0JZgNiBSIE+AN6CFkHtgFQBpoL0QnXBfYDoQc+AgoGxwUvBn4IhQuEA0IFwwMVC/cERgPCBQIKOQQQCowIVwQiC7IIMANzB4MKJQY9CvEEiQnFAusIRwp4B5sFkQuOAtsGPweRAE8FkwQpCbcIggIPBqoIawosCPQDkASICY8DNAbYB4kGxgPfCUoHaQmnAsgJBgYdAxwIHgo5A4EBxwedAqsLEAhNBlUC4QckA7AFlQIyCIMAjgDgB8IFmQeSAnEJAAYSBKIGvgXsB8gGiAi/AJcHHAE7A38EhwbXCaMDvAEGBicFsQgKAWsBOwYzBTcLagVdBnQHYwq5BzkH2QejCjULmwURBRIKYwMyCsgAKAfjB1cJvwXMABkD/gaCBZIEjgSVA0AJZAbzCN0DuQe1B3kDjAKvA/YCqAteBAUICgVSA1wJagNfC8gFFwOXCzIDTQF7COAFUQS9Bd0FbQp0CFgJMQtlCzADfgYTBy0FWwXZCGwAuQJ6ACoIUwmsBn4ItAQqCWoLvwC2AyIItwSPAYsJ6gopBnwFTASeBLkFVAu5CaEIawPUChAG9QY7B2MJnwufB80HJQeTBcoCWAFYA5sDbws/C5oH/wU8BWcCPQKHAOYFZAcqB6EDqATRCQUFRgcUBEsGEgJKCL4DSQHVCRUB/QWbCrEGfAtHB1IHMgS1ALEDXQskBc0COwmFCSAC/gOLCiQB4gaEAaoK8wT6BY4HFghwC+MD+wOXClYIdAYIB3AIIQe3Cc0HawebAUALywS2AY8JygEMCfgEXAtjA40ILQEABzMCJAL0A4EDfQMYAuAHUQd2ApgCuAZ0BTgBGATLBCMB3wUqCLQEJAOIAqkH/QDlBp4CXAdTCdkJiAOCA8YCEwtpC3IH8gBzAXcGDQqRCMIIowgACi4CLgf8BTkKjQtdAhEHrAS3AJ4AeAQtBgAJrAWgBqMCqAsLAy4BzQShARkFygZoB/kBUgoKA1oFxQdvBs8GswUJBqYDJQmXCegG7gddCnwBBgt5BwgELgvDAkYCQgVQB9gIIwF3C80KRQhnCpYBdwLdAOwKswInBp4AkAmMCokG2AR2B3EH8gFmCogLVQoRBHMC8QlSB/EF6QZyBhcCqwPLAeQEwwPdCtYGKAdBBTkJ9wOzCmoH6ghVC+UB",
          "dtype": "i2"
         },
         "xaxis": "x",
         "yaxis": "y"
        }
       ],
       "layout": {
        "barmode": "relative",
        "legend": {
         "tracegroupgap": 0
        },
        "template": {
         "data": {
          "bar": [
           {
            "error_x": {
             "color": "#2a3f5f"
            },
            "error_y": {
             "color": "#2a3f5f"
            },
            "marker": {
             "line": {
              "color": "#E5ECF6",
              "width": 0.5
             },
             "pattern": {
              "fillmode": "overlay",
              "size": 10,
              "solidity": 0.2
             }
            },
            "type": "bar"
           }
          ],
          "barpolar": [
           {
            "marker": {
             "line": {
              "color": "#E5ECF6",
              "width": 0.5
             },
             "pattern": {
              "fillmode": "overlay",
              "size": 10,
              "solidity": 0.2
             }
            },
            "type": "barpolar"
           }
          ],
          "carpet": [
           {
            "aaxis": {
             "endlinecolor": "#2a3f5f",
             "gridcolor": "white",
             "linecolor": "white",
             "minorgridcolor": "white",
             "startlinecolor": "#2a3f5f"
            },
            "baxis": {
             "endlinecolor": "#2a3f5f",
             "gridcolor": "white",
             "linecolor": "white",
             "minorgridcolor": "white",
             "startlinecolor": "#2a3f5f"
            },
            "type": "carpet"
           }
          ],
          "choropleth": [
           {
            "colorbar": {
             "outlinewidth": 0,
             "ticks": ""
            },
            "type": "choropleth"
           }
          ],
          "contour": [
           {
            "colorbar": {
             "outlinewidth": 0,
             "ticks": ""
            },
            "colorscale": [
             [
              0,
              "#0d0887"
             ],
             [
              0.1111111111111111,
              "#46039f"
             ],
             [
              0.2222222222222222,
              "#7201a8"
             ],
             [
              0.3333333333333333,
              "#9c179e"
             ],
             [
              0.4444444444444444,
              "#bd3786"
             ],
             [
              0.5555555555555556,
              "#d8576b"
             ],
             [
              0.6666666666666666,
              "#ed7953"
             ],
             [
              0.7777777777777778,
              "#fb9f3a"
             ],
             [
              0.8888888888888888,
              "#fdca26"
             ],
             [
              1,
              "#f0f921"
             ]
            ],
            "type": "contour"
           }
          ],
          "contourcarpet": [
           {
            "colorbar": {
             "outlinewidth": 0,
             "ticks": ""
            },
            "type": "contourcarpet"
           }
          ],
          "heatmap": [
           {
            "colorbar": {
             "outlinewidth": 0,
             "ticks": ""
            },
            "colorscale": [
             [
              0,
              "#0d0887"
             ],
             [
              0.1111111111111111,
              "#46039f"
             ],
             [
              0.2222222222222222,
              "#7201a8"
             ],
             [
              0.3333333333333333,
              "#9c179e"
             ],
             [
              0.4444444444444444,
              "#bd3786"
             ],
             [
              0.5555555555555556,
              "#d8576b"
             ],
             [
              0.6666666666666666,
              "#ed7953"
             ],
             [
              0.7777777777777778,
              "#fb9f3a"
             ],
             [
              0.8888888888888888,
              "#fdca26"
             ],
             [
              1,
              "#f0f921"
             ]
            ],
            "type": "heatmap"
           }
          ],
          "histogram": [
           {
            "marker": {
             "pattern": {
              "fillmode": "overlay",
              "size": 10,
              "solidity": 0.2
             }
            },
            "type": "histogram"
           }
          ],
          "histogram2d": [
           {
            "colorbar": {
             "outlinewidth": 0,
             "ticks": ""
            },
            "colorscale": [
             [
              0,
              "#0d0887"
             ],
             [
              0.1111111111111111,
              "#46039f"
             ],
             [
              0.2222222222222222,
              "#7201a8"
             ],
             [
              0.3333333333333333,
              "#9c179e"
             ],
             [
              0.4444444444444444,
              "#bd3786"
             ],
             [
              0.5555555555555556,
              "#d8576b"
             ],
             [
              0.6666666666666666,
              "#ed7953"
             ],
             [
              0.7777777777777778,
              "#fb9f3a"
             ],
             [
              0.8888888888888888,
              "#fdca26"
             ],
             [
              1,
              "#f0f921"
             ]
            ],
            "type": "histogram2d"
           }
          ],
          "histogram2dcontour": [
           {
            "colorbar": {
             "outlinewidth": 0,
             "ticks": ""
            },
            "colorscale": [
             [
              0,
              "#0d0887"
             ],
             [
              0.1111111111111111,
              "#46039f"
             ],
             [
              0.2222222222222222,
              "#7201a8"
             ],
             [
              0.3333333333333333,
              "#9c179e"
             ],
             [
              0.4444444444444444,
              "#bd3786"
             ],
             [
              0.5555555555555556,
              "#d8576b"
             ],
             [
              0.6666666666666666,
              "#ed7953"
             ],
             [
              0.7777777777777778,
              "#fb9f3a"
             ],
             [
              0.8888888888888888,
              "#fdca26"
             ],
             [
              1,
              "#f0f921"
             ]
            ],
            "type": "histogram2dcontour"
           }
          ],
          "mesh3d": [
           {
            "colorbar": {
             "outlinewidth": 0,
             "ticks": ""
            },
            "type": "mesh3d"
           }
          ],
          "parcoords": [
           {
            "line": {
             "colorbar": {
              "outlinewidth": 0,
              "ticks": ""
             }
            },
            "type": "parcoords"
           }
          ],
          "pie": [
           {
            "automargin": true,
            "type": "pie"
           }
          ],
          "scatter": [
           {
            "fillpattern": {
             "fillmode": "overlay",
             "size": 10,
             "solidity": 0.2
            },
            "type": "scatter"
           }
          ],
          "scatter3d": [
           {
            "line": {
             "colorbar": {
              "outlinewidth": 0,
              "ticks": ""
             }
            },
            "marker": {
             "colorbar": {
              "outlinewidth": 0,
              "ticks": ""
             }
            },
            "type": "scatter3d"
           }
          ],
          "scattercarpet": [
           {
            "marker": {
             "colorbar": {
              "outlinewidth": 0,
              "ticks": ""
             }
            },
            "type": "scattercarpet"
           }
          ],
          "scattergeo": [
           {
            "marker": {
             "colorbar": {
              "outlinewidth": 0,
              "ticks": ""
             }
            },
            "type": "scattergeo"
           }
          ],
          "scattergl": [
           {
            "marker": {
             "colorbar": {
              "outlinewidth": 0,
              "ticks": ""
             }
            },
            "type": "scattergl"
           }
          ],
          "scattermap": [
           {
            "marker": {
             "colorbar": {
              "outlinewidth": 0,
              "ticks": ""
             }
            },
            "type": "scattermap"
           }
          ],
          "scattermapbox": [
           {
            "marker": {
             "colorbar": {
              "outlinewidth": 0,
              "ticks": ""
             }
            },
            "type": "scattermapbox"
           }
          ],
          "scatterpolar": [
           {
            "marker": {
             "colorbar": {
              "outlinewidth": 0,
              "ticks": ""
             }
            },
            "type": "scatterpolar"
           }
          ],
          "scatterpolargl": [
           {
            "marker": {
             "colorbar": {
              "outlinewidth": 0,
              "ticks": ""
             }
            },
            "type": "scatterpolargl"
           }
          ],
          "scatterternary": [
           {
            "marker": {
             "colorbar": {
              "outlinewidth": 0,
              "ticks": ""
             }
            },
            "type": "scatterternary"
           }
          ],
          "surface": [
           {
            "colorbar": {
             "outlinewidth": 0,
             "ticks": ""
            },
            "colorscale": [
             [
              0,
              "#0d0887"
             ],
             [
              0.1111111111111111,
              "#46039f"
             ],
             [
              0.2222222222222222,
              "#7201a8"
             ],
             [
              0.3333333333333333,
              "#9c179e"
             ],
             [
              0.4444444444444444,
              "#bd3786"
             ],
             [
              0.5555555555555556,
              "#d8576b"
             ],
             [
              0.6666666666666666,
              "#ed7953"
             ],
             [
              0.7777777777777778,
              "#fb9f3a"
             ],
             [
              0.8888888888888888,
              "#fdca26"
             ],
             [
              1,
              "#f0f921"
             ]
            ],
            "type": "surface"
           }
          ],
          "table": [
           {
            "cells": {
             "fill": {
              "color": "#EBF0F8"
             },
             "line": {
              "color": "white"
             }
            },
            "header": {
             "fill": {
              "color": "#C8D4E3"
             },
             "line": {
              "color": "white"
             }
            },
            "type": "table"
           }
          ]
         },
         "layout": {
          "annotationdefaults": {
           "arrowcolor": "#2a3f5f",
           "arrowhead": 0,
           "arrowwidth": 1
          },
          "autotypenumbers": "strict",
          "coloraxis": {
           "colorbar": {
            "outlinewidth": 0,
            "ticks": ""
           }
          },
          "colorscale": {
           "diverging": [
            [
             0,
             "#8e0152"
            ],
            [
             0.1,
             "#c51b7d"
            ],
            [
             0.2,
             "#de77ae"
            ],
            [
             0.3,
             "#f1b6da"
            ],
            [
             0.4,
             "#fde0ef"
            ],
            [
             0.5,
             "#f7f7f7"
            ],
            [
             0.6,
             "#e6f5d0"
            ],
            [
             0.7,
             "#b8e186"
            ],
            [
             0.8,
             "#7fbc41"
            ],
            [
             0.9,
             "#4d9221"
            ],
            [
             1,
             "#276419"
            ]
           ],
           "sequential": [
            [
             0,
             "#0d0887"
            ],
            [
             0.1111111111111111,
             "#46039f"
            ],
            [
             0.2222222222222222,
             "#7201a8"
            ],
            [
             0.3333333333333333,
             "#9c179e"
            ],
            [
             0.4444444444444444,
             "#bd3786"
            ],
            [
             0.5555555555555556,
             "#d8576b"
            ],
            [
             0.6666666666666666,
             "#ed7953"
            ],
            [
             0.7777777777777778,
             "#fb9f3a"
            ],
            [
             0.8888888888888888,
             "#fdca26"
            ],
            [
             1,
             "#f0f921"
            ]
           ],
           "sequentialminus": [
            [
             0,
             "#0d0887"
            ],
            [
             0.1111111111111111,
             "#46039f"
            ],
            [
             0.2222222222222222,
             "#7201a8"
            ],
            [
             0.3333333333333333,
             "#9c179e"
            ],
            [
             0.4444444444444444,
             "#bd3786"
            ],
            [
             0.5555555555555556,
             "#d8576b"
            ],
            [
             0.6666666666666666,
             "#ed7953"
            ],
            [
             0.7777777777777778,
             "#fb9f3a"
            ],
            [
             0.8888888888888888,
             "#fdca26"
            ],
            [
             1,
             "#f0f921"
            ]
           ]
          },
          "colorway": [
           "#636efa",
           "#EF553B",
           "#00cc96",
           "#ab63fa",
           "#FFA15A",
           "#19d3f3",
           "#FF6692",
           "#B6E880",
           "#FF97FF",
           "#FECB52"
          ],
          "font": {
           "color": "#2a3f5f"
          },
          "geo": {
           "bgcolor": "white",
           "lakecolor": "white",
           "landcolor": "#E5ECF6",
           "showlakes": true,
           "showland": true,
           "subunitcolor": "white"
          },
          "hoverlabel": {
           "align": "left"
          },
          "hovermode": "closest",
          "mapbox": {
           "style": "light"
          },
          "paper_bgcolor": "white",
          "plot_bgcolor": "#E5ECF6",
          "polar": {
           "angularaxis": {
            "gridcolor": "white",
            "linecolor": "white",
            "ticks": ""
           },
           "bgcolor": "#E5ECF6",
           "radialaxis": {
            "gridcolor": "white",
            "linecolor": "white",
            "ticks": ""
           }
          },
          "scene": {
           "xaxis": {
            "backgroundcolor": "#E5ECF6",
            "gridcolor": "white",
            "gridwidth": 2,
            "linecolor": "white",
            "showbackground": true,
            "ticks": "",
            "zerolinecolor": "white"
           },
           "yaxis": {
            "backgroundcolor": "#E5ECF6",
            "gridcolor": "white",
            "gridwidth": 2,
            "linecolor": "white",
            "showbackground": true,
            "ticks": "",
            "zerolinecolor": "white"
           },
           "zaxis": {
            "backgroundcolor": "#E5ECF6",
            "gridcolor": "white",
            "gridwidth": 2,
            "linecolor": "white",
            "showbackground": true,
            "ticks": "",
            "zerolinecolor": "white"
           }
          },
          "shapedefaults": {
           "line": {
            "color": "#2a3f5f"
           }
          },
          "ternary": {
           "aaxis": {
            "gridcolor": "white",
            "linecolor": "white",
            "ticks": ""
           },
           "baxis": {
            "gridcolor": "white",
            "linecolor": "white",
            "ticks": ""
           },
           "bgcolor": "#E5ECF6",
           "caxis": {
            "gridcolor": "white",
            "linecolor": "white",
            "ticks": ""
           }
          },
          "title": {
           "x": 0.05
          },
          "xaxis": {
           "automargin": true,
           "gridcolor": "white",
           "linecolor": "white",
           "ticks": "",
           "title": {
            "standoff": 15
           },
           "zerolinecolor": "white",
           "zerolinewidth": 2
          },
          "yaxis": {
           "automargin": true,
           "gridcolor": "white",
           "linecolor": "white",
           "ticks": "",
           "title": {
            "standoff": 15
           },
           "zerolinecolor": "white",
           "zerolinewidth": 2
          }
         }
        },
        "title": {
         "text": "Fertilizer (kg)"
        },
        "xaxis": {
         "anchor": "y",
         "domain": [
          0,
          1
         ],
         "title": {
          "text": "Fertilizer (kg)"
         }
        },
        "yaxis": {
         "anchor": "x",
         "domain": [
          0,
          1
         ],
         "title": {
          "text": "count"
         }
        }
       }
      }
     },
     "metadata": {},
     "output_type": "display_data"
    },
    {
     "data": {
      "application/vnd.plotly.v1+json": {
       "config": {
        "plotlyServerURL": "https://plot.ly"
       },
       "data": [
        {
         "bingroup": "x",
         "hovertemplate": "Crop Yield (tons/ha)=%{x}<br>count=%{y}<extra></extra>",
         "legendgroup": "",
         "marker": {
          "color": "#636efa",
          "pattern": {
           "shape": ""
          }
         },
         "name": "",
         "nbinsx": 100,
         "orientation": "v",
         "showlegend": false,
         "type": "histogram",
         "x": {
          "bdata": "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",
          "dtype": "i2"
         },
         "xaxis": "x",
         "yaxis": "y"
        }
       ],
       "layout": {
        "barmode": "relative",
        "legend": {
         "tracegroupgap": 0
        },
        "template": {
         "data": {
          "bar": [
           {
            "error_x": {
             "color": "#2a3f5f"
            },
            "error_y": {
             "color": "#2a3f5f"
            },
            "marker": {
             "line": {
              "color": "#E5ECF6",
              "width": 0.5
             },
             "pattern": {
              "fillmode": "overlay",
              "size": 10,
              "solidity": 0.2
             }
            },
            "type": "bar"
           }
          ],
          "barpolar": [
           {
            "marker": {
             "line": {
              "color": "#E5ECF6",
              "width": 0.5
             },
             "pattern": {
              "fillmode": "overlay",
              "size": 10,
              "solidity": 0.2
             }
            },
            "type": "barpolar"
           }
          ],
          "carpet": [
           {
            "aaxis": {
             "endlinecolor": "#2a3f5f",
             "gridcolor": "white",
             "linecolor": "white",
             "minorgridcolor": "white",
             "startlinecolor": "#2a3f5f"
            },
            "baxis": {
             "endlinecolor": "#2a3f5f",
             "gridcolor": "white",
             "linecolor": "white",
             "minorgridcolor": "white",
             "startlinecolor": "#2a3f5f"
            },
            "type": "carpet"
           }
          ],
          "choropleth": [
           {
            "colorbar": {
             "outlinewidth": 0,
             "ticks": ""
            },
            "type": "choropleth"
           }
          ],
          "contour": [
           {
            "colorbar": {
             "outlinewidth": 0,
             "ticks": ""
            },
            "colorscale": [
             [
              0,
              "#0d0887"
             ],
             [
              0.1111111111111111,
              "#46039f"
             ],
             [
              0.2222222222222222,
              "#7201a8"
             ],
             [
              0.3333333333333333,
              "#9c179e"
             ],
             [
              0.4444444444444444,
              "#bd3786"
             ],
             [
              0.5555555555555556,
              "#d8576b"
             ],
             [
              0.6666666666666666,
              "#ed7953"
             ],
             [
              0.7777777777777778,
              "#fb9f3a"
             ],
             [
              0.8888888888888888,
              "#fdca26"
             ],
             [
              1,
              "#f0f921"
             ]
            ],
            "type": "contour"
           }
          ],
          "contourcarpet": [
           {
            "colorbar": {
             "outlinewidth": 0,
             "ticks": ""
            },
            "type": "contourcarpet"
           }
          ],
          "heatmap": [
           {
            "colorbar": {
             "outlinewidth": 0,
             "ticks": ""
            },
            "colorscale": [
             [
              0,
              "#0d0887"
             ],
             [
              0.1111111111111111,
              "#46039f"
             ],
             [
              0.2222222222222222,
              "#7201a8"
             ],
             [
              0.3333333333333333,
              "#9c179e"
             ],
             [
              0.4444444444444444,
              "#bd3786"
             ],
             [
              0.5555555555555556,
              "#d8576b"
             ],
             [
              0.6666666666666666,
              "#ed7953"
             ],
             [
              0.7777777777777778,
              "#fb9f3a"
             ],
             [
              0.8888888888888888,
              "#fdca26"
             ],
             [
              1,
              "#f0f921"
             ]
            ],
            "type": "heatmap"
           }
          ],
          "histogram": [
           {
            "marker": {
             "pattern": {
              "fillmode": "overlay",
              "size": 10,
              "solidity": 0.2
             }
            },
            "type": "histogram"
           }
          ],
          "histogram2d": [
           {
            "colorbar": {
             "outlinewidth": 0,
             "ticks": ""
            },
            "colorscale": [
             [
              0,
              "#0d0887"
             ],
             [
              0.1111111111111111,
              "#46039f"
             ],
             [
              0.2222222222222222,
              "#7201a8"
             ],
             [
              0.3333333333333333,
              "#9c179e"
             ],
             [
              0.4444444444444444,
              "#bd3786"
             ],
             [
              0.5555555555555556,
              "#d8576b"
             ],
             [
              0.6666666666666666,
              "#ed7953"
             ],
             [
              0.7777777777777778,
              "#fb9f3a"
             ],
             [
              0.8888888888888888,
              "#fdca26"
             ],
             [
              1,
              "#f0f921"
             ]
            ],
            "type": "histogram2d"
           }
          ],
          "histogram2dcontour": [
           {
            "colorbar": {
             "outlinewidth": 0,
             "ticks": ""
            },
            "colorscale": [
             [
              0,
              "#0d0887"
             ],
             [
              0.1111111111111111,
              "#46039f"
             ],
             [
              0.2222222222222222,
              "#7201a8"
             ],
             [
              0.3333333333333333,
              "#9c179e"
             ],
             [
              0.4444444444444444,
              "#bd3786"
             ],
             [
              0.5555555555555556,
              "#d8576b"
             ],
             [
              0.6666666666666666,
              "#ed7953"
             ],
             [
              0.7777777777777778,
              "#fb9f3a"
             ],
             [
              0.8888888888888888,
              "#fdca26"
             ],
             [
              1,
              "#f0f921"
             ]
            ],
            "type": "histogram2dcontour"
           }
          ],
          "mesh3d": [
           {
            "colorbar": {
             "outlinewidth": 0,
             "ticks": ""
            },
            "type": "mesh3d"
           }
          ],
          "parcoords": [
           {
            "line": {
             "colorbar": {
              "outlinewidth": 0,
              "ticks": ""
             }
            },
            "type": "parcoords"
           }
          ],
          "pie": [
           {
            "automargin": true,
            "type": "pie"
           }
          ],
          "scatter": [
           {
            "fillpattern": {
             "fillmode": "overlay",
             "size": 10,
             "solidity": 0.2
            },
            "type": "scatter"
           }
          ],
          "scatter3d": [
           {
            "line": {
             "colorbar": {
              "outlinewidth": 0,
              "ticks": ""
             }
            },
            "marker": {
             "colorbar": {
              "outlinewidth": 0,
              "ticks": ""
             }
            },
            "type": "scatter3d"
           }
          ],
          "scattercarpet": [
           {
            "marker": {
             "colorbar": {
              "outlinewidth": 0,
              "ticks": ""
             }
            },
            "type": "scattercarpet"
           }
          ],
          "scattergeo": [
           {
            "marker": {
             "colorbar": {
              "outlinewidth": 0,
              "ticks": ""
             }
            },
            "type": "scattergeo"
           }
          ],
          "scattergl": [
           {
            "marker": {
             "colorbar": {
              "outlinewidth": 0,
              "ticks": ""
             }
            },
            "type": "scattergl"
           }
          ],
          "scattermap": [
           {
            "marker": {
             "colorbar": {
              "outlinewidth": 0,
              "ticks": ""
             }
            },
            "type": "scattermap"
           }
          ],
          "scattermapbox": [
           {
            "marker": {
             "colorbar": {
              "outlinewidth": 0,
              "ticks": ""
             }
            },
            "type": "scattermapbox"
           }
          ],
          "scatterpolar": [
           {
            "marker": {
             "colorbar": {
              "outlinewidth": 0,
              "ticks": ""
             }
            },
            "type": "scatterpolar"
           }
          ],
          "scatterpolargl": [
           {
            "marker": {
             "colorbar": {
              "outlinewidth": 0,
              "ticks": ""
             }
            },
            "type": "scatterpolargl"
           }
          ],
          "scatterternary": [
           {
            "marker": {
             "colorbar": {
              "outlinewidth": 0,
              "ticks": ""
             }
            },
            "type": "scatterternary"
           }
          ],
          "surface": [
           {
            "colorbar": {
             "outlinewidth": 0,
             "ticks": ""
            },
            "colorscale": [
             [
              0,
              "#0d0887"
             ],
             [
              0.1111111111111111,
              "#46039f"
             ],
             [
              0.2222222222222222,
              "#7201a8"
             ],
             [
              0.3333333333333333,
              "#9c179e"
             ],
             [
              0.4444444444444444,
              "#bd3786"
             ],
             [
              0.5555555555555556,
              "#d8576b"
             ],
             [
              0.6666666666666666,
              "#ed7953"
             ],
             [
              0.7777777777777778,
              "#fb9f3a"
             ],
             [
              0.8888888888888888,
              "#fdca26"
             ],
             [
              1,
              "#f0f921"
             ]
            ],
            "type": "surface"
           }
          ],
          "table": [
           {
            "cells": {
             "fill": {
              "color": "#EBF0F8"
             },
             "line": {
              "color": "white"
             }
            },
            "header": {
             "fill": {
              "color": "#C8D4E3"
             },
             "line": {
              "color": "white"
             }
            },
            "type": "table"
           }
          ]
         },
         "layout": {
          "annotationdefaults": {
           "arrowcolor": "#2a3f5f",
           "arrowhead": 0,
           "arrowwidth": 1
          },
          "autotypenumbers": "strict",
          "coloraxis": {
           "colorbar": {
            "outlinewidth": 0,
            "ticks": ""
           }
          },
          "colorscale": {
           "diverging": [
            [
             0,
             "#8e0152"
            ],
            [
             0.1,
             "#c51b7d"
            ],
            [
             0.2,
             "#de77ae"
            ],
            [
             0.3,
             "#f1b6da"
            ],
            [
             0.4,
             "#fde0ef"
            ],
            [
             0.5,
             "#f7f7f7"
            ],
            [
             0.6,
             "#e6f5d0"
            ],
            [
             0.7,
             "#b8e186"
            ],
            [
             0.8,
             "#7fbc41"
            ],
            [
             0.9,
             "#4d9221"
            ],
            [
             1,
             "#276419"
            ]
           ],
           "sequential": [
            [
             0,
             "#0d0887"
            ],
            [
             0.1111111111111111,
             "#46039f"
            ],
            [
             0.2222222222222222,
             "#7201a8"
            ],
            [
             0.3333333333333333,
             "#9c179e"
            ],
            [
             0.4444444444444444,
             "#bd3786"
            ],
            [
             0.5555555555555556,
             "#d8576b"
            ],
            [
             0.6666666666666666,
             "#ed7953"
            ],
            [
             0.7777777777777778,
             "#fb9f3a"
            ],
            [
             0.8888888888888888,
             "#fdca26"
            ],
            [
             1,
             "#f0f921"
            ]
           ],
           "sequentialminus": [
            [
             0,
             "#0d0887"
            ],
            [
             0.1111111111111111,
             "#46039f"
            ],
            [
             0.2222222222222222,
             "#7201a8"
            ],
            [
             0.3333333333333333,
             "#9c179e"
            ],
            [
             0.4444444444444444,
             "#bd3786"
            ],
            [
             0.5555555555555556,
             "#d8576b"
            ],
            [
             0.6666666666666666,
             "#ed7953"
            ],
            [
             0.7777777777777778,
             "#fb9f3a"
            ],
            [
             0.8888888888888888,
             "#fdca26"
            ],
            [
             1,
             "#f0f921"
            ]
           ]
          },
          "colorway": [
           "#636efa",
           "#EF553B",
           "#00cc96",
           "#ab63fa",
           "#FFA15A",
           "#19d3f3",
           "#FF6692",
           "#B6E880",
           "#FF97FF",
           "#FECB52"
          ],
          "font": {
           "color": "#2a3f5f"
          },
          "geo": {
           "bgcolor": "white",
           "lakecolor": "white",
           "landcolor": "#E5ECF6",
           "showlakes": true,
           "showland": true,
           "subunitcolor": "white"
          },
          "hoverlabel": {
           "align": "left"
          },
          "hovermode": "closest",
          "mapbox": {
           "style": "light"
          },
          "paper_bgcolor": "white",
          "plot_bgcolor": "#E5ECF6",
          "polar": {
           "angularaxis": {
            "gridcolor": "white",
            "linecolor": "white",
            "ticks": ""
           },
           "bgcolor": "#E5ECF6",
           "radialaxis": {
            "gridcolor": "white",
            "linecolor": "white",
            "ticks": ""
           }
          },
          "scene": {
           "xaxis": {
            "backgroundcolor": "#E5ECF6",
            "gridcolor": "white",
            "gridwidth": 2,
            "linecolor": "white",
            "showbackground": true,
            "ticks": "",
            "zerolinecolor": "white"
           },
           "yaxis": {
            "backgroundcolor": "#E5ECF6",
            "gridcolor": "white",
            "gridwidth": 2,
            "linecolor": "white",
            "showbackground": true,
            "ticks": "",
            "zerolinecolor": "white"
           },
           "zaxis": {
            "backgroundcolor": "#E5ECF6",
            "gridcolor": "white",
            "gridwidth": 2,
            "linecolor": "white",
            "showbackground": true,
            "ticks": "",
            "zerolinecolor": "white"
           }
          },
          "shapedefaults": {
           "line": {
            "color": "#2a3f5f"
           }
          },
          "ternary": {
           "aaxis": {
            "gridcolor": "white",
            "linecolor": "white",
            "ticks": ""
           },
           "baxis": {
            "gridcolor": "white",
            "linecolor": "white",
            "ticks": ""
           },
           "bgcolor": "#E5ECF6",
           "caxis": {
            "gridcolor": "white",
            "linecolor": "white",
            "ticks": ""
           }
          },
          "title": {
           "x": 0.05
          },
          "xaxis": {
           "automargin": true,
           "gridcolor": "white",
           "linecolor": "white",
           "ticks": "",
           "title": {
            "standoff": 15
           },
           "zerolinecolor": "white",
           "zerolinewidth": 2
          },
          "yaxis": {
           "automargin": true,
           "gridcolor": "white",
           "linecolor": "white",
           "ticks": "",
           "title": {
            "standoff": 15
           },
           "zerolinecolor": "white",
           "zerolinewidth": 2
          }
         }
        },
        "title": {
         "text": "Distribution of Crop Yield (tons per hectare)"
        },
        "xaxis": {
         "anchor": "y",
         "domain": [
          0,
          1
         ],
         "title": {
          "text": "Crop Yield (tons/ha)"
         }
        },
        "yaxis": {
         "anchor": "x",
         "domain": [
          0,
          1
         ],
         "title": {
          "text": "count"
         }
        }
       }
      }
     },
     "metadata": {},
     "output_type": "display_data"
    }
   ],
   "source": [
    "import plotly.express as px\n",
    "\n",
    "# Univariate Analysis\n",
    "\n",
    "# 1. Rainfall distribution\n",
    "fig_rainfall = px.histogram(\n",
    "    df,\n",
    "    x='rainfall_mm',\n",
    "    nbins=100,\n",
    "    title='Distribution of Rainfall (mm)',\n",
    "    labels={'rainfall_mm': 'Rainfall (mm)'}\n",
    ")\n",
    "\n",
    "# 2. Soil quality index\n",
    "fig_soil_quality = px.histogram(\n",
    "    df,\n",
    "    x='soil_quality_index',\n",
    "    nbins=100,\n",
    "    title='Soil Quality Index (1-10)',\n",
    "    labels={'soil_quality_index': 'Soil Quality Index (1-10)'}\n",
    ")\n",
    "\n",
    "# 3. Farm size\n",
    "fig_farm_size_hectares = px.histogram(\n",
    "    df,\n",
    "    x='farm_size_hectares',\n",
    "    nbins=100,\n",
    "    title='Farm size (hectares)',\n",
    "    labels={'farm_size_hectares': 'Farm size (hectares)'}\n",
    ")\n",
    "\n",
    "# 4. Sunlight hours\n",
    "fig_sunlight_hours = px.histogram(\n",
    "    df,\n",
    "    x='sunlight_hours',\n",
    "    nbins=100,\n",
    "    title='Sunlight (hours)',\n",
    "    labels={'sunlight_hours': 'Sunlight (hours)'}\n",
    ")\n",
    "\n",
    "# 5. Fertilizer\n",
    "fig_fertilizer_kg = px.histogram(\n",
    "    df,\n",
    "    x='fertilizer_kg',\n",
    "    nbins=100,\n",
    "    title='Fertilizer (kg)',\n",
    "    labels={'fertilizer_kg': 'Fertilizer (kg)'}\n",
    ")\n",
    "\n",
    "# 6. Crop yield distribution\n",
    "fig_crop_yield = px.histogram(\n",
    "    df,\n",
    "    x='crop_yield',\n",
    "    nbins=100,\n",
    "    title='Distribution of Crop Yield (tons per hectare)',\n",
    "    labels={'crop_yield': 'Crop Yield (tons/ha)'}\n",
    ")\n",
    "\n",
    "# Run this IN A NOTEBOOK CELL (top-left of your notebook, new cell)\n",
    "%pip install -U nbformat plotly\n",
    "\n",
    "import plotly.io as pio\n",
    "# VS Code works best with this renderer:\n",
    "pio.renderers.default = \"vscode\"      # or \"notebook_connected\" if not in VS Code\n",
    "\n",
    "fig_rainfall.show()\n",
    "fig_soil_quality.show()\n",
    "fig_farm_size_hectares.show()\n",
    "fig_sunlight_hours.show()\n",
    "fig_fertilizer_kg.show()\n",
    "fig_crop_yield.show()"
   ]
  },
  {
   "cell_type": "markdown",
   "id": "b4344f62",
   "metadata": {},
   "source": [
    "### Univariate Analysis Insights\n",
    "\n",
    "After plotting the distributions for each variable, a few interesting patterns emerged:\n",
    "\n",
    "1. **Rainfall (mm):**  \n",
    "   The distribution of rainfall is relatively uniform across the range (500–2000 mm). This balance ensures that the dataset captures diverse weather conditions without bias toward dry or wet climates.\n",
    "\n",
    "2. **Soil Quality Index (1–10):**  \n",
    "   Soil quality is discrete and only takes integer values between 1 and 10. The distribution is fairly even across categories, confirming it was designed as an ordinal variable rather than continuous.\n",
    "\n",
    "3. **Farm Size (hectares):**  \n",
    "   Farm sizes (10–1000 hectares) are spread quite evenly across the range. Unlike real-world data (where smallholder farms are more common), this simulated dataset avoids skewness, providing a balanced representation.\n",
    "\n",
    "4. **Sunlight Hours (4–12 hours):**  \n",
    "   Similar to soil quality, sunlight hours are captured as discrete integers. The values are evenly distributed across the range, meaning the dataset covers farms with both low and high sunlight exposure.\n",
    "\n",
    "5. **Fertilizer Usage (kg):**  \n",
    "   Fertilizer use (100–3000 kg) shows a mostly uniform spread but with slight peaks in certain ranges. This may indicate clustering around common farming practices or thresholds.\n",
    "\n",
    "6. **Crop Yield (tons/ha):**  \n",
    "   Crop yield follows a somewhat bell-shaped distribution but with multiple peaks (multimodal). This suggests the presence of subgroups in the data—perhaps high-yield and low-yield farms—driven by combinations of environmental and input factors.\n",
    "\n",
    "---\n",
    "\n",
    "**Key Takeaway:**  \n",
    "While most variables are evenly distributed (likely due to the simulated nature of the dataset), the **multimodal pattern in crop yield** is especially interesting and hints at underlying factors that segment farms into distinct yield categories.\n"
   ]
  },
  {
   "cell_type": "markdown",
   "id": "1cc07e3f",
   "metadata": {},
   "source": [
    "### Bivariate Analysis:"
   ]
  },
  {
   "cell_type": "code",
   "execution_count": 12,
   "id": "2af28880",
   "metadata": {},
   "outputs": [
    {
     "data": {
      "application/vnd.plotly.v1+json": {
       "config": {
        "plotlyServerURL": "https://plot.ly"
       },
       "data": [
        {
         "hovertemplate": "Rainfall (mm)=%{x}<br>Crop Yield (tons/ha)=%{y}<extra></extra>",
         "legendgroup": "",
         "marker": {
          "color": "#636efa",
          "opacity": 0.6,
          "symbol": "circle"
         },
         "mode": "markers",
         "name": "",
         "showlegend": false,
         "type": "scattergl",
         "x": {
          "bdata": "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",
          "dtype": "i2"
         },
         "xaxis": "x",
         "y": {
          "bdata": "lAFzAOcAGQIqAiwCAQGeAGgBRwGNARgCCwHTABMCFAFxASYCGQLmASICOgFuAAcCBgGmATgBqQGQAD0AOAEhAf4ArAEPAZ4B+AB1APQB1wFnAYcA2ABxAAQCdQG0AAIBfgFtALsBrgFkARcBRwAHAh4CgAFzAEwB5QCOAOEAAAGHATwCRgJXALoBzQGuANQBYgEBAikBxQCkAV8BlgA7ArQAAwL9AecA1wFuALcBewCHAFQBNwJEAWUAUgExARQBEAKwAakA/gETAroBSABdAb8AVAHyAXoBaAA5AjABSQL3AegBFAIlAQ0BRAHhAP4BZwBqAXEAgAFHAAUC7wF2AE8BfAHbAF8AYAHaAc4AWgKKAdgBBAENAWkBaQBKAbAApwBwAWgBbAC2ADYBxwDlAKsAdQETAtgBZgDEAAYBrgFhAMwBlQHkAXsBXwHRAUkCYwEBAZUAigB3AVsAegBbAdMAMAHgAV8BPAKqAOEAlwFJAUkBBgEUAqYAFQGhAdwAhAFgAFkBcQDiALMAiwDBAQkCgQHYAXEB1AEHAlwB/AGaAKoB0ABLAq4AjQCwAYMA7gEuAdsB/AHJANYAUAG6AJYBUACSAegB5AF0AP8AjAG+AYgBdABfAW4BHQLdAcoA7ABLAsEBIQIoAmMBJgINAQIBmAA2AawAIgHWAFYAtQBZARUCYgGLAMkAGgJPASsChgE7AW8BGQHcAFACpgCYAMIAtAFxAcgB6wGIAU4BmwF1AeAAowGmACoCMgCRAIEBdAFlAS8CcQEAAhoCxwChANgAiQAoAgUBBQK+AagA4ABsAScBXgAtAiYB7QAXAokAvADHAHoAQAKgAaUBbACQAZgAMwLFAOYB1QCIANkBpADGAcIBQwDiAD0CdgELArwBsgC0AAUBwAFaAP0APAH7AaYAlQFxAcUAUwDaAUYBvgAlArUAhgByAZQAyQHGAAcCFgKzAY0BOwGbAJUBJQHBANEBTAEdAW4BwQBWAAgBzgEcAWkBjQDbAD4B/ACwABcBNAGfANUBIQJUAIoBsAEEAnAATQGrAUAB7gCCAFwBeQDNAFoB9AGkAOUBcgEYAbgBcAE2AgUB7gEdAlQBCAG9ATcCxgCZACECxgHOAUoATwFWAXUA1QD9ABICCwGRAJcAOAExAkYBQAKdAdsBJQKRATsAHAERAeEA+gC0AOkAPAKXAVIBhwB7AO0AngErAdwBNADLADsB7gEWAXcBpQCFARYC5wD+AR4BQwGTAKgAhwEcAlUBJgIWAWgBOQLsAHUAdwFDAU8BEgJoAbAAawHaAcgBNwG+AQoC5QANApQBAgHjAbcBwQCdATgBwwAeAbkA6AFmAVwB5AAkAgwCdABYAdsAlQD+AKwAkADMAKYBZABeAawA3ACQAH8AOQG6AJcBWwEOAVQB6gGLARoCFQJPAUsAtAFwADkBXwCLAVQCewDFAJkA+gClAEMBNAJ0AHoBGAK1AD4B3gH8ARcC8AGxAeABeADVAKUAaAHZAesAjAEsAV0BqgB8AF4B9QFjAAkCAwHTASECOQH/AToBwgEhARYC9QAdAcYBkAGrAIEAWAE5AgkBEALtAWEAywHaAC0BPQErAS4BPQJxADYC6gHNAUsC8AGKAWwB9wBHAlcBKAHDAHQAGgFKAT4BeAGjASACQQGYAJQAKAHsAYoA9gDgADQBRQE5AsUAigACAf8AJQJ9ASgCMwJaATYCSAHWAYoABAL9Ad8B+AE0AcwBJALkAMgAMQKiAPEBUQJBASABAAJWAI0ApwFSARACSgJ2AHwBhgGGAZgAAgETAqgBZQH0AAwCnwEmAZ4A/AGnAN8BWQHYAHgBNQDrAI8BiAFTAEsAEgGyAKwARQGNAfcBngD2ATQC9ACrADIB6gFcAXEAvQDMACgCOQJcAJ4AygBqAQ4BQQEHAR4CggBuAOcBfABGAk4BYQFcAcQBvwCyAIAA/QGRAGEBHQKoAegBhQH5AZYBpgEYAQMCwABnAW0AbAEGAhoBYAFiAbEAyQGzAXoBVAH5AF8A/QBxAVcABAKDAVIAaQHhAM4AoAFzAWUASABwAYcAxgCyAc4BEwKWAFECpgCAAIkAdgHdAJ8B/gFLAswBcQCyAY0BawBeAU4BhgHBAKUB4wFtAZIATQEJAWYAlgHEAIMApQAyAPkAhgGkAFUB0wEuAVMBFwK/AXoASwGIALQAMwGtAMIAYAArAecAHQEFAYEAcQG6AcsBqgDiAa0AzwANAhYBPwKGAeMBFwGrAIwA+AEgAXAAuQAMAscB+wB0ASACrwH1AYsAiAExAiwCAwFvAUYBwAGRAFgBWwBWAUkAeQBDAawAlwGbAOcAFQH4AO8BaAGeAJoBsQDEAGUAqgABAk0CwgCAARoCTwJWAdIBrwCJALEBfgAmASUBMgGbAY8ASQHkAdoBzQAAAn0BtwC5Ad4BpgH9AW0AbgGzAQsBqwHUAPEB8gF0AeABagDMAP0B+AEMAZoADAL3AZgAdQE/AdYAnAAxAcIARgGyALkALAEIAo0AKwKYAB0BWACmAA8B5QGzAYkA9AC/AHIAcAGTANAAzgFeAVQCGgFvAMIBEwIUAUwBAAGeAdMAcgGfAKQBWgEXAtEBgAHkASECmgHSAdgAmQE2Au0BFwJYAcsBNQGWAHEA5gDFARgB2QAIASEBigCAAfUAjQFNAR8CrQDOAOwB2ABWAVsBiwDkAQMBfwFuATAB7QCZAEkCpAAlAfkAdQBLAccAegDfAOEB/gByAHIANwFgAS4A0AFNAIgAVwF2AeYA7QGOASEBUgBkAZIAigAYAf8AaQFSAccB4ABjANQAIgGxADYCWAGMAAAB7QGbABwCxAAjAQwCgQFCASICXwGkAV0BVAFhANABwQHgAQABmQDGAH0BpQA/AZEBHQKNASwCOwLQAQkCxwHdAf8BaAEwAgsBGQJ4AJEA1gB5AKEA2QGtAE4AggEwAJAA/QADAuMBHQGhAQYB1wBAASYB+gG1AfEBZwBtAe8BlAGFAewAmgFkASwBtwCjAH0A5AFGAdwBIwG8ADUBvQEkAcQBNgLjAasByQDmAAwBpAFZAOEA/AG0AO4BcQAtAUIB1QC/AKsBUgGYAF4B4AHpADcBHAEGAZwBXQC5ANsAHgJwAf4AogCmAQ4C3AB+ABMCWwAVAVYARALpATUBUgBOAr4B9gHmAf8AYQLeAfoA8gCAAZ4AvABCAl0BoAHkAWgA/QHyAakBgQC5AM8AEALuAAwBBQJfASEB4wDCAKwAzQBzAbcBKwLYAMEAkgHTAT8BDgLwAS0BaQHTAZkAhAEYAjoBrQHzAPcB/AAYAcwAogDdALEAxwCrAJkA/wFDAeoBjgH5AVgAKgLIAN8B8gHSADgC0ADmANcAzwHfAa0A8gFqAc0BJAJWAX8AawBBACIBMQGwAGEACAHbAdgAjwB5ATcCuQHCAPAAbwEVAlMCgADSAX0BiwEfATQCMALnALQBGQLKAEwCiQDAAD4AjwBAArUAswArAXcB2wEqAW4BQwH6AO0BBAK/AK8BIwHCAHQB/wDRAXQBzwFmAA0CFQHZALwAqgDKAcwB4QHTAX0BIAI4AIIBSwAjAiIBggHCAP8BOQG5ANoAuQBDARQCSgGxAZEBsQBvArEAvgCYAKYB7wDGAegB7gEjAdgA/wF2AfoA3wDXAN0BXAEzAfkBRQLYAcoBAAHVAGAA1ABNAeoB2gDmAYQBYwH+AC8BZwFuAXsAaQAYAfoBlwCEAYoAfAGJAKcAUQDrAesAdQGYARMBfQGZASEB1AHqAIkBowD9AFsBIAE9AA4CSAIFAsoBAgHUACECZgESAYkAHAJXAWYB1ACiARMCGwJOAUsAZAHAAHcANALAAeUBJAHdABQBSAG0AHgAkQHfAIcBkgGCABwCpwFGAZoAJALoAd8BIgGwAN0B+wEgAsMBtgDRAU8CUwCGASwBwgAjAqsAnQAvAYMAKQIIArgAsQATAo0BGQHIAdgAOgEdAtcAKAL5AI8AmAFwAAICfgEyAtkBkgH6ADIBSQC4AQkBSQEHAlsBHwE2AQ4CTwFLAjYBvgHJAPUAFgJ+AOUBaAGXAdkBfgG+ADkB2gGkAQ0CYwAbAYkB8AGhAPkBeAC3AKkApgFwAZ8AJwIMAooAiQD9ABMBMgFQACYBsQBkAB4B+gEtAewBVQA0Ad8AXQCtAUIBnABnAVEBaQG/AegAcADaAVwA9QAqAsAAJQEDAgcBYAHjAF4CLAGOAIwBEgEBAZ0AlwEsAtIBZgCcAGMAwQFzALIBlgBpAHQAwAF3AU4B7AE3AQIBjQGiAFkBugBQAeYAwgGOAe0BgQE3AeQAbgFFAt0BMQGgAbYAfQDVAOwBCwJgADUCuwBDAWwAegCBAPAByAAdAt8AOQJMAcUBZACdAFcBpQECAn0BMAK2AYIAmwFsAPEA9wGPALwALgEkAdwA8QDHAXsB6gCmAJABsAB0AGkCVQHRAXoA0gFjAp0AMAIuAUsCqQAvASgBKwIhAV8BsgAMAlMB9gDJAMwAWAHxAYgArQF2AUUA8ADeAegATgDtAAIC1wBsAUsBZAFSAGAB8gEMASsBGAHTAcABGAJlAJUBRQEeASsB6QASAr4BjwGbALsAvAHaAEUCpwDGAMwBYgAMAo0AEgJHAM4B8AG+AE8B5gEsAaIBrwH6AKYAtgEBAcsA7QDCALwAAgJFAqwBDwHdAREC2gDyAHEAigHtAKcBGAGUAHUBVgGRAAsB4QF/ACECbQAUAgYChQD/AScCGgJrAM4BUAGZAR8CZQJuACsBYAHSAUYB7QG1AAECHgIDAT4BbQAhAl4BEQHKAVYBvgDCAL0AbwG3ASMBPAGsAZ4ARwB4ACgBPQL7AD0BvgDDAMwA0QG9AI8A8AAJAhgBCgKfAfsAZgBIAYgA0wBhAKgApQHyAJgAoAGQAHMBqADcASgBGQEvAiECmAELAZUBTwFDAq8AhQBpANIA4gDNAMgBVgG4AD8BngC1AbABXwFgAWAA5ACkAAUCKwFtAeEBagDuAKYBIgERAUQCaQGrABYChABlAaUBSQETAZ4AiQGvAWcBvQAPAfkBYQCtAK4AYwFpAZoAcAHJAQQBMwIAAqMBsgGhAcAAUQFBAVUBiwAcAj0BwQD/AAQCyAClAQEBxgFlAZcAqgFpAcwAQQECAc8B3wGvAIgByADmAR8BqgHBAPEA+AHPAc4BggGBAHwA7AEIAaQAEwF9ARcBkAASARQC1ABgAUkBMQGkAYYBXgCEAW4BWQDtAfUBtgE7AekAUQFwACQC9ACEAFsAKQIbAY8BkQBUAdUAHAJYAaYBZwENAv4BjgCpAPIBLAJwAJwAeQHcAX8BZAG/ACACeACBAOsBXAEEAXABDQHlASYCFQH9AREByAFiAZEBZAEIARIBDAIHAoIAowFUAKEAhQHAAPoBVgETAdUBDQH4AZQBngF6AI8A4wC6AYEB0QCUAOABygAlAe8A3wFhAb8BQgHsAaYBhwGwAZwBsQH7AIkAlQCsAG4A3wHmAIgAewGuAX4BFwEwAo4BVgHpAdQBIQGjALgA6wHyAI4B0wGRADECJwLoAFwBMgIOAnsAVgElAXcBhAG8AIIBQAFiAUYCqAFZAQ4CsADCAJYBAQGjAB8CbQETAasAlAGlAH0A6wEeAoMAZQBHAP4AWQGHAO0BUwG1ADQBgwBlAeIBeQCMAJUAfQGJACwCuQD5AMAApAEQAZEB5ACpAfAAeAERAvMAXABVAYMBOgLYAaAAOwLJALcAJgFVAScCMQKMAcMB1wAfArMA1QDAADsBSgCJAG0AsQFJAZEAYABdAfUBogEoATQCGgHJAOYBTgLeAMoA7gDAAGQAYQHKAPcB6QC0AMkBwwC8ASwBtAArAocAFwJLARMC3wDxAL8BjAADAicBtACeAXsAmQHnAe8AkgDYABMCRQHjAZABfAGfAOMBJAFoAccA/wAXAt8BVgGhAN0B1QCFAOcAZwByAeEAfgH7AcoAiQGaARMB0QFkAZ0BzAFnAB0B8wFnAQABzgE1AfYA1wF7ANMBgAE8ARABsgF9AIcAKAHXAEoBYwDEADwBkgGpAD0CjAF2ASkC2wFGAnQCwwAOAsMByAAIAV4BbQFlAJgBCgLPAF0A8QHSAT0BdwD3AQoCrgBfAe8BTAFPArIBugGPAGoANQCuAeIAFgFmAVUB4wFeAZIAZgFsAJUAjwH5AS0BnQBpAfQAogCXATECvADSAQ8CjgCIAc8BWQGFAE4BqgGUABACDQHFAEACMAJdAQICIAL/AVsBQQFjAUABXwFEAWoBSAFCAnYAfgErArwACwK+AC4CzADHAfABlQEGAqkBjABxAe4A2AFKARYBMgFdAFICKAFtAOoAuQDJAEQCGAGHAMkAxgFKAHMAcQGmAAsC2QCEAWcACgJSARICggHEAEIBlwGgAfUBTQD3AFgAugBwAGYBdwDdAfgAPQAuAdMBfgH5AYMBeAEFAXwB9gBaAasBdgGQABEBDAGnAPMAkwGHAMAApgGgABMBJQFfAboBCwJMAXcAZgCIARgBGQJuAVYBYgDSAOoBWgF5AdMBCQGvAIcB4wCWACcBVQJrAYoAawH6AagAwAAvAnkA7AFsACwCMwI9AlYBDAJGAoYB1wHrAKIAmADhAJ0BqQEMAaUAZQHqAMwAqgFlABACBQEEAVwBjwBpAIwAugAMApIA7gEUAbMBSgEcAnsAgwE5AGUBswFiABMCnQA2Ae8BnQBBAYABxAGcAAgB/AH0AGgApgEzATgCuwDSAK0BbADuABECtQFmACAC/QBZACQB8gHJATUCxQByAXwBiQA0AhABZgHIATICMwH1AW0AVwD6AWwBzAGGAOAAHAL6AG4BHgJTAY0B2QBfANwAnAFkAVQBfgDkAHQAiQEnAcsBvQDiAR8CJwIZAXEARwEWAYoBaAGzAZEAygHaAKsB6QBBAQkBoQEWAc4B8QGgAIEBagBzAJMA7AA4AgQChgFuAVYAkQDzAdgAvgEHAqgB8gBjArQA7QBQAOMBQQH1AYIBCgIDATQBUQDgAJsANAFtAacA5AGYAMIB3AHmAZABGAFCAVQBHQLZAD0CtgGKAXsAgQFAAlYBbAGwAK8BrwEzAnQBYgH9AAUB8gFhAcQApAHRAekBFAGKAAoBKgHjANkA9wEUAsYBGQIKAcUAyAEYAn8BWgCOAJ0BcwAJAjkCnQH2AJMAqQGRANgBOgK0AFUCdAEOAWcB9QGkAV8B4QFJAXEApQGMAOIB+gEYAsYByQC/AF8BHAL6ACABmwGKAcUB+wG5AXAAyAGTAP0BCAK9AJUBhgExApsBoQFeAqIBEgHsAQABjQFlAX0ApQGPAPAAcwEZAkUBaAAaAvgB5AHCARgBKwK+AGkAWwKfANAAuAGSASACmwGOABAC4gBjAa0BJAJAAYIAHQKAAY8ByQHfADABQQG3AbcANAFmAHQAKAIcAtgByAB7AKQAcgDtAc4BbgCoAT0B1wHiAQwBnAFdARkBFAHCAIUB9QAHAUUBywD6AYIBqgCVAS4BLwKmAFgAlwFoAXsAqwFjAeoA/wDFAOUAmQDQASMCRQCMABEBDgG2AGEB4QGgAIAAHgJHAawBzQETAW8B9wC0AfwBEwKvAIwBTADSAbEBoAG7APYBpQBWAQkC0ADRAWMBrABWAecA0AHPAeAA6QExAfQAHgEOAv0BKgH0AaIBlAC1AekBRwEJARoBBQGOAFkBEAF/AToBaQCbAeAAowFAAdQBIwKBAMcAsQH9AacA7wCtAdMAnQB5ABoBmwDTAFoAgAH4AB8CzwE5AooBJAFjAb0ApAGJAN4APAJpAE0BEgEyAZsAkAGFAaQBeQD1AYsAdAFXAAABxAE2AgMB2QGOAPkACgFrAJoBRQHsAKgBKQJvAAwBuQEPAdABQgHoAdcBVQAfAioCigEbAuwBFwH0AAoBnQHgALoBEAKXALMBjwFbAggBCALcAVwBIwGbAD8BgQDtAYYA",
          "dtype": "i2"
         },
         "yaxis": "y"
        }
       ],
       "layout": {
        "legend": {
         "tracegroupgap": 0
        },
        "template": {
         "data": {
          "bar": [
           {
            "error_x": {
             "color": "#2a3f5f"
            },
            "error_y": {
             "color": "#2a3f5f"
            },
            "marker": {
             "line": {
              "color": "#E5ECF6",
              "width": 0.5
             },
             "pattern": {
              "fillmode": "overlay",
              "size": 10,
              "solidity": 0.2
             }
            },
            "type": "bar"
           }
          ],
          "barpolar": [
           {
            "marker": {
             "line": {
              "color": "#E5ECF6",
              "width": 0.5
             },
             "pattern": {
              "fillmode": "overlay",
              "size": 10,
              "solidity": 0.2
             }
            },
            "type": "barpolar"
           }
          ],
          "carpet": [
           {
            "aaxis": {
             "endlinecolor": "#2a3f5f",
             "gridcolor": "white",
             "linecolor": "white",
             "minorgridcolor": "white",
             "startlinecolor": "#2a3f5f"
            },
            "baxis": {
             "endlinecolor": "#2a3f5f",
             "gridcolor": "white",
             "linecolor": "white",
             "minorgridcolor": "white",
             "startlinecolor": "#2a3f5f"
            },
            "type": "carpet"
           }
          ],
          "choropleth": [
           {
            "colorbar": {
             "outlinewidth": 0,
             "ticks": ""
            },
            "type": "choropleth"
           }
          ],
          "contour": [
           {
            "colorbar": {
             "outlinewidth": 0,
             "ticks": ""
            },
            "colorscale": [
             [
              0,
              "#0d0887"
             ],
             [
              0.1111111111111111,
              "#46039f"
             ],
             [
              0.2222222222222222,
              "#7201a8"
             ],
             [
              0.3333333333333333,
              "#9c179e"
             ],
             [
              0.4444444444444444,
              "#bd3786"
             ],
             [
              0.5555555555555556,
              "#d8576b"
             ],
             [
              0.6666666666666666,
              "#ed7953"
             ],
             [
              0.7777777777777778,
              "#fb9f3a"
             ],
             [
              0.8888888888888888,
              "#fdca26"
             ],
             [
              1,
              "#f0f921"
             ]
            ],
            "type": "contour"
           }
          ],
          "contourcarpet": [
           {
            "colorbar": {
             "outlinewidth": 0,
             "ticks": ""
            },
            "type": "contourcarpet"
           }
          ],
          "heatmap": [
           {
            "colorbar": {
             "outlinewidth": 0,
             "ticks": ""
            },
            "colorscale": [
             [
              0,
              "#0d0887"
             ],
             [
              0.1111111111111111,
              "#46039f"
             ],
             [
              0.2222222222222222,
              "#7201a8"
             ],
             [
              0.3333333333333333,
              "#9c179e"
             ],
             [
              0.4444444444444444,
              "#bd3786"
             ],
             [
              0.5555555555555556,
              "#d8576b"
             ],
             [
              0.6666666666666666,
              "#ed7953"
             ],
             [
              0.7777777777777778,
              "#fb9f3a"
             ],
             [
              0.8888888888888888,
              "#fdca26"
             ],
             [
              1,
              "#f0f921"
             ]
            ],
            "type": "heatmap"
           }
          ],
          "histogram": [
           {
            "marker": {
             "pattern": {
              "fillmode": "overlay",
              "size": 10,
              "solidity": 0.2
             }
            },
            "type": "histogram"
           }
          ],
          "histogram2d": [
           {
            "colorbar": {
             "outlinewidth": 0,
             "ticks": ""
            },
            "colorscale": [
             [
              0,
              "#0d0887"
             ],
             [
              0.1111111111111111,
              "#46039f"
             ],
             [
              0.2222222222222222,
              "#7201a8"
             ],
             [
              0.3333333333333333,
              "#9c179e"
             ],
             [
              0.4444444444444444,
              "#bd3786"
             ],
             [
              0.5555555555555556,
              "#d8576b"
             ],
             [
              0.6666666666666666,
              "#ed7953"
             ],
             [
              0.7777777777777778,
              "#fb9f3a"
             ],
             [
              0.8888888888888888,
              "#fdca26"
             ],
             [
              1,
              "#f0f921"
             ]
            ],
            "type": "histogram2d"
           }
          ],
          "histogram2dcontour": [
           {
            "colorbar": {
             "outlinewidth": 0,
             "ticks": ""
            },
            "colorscale": [
             [
              0,
              "#0d0887"
             ],
             [
              0.1111111111111111,
              "#46039f"
             ],
             [
              0.2222222222222222,
              "#7201a8"
             ],
             [
              0.3333333333333333,
              "#9c179e"
             ],
             [
              0.4444444444444444,
              "#bd3786"
             ],
             [
              0.5555555555555556,
              "#d8576b"
             ],
             [
              0.6666666666666666,
              "#ed7953"
             ],
             [
              0.7777777777777778,
              "#fb9f3a"
             ],
             [
              0.8888888888888888,
              "#fdca26"
             ],
             [
              1,
              "#f0f921"
             ]
            ],
            "type": "histogram2dcontour"
           }
          ],
          "mesh3d": [
           {
            "colorbar": {
             "outlinewidth": 0,
             "ticks": ""
            },
            "type": "mesh3d"
           }
          ],
          "parcoords": [
           {
            "line": {
             "colorbar": {
              "outlinewidth": 0,
              "ticks": ""
             }
            },
            "type": "parcoords"
           }
          ],
          "pie": [
           {
            "automargin": true,
            "type": "pie"
           }
          ],
          "scatter": [
           {
            "fillpattern": {
             "fillmode": "overlay",
             "size": 10,
             "solidity": 0.2
            },
            "type": "scatter"
           }
          ],
          "scatter3d": [
           {
            "line": {
             "colorbar": {
              "outlinewidth": 0,
              "ticks": ""
             }
            },
            "marker": {
             "colorbar": {
              "outlinewidth": 0,
              "ticks": ""
             }
            },
            "type": "scatter3d"
           }
          ],
          "scattercarpet": [
           {
            "marker": {
             "colorbar": {
              "outlinewidth": 0,
              "ticks": ""
             }
            },
            "type": "scattercarpet"
           }
          ],
          "scattergeo": [
           {
            "marker": {
             "colorbar": {
              "outlinewidth": 0,
              "ticks": ""
             }
            },
            "type": "scattergeo"
           }
          ],
          "scattergl": [
           {
            "marker": {
             "colorbar": {
              "outlinewidth": 0,
              "ticks": ""
             }
            },
            "type": "scattergl"
           }
          ],
          "scattermap": [
           {
            "marker": {
             "colorbar": {
              "outlinewidth": 0,
              "ticks": ""
             }
            },
            "type": "scattermap"
           }
          ],
          "scattermapbox": [
           {
            "marker": {
             "colorbar": {
              "outlinewidth": 0,
              "ticks": ""
             }
            },
            "type": "scattermapbox"
           }
          ],
          "scatterpolar": [
           {
            "marker": {
             "colorbar": {
              "outlinewidth": 0,
              "ticks": ""
             }
            },
            "type": "scatterpolar"
           }
          ],
          "scatterpolargl": [
           {
            "marker": {
             "colorbar": {
              "outlinewidth": 0,
              "ticks": ""
             }
            },
            "type": "scatterpolargl"
           }
          ],
          "scatterternary": [
           {
            "marker": {
             "colorbar": {
              "outlinewidth": 0,
              "ticks": ""
             }
            },
            "type": "scatterternary"
           }
          ],
          "surface": [
           {
            "colorbar": {
             "outlinewidth": 0,
             "ticks": ""
            },
            "colorscale": [
             [
              0,
              "#0d0887"
             ],
             [
              0.1111111111111111,
              "#46039f"
             ],
             [
              0.2222222222222222,
              "#7201a8"
             ],
             [
              0.3333333333333333,
              "#9c179e"
             ],
             [
              0.4444444444444444,
              "#bd3786"
             ],
             [
              0.5555555555555556,
              "#d8576b"
             ],
             [
              0.6666666666666666,
              "#ed7953"
             ],
             [
              0.7777777777777778,
              "#fb9f3a"
             ],
             [
              0.8888888888888888,
              "#fdca26"
             ],
             [
              1,
              "#f0f921"
             ]
            ],
            "type": "surface"
           }
          ],
          "table": [
           {
            "cells": {
             "fill": {
              "color": "#EBF0F8"
             },
             "line": {
              "color": "white"
             }
            },
            "header": {
             "fill": {
              "color": "#C8D4E3"
             },
             "line": {
              "color": "white"
             }
            },
            "type": "table"
           }
          ]
         },
         "layout": {
          "annotationdefaults": {
           "arrowcolor": "#2a3f5f",
           "arrowhead": 0,
           "arrowwidth": 1
          },
          "autotypenumbers": "strict",
          "coloraxis": {
           "colorbar": {
            "outlinewidth": 0,
            "ticks": ""
           }
          },
          "colorscale": {
           "diverging": [
            [
             0,
             "#8e0152"
            ],
            [
             0.1,
             "#c51b7d"
            ],
            [
             0.2,
             "#de77ae"
            ],
            [
             0.3,
             "#f1b6da"
            ],
            [
             0.4,
             "#fde0ef"
            ],
            [
             0.5,
             "#f7f7f7"
            ],
            [
             0.6,
             "#e6f5d0"
            ],
            [
             0.7,
             "#b8e186"
            ],
            [
             0.8,
             "#7fbc41"
            ],
            [
             0.9,
             "#4d9221"
            ],
            [
             1,
             "#276419"
            ]
           ],
           "sequential": [
            [
             0,
             "#0d0887"
            ],
            [
             0.1111111111111111,
             "#46039f"
            ],
            [
             0.2222222222222222,
             "#7201a8"
            ],
            [
             0.3333333333333333,
             "#9c179e"
            ],
            [
             0.4444444444444444,
             "#bd3786"
            ],
            [
             0.5555555555555556,
             "#d8576b"
            ],
            [
             0.6666666666666666,
             "#ed7953"
            ],
            [
             0.7777777777777778,
             "#fb9f3a"
            ],
            [
             0.8888888888888888,
             "#fdca26"
            ],
            [
             1,
             "#f0f921"
            ]
           ],
           "sequentialminus": [
            [
             0,
             "#0d0887"
            ],
            [
             0.1111111111111111,
             "#46039f"
            ],
            [
             0.2222222222222222,
             "#7201a8"
            ],
            [
             0.3333333333333333,
             "#9c179e"
            ],
            [
             0.4444444444444444,
             "#bd3786"
            ],
            [
             0.5555555555555556,
             "#d8576b"
            ],
            [
             0.6666666666666666,
             "#ed7953"
            ],
            [
             0.7777777777777778,
             "#fb9f3a"
            ],
            [
             0.8888888888888888,
             "#fdca26"
            ],
            [
             1,
             "#f0f921"
            ]
           ]
          },
          "colorway": [
           "#636efa",
           "#EF553B",
           "#00cc96",
           "#ab63fa",
           "#FFA15A",
           "#19d3f3",
           "#FF6692",
           "#B6E880",
           "#FF97FF",
           "#FECB52"
          ],
          "font": {
           "color": "#2a3f5f"
          },
          "geo": {
           "bgcolor": "white",
           "lakecolor": "white",
           "landcolor": "#E5ECF6",
           "showlakes": true,
           "showland": true,
           "subunitcolor": "white"
          },
          "hoverlabel": {
           "align": "left"
          },
          "hovermode": "closest",
          "mapbox": {
           "style": "light"
          },
          "paper_bgcolor": "white",
          "plot_bgcolor": "#E5ECF6",
          "polar": {
           "angularaxis": {
            "gridcolor": "white",
            "linecolor": "white",
            "ticks": ""
           },
           "bgcolor": "#E5ECF6",
           "radialaxis": {
            "gridcolor": "white",
            "linecolor": "white",
            "ticks": ""
           }
          },
          "scene": {
           "xaxis": {
            "backgroundcolor": "#E5ECF6",
            "gridcolor": "white",
            "gridwidth": 2,
            "linecolor": "white",
            "showbackground": true,
            "ticks": "",
            "zerolinecolor": "white"
           },
           "yaxis": {
            "backgroundcolor": "#E5ECF6",
            "gridcolor": "white",
            "gridwidth": 2,
            "linecolor": "white",
            "showbackground": true,
            "ticks": "",
            "zerolinecolor": "white"
           },
           "zaxis": {
            "backgroundcolor": "#E5ECF6",
            "gridcolor": "white",
            "gridwidth": 2,
            "linecolor": "white",
            "showbackground": true,
            "ticks": "",
            "zerolinecolor": "white"
           }
          },
          "shapedefaults": {
           "line": {
            "color": "#2a3f5f"
           }
          },
          "ternary": {
           "aaxis": {
            "gridcolor": "white",
            "linecolor": "white",
            "ticks": ""
           },
           "baxis": {
            "gridcolor": "white",
            "linecolor": "white",
            "ticks": ""
           },
           "bgcolor": "#E5ECF6",
           "caxis": {
            "gridcolor": "white",
            "linecolor": "white",
            "ticks": ""
           }
          },
          "title": {
           "x": 0.05
          },
          "xaxis": {
           "automargin": true,
           "gridcolor": "white",
           "linecolor": "white",
           "ticks": "",
           "title": {
            "standoff": 15
           },
           "zerolinecolor": "white",
           "zerolinewidth": 2
          },
          "yaxis": {
           "automargin": true,
           "gridcolor": "white",
           "linecolor": "white",
           "ticks": "",
           "title": {
            "standoff": 15
           },
           "zerolinecolor": "white",
           "zerolinewidth": 2
          }
         }
        },
        "title": {
         "text": "Rainfall vs Crop Yield"
        },
        "xaxis": {
         "anchor": "y",
         "domain": [
          0,
          1
         ],
         "title": {
          "text": "Rainfall (mm)"
         }
        },
        "yaxis": {
         "anchor": "x",
         "domain": [
          0,
          1
         ],
         "title": {
          "text": "Crop Yield (tons/ha)"
         }
        }
       }
      }
     },
     "metadata": {},
     "output_type": "display_data"
    },
    {
     "data": {
      "application/vnd.plotly.v1+json": {
       "config": {
        "plotlyServerURL": "https://plot.ly"
       },
       "data": [
        {
         "hovertemplate": "Soil Quality Index (1-10)=%{x}<br>Crop Yield (tons/ha)=%{y}<extra></extra>",
         "legendgroup": "",
         "marker": {
          "color": "#636efa",
          "opacity": 0.6,
          "symbol": "circle"
         },
         "mode": "markers",
         "name": "",
         "showlegend": false,
         "type": "scattergl",
         "x": {
          "bdata": "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",
          "dtype": "f8"
         },
         "xaxis": "x",
         "y": {
          "bdata": "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",
          "dtype": "i2"
         },
         "yaxis": "y"
        }
       ],
       "layout": {
        "legend": {
         "tracegroupgap": 0
        },
        "template": {
         "data": {
          "bar": [
           {
            "error_x": {
             "color": "#2a3f5f"
            },
            "error_y": {
             "color": "#2a3f5f"
            },
            "marker": {
             "line": {
              "color": "#E5ECF6",
              "width": 0.5
             },
             "pattern": {
              "fillmode": "overlay",
              "size": 10,
              "solidity": 0.2
             }
            },
            "type": "bar"
           }
          ],
          "barpolar": [
           {
            "marker": {
             "line": {
              "color": "#E5ECF6",
              "width": 0.5
             },
             "pattern": {
              "fillmode": "overlay",
              "size": 10,
              "solidity": 0.2
             }
            },
            "type": "barpolar"
           }
          ],
          "carpet": [
           {
            "aaxis": {
             "endlinecolor": "#2a3f5f",
             "gridcolor": "white",
             "linecolor": "white",
             "minorgridcolor": "white",
             "startlinecolor": "#2a3f5f"
            },
            "baxis": {
             "endlinecolor": "#2a3f5f",
             "gridcolor": "white",
             "linecolor": "white",
             "minorgridcolor": "white",
             "startlinecolor": "#2a3f5f"
            },
            "type": "carpet"
           }
          ],
          "choropleth": [
           {
            "colorbar": {
             "outlinewidth": 0,
             "ticks": ""
            },
            "type": "choropleth"
           }
          ],
          "contour": [
           {
            "colorbar": {
             "outlinewidth": 0,
             "ticks": ""
            },
            "colorscale": [
             [
              0,
              "#0d0887"
             ],
             [
              0.1111111111111111,
              "#46039f"
             ],
             [
              0.2222222222222222,
              "#7201a8"
             ],
             [
              0.3333333333333333,
              "#9c179e"
             ],
             [
              0.4444444444444444,
              "#bd3786"
             ],
             [
              0.5555555555555556,
              "#d8576b"
             ],
             [
              0.6666666666666666,
              "#ed7953"
             ],
             [
              0.7777777777777778,
              "#fb9f3a"
             ],
             [
              0.8888888888888888,
              "#fdca26"
             ],
             [
              1,
              "#f0f921"
             ]
            ],
            "type": "contour"
           }
          ],
          "contourcarpet": [
           {
            "colorbar": {
             "outlinewidth": 0,
             "ticks": ""
            },
            "type": "contourcarpet"
           }
          ],
          "heatmap": [
           {
            "colorbar": {
             "outlinewidth": 0,
             "ticks": ""
            },
            "colorscale": [
             [
              0,
              "#0d0887"
             ],
             [
              0.1111111111111111,
              "#46039f"
             ],
             [
              0.2222222222222222,
              "#7201a8"
             ],
             [
              0.3333333333333333,
              "#9c179e"
             ],
             [
              0.4444444444444444,
              "#bd3786"
             ],
             [
              0.5555555555555556,
              "#d8576b"
             ],
             [
              0.6666666666666666,
              "#ed7953"
             ],
             [
              0.7777777777777778,
              "#fb9f3a"
             ],
             [
              0.8888888888888888,
              "#fdca26"
             ],
             [
              1,
              "#f0f921"
             ]
            ],
            "type": "heatmap"
           }
          ],
          "histogram": [
           {
            "marker": {
             "pattern": {
              "fillmode": "overlay",
              "size": 10,
              "solidity": 0.2
             }
            },
            "type": "histogram"
           }
          ],
          "histogram2d": [
           {
            "colorbar": {
             "outlinewidth": 0,
             "ticks": ""
            },
            "colorscale": [
             [
              0,
              "#0d0887"
             ],
             [
              0.1111111111111111,
              "#46039f"
             ],
             [
              0.2222222222222222,
              "#7201a8"
             ],
             [
              0.3333333333333333,
              "#9c179e"
             ],
             [
              0.4444444444444444,
              "#bd3786"
             ],
             [
              0.5555555555555556,
              "#d8576b"
             ],
             [
              0.6666666666666666,
              "#ed7953"
             ],
             [
              0.7777777777777778,
              "#fb9f3a"
             ],
             [
              0.8888888888888888,
              "#fdca26"
             ],
             [
              1,
              "#f0f921"
             ]
            ],
            "type": "histogram2d"
           }
          ],
          "histogram2dcontour": [
           {
            "colorbar": {
             "outlinewidth": 0,
             "ticks": ""
            },
            "colorscale": [
             [
              0,
              "#0d0887"
             ],
             [
              0.1111111111111111,
              "#46039f"
             ],
             [
              0.2222222222222222,
              "#7201a8"
             ],
             [
              0.3333333333333333,
              "#9c179e"
             ],
             [
              0.4444444444444444,
              "#bd3786"
             ],
             [
              0.5555555555555556,
              "#d8576b"
             ],
             [
              0.6666666666666666,
              "#ed7953"
             ],
             [
              0.7777777777777778,
              "#fb9f3a"
             ],
             [
              0.8888888888888888,
              "#fdca26"
             ],
             [
              1,
              "#f0f921"
             ]
            ],
            "type": "histogram2dcontour"
           }
          ],
          "mesh3d": [
           {
            "colorbar": {
             "outlinewidth": 0,
             "ticks": ""
            },
            "type": "mesh3d"
           }
          ],
          "parcoords": [
           {
            "line": {
             "colorbar": {
              "outlinewidth": 0,
              "ticks": ""
             }
            },
            "type": "parcoords"
           }
          ],
          "pie": [
           {
            "automargin": true,
            "type": "pie"
           }
          ],
          "scatter": [
           {
            "fillpattern": {
             "fillmode": "overlay",
             "size": 10,
             "solidity": 0.2
            },
            "type": "scatter"
           }
          ],
          "scatter3d": [
           {
            "line": {
             "colorbar": {
              "outlinewidth": 0,
              "ticks": ""
             }
            },
            "marker": {
             "colorbar": {
              "outlinewidth": 0,
              "ticks": ""
             }
            },
            "type": "scatter3d"
           }
          ],
          "scattercarpet": [
           {
            "marker": {
             "colorbar": {
              "outlinewidth": 0,
              "ticks": ""
             }
            },
            "type": "scattercarpet"
           }
          ],
          "scattergeo": [
           {
            "marker": {
             "colorbar": {
              "outlinewidth": 0,
              "ticks": ""
             }
            },
            "type": "scattergeo"
           }
          ],
          "scattergl": [
           {
            "marker": {
             "colorbar": {
              "outlinewidth": 0,
              "ticks": ""
             }
            },
            "type": "scattergl"
           }
          ],
          "scattermap": [
           {
            "marker": {
             "colorbar": {
              "outlinewidth": 0,
              "ticks": ""
             }
            },
            "type": "scattermap"
           }
          ],
          "scattermapbox": [
           {
            "marker": {
             "colorbar": {
              "outlinewidth": 0,
              "ticks": ""
             }
            },
            "type": "scattermapbox"
           }
          ],
          "scatterpolar": [
           {
            "marker": {
             "colorbar": {
              "outlinewidth": 0,
              "ticks": ""
             }
            },
            "type": "scatterpolar"
           }
          ],
          "scatterpolargl": [
           {
            "marker": {
             "colorbar": {
              "outlinewidth": 0,
              "ticks": ""
             }
            },
            "type": "scatterpolargl"
           }
          ],
          "scatterternary": [
           {
            "marker": {
             "colorbar": {
              "outlinewidth": 0,
              "ticks": ""
             }
            },
            "type": "scatterternary"
           }
          ],
          "surface": [
           {
            "colorbar": {
             "outlinewidth": 0,
             "ticks": ""
            },
            "colorscale": [
             [
              0,
              "#0d0887"
             ],
             [
              0.1111111111111111,
              "#46039f"
             ],
             [
              0.2222222222222222,
              "#7201a8"
             ],
             [
              0.3333333333333333,
              "#9c179e"
             ],
             [
              0.4444444444444444,
              "#bd3786"
             ],
             [
              0.5555555555555556,
              "#d8576b"
             ],
             [
              0.6666666666666666,
              "#ed7953"
             ],
             [
              0.7777777777777778,
              "#fb9f3a"
             ],
             [
              0.8888888888888888,
              "#fdca26"
             ],
             [
              1,
              "#f0f921"
             ]
            ],
            "type": "surface"
           }
          ],
          "table": [
           {
            "cells": {
             "fill": {
              "color": "#EBF0F8"
             },
             "line": {
              "color": "white"
             }
            },
            "header": {
             "fill": {
              "color": "#C8D4E3"
             },
             "line": {
              "color": "white"
             }
            },
            "type": "table"
           }
          ]
         },
         "layout": {
          "annotationdefaults": {
           "arrowcolor": "#2a3f5f",
           "arrowhead": 0,
           "arrowwidth": 1
          },
          "autotypenumbers": "strict",
          "coloraxis": {
           "colorbar": {
            "outlinewidth": 0,
            "ticks": ""
           }
          },
          "colorscale": {
           "diverging": [
            [
             0,
             "#8e0152"
            ],
            [
             0.1,
             "#c51b7d"
            ],
            [
             0.2,
             "#de77ae"
            ],
            [
             0.3,
             "#f1b6da"
            ],
            [
             0.4,
             "#fde0ef"
            ],
            [
             0.5,
             "#f7f7f7"
            ],
            [
             0.6,
             "#e6f5d0"
            ],
            [
             0.7,
             "#b8e186"
            ],
            [
             0.8,
             "#7fbc41"
            ],
            [
             0.9,
             "#4d9221"
            ],
            [
             1,
             "#276419"
            ]
           ],
           "sequential": [
            [
             0,
             "#0d0887"
            ],
            [
             0.1111111111111111,
             "#46039f"
            ],
            [
             0.2222222222222222,
             "#7201a8"
            ],
            [
             0.3333333333333333,
             "#9c179e"
            ],
            [
             0.4444444444444444,
             "#bd3786"
            ],
            [
             0.5555555555555556,
             "#d8576b"
            ],
            [
             0.6666666666666666,
             "#ed7953"
            ],
            [
             0.7777777777777778,
             "#fb9f3a"
            ],
            [
             0.8888888888888888,
             "#fdca26"
            ],
            [
             1,
             "#f0f921"
            ]
           ],
           "sequentialminus": [
            [
             0,
             "#0d0887"
            ],
            [
             0.1111111111111111,
             "#46039f"
            ],
            [
             0.2222222222222222,
             "#7201a8"
            ],
            [
             0.3333333333333333,
             "#9c179e"
            ],
            [
             0.4444444444444444,
             "#bd3786"
            ],
            [
             0.5555555555555556,
             "#d8576b"
            ],
            [
             0.6666666666666666,
             "#ed7953"
            ],
            [
             0.7777777777777778,
             "#fb9f3a"
            ],
            [
             0.8888888888888888,
             "#fdca26"
            ],
            [
             1,
             "#f0f921"
            ]
           ]
          },
          "colorway": [
           "#636efa",
           "#EF553B",
           "#00cc96",
           "#ab63fa",
           "#FFA15A",
           "#19d3f3",
           "#FF6692",
           "#B6E880",
           "#FF97FF",
           "#FECB52"
          ],
          "font": {
           "color": "#2a3f5f"
          },
          "geo": {
           "bgcolor": "white",
           "lakecolor": "white",
           "landcolor": "#E5ECF6",
           "showlakes": true,
           "showland": true,
           "subunitcolor": "white"
          },
          "hoverlabel": {
           "align": "left"
          },
          "hovermode": "closest",
          "mapbox": {
           "style": "light"
          },
          "paper_bgcolor": "white",
          "plot_bgcolor": "#E5ECF6",
          "polar": {
           "angularaxis": {
            "gridcolor": "white",
            "linecolor": "white",
            "ticks": ""
           },
           "bgcolor": "#E5ECF6",
           "radialaxis": {
            "gridcolor": "white",
            "linecolor": "white",
            "ticks": ""
           }
          },
          "scene": {
           "xaxis": {
            "backgroundcolor": "#E5ECF6",
            "gridcolor": "white",
            "gridwidth": 2,
            "linecolor": "white",
            "showbackground": true,
            "ticks": "",
            "zerolinecolor": "white"
           },
           "yaxis": {
            "backgroundcolor": "#E5ECF6",
            "gridcolor": "white",
            "gridwidth": 2,
            "linecolor": "white",
            "showbackground": true,
            "ticks": "",
            "zerolinecolor": "white"
           },
           "zaxis": {
            "backgroundcolor": "#E5ECF6",
            "gridcolor": "white",
            "gridwidth": 2,
            "linecolor": "white",
            "showbackground": true,
            "ticks": "",
            "zerolinecolor": "white"
           }
          },
          "shapedefaults": {
           "line": {
            "color": "#2a3f5f"
           }
          },
          "ternary": {
           "aaxis": {
            "gridcolor": "white",
            "linecolor": "white",
            "ticks": ""
           },
           "baxis": {
            "gridcolor": "white",
            "linecolor": "white",
            "ticks": ""
           },
           "bgcolor": "#E5ECF6",
           "caxis": {
            "gridcolor": "white",
            "linecolor": "white",
            "ticks": ""
           }
          },
          "title": {
           "x": 0.05
          },
          "xaxis": {
           "automargin": true,
           "gridcolor": "white",
           "linecolor": "white",
           "ticks": "",
           "title": {
            "standoff": 15
           },
           "zerolinecolor": "white",
           "zerolinewidth": 2
          },
          "yaxis": {
           "automargin": true,
           "gridcolor": "white",
           "linecolor": "white",
           "ticks": "",
           "title": {
            "standoff": 15
           },
           "zerolinecolor": "white",
           "zerolinewidth": 2
          }
         }
        },
        "title": {
         "text": "Soil Quality Index vs Crop Yield"
        },
        "xaxis": {
         "anchor": "y",
         "domain": [
          0,
          1
         ],
         "title": {
          "text": "Soil Quality Index (1-10)"
         }
        },
        "yaxis": {
         "anchor": "x",
         "domain": [
          0,
          1
         ],
         "title": {
          "text": "Crop Yield (tons/ha)"
         }
        }
       }
      }
     },
     "metadata": {},
     "output_type": "display_data"
    },
    {
     "data": {
      "application/vnd.plotly.v1+json": {
       "config": {
        "plotlyServerURL": "https://plot.ly"
       },
       "data": [
        {
         "hovertemplate": "Farm Size (hectares)=%{x}<br>Crop Yield (tons/ha)=%{y}<extra></extra>",
         "legendgroup": "",
         "marker": {
          "color": "#636efa",
          "opacity": 0.6,
          "symbol": "circle"
         },
         "mode": "markers",
         "name": "",
         "showlegend": false,
         "type": "scattergl",
         "x": {
          "bdata": "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",
          "dtype": "i2"
         },
         "xaxis": "x",
         "y": {
          "bdata": "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",
          "dtype": "i2"
         },
         "yaxis": "y"
        }
       ],
       "layout": {
        "legend": {
         "tracegroupgap": 0
        },
        "template": {
         "data": {
          "bar": [
           {
            "error_x": {
             "color": "#2a3f5f"
            },
            "error_y": {
             "color": "#2a3f5f"
            },
            "marker": {
             "line": {
              "color": "#E5ECF6",
              "width": 0.5
             },
             "pattern": {
              "fillmode": "overlay",
              "size": 10,
              "solidity": 0.2
             }
            },
            "type": "bar"
           }
          ],
          "barpolar": [
           {
            "marker": {
             "line": {
              "color": "#E5ECF6",
              "width": 0.5
             },
             "pattern": {
              "fillmode": "overlay",
              "size": 10,
              "solidity": 0.2
             }
            },
            "type": "barpolar"
           }
          ],
          "carpet": [
           {
            "aaxis": {
             "endlinecolor": "#2a3f5f",
             "gridcolor": "white",
             "linecolor": "white",
             "minorgridcolor": "white",
             "startlinecolor": "#2a3f5f"
            },
            "baxis": {
             "endlinecolor": "#2a3f5f",
             "gridcolor": "white",
             "linecolor": "white",
             "minorgridcolor": "white",
             "startlinecolor": "#2a3f5f"
            },
            "type": "carpet"
           }
          ],
          "choropleth": [
           {
            "colorbar": {
             "outlinewidth": 0,
             "ticks": ""
            },
            "type": "choropleth"
           }
          ],
          "contour": [
           {
            "colorbar": {
             "outlinewidth": 0,
             "ticks": ""
            },
            "colorscale": [
             [
              0,
              "#0d0887"
             ],
             [
              0.1111111111111111,
              "#46039f"
             ],
             [
              0.2222222222222222,
              "#7201a8"
             ],
             [
              0.3333333333333333,
              "#9c179e"
             ],
             [
              0.4444444444444444,
              "#bd3786"
             ],
             [
              0.5555555555555556,
              "#d8576b"
             ],
             [
              0.6666666666666666,
              "#ed7953"
             ],
             [
              0.7777777777777778,
              "#fb9f3a"
             ],
             [
              0.8888888888888888,
              "#fdca26"
             ],
             [
              1,
              "#f0f921"
             ]
            ],
            "type": "contour"
           }
          ],
          "contourcarpet": [
           {
            "colorbar": {
             "outlinewidth": 0,
             "ticks": ""
            },
            "type": "contourcarpet"
           }
          ],
          "heatmap": [
           {
            "colorbar": {
             "outlinewidth": 0,
             "ticks": ""
            },
            "colorscale": [
             [
              0,
              "#0d0887"
             ],
             [
              0.1111111111111111,
              "#46039f"
             ],
             [
              0.2222222222222222,
              "#7201a8"
             ],
             [
              0.3333333333333333,
              "#9c179e"
             ],
             [
              0.4444444444444444,
              "#bd3786"
             ],
             [
              0.5555555555555556,
              "#d8576b"
             ],
             [
              0.6666666666666666,
              "#ed7953"
             ],
             [
              0.7777777777777778,
              "#fb9f3a"
             ],
             [
              0.8888888888888888,
              "#fdca26"
             ],
             [
              1,
              "#f0f921"
             ]
            ],
            "type": "heatmap"
           }
          ],
          "histogram": [
           {
            "marker": {
             "pattern": {
              "fillmode": "overlay",
              "size": 10,
              "solidity": 0.2
             }
            },
            "type": "histogram"
           }
          ],
          "histogram2d": [
           {
            "colorbar": {
             "outlinewidth": 0,
             "ticks": ""
            },
            "colorscale": [
             [
              0,
              "#0d0887"
             ],
             [
              0.1111111111111111,
              "#46039f"
             ],
             [
              0.2222222222222222,
              "#7201a8"
             ],
             [
              0.3333333333333333,
              "#9c179e"
             ],
             [
              0.4444444444444444,
              "#bd3786"
             ],
             [
              0.5555555555555556,
              "#d8576b"
             ],
             [
              0.6666666666666666,
              "#ed7953"
             ],
             [
              0.7777777777777778,
              "#fb9f3a"
             ],
             [
              0.8888888888888888,
              "#fdca26"
             ],
             [
              1,
              "#f0f921"
             ]
            ],
            "type": "histogram2d"
           }
          ],
          "histogram2dcontour": [
           {
            "colorbar": {
             "outlinewidth": 0,
             "ticks": ""
            },
            "colorscale": [
             [
              0,
              "#0d0887"
             ],
             [
              0.1111111111111111,
              "#46039f"
             ],
             [
              0.2222222222222222,
              "#7201a8"
             ],
             [
              0.3333333333333333,
              "#9c179e"
             ],
             [
              0.4444444444444444,
              "#bd3786"
             ],
             [
              0.5555555555555556,
              "#d8576b"
             ],
             [
              0.6666666666666666,
              "#ed7953"
             ],
             [
              0.7777777777777778,
              "#fb9f3a"
             ],
             [
              0.8888888888888888,
              "#fdca26"
             ],
             [
              1,
              "#f0f921"
             ]
            ],
            "type": "histogram2dcontour"
           }
          ],
          "mesh3d": [
           {
            "colorbar": {
             "outlinewidth": 0,
             "ticks": ""
            },
            "type": "mesh3d"
           }
          ],
          "parcoords": [
           {
            "line": {
             "colorbar": {
              "outlinewidth": 0,
              "ticks": ""
             }
            },
            "type": "parcoords"
           }
          ],
          "pie": [
           {
            "automargin": true,
            "type": "pie"
           }
          ],
          "scatter": [
           {
            "fillpattern": {
             "fillmode": "overlay",
             "size": 10,
             "solidity": 0.2
            },
            "type": "scatter"
           }
          ],
          "scatter3d": [
           {
            "line": {
             "colorbar": {
              "outlinewidth": 0,
              "ticks": ""
             }
            },
            "marker": {
             "colorbar": {
              "outlinewidth": 0,
              "ticks": ""
             }
            },
            "type": "scatter3d"
           }
          ],
          "scattercarpet": [
           {
            "marker": {
             "colorbar": {
              "outlinewidth": 0,
              "ticks": ""
             }
            },
            "type": "scattercarpet"
           }
          ],
          "scattergeo": [
           {
            "marker": {
             "colorbar": {
              "outlinewidth": 0,
              "ticks": ""
             }
            },
            "type": "scattergeo"
           }
          ],
          "scattergl": [
           {
            "marker": {
             "colorbar": {
              "outlinewidth": 0,
              "ticks": ""
             }
            },
            "type": "scattergl"
           }
          ],
          "scattermap": [
           {
            "marker": {
             "colorbar": {
              "outlinewidth": 0,
              "ticks": ""
             }
            },
            "type": "scattermap"
           }
          ],
          "scattermapbox": [
           {
            "marker": {
             "colorbar": {
              "outlinewidth": 0,
              "ticks": ""
             }
            },
            "type": "scattermapbox"
           }
          ],
          "scatterpolar": [
           {
            "marker": {
             "colorbar": {
              "outlinewidth": 0,
              "ticks": ""
             }
            },
            "type": "scatterpolar"
           }
          ],
          "scatterpolargl": [
           {
            "marker": {
             "colorbar": {
              "outlinewidth": 0,
              "ticks": ""
             }
            },
            "type": "scatterpolargl"
           }
          ],
          "scatterternary": [
           {
            "marker": {
             "colorbar": {
              "outlinewidth": 0,
              "ticks": ""
             }
            },
            "type": "scatterternary"
           }
          ],
          "surface": [
           {
            "colorbar": {
             "outlinewidth": 0,
             "ticks": ""
            },
            "colorscale": [
             [
              0,
              "#0d0887"
             ],
             [
              0.1111111111111111,
              "#46039f"
             ],
             [
              0.2222222222222222,
              "#7201a8"
             ],
             [
              0.3333333333333333,
              "#9c179e"
             ],
             [
              0.4444444444444444,
              "#bd3786"
             ],
             [
              0.5555555555555556,
              "#d8576b"
             ],
             [
              0.6666666666666666,
              "#ed7953"
             ],
             [
              0.7777777777777778,
              "#fb9f3a"
             ],
             [
              0.8888888888888888,
              "#fdca26"
             ],
             [
              1,
              "#f0f921"
             ]
            ],
            "type": "surface"
           }
          ],
          "table": [
           {
            "cells": {
             "fill": {
              "color": "#EBF0F8"
             },
             "line": {
              "color": "white"
             }
            },
            "header": {
             "fill": {
              "color": "#C8D4E3"
             },
             "line": {
              "color": "white"
             }
            },
            "type": "table"
           }
          ]
         },
         "layout": {
          "annotationdefaults": {
           "arrowcolor": "#2a3f5f",
           "arrowhead": 0,
           "arrowwidth": 1
          },
          "autotypenumbers": "strict",
          "coloraxis": {
           "colorbar": {
            "outlinewidth": 0,
            "ticks": ""
           }
          },
          "colorscale": {
           "diverging": [
            [
             0,
             "#8e0152"
            ],
            [
             0.1,
             "#c51b7d"
            ],
            [
             0.2,
             "#de77ae"
            ],
            [
             0.3,
             "#f1b6da"
            ],
            [
             0.4,
             "#fde0ef"
            ],
            [
             0.5,
             "#f7f7f7"
            ],
            [
             0.6,
             "#e6f5d0"
            ],
            [
             0.7,
             "#b8e186"
            ],
            [
             0.8,
             "#7fbc41"
            ],
            [
             0.9,
             "#4d9221"
            ],
            [
             1,
             "#276419"
            ]
           ],
           "sequential": [
            [
             0,
             "#0d0887"
            ],
            [
             0.1111111111111111,
             "#46039f"
            ],
            [
             0.2222222222222222,
             "#7201a8"
            ],
            [
             0.3333333333333333,
             "#9c179e"
            ],
            [
             0.4444444444444444,
             "#bd3786"
            ],
            [
             0.5555555555555556,
             "#d8576b"
            ],
            [
             0.6666666666666666,
             "#ed7953"
            ],
            [
             0.7777777777777778,
             "#fb9f3a"
            ],
            [
             0.8888888888888888,
             "#fdca26"
            ],
            [
             1,
             "#f0f921"
            ]
           ],
           "sequentialminus": [
            [
             0,
             "#0d0887"
            ],
            [
             0.1111111111111111,
             "#46039f"
            ],
            [
             0.2222222222222222,
             "#7201a8"
            ],
            [
             0.3333333333333333,
             "#9c179e"
            ],
            [
             0.4444444444444444,
             "#bd3786"
            ],
            [
             0.5555555555555556,
             "#d8576b"
            ],
            [
             0.6666666666666666,
             "#ed7953"
            ],
            [
             0.7777777777777778,
             "#fb9f3a"
            ],
            [
             0.8888888888888888,
             "#fdca26"
            ],
            [
             1,
             "#f0f921"
            ]
           ]
          },
          "colorway": [
           "#636efa",
           "#EF553B",
           "#00cc96",
           "#ab63fa",
           "#FFA15A",
           "#19d3f3",
           "#FF6692",
           "#B6E880",
           "#FF97FF",
           "#FECB52"
          ],
          "font": {
           "color": "#2a3f5f"
          },
          "geo": {
           "bgcolor": "white",
           "lakecolor": "white",
           "landcolor": "#E5ECF6",
           "showlakes": true,
           "showland": true,
           "subunitcolor": "white"
          },
          "hoverlabel": {
           "align": "left"
          },
          "hovermode": "closest",
          "mapbox": {
           "style": "light"
          },
          "paper_bgcolor": "white",
          "plot_bgcolor": "#E5ECF6",
          "polar": {
           "angularaxis": {
            "gridcolor": "white",
            "linecolor": "white",
            "ticks": ""
           },
           "bgcolor": "#E5ECF6",
           "radialaxis": {
            "gridcolor": "white",
            "linecolor": "white",
            "ticks": ""
           }
          },
          "scene": {
           "xaxis": {
            "backgroundcolor": "#E5ECF6",
            "gridcolor": "white",
            "gridwidth": 2,
            "linecolor": "white",
            "showbackground": true,
            "ticks": "",
            "zerolinecolor": "white"
           },
           "yaxis": {
            "backgroundcolor": "#E5ECF6",
            "gridcolor": "white",
            "gridwidth": 2,
            "linecolor": "white",
            "showbackground": true,
            "ticks": "",
            "zerolinecolor": "white"
           },
           "zaxis": {
            "backgroundcolor": "#E5ECF6",
            "gridcolor": "white",
            "gridwidth": 2,
            "linecolor": "white",
            "showbackground": true,
            "ticks": "",
            "zerolinecolor": "white"
           }
          },
          "shapedefaults": {
           "line": {
            "color": "#2a3f5f"
           }
          },
          "ternary": {
           "aaxis": {
            "gridcolor": "white",
            "linecolor": "white",
            "ticks": ""
           },
           "baxis": {
            "gridcolor": "white",
            "linecolor": "white",
            "ticks": ""
           },
           "bgcolor": "#E5ECF6",
           "caxis": {
            "gridcolor": "white",
            "linecolor": "white",
            "ticks": ""
           }
          },
          "title": {
           "x": 0.05
          },
          "xaxis": {
           "automargin": true,
           "gridcolor": "white",
           "linecolor": "white",
           "ticks": "",
           "title": {
            "standoff": 15
           },
           "zerolinecolor": "white",
           "zerolinewidth": 2
          },
          "yaxis": {
           "automargin": true,
           "gridcolor": "white",
           "linecolor": "white",
           "ticks": "",
           "title": {
            "standoff": 15
           },
           "zerolinecolor": "white",
           "zerolinewidth": 2
          }
         }
        },
        "title": {
         "text": "Farm Size vs Crop Yield"
        },
        "xaxis": {
         "anchor": "y",
         "domain": [
          0,
          1
         ],
         "title": {
          "text": "Farm Size (hectares)"
         }
        },
        "yaxis": {
         "anchor": "x",
         "domain": [
          0,
          1
         ],
         "title": {
          "text": "Crop Yield (tons/ha)"
         }
        }
       }
      }
     },
     "metadata": {},
     "output_type": "display_data"
    },
    {
     "data": {
      "application/vnd.plotly.v1+json": {
       "config": {
        "plotlyServerURL": "https://plot.ly"
       },
       "data": [
        {
         "hovertemplate": "Sunlight (hours)=%{x}<br>Crop Yield (tons/ha)=%{y}<extra></extra>",
         "legendgroup": "",
         "marker": {
          "color": "#636efa",
          "opacity": 0.6,
          "symbol": "circle"
         },
         "mode": "markers",
         "name": "",
         "showlegend": false,
         "type": "scattergl",
         "x": {
          "bdata": "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",
          "dtype": "f8"
         },
         "xaxis": "x",
         "y": {
          "bdata": "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",
          "dtype": "i2"
         },
         "yaxis": "y"
        }
       ],
       "layout": {
        "legend": {
         "tracegroupgap": 0
        },
        "template": {
         "data": {
          "bar": [
           {
            "error_x": {
             "color": "#2a3f5f"
            },
            "error_y": {
             "color": "#2a3f5f"
            },
            "marker": {
             "line": {
              "color": "#E5ECF6",
              "width": 0.5
             },
             "pattern": {
              "fillmode": "overlay",
              "size": 10,
              "solidity": 0.2
             }
            },
            "type": "bar"
           }
          ],
          "barpolar": [
           {
            "marker": {
             "line": {
              "color": "#E5ECF6",
              "width": 0.5
             },
             "pattern": {
              "fillmode": "overlay",
              "size": 10,
              "solidity": 0.2
             }
            },
            "type": "barpolar"
           }
          ],
          "carpet": [
           {
            "aaxis": {
             "endlinecolor": "#2a3f5f",
             "gridcolor": "white",
             "linecolor": "white",
             "minorgridcolor": "white",
             "startlinecolor": "#2a3f5f"
            },
            "baxis": {
             "endlinecolor": "#2a3f5f",
             "gridcolor": "white",
             "linecolor": "white",
             "minorgridcolor": "white",
             "startlinecolor": "#2a3f5f"
            },
            "type": "carpet"
           }
          ],
          "choropleth": [
           {
            "colorbar": {
             "outlinewidth": 0,
             "ticks": ""
            },
            "type": "choropleth"
           }
          ],
          "contour": [
           {
            "colorbar": {
             "outlinewidth": 0,
             "ticks": ""
            },
            "colorscale": [
             [
              0,
              "#0d0887"
             ],
             [
              0.1111111111111111,
              "#46039f"
             ],
             [
              0.2222222222222222,
              "#7201a8"
             ],
             [
              0.3333333333333333,
              "#9c179e"
             ],
             [
              0.4444444444444444,
              "#bd3786"
             ],
             [
              0.5555555555555556,
              "#d8576b"
             ],
             [
              0.6666666666666666,
              "#ed7953"
             ],
             [
              0.7777777777777778,
              "#fb9f3a"
             ],
             [
              0.8888888888888888,
              "#fdca26"
             ],
             [
              1,
              "#f0f921"
             ]
            ],
            "type": "contour"
           }
          ],
          "contourcarpet": [
           {
            "colorbar": {
             "outlinewidth": 0,
             "ticks": ""
            },
            "type": "contourcarpet"
           }
          ],
          "heatmap": [
           {
            "colorbar": {
             "outlinewidth": 0,
             "ticks": ""
            },
            "colorscale": [
             [
              0,
              "#0d0887"
             ],
             [
              0.1111111111111111,
              "#46039f"
             ],
             [
              0.2222222222222222,
              "#7201a8"
             ],
             [
              0.3333333333333333,
              "#9c179e"
             ],
             [
              0.4444444444444444,
              "#bd3786"
             ],
             [
              0.5555555555555556,
              "#d8576b"
             ],
             [
              0.6666666666666666,
              "#ed7953"
             ],
             [
              0.7777777777777778,
              "#fb9f3a"
             ],
             [
              0.8888888888888888,
              "#fdca26"
             ],
             [
              1,
              "#f0f921"
             ]
            ],
            "type": "heatmap"
           }
          ],
          "histogram": [
           {
            "marker": {
             "pattern": {
              "fillmode": "overlay",
              "size": 10,
              "solidity": 0.2
             }
            },
            "type": "histogram"
           }
          ],
          "histogram2d": [
           {
            "colorbar": {
             "outlinewidth": 0,
             "ticks": ""
            },
            "colorscale": [
             [
              0,
              "#0d0887"
             ],
             [
              0.1111111111111111,
              "#46039f"
             ],
             [
              0.2222222222222222,
              "#7201a8"
             ],
             [
              0.3333333333333333,
              "#9c179e"
             ],
             [
              0.4444444444444444,
              "#bd3786"
             ],
             [
              0.5555555555555556,
              "#d8576b"
             ],
             [
              0.6666666666666666,
              "#ed7953"
             ],
             [
              0.7777777777777778,
              "#fb9f3a"
             ],
             [
              0.8888888888888888,
              "#fdca26"
             ],
             [
              1,
              "#f0f921"
             ]
            ],
            "type": "histogram2d"
           }
          ],
          "histogram2dcontour": [
           {
            "colorbar": {
             "outlinewidth": 0,
             "ticks": ""
            },
            "colorscale": [
             [
              0,
              "#0d0887"
             ],
             [
              0.1111111111111111,
              "#46039f"
             ],
             [
              0.2222222222222222,
              "#7201a8"
             ],
             [
              0.3333333333333333,
              "#9c179e"
             ],
             [
              0.4444444444444444,
              "#bd3786"
             ],
             [
              0.5555555555555556,
              "#d8576b"
             ],
             [
              0.6666666666666666,
              "#ed7953"
             ],
             [
              0.7777777777777778,
              "#fb9f3a"
             ],
             [
              0.8888888888888888,
              "#fdca26"
             ],
             [
              1,
              "#f0f921"
             ]
            ],
            "type": "histogram2dcontour"
           }
          ],
          "mesh3d": [
           {
            "colorbar": {
             "outlinewidth": 0,
             "ticks": ""
            },
            "type": "mesh3d"
           }
          ],
          "parcoords": [
           {
            "line": {
             "colorbar": {
              "outlinewidth": 0,
              "ticks": ""
             }
            },
            "type": "parcoords"
           }
          ],
          "pie": [
           {
            "automargin": true,
            "type": "pie"
           }
          ],
          "scatter": [
           {
            "fillpattern": {
             "fillmode": "overlay",
             "size": 10,
             "solidity": 0.2
            },
            "type": "scatter"
           }
          ],
          "scatter3d": [
           {
            "line": {
             "colorbar": {
              "outlinewidth": 0,
              "ticks": ""
             }
            },
            "marker": {
             "colorbar": {
              "outlinewidth": 0,
              "ticks": ""
             }
            },
            "type": "scatter3d"
           }
          ],
          "scattercarpet": [
           {
            "marker": {
             "colorbar": {
              "outlinewidth": 0,
              "ticks": ""
             }
            },
            "type": "scattercarpet"
           }
          ],
          "scattergeo": [
           {
            "marker": {
             "colorbar": {
              "outlinewidth": 0,
              "ticks": ""
             }
            },
            "type": "scattergeo"
           }
          ],
          "scattergl": [
           {
            "marker": {
             "colorbar": {
              "outlinewidth": 0,
              "ticks": ""
             }
            },
            "type": "scattergl"
           }
          ],
          "scattermap": [
           {
            "marker": {
             "colorbar": {
              "outlinewidth": 0,
              "ticks": ""
             }
            },
            "type": "scattermap"
           }
          ],
          "scattermapbox": [
           {
            "marker": {
             "colorbar": {
              "outlinewidth": 0,
              "ticks": ""
             }
            },
            "type": "scattermapbox"
           }
          ],
          "scatterpolar": [
           {
            "marker": {
             "colorbar": {
              "outlinewidth": 0,
              "ticks": ""
             }
            },
            "type": "scatterpolar"
           }
          ],
          "scatterpolargl": [
           {
            "marker": {
             "colorbar": {
              "outlinewidth": 0,
              "ticks": ""
             }
            },
            "type": "scatterpolargl"
           }
          ],
          "scatterternary": [
           {
            "marker": {
             "colorbar": {
              "outlinewidth": 0,
              "ticks": ""
             }
            },
            "type": "scatterternary"
           }
          ],
          "surface": [
           {
            "colorbar": {
             "outlinewidth": 0,
             "ticks": ""
            },
            "colorscale": [
             [
              0,
              "#0d0887"
             ],
             [
              0.1111111111111111,
              "#46039f"
             ],
             [
              0.2222222222222222,
              "#7201a8"
             ],
             [
              0.3333333333333333,
              "#9c179e"
             ],
             [
              0.4444444444444444,
              "#bd3786"
             ],
             [
              0.5555555555555556,
              "#d8576b"
             ],
             [
              0.6666666666666666,
              "#ed7953"
             ],
             [
              0.7777777777777778,
              "#fb9f3a"
             ],
             [
              0.8888888888888888,
              "#fdca26"
             ],
             [
              1,
              "#f0f921"
             ]
            ],
            "type": "surface"
           }
          ],
          "table": [
           {
            "cells": {
             "fill": {
              "color": "#EBF0F8"
             },
             "line": {
              "color": "white"
             }
            },
            "header": {
             "fill": {
              "color": "#C8D4E3"
             },
             "line": {
              "color": "white"
             }
            },
            "type": "table"
           }
          ]
         },
         "layout": {
          "annotationdefaults": {
           "arrowcolor": "#2a3f5f",
           "arrowhead": 0,
           "arrowwidth": 1
          },
          "autotypenumbers": "strict",
          "coloraxis": {
           "colorbar": {
            "outlinewidth": 0,
            "ticks": ""
           }
          },
          "colorscale": {
           "diverging": [
            [
             0,
             "#8e0152"
            ],
            [
             0.1,
             "#c51b7d"
            ],
            [
             0.2,
             "#de77ae"
            ],
            [
             0.3,
             "#f1b6da"
            ],
            [
             0.4,
             "#fde0ef"
            ],
            [
             0.5,
             "#f7f7f7"
            ],
            [
             0.6,
             "#e6f5d0"
            ],
            [
             0.7,
             "#b8e186"
            ],
            [
             0.8,
             "#7fbc41"
            ],
            [
             0.9,
             "#4d9221"
            ],
            [
             1,
             "#276419"
            ]
           ],
           "sequential": [
            [
             0,
             "#0d0887"
            ],
            [
             0.1111111111111111,
             "#46039f"
            ],
            [
             0.2222222222222222,
             "#7201a8"
            ],
            [
             0.3333333333333333,
             "#9c179e"
            ],
            [
             0.4444444444444444,
             "#bd3786"
            ],
            [
             0.5555555555555556,
             "#d8576b"
            ],
            [
             0.6666666666666666,
             "#ed7953"
            ],
            [
             0.7777777777777778,
             "#fb9f3a"
            ],
            [
             0.8888888888888888,
             "#fdca26"
            ],
            [
             1,
             "#f0f921"
            ]
           ],
           "sequentialminus": [
            [
             0,
             "#0d0887"
            ],
            [
             0.1111111111111111,
             "#46039f"
            ],
            [
             0.2222222222222222,
             "#7201a8"
            ],
            [
             0.3333333333333333,
             "#9c179e"
            ],
            [
             0.4444444444444444,
             "#bd3786"
            ],
            [
             0.5555555555555556,
             "#d8576b"
            ],
            [
             0.6666666666666666,
             "#ed7953"
            ],
            [
             0.7777777777777778,
             "#fb9f3a"
            ],
            [
             0.8888888888888888,
             "#fdca26"
            ],
            [
             1,
             "#f0f921"
            ]
           ]
          },
          "colorway": [
           "#636efa",
           "#EF553B",
           "#00cc96",
           "#ab63fa",
           "#FFA15A",
           "#19d3f3",
           "#FF6692",
           "#B6E880",
           "#FF97FF",
           "#FECB52"
          ],
          "font": {
           "color": "#2a3f5f"
          },
          "geo": {
           "bgcolor": "white",
           "lakecolor": "white",
           "landcolor": "#E5ECF6",
           "showlakes": true,
           "showland": true,
           "subunitcolor": "white"
          },
          "hoverlabel": {
           "align": "left"
          },
          "hovermode": "closest",
          "mapbox": {
           "style": "light"
          },
          "paper_bgcolor": "white",
          "plot_bgcolor": "#E5ECF6",
          "polar": {
           "angularaxis": {
            "gridcolor": "white",
            "linecolor": "white",
            "ticks": ""
           },
           "bgcolor": "#E5ECF6",
           "radialaxis": {
            "gridcolor": "white",
            "linecolor": "white",
            "ticks": ""
           }
          },
          "scene": {
           "xaxis": {
            "backgroundcolor": "#E5ECF6",
            "gridcolor": "white",
            "gridwidth": 2,
            "linecolor": "white",
            "showbackground": true,
            "ticks": "",
            "zerolinecolor": "white"
           },
           "yaxis": {
            "backgroundcolor": "#E5ECF6",
            "gridcolor": "white",
            "gridwidth": 2,
            "linecolor": "white",
            "showbackground": true,
            "ticks": "",
            "zerolinecolor": "white"
           },
           "zaxis": {
            "backgroundcolor": "#E5ECF6",
            "gridcolor": "white",
            "gridwidth": 2,
            "linecolor": "white",
            "showbackground": true,
            "ticks": "",
            "zerolinecolor": "white"
           }
          },
          "shapedefaults": {
           "line": {
            "color": "#2a3f5f"
           }
          },
          "ternary": {
           "aaxis": {
            "gridcolor": "white",
            "linecolor": "white",
            "ticks": ""
           },
           "baxis": {
            "gridcolor": "white",
            "linecolor": "white",
            "ticks": ""
           },
           "bgcolor": "#E5ECF6",
           "caxis": {
            "gridcolor": "white",
            "linecolor": "white",
            "ticks": ""
           }
          },
          "title": {
           "x": 0.05
          },
          "xaxis": {
           "automargin": true,
           "gridcolor": "white",
           "linecolor": "white",
           "ticks": "",
           "title": {
            "standoff": 15
           },
           "zerolinecolor": "white",
           "zerolinewidth": 2
          },
          "yaxis": {
           "automargin": true,
           "gridcolor": "white",
           "linecolor": "white",
           "ticks": "",
           "title": {
            "standoff": 15
           },
           "zerolinecolor": "white",
           "zerolinewidth": 2
          }
         }
        },
        "title": {
         "text": "Sunlight Hours vs Crop Yield"
        },
        "xaxis": {
         "anchor": "y",
         "domain": [
          0,
          1
         ],
         "title": {
          "text": "Sunlight (hours)"
         }
        },
        "yaxis": {
         "anchor": "x",
         "domain": [
          0,
          1
         ],
         "title": {
          "text": "Crop Yield (tons/ha)"
         }
        }
       }
      }
     },
     "metadata": {},
     "output_type": "display_data"
    },
    {
     "data": {
      "application/vnd.plotly.v1+json": {
       "config": {
        "plotlyServerURL": "https://plot.ly"
       },
       "data": [
        {
         "hovertemplate": "Fertilizer (kg)=%{x}<br>Crop Yield (tons/ha)=%{y}<extra></extra>",
         "legendgroup": "",
         "marker": {
          "color": "#636efa",
          "opacity": 0.6,
          "symbol": "circle"
         },
         "mode": "markers",
         "name": "",
         "showlegend": false,
         "type": "scattergl",
         "x": {
          "bdata": "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",
          "dtype": "i2"
         },
         "xaxis": "x",
         "y": {
          "bdata": "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",
          "dtype": "i2"
         },
         "yaxis": "y"
        }
       ],
       "layout": {
        "legend": {
         "tracegroupgap": 0
        },
        "template": {
         "data": {
          "bar": [
           {
            "error_x": {
             "color": "#2a3f5f"
            },
            "error_y": {
             "color": "#2a3f5f"
            },
            "marker": {
             "line": {
              "color": "#E5ECF6",
              "width": 0.5
             },
             "pattern": {
              "fillmode": "overlay",
              "size": 10,
              "solidity": 0.2
             }
            },
            "type": "bar"
           }
          ],
          "barpolar": [
           {
            "marker": {
             "line": {
              "color": "#E5ECF6",
              "width": 0.5
             },
             "pattern": {
              "fillmode": "overlay",
              "size": 10,
              "solidity": 0.2
             }
            },
            "type": "barpolar"
           }
          ],
          "carpet": [
           {
            "aaxis": {
             "endlinecolor": "#2a3f5f",
             "gridcolor": "white",
             "linecolor": "white",
             "minorgridcolor": "white",
             "startlinecolor": "#2a3f5f"
            },
            "baxis": {
             "endlinecolor": "#2a3f5f",
             "gridcolor": "white",
             "linecolor": "white",
             "minorgridcolor": "white",
             "startlinecolor": "#2a3f5f"
            },
            "type": "carpet"
           }
          ],
          "choropleth": [
           {
            "colorbar": {
             "outlinewidth": 0,
             "ticks": ""
            },
            "type": "choropleth"
           }
          ],
          "contour": [
           {
            "colorbar": {
             "outlinewidth": 0,
             "ticks": ""
            },
            "colorscale": [
             [
              0,
              "#0d0887"
             ],
             [
              0.1111111111111111,
              "#46039f"
             ],
             [
              0.2222222222222222,
              "#7201a8"
             ],
             [
              0.3333333333333333,
              "#9c179e"
             ],
             [
              0.4444444444444444,
              "#bd3786"
             ],
             [
              0.5555555555555556,
              "#d8576b"
             ],
             [
              0.6666666666666666,
              "#ed7953"
             ],
             [
              0.7777777777777778,
              "#fb9f3a"
             ],
             [
              0.8888888888888888,
              "#fdca26"
             ],
             [
              1,
              "#f0f921"
             ]
            ],
            "type": "contour"
           }
          ],
          "contourcarpet": [
           {
            "colorbar": {
             "outlinewidth": 0,
             "ticks": ""
            },
            "type": "contourcarpet"
           }
          ],
          "heatmap": [
           {
            "colorbar": {
             "outlinewidth": 0,
             "ticks": ""
            },
            "colorscale": [
             [
              0,
              "#0d0887"
             ],
             [
              0.1111111111111111,
              "#46039f"
             ],
             [
              0.2222222222222222,
              "#7201a8"
             ],
             [
              0.3333333333333333,
              "#9c179e"
             ],
             [
              0.4444444444444444,
              "#bd3786"
             ],
             [
              0.5555555555555556,
              "#d8576b"
             ],
             [
              0.6666666666666666,
              "#ed7953"
             ],
             [
              0.7777777777777778,
              "#fb9f3a"
             ],
             [
              0.8888888888888888,
              "#fdca26"
             ],
             [
              1,
              "#f0f921"
             ]
            ],
            "type": "heatmap"
           }
          ],
          "histogram": [
           {
            "marker": {
             "pattern": {
              "fillmode": "overlay",
              "size": 10,
              "solidity": 0.2
             }
            },
            "type": "histogram"
           }
          ],
          "histogram2d": [
           {
            "colorbar": {
             "outlinewidth": 0,
             "ticks": ""
            },
            "colorscale": [
             [
              0,
              "#0d0887"
             ],
             [
              0.1111111111111111,
              "#46039f"
             ],
             [
              0.2222222222222222,
              "#7201a8"
             ],
             [
              0.3333333333333333,
              "#9c179e"
             ],
             [
              0.4444444444444444,
              "#bd3786"
             ],
             [
              0.5555555555555556,
              "#d8576b"
             ],
             [
              0.6666666666666666,
              "#ed7953"
             ],
             [
              0.7777777777777778,
              "#fb9f3a"
             ],
             [
              0.8888888888888888,
              "#fdca26"
             ],
             [
              1,
              "#f0f921"
             ]
            ],
            "type": "histogram2d"
           }
          ],
          "histogram2dcontour": [
           {
            "colorbar": {
             "outlinewidth": 0,
             "ticks": ""
            },
            "colorscale": [
             [
              0,
              "#0d0887"
             ],
             [
              0.1111111111111111,
              "#46039f"
             ],
             [
              0.2222222222222222,
              "#7201a8"
             ],
             [
              0.3333333333333333,
              "#9c179e"
             ],
             [
              0.4444444444444444,
              "#bd3786"
             ],
             [
              0.5555555555555556,
              "#d8576b"
             ],
             [
              0.6666666666666666,
              "#ed7953"
             ],
             [
              0.7777777777777778,
              "#fb9f3a"
             ],
             [
              0.8888888888888888,
              "#fdca26"
             ],
             [
              1,
              "#f0f921"
             ]
            ],
            "type": "histogram2dcontour"
           }
          ],
          "mesh3d": [
           {
            "colorbar": {
             "outlinewidth": 0,
             "ticks": ""
            },
            "type": "mesh3d"
           }
          ],
          "parcoords": [
           {
            "line": {
             "colorbar": {
              "outlinewidth": 0,
              "ticks": ""
             }
            },
            "type": "parcoords"
           }
          ],
          "pie": [
           {
            "automargin": true,
            "type": "pie"
           }
          ],
          "scatter": [
           {
            "fillpattern": {
             "fillmode": "overlay",
             "size": 10,
             "solidity": 0.2
            },
            "type": "scatter"
           }
          ],
          "scatter3d": [
           {
            "line": {
             "colorbar": {
              "outlinewidth": 0,
              "ticks": ""
             }
            },
            "marker": {
             "colorbar": {
              "outlinewidth": 0,
              "ticks": ""
             }
            },
            "type": "scatter3d"
           }
          ],
          "scattercarpet": [
           {
            "marker": {
             "colorbar": {
              "outlinewidth": 0,
              "ticks": ""
             }
            },
            "type": "scattercarpet"
           }
          ],
          "scattergeo": [
           {
            "marker": {
             "colorbar": {
              "outlinewidth": 0,
              "ticks": ""
             }
            },
            "type": "scattergeo"
           }
          ],
          "scattergl": [
           {
            "marker": {
             "colorbar": {
              "outlinewidth": 0,
              "ticks": ""
             }
            },
            "type": "scattergl"
           }
          ],
          "scattermap": [
           {
            "marker": {
             "colorbar": {
              "outlinewidth": 0,
              "ticks": ""
             }
            },
            "type": "scattermap"
           }
          ],
          "scattermapbox": [
           {
            "marker": {
             "colorbar": {
              "outlinewidth": 0,
              "ticks": ""
             }
            },
            "type": "scattermapbox"
           }
          ],
          "scatterpolar": [
           {
            "marker": {
             "colorbar": {
              "outlinewidth": 0,
              "ticks": ""
             }
            },
            "type": "scatterpolar"
           }
          ],
          "scatterpolargl": [
           {
            "marker": {
             "colorbar": {
              "outlinewidth": 0,
              "ticks": ""
             }
            },
            "type": "scatterpolargl"
           }
          ],
          "scatterternary": [
           {
            "marker": {
             "colorbar": {
              "outlinewidth": 0,
              "ticks": ""
             }
            },
            "type": "scatterternary"
           }
          ],
          "surface": [
           {
            "colorbar": {
             "outlinewidth": 0,
             "ticks": ""
            },
            "colorscale": [
             [
              0,
              "#0d0887"
             ],
             [
              0.1111111111111111,
              "#46039f"
             ],
             [
              0.2222222222222222,
              "#7201a8"
             ],
             [
              0.3333333333333333,
              "#9c179e"
             ],
             [
              0.4444444444444444,
              "#bd3786"
             ],
             [
              0.5555555555555556,
              "#d8576b"
             ],
             [
              0.6666666666666666,
              "#ed7953"
             ],
             [
              0.7777777777777778,
              "#fb9f3a"
             ],
             [
              0.8888888888888888,
              "#fdca26"
             ],
             [
              1,
              "#f0f921"
             ]
            ],
            "type": "surface"
           }
          ],
          "table": [
           {
            "cells": {
             "fill": {
              "color": "#EBF0F8"
             },
             "line": {
              "color": "white"
             }
            },
            "header": {
             "fill": {
              "color": "#C8D4E3"
             },
             "line": {
              "color": "white"
             }
            },
            "type": "table"
           }
          ]
         },
         "layout": {
          "annotationdefaults": {
           "arrowcolor": "#2a3f5f",
           "arrowhead": 0,
           "arrowwidth": 1
          },
          "autotypenumbers": "strict",
          "coloraxis": {
           "colorbar": {
            "outlinewidth": 0,
            "ticks": ""
           }
          },
          "colorscale": {
           "diverging": [
            [
             0,
             "#8e0152"
            ],
            [
             0.1,
             "#c51b7d"
            ],
            [
             0.2,
             "#de77ae"
            ],
            [
             0.3,
             "#f1b6da"
            ],
            [
             0.4,
             "#fde0ef"
            ],
            [
             0.5,
             "#f7f7f7"
            ],
            [
             0.6,
             "#e6f5d0"
            ],
            [
             0.7,
             "#b8e186"
            ],
            [
             0.8,
             "#7fbc41"
            ],
            [
             0.9,
             "#4d9221"
            ],
            [
             1,
             "#276419"
            ]
           ],
           "sequential": [
            [
             0,
             "#0d0887"
            ],
            [
             0.1111111111111111,
             "#46039f"
            ],
            [
             0.2222222222222222,
             "#7201a8"
            ],
            [
             0.3333333333333333,
             "#9c179e"
            ],
            [
             0.4444444444444444,
             "#bd3786"
            ],
            [
             0.5555555555555556,
             "#d8576b"
            ],
            [
             0.6666666666666666,
             "#ed7953"
            ],
            [
             0.7777777777777778,
             "#fb9f3a"
            ],
            [
             0.8888888888888888,
             "#fdca26"
            ],
            [
             1,
             "#f0f921"
            ]
           ],
           "sequentialminus": [
            [
             0,
             "#0d0887"
            ],
            [
             0.1111111111111111,
             "#46039f"
            ],
            [
             0.2222222222222222,
             "#7201a8"
            ],
            [
             0.3333333333333333,
             "#9c179e"
            ],
            [
             0.4444444444444444,
             "#bd3786"
            ],
            [
             0.5555555555555556,
             "#d8576b"
            ],
            [
             0.6666666666666666,
             "#ed7953"
            ],
            [
             0.7777777777777778,
             "#fb9f3a"
            ],
            [
             0.8888888888888888,
             "#fdca26"
            ],
            [
             1,
             "#f0f921"
            ]
           ]
          },
          "colorway": [
           "#636efa",
           "#EF553B",
           "#00cc96",
           "#ab63fa",
           "#FFA15A",
           "#19d3f3",
           "#FF6692",
           "#B6E880",
           "#FF97FF",
           "#FECB52"
          ],
          "font": {
           "color": "#2a3f5f"
          },
          "geo": {
           "bgcolor": "white",
           "lakecolor": "white",
           "landcolor": "#E5ECF6",
           "showlakes": true,
           "showland": true,
           "subunitcolor": "white"
          },
          "hoverlabel": {
           "align": "left"
          },
          "hovermode": "closest",
          "mapbox": {
           "style": "light"
          },
          "paper_bgcolor": "white",
          "plot_bgcolor": "#E5ECF6",
          "polar": {
           "angularaxis": {
            "gridcolor": "white",
            "linecolor": "white",
            "ticks": ""
           },
           "bgcolor": "#E5ECF6",
           "radialaxis": {
            "gridcolor": "white",
            "linecolor": "white",
            "ticks": ""
           }
          },
          "scene": {
           "xaxis": {
            "backgroundcolor": "#E5ECF6",
            "gridcolor": "white",
            "gridwidth": 2,
            "linecolor": "white",
            "showbackground": true,
            "ticks": "",
            "zerolinecolor": "white"
           },
           "yaxis": {
            "backgroundcolor": "#E5ECF6",
            "gridcolor": "white",
            "gridwidth": 2,
            "linecolor": "white",
            "showbackground": true,
            "ticks": "",
            "zerolinecolor": "white"
           },
           "zaxis": {
            "backgroundcolor": "#E5ECF6",
            "gridcolor": "white",
            "gridwidth": 2,
            "linecolor": "white",
            "showbackground": true,
            "ticks": "",
            "zerolinecolor": "white"
           }
          },
          "shapedefaults": {
           "line": {
            "color": "#2a3f5f"
           }
          },
          "ternary": {
           "aaxis": {
            "gridcolor": "white",
            "linecolor": "white",
            "ticks": ""
           },
           "baxis": {
            "gridcolor": "white",
            "linecolor": "white",
            "ticks": ""
           },
           "bgcolor": "#E5ECF6",
           "caxis": {
            "gridcolor": "white",
            "linecolor": "white",
            "ticks": ""
           }
          },
          "title": {
           "x": 0.05
          },
          "xaxis": {
           "automargin": true,
           "gridcolor": "white",
           "linecolor": "white",
           "ticks": "",
           "title": {
            "standoff": 15
           },
           "zerolinecolor": "white",
           "zerolinewidth": 2
          },
          "yaxis": {
           "automargin": true,
           "gridcolor": "white",
           "linecolor": "white",
           "ticks": "",
           "title": {
            "standoff": 15
           },
           "zerolinecolor": "white",
           "zerolinewidth": 2
          }
         }
        },
        "title": {
         "text": "Fertilizer Usage vs Crop Yield"
        },
        "xaxis": {
         "anchor": "y",
         "domain": [
          0,
          1
         ],
         "title": {
          "text": "Fertilizer (kg)"
         }
        },
        "yaxis": {
         "anchor": "x",
         "domain": [
          0,
          1
         ],
         "title": {
          "text": "Crop Yield (tons/ha)"
         }
        }
       }
      }
     },
     "metadata": {},
     "output_type": "display_data"
    }
   ],
   "source": [
    "import plotly.express as px\n",
    "import numpy as np\n",
    "\n",
    "# Add jitter for discrete variables\n",
    "df[\"soil_quality_jitter\"] = df[\"soil_quality_index\"] + np.random.uniform(-0.2, 0.2, size=len(df))\n",
    "df[\"sunlight_jitter\"] = df[\"sunlight_hours\"] + np.random.uniform(-0.2, 0.2, size=len(df))\n",
    "\n",
    "# 1. Rainfall vs Crop Yield\n",
    "fig_rainfall_yield = px.scatter(\n",
    "    df,\n",
    "    x=\"rainfall_mm\",\n",
    "    y=\"crop_yield\",\n",
    "    title=\"Rainfall vs Crop Yield\",\n",
    "    labels={\"rainfall_mm\": \"Rainfall (mm)\", \"crop_yield\": \"Crop Yield (tons/ha)\"},\n",
    "    opacity=0.6\n",
    ")\n",
    "\n",
    "# 2. Soil Quality Index vs Crop Yield\n",
    "fig_soil_yield = px.scatter(\n",
    "    df,\n",
    "    x=\"soil_quality_jitter\",\n",
    "    y=\"crop_yield\",\n",
    "    title=\"Soil Quality Index vs Crop Yield\",\n",
    "    labels={\"soil_quality_jitter\": \"Soil Quality Index (1-10)\", \"crop_yield\": \"Crop Yield (tons/ha)\"},\n",
    "    opacity=0.6\n",
    ")\n",
    "\n",
    "# 3. Farm Size vs Crop Yield\n",
    "fig_farm_yield = px.scatter(\n",
    "    df,\n",
    "    x=\"farm_size_hectares\",\n",
    "    y=\"crop_yield\",\n",
    "    title=\"Farm Size vs Crop Yield\",\n",
    "    labels={\"farm_size_hectares\": \"Farm Size (hectares)\", \"crop_yield\": \"Crop Yield (tons/ha)\"},\n",
    "    opacity=0.6\n",
    ")\n",
    "\n",
    "# 4. Sunlight Hours vs Crop Yield\n",
    "fig_sunlight_yield = px.scatter(\n",
    "    df,\n",
    "    x=\"sunlight_jitter\",\n",
    "    y=\"crop_yield\",\n",
    "    title=\"Sunlight Hours vs Crop Yield\",\n",
    "    labels={\"sunlight_jitter\": \"Sunlight (hours)\", \"crop_yield\": \"Crop Yield (tons/ha)\"},\n",
    "    opacity=0.6\n",
    ")\n",
    "\n",
    "# 5. Fertilizer Usage vs Crop Yield\n",
    "fig_fertilizer_yield = px.scatter(\n",
    "    df,\n",
    "    x=\"fertilizer_kg\",\n",
    "    y=\"crop_yield\",\n",
    "    title=\"Fertilizer Usage vs Crop Yield\",\n",
    "    labels={\"fertilizer_kg\": \"Fertilizer (kg)\", \"crop_yield\": \"Crop Yield (tons/ha)\"},\n",
    "    opacity=0.6\n",
    ")\n",
    "\n",
    "# Show all plots\n",
    "fig_rainfall_yield.show()\n",
    "fig_soil_yield.show()\n",
    "fig_farm_yield.show()\n",
    "fig_sunlight_yield.show()\n",
    "fig_fertilizer_yield.show()"
   ]
  },
  {
   "cell_type": "markdown",
   "id": "df9ef595",
   "metadata": {},
   "source": [
    "### Bivariate Analysis Insights\n",
    "\n",
    "After plotting scatter plots of each independent variable against crop yield, several patterns and relationships became apparent:\n",
    "\n",
    "1. **Rainfall vs Crop Yield:**  \n",
    "   The scatter plot shows no clear linear relationship. Crop yields are spread widely across the entire rainfall range, suggesting that rainfall alone does not strongly determine yield. Other factors likely interact with rainfall to influence productivity.\n",
    "\n",
    "2. **Soil Quality Index vs Crop Yield:**  \n",
    "   Even with jitter added, crop yields appear relatively consistent across all soil quality levels (1–10). There is no strong upward or downward trend, indicating that soil quality may have less predictive power on its own. However, it might interact with fertilizer usage or rainfall in more complex ways.\n",
    "\n",
    "3. **Farm Size vs Crop Yield:**  \n",
    "   A clear positive relationship is observed — larger farms tend to be associated with higher crop yields. This may reflect economies of scale, where larger farms can use resources more efficiently or apply more inputs, leading to better yields.\n",
    "\n",
    "4. **Sunlight Hours vs Crop Yield:**  \n",
    "   Similar to soil quality, sunlight hours show little variation in crop yields across the range (4–12 hours). This suggests that within the simulated dataset, sunlight exposure may not be a major limiting factor for productivity.\n",
    "\n",
    "5. **Fertilizer Usage vs Crop Yield:**  \n",
    "   Fertilizer use shows some weak positive trend with crop yield, though the points are widely scattered. This implies that while fertilizer may improve yields, it is not the sole determinant. The effect of fertilizer likely depends on interactions with soil quality and rainfall.\n",
    "\n",
    "---\n",
    "\n",
    "**Key Takeaway:**  \n",
    "Among the environmental and input variables, **farm size shows the clearest positive relationship with crop yield**, while other variables (rainfall, soil quality, sunlight, fertilizer) display weak or no standalone patterns. This suggests that crop yield in the dataset is likely influenced by **multifactor interactions** rather than any single variable in isolation.\n"
   ]
  },
  {
   "cell_type": "markdown",
   "id": "bbea936b",
   "metadata": {},
   "source": [
    "## Hypothesis Testing"
   ]
  },
  {
   "cell_type": "markdown",
   "id": "b5bc4c3a",
   "metadata": {},
   "source": [
    "### Hypothesis Testing: Does Farm Size Affect Crop Yield?\n",
    "\n",
    "We want to test whether farm size has a significant effect on crop yield.  \n",
    "\n",
    "**Null Hypothesis (H₀):**  \n",
    "Farm size has no effect on crop yield. Any differences in yield between farms of different sizes are due to random chance.\n",
    "\n",
    "**Alternative Hypothesis (H₁):**  \n",
    "Farm size does affect crop yield. Farms with larger (or smaller) sizes tend to have systematically different yields.\n",
    "\n",
    "---\n",
    "\n",
    "**Test Choice:**  \n",
    "We will use a **permutation test** to assess the relationship between farm size and crop yield.  \n",
    "- **Test statistic:** The observed correlation (or difference in mean yields between large and small farms).  \n",
    "- **Permutation procedure:** Randomly shuffle the crop yield values among farms many times (e.g., 10,000 permutations), recompute the test statistic each time, and compare the observed statistic to this null distribution.  \n",
    "- **Significance level (α):** 0.05  \n",
    "\n",
    "---\n",
    "\n",
    "**Interpretation of Results:**  \n",
    "- If the *p-value* < 0.05, we reject the null hypothesis and conclude that farm size has a statistically significant effect on crop yield.  \n",
    "- If the *p-value* ≥ 0.05, we fail to reject the null hypothesis and conclude that we do not have enough evidence to say farm size impacts crop yield.\n",
    "\n",
    "---\n",
    "\n",
    "**Note:** Since this dataset is simulated, this test only shows whether a statistical relationship exists in the given data, not necessarily in real-world farming."
   ]
  },
  {
   "cell_type": "code",
   "execution_count": 13,
   "id": "e0dadf77",
   "metadata": {},
   "outputs": [
    {
     "name": "stdout",
     "output_type": "stream",
     "text": [
      "Observed correlation: 0.9892\n",
      "P-value from permutation test: 0.0000\n"
     ]
    }
   ],
   "source": [
    "import numpy as np\n",
    "\n",
    "# Observed correlation (test statistic)\n",
    "observed_corr = np.corrcoef(df[\"farm_size_hectares\"], df[\"crop_yield\"])[0, 1]\n",
    "\n",
    "# Permutation test\n",
    "n_permutations = 10000\n",
    "perm_corrs = []\n",
    "\n",
    "for _ in range(n_permutations):\n",
    "    shuffled_yield = np.random.permutation(df[\"crop_yield\"])\n",
    "    perm_corr = np.corrcoef(df[\"farm_size_hectares\"], shuffled_yield)[0, 1]\n",
    "    perm_corrs.append(perm_corr)\n",
    "\n",
    "# Calculate p-value (two-sided test)\n",
    "perm_corrs = np.array(perm_corrs)\n",
    "p_value = np.mean(np.abs(perm_corrs) >= np.abs(observed_corr))\n",
    "\n",
    "print(f\"Observed correlation: {observed_corr:.4f}\")\n",
    "print(f\"P-value from permutation test: {p_value:.4f}\")"
   ]
  },
  {
   "cell_type": "markdown",
   "id": "17055284",
   "metadata": {},
   "source": [
    "### Hypothesis Test Results: Farm Size vs Crop Yield\n",
    "\n",
    "- **Observed correlation (test statistic):** 0.9892  \n",
    "- **p-value from permutation test:** < 0.001  \n",
    "\n",
    "Since the p-value is far below the significance level (α = 0.05), we reject the null hypothesis.  \n",
    "This provides strong evidence that **farm size is significantly associated with crop yield** in the dataset.  \n",
    "\n",
    "---\n",
    "\n",
    "**Interpretation:**  \n",
    "Larger farms tend to achieve higher crop yields, and this effect is very unlikely to be due to random chance.  \n",
    "However, since the dataset is simulated, these results show only a statistical relationship within the data, not necessarily a guaranteed real-world causal effect.\n"
   ]
  },
  {
   "cell_type": "markdown",
   "id": "c5504b25",
   "metadata": {},
   "source": [
    "## Framing a Prediction Problem"
   ]
  },
  {
   "cell_type": "markdown",
   "id": "9665376d",
   "metadata": {},
   "source": [
    "### Problem Identification\n",
    "For this project, we aim to **predict crop yield (tons per hectare) based on farm size (hectares)**. The primary prediction problem is:\n",
    "\n",
    "**\"Can we predict crop yield based on farm size?\"**\n",
    "\n",
    "This is a **regression problem**, since the target variable (crop yield) is continuous. From the exploratory analysis, farm size shows the clearest positive relationship with crop yield compared to other features, making it the most suitable predictor for this model.\n",
    "\n",
    "### Response Variable\n",
    "- **Response variable (target):** Crop Yield (tons per hectare)  \n",
    "- **Predictor variable (feature):** Farm size (hectares)\n",
    "\n",
    "### Model Evaluation Metric\n",
    "We will evaluate the regression model using **Root Mean Squared Error (RMSE)** as the primary metric, since it penalizes larger errors more heavily and ensures predictions are as close as possible to actual yields. We will also consider **R²** to measure how much variance in crop yield is explained by farm size.\n",
    "\n",
    "### Assumptions at Time of Prediction\n",
    "At the time of prediction, we assume that farm size is known. Since farm size is a fixed attribute available before planting, it is a valid predictor for this regression problem."
   ]
  }
 ],
 "metadata": {
  "kernelspec": {
   "display_name": "Python 3",
   "language": "python",
   "name": "python3"
  },
  "language_info": {
   "codemirror_mode": {
    "name": "ipython",
    "version": 3
   },
   "file_extension": ".py",
   "mimetype": "text/x-python",
   "name": "python",
   "nbconvert_exporter": "python",
   "pygments_lexer": "ipython3",
   "version": "3.9.6"
  }
 },
 "nbformat": 4,
 "nbformat_minor": 5
}
